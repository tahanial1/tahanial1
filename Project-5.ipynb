{
 "cells": [
  {
   "cell_type": "markdown",
   "id": "a7e3ca6e",
   "metadata": {},
   "source": [
    "### England Data"
   ]
  },
  {
   "cell_type": "code",
   "execution_count": 574,
   "id": "872143e2",
   "metadata": {},
   "outputs": [
    {
     "ename": "ModuleNotFoundError",
     "evalue": "No module named 'folium'",
     "output_type": "error",
     "traceback": [
      "\u001b[1;31m---------------------------------------------------------------------------\u001b[0m",
      "\u001b[1;31mModuleNotFoundError\u001b[0m                       Traceback (most recent call last)",
      "\u001b[1;32m<ipython-input-574-a6bbdd1f0220>\u001b[0m in \u001b[0;36m<module>\u001b[1;34m\u001b[0m\n\u001b[0;32m     22\u001b[0m \u001b[1;32mimport\u001b[0m \u001b[0mplotly\u001b[0m\u001b[1;33m.\u001b[0m\u001b[0mgraph_objects\u001b[0m \u001b[1;32mas\u001b[0m \u001b[0mgo\u001b[0m\u001b[1;33m\u001b[0m\u001b[1;33m\u001b[0m\u001b[0m\n\u001b[0;32m     23\u001b[0m \u001b[1;33m\u001b[0m\u001b[0m\n\u001b[1;32m---> 24\u001b[1;33m \u001b[1;32mimport\u001b[0m \u001b[0mfolium\u001b[0m\u001b[1;33m\u001b[0m\u001b[1;33m\u001b[0m\u001b[0m\n\u001b[0m\u001b[0;32m     25\u001b[0m \u001b[1;32mfrom\u001b[0m \u001b[0mfolium\u001b[0m \u001b[1;32mimport\u001b[0m \u001b[0mplugins\u001b[0m\u001b[1;33m\u001b[0m\u001b[1;33m\u001b[0m\u001b[0m\n\u001b[0;32m     26\u001b[0m \u001b[1;32mimport\u001b[0m \u001b[0mwarnings\u001b[0m\u001b[1;33m\u001b[0m\u001b[1;33m\u001b[0m\u001b[0m\n",
      "\u001b[1;31mModuleNotFoundError\u001b[0m: No module named 'folium'"
     ]
    }
   ],
   "source": [
    "import pandas as pd\n",
    "import numpy as np\n",
    "import matplotlib.pyplot as plt\n",
    "from scipy import misc\n",
    "import seaborn as sns\n",
    "\n",
    "%matplotlib inline\n",
    "#plt.rcParams[‘figure.figsize’] = (20.0, 10.0)\n",
    "\n",
    "import plotly.express as px\n",
    "import plotly.offline as pyo\n",
    "import plotly.graph_objs as go\n",
    "from plotly.subplots import make_subplots\n",
    "from IPython.display import display, Markdown\n",
    "\n",
    "from matplotlib import style\n",
    "\n",
    "style.use('ggplot')\n",
    "\n",
    "import plotly\n",
    "import plotly.express as px\n",
    "import plotly.graph_objects as go\n",
    "\n",
    "import folium \n",
    "from folium import plugins\n",
    "import warnings\n",
    "warnings.filterwarnings('ignore')\n",
    "\n",
    "import cufflinks as cf\n",
    "import plotly.offline as pyo\n",
    "\n",
    "from plotly.offline import init_notebook_mode,plot,iplot\n"
   ]
  },
  {
   "cell_type": "code",
   "execution_count": 575,
   "id": "393cb717",
   "metadata": {},
   "outputs": [
    {
     "data": {
      "text/html": [
       "<div>\n",
       "<style scoped>\n",
       "    .dataframe tbody tr th:only-of-type {\n",
       "        vertical-align: middle;\n",
       "    }\n",
       "\n",
       "    .dataframe tbody tr th {\n",
       "        vertical-align: top;\n",
       "    }\n",
       "\n",
       "    .dataframe thead th {\n",
       "        text-align: right;\n",
       "    }\n",
       "</style>\n",
       "<table border=\"1\" class=\"dataframe\">\n",
       "  <thead>\n",
       "    <tr style=\"text-align: right;\">\n",
       "      <th></th>\n",
       "      <th>areaName</th>\n",
       "      <th>date</th>\n",
       "      <th>newCasesByPublishDate</th>\n",
       "      <th>Code</th>\n",
       "      <th>Name</th>\n",
       "      <th>admissions</th>\n",
       "      <th>In-pts</th>\n",
       "      <th>mech-vent</th>\n",
       "      <th>deaths</th>\n",
       "      <th>Unnamed: 9</th>\n",
       "    </tr>\n",
       "  </thead>\n",
       "  <tbody>\n",
       "    <tr>\n",
       "      <th>0</th>\n",
       "      <td>United Kingdom</td>\n",
       "      <td>25-03-21</td>\n",
       "      <td>6397.0</td>\n",
       "      <td>8D379</td>\n",
       "      <td>CARETECH COMMUNITY SERVICES LTD</td>\n",
       "      <td>2932.0</td>\n",
       "      <td>12135.0</td>\n",
       "      <td>1494.0</td>\n",
       "      <td>732.0</td>\n",
       "      <td>NaN</td>\n",
       "    </tr>\n",
       "    <tr>\n",
       "      <th>1</th>\n",
       "      <td>United Kingdom</td>\n",
       "      <td>24-03-21</td>\n",
       "      <td>5605.0</td>\n",
       "      <td>AND01</td>\n",
       "      <td>BADDOW HOSPITAL</td>\n",
       "      <td>2564.0</td>\n",
       "      <td>13635.0</td>\n",
       "      <td>1788.0</td>\n",
       "      <td>743.0</td>\n",
       "      <td>NaN</td>\n",
       "    </tr>\n",
       "    <tr>\n",
       "      <th>2</th>\n",
       "      <td>United Kingdom</td>\n",
       "      <td>23-03-21</td>\n",
       "      <td>5379.0</td>\n",
       "      <td>AVQ03</td>\n",
       "      <td>ONE HATFIELD HOSPITAL</td>\n",
       "      <td>2593.0</td>\n",
       "      <td>15469.0</td>\n",
       "      <td>1950.0</td>\n",
       "      <td>838.0</td>\n",
       "      <td>NaN</td>\n",
       "    </tr>\n",
       "    <tr>\n",
       "      <th>3</th>\n",
       "      <td>United Kingdom</td>\n",
       "      <td>22-03-21</td>\n",
       "      <td>5342.0</td>\n",
       "      <td>AWR01</td>\n",
       "      <td>OSD HEALTHCARE</td>\n",
       "      <td>2592.0</td>\n",
       "      <td>16657.0</td>\n",
       "      <td>2097.0</td>\n",
       "      <td>830.0</td>\n",
       "      <td>NaN</td>\n",
       "    </tr>\n",
       "    <tr>\n",
       "      <th>4</th>\n",
       "      <td>United Kingdom</td>\n",
       "      <td>21-03-21</td>\n",
       "      <td>5312.0</td>\n",
       "      <td>DE8</td>\n",
       "      <td>ELYSIUM HEALTHCARE</td>\n",
       "      <td>2679.0</td>\n",
       "      <td>17154.0</td>\n",
       "      <td>2264.0</td>\n",
       "      <td>804.0</td>\n",
       "      <td>NaN</td>\n",
       "    </tr>\n",
       "    <tr>\n",
       "      <th>5</th>\n",
       "      <td>United Kingdom</td>\n",
       "      <td>20-03-21</td>\n",
       "      <td>5587.0</td>\n",
       "      <td>DE810</td>\n",
       "      <td>CHADWICK LODGE</td>\n",
       "      <td>2744.0</td>\n",
       "      <td>17814.0</td>\n",
       "      <td>2472.0</td>\n",
       "      <td>912.0</td>\n",
       "      <td>NaN</td>\n",
       "    </tr>\n",
       "    <tr>\n",
       "      <th>6</th>\n",
       "      <td>United Kingdom</td>\n",
       "      <td>19-03-21</td>\n",
       "      <td>4802.0</td>\n",
       "      <td>DE816</td>\n",
       "      <td>POTTERS BAR</td>\n",
       "      <td>2619.0</td>\n",
       "      <td>18152.0</td>\n",
       "      <td>2561.0</td>\n",
       "      <td>975.0</td>\n",
       "      <td>NaN</td>\n",
       "    </tr>\n",
       "    <tr>\n",
       "      <th>7</th>\n",
       "      <td>United Kingdom</td>\n",
       "      <td>18-03-21</td>\n",
       "      <td>6303.0</td>\n",
       "      <td>NAX</td>\n",
       "      <td>EAST COAST COMMUNITY HEALTHCARE C.I.C</td>\n",
       "      <td>2340.0</td>\n",
       "      <td>18423.0</td>\n",
       "      <td>2546.0</td>\n",
       "      <td>875.0</td>\n",
       "      <td>NaN</td>\n",
       "    </tr>\n",
       "    <tr>\n",
       "      <th>8</th>\n",
       "      <td>United Kingdom</td>\n",
       "      <td>17-03-21</td>\n",
       "      <td>5758.0</td>\n",
       "      <td>NLN</td>\n",
       "      <td>JEESAL AKMAN CARE CORPORATION LTD</td>\n",
       "      <td>2196.0</td>\n",
       "      <td>18669.0</td>\n",
       "      <td>2820.0</td>\n",
       "      <td>850.0</td>\n",
       "      <td>NaN</td>\n",
       "    </tr>\n",
       "    <tr>\n",
       "      <th>9</th>\n",
       "      <td>United Kingdom</td>\n",
       "      <td>16-03-21</td>\n",
       "      <td>5294.0</td>\n",
       "      <td>NMJ0N</td>\n",
       "      <td>YEW TREES</td>\n",
       "      <td>1955.0</td>\n",
       "      <td>18604.0</td>\n",
       "      <td>2865.0</td>\n",
       "      <td>862.0</td>\n",
       "      <td>NaN</td>\n",
       "    </tr>\n",
       "    <tr>\n",
       "      <th>10</th>\n",
       "      <td>United Kingdom</td>\n",
       "      <td>15-03-21</td>\n",
       "      <td>5089.0</td>\n",
       "      <td>NMJ0U</td>\n",
       "      <td>THORS PARK</td>\n",
       "      <td>1791.0</td>\n",
       "      <td>18974.0</td>\n",
       "      <td>2881.0</td>\n",
       "      <td>858.0</td>\n",
       "      <td>NaN</td>\n",
       "    </tr>\n",
       "    <tr>\n",
       "      <th>11</th>\n",
       "      <td>United Kingdom</td>\n",
       "      <td>14-03-21</td>\n",
       "      <td>4618.0</td>\n",
       "      <td>NMJ11</td>\n",
       "      <td>CYGNET HOSPITAL STEVENAGE</td>\n",
       "      <td>1912.0</td>\n",
       "      <td>18621.0</td>\n",
       "      <td>2872.0</td>\n",
       "      <td>804.0</td>\n",
       "      <td>NaN</td>\n",
       "    </tr>\n",
       "    <tr>\n",
       "      <th>12</th>\n",
       "      <td>United Kingdom</td>\n",
       "      <td>13-03-21</td>\n",
       "      <td>5534.0</td>\n",
       "      <td>NMJ44</td>\n",
       "      <td>CYGNET HOSPITAL COLCHESTER</td>\n",
       "      <td>1859.0</td>\n",
       "      <td>18552.0</td>\n",
       "      <td>2849.0</td>\n",
       "      <td>771.0</td>\n",
       "      <td>NaN</td>\n",
       "    </tr>\n",
       "    <tr>\n",
       "      <th>13</th>\n",
       "      <td>United Kingdom</td>\n",
       "      <td>12-03-21</td>\n",
       "      <td>6609.0</td>\n",
       "      <td>NQ1</td>\n",
       "      <td>ANGLIAN COMMUNITY ENTERPRISE COMMUNITY INTERES...</td>\n",
       "      <td>1608.0</td>\n",
       "      <td>17934.0</td>\n",
       "      <td>2847.0</td>\n",
       "      <td>784.0</td>\n",
       "      <td>NaN</td>\n",
       "    </tr>\n",
       "    <tr>\n",
       "      <th>14</th>\n",
       "      <td>United Kingdom</td>\n",
       "      <td>11-03-21</td>\n",
       "      <td>6753.0</td>\n",
       "      <td>NQA</td>\n",
       "      <td>PROVIDE</td>\n",
       "      <td>1777.0</td>\n",
       "      <td>17783.0</td>\n",
       "      <td>2838.0</td>\n",
       "      <td>752.0</td>\n",
       "      <td>NaN</td>\n",
       "    </tr>\n",
       "    <tr>\n",
       "      <th>15</th>\n",
       "      <td>United Kingdom</td>\n",
       "      <td>10-03-21</td>\n",
       "      <td>5926.0</td>\n",
       "      <td>NT204</td>\n",
       "      <td>NUFFIELD HEALTH, BRENTWOOD HOSPITAL</td>\n",
       "      <td>1674.0</td>\n",
       "      <td>16728.0</td>\n",
       "      <td>2780.0</td>\n",
       "      <td>744.0</td>\n",
       "      <td>NaN</td>\n",
       "    </tr>\n",
       "    <tr>\n",
       "      <th>16</th>\n",
       "      <td>United Kingdom</td>\n",
       "      <td>09-03-21</td>\n",
       "      <td>5766.0</td>\n",
       "      <td>NT209</td>\n",
       "      <td>NUFFIELD HEALTH, CAMBRIDGE HOSPITAL</td>\n",
       "      <td>1411.0</td>\n",
       "      <td>16850.0</td>\n",
       "      <td>2868.0</td>\n",
       "      <td>706.0</td>\n",
       "      <td>NaN</td>\n",
       "    </tr>\n",
       "    <tr>\n",
       "      <th>17</th>\n",
       "      <td>United Kingdom</td>\n",
       "      <td>08-03-21</td>\n",
       "      <td>4712.0</td>\n",
       "      <td>NT222</td>\n",
       "      <td>NUFFIELD HEALTH, IPSWICH HOSPITAL</td>\n",
       "      <td>1475.0</td>\n",
       "      <td>16928.0</td>\n",
       "      <td>2820.0</td>\n",
       "      <td>685.0</td>\n",
       "      <td>NaN</td>\n",
       "    </tr>\n",
       "    <tr>\n",
       "      <th>18</th>\n",
       "      <td>United Kingdom</td>\n",
       "      <td>07-03-21</td>\n",
       "      <td>5177.0</td>\n",
       "      <td>NT313</td>\n",
       "      <td>SPIRE WELLESLEY HOSPITAL</td>\n",
       "      <td>1522.0</td>\n",
       "      <td>16654.0</td>\n",
       "      <td>2780.0</td>\n",
       "      <td>685.0</td>\n",
       "      <td>NaN</td>\n",
       "    </tr>\n",
       "    <tr>\n",
       "      <th>19</th>\n",
       "      <td>United Kingdom</td>\n",
       "      <td>06-03-21</td>\n",
       "      <td>6040.0</td>\n",
       "      <td>NT315</td>\n",
       "      <td>SPIRE BUSHEY HOSPITAL</td>\n",
       "      <td>1495.0</td>\n",
       "      <td>16517.0</td>\n",
       "      <td>2701.0</td>\n",
       "      <td>649.0</td>\n",
       "      <td>NaN</td>\n",
       "    </tr>\n",
       "    <tr>\n",
       "      <th>20</th>\n",
       "      <td>United Kingdom</td>\n",
       "      <td>05-03-21</td>\n",
       "      <td>5947.0</td>\n",
       "      <td>NT316</td>\n",
       "      <td>SPIRE HARPENDEN HOSPITAL</td>\n",
       "      <td>1310.0</td>\n",
       "      <td>16018.0</td>\n",
       "      <td>2646.0</td>\n",
       "      <td>643.0</td>\n",
       "      <td>NaN</td>\n",
       "    </tr>\n",
       "    <tr>\n",
       "      <th>21</th>\n",
       "      <td>United Kingdom</td>\n",
       "      <td>04-03-21</td>\n",
       "      <td>6573.0</td>\n",
       "      <td>NT317</td>\n",
       "      <td>SPIRE CAMBRIDGE LEA HOSPITAL</td>\n",
       "      <td>1289.0</td>\n",
       "      <td>15402.0</td>\n",
       "      <td>2563.0</td>\n",
       "      <td>593.0</td>\n",
       "      <td>NaN</td>\n",
       "    </tr>\n",
       "    <tr>\n",
       "      <th>22</th>\n",
       "      <td>United Kingdom</td>\n",
       "      <td>03-03-21</td>\n",
       "      <td>6385.0</td>\n",
       "      <td>NT318</td>\n",
       "      <td>SPIRE NORWICH HOSPITAL</td>\n",
       "      <td>1277.0</td>\n",
       "      <td>14642.0</td>\n",
       "      <td>2414.0</td>\n",
       "      <td>603.0</td>\n",
       "      <td>NaN</td>\n",
       "    </tr>\n",
       "    <tr>\n",
       "      <th>23</th>\n",
       "      <td>United Kingdom</td>\n",
       "      <td>02-03-21</td>\n",
       "      <td>6391.0</td>\n",
       "      <td>NT319</td>\n",
       "      <td>SPIRE HARTSWOOD HOSPITAL</td>\n",
       "      <td>1080.0</td>\n",
       "      <td>14202.0</td>\n",
       "      <td>2405.0</td>\n",
       "      <td>556.0</td>\n",
       "      <td>NaN</td>\n",
       "    </tr>\n",
       "    <tr>\n",
       "      <th>24</th>\n",
       "      <td>United Kingdom</td>\n",
       "      <td>01-03-21</td>\n",
       "      <td>5455.0</td>\n",
       "      <td>NT423</td>\n",
       "      <td>BMI - THE MANOR HOSPITAL</td>\n",
       "      <td>1208.0</td>\n",
       "      <td>14174.0</td>\n",
       "      <td>2309.0</td>\n",
       "      <td>561.0</td>\n",
       "      <td>NaN</td>\n",
       "    </tr>\n",
       "    <tr>\n",
       "      <th>25</th>\n",
       "      <td>United Kingdom</td>\n",
       "      <td>28-02-21</td>\n",
       "      <td>6035.0</td>\n",
       "      <td>NT432</td>\n",
       "      <td>BMI - THE SANDRINGHAM HOSPITAL</td>\n",
       "      <td>1344.0</td>\n",
       "      <td>14255.0</td>\n",
       "      <td>2194.0</td>\n",
       "      <td>506.0</td>\n",
       "      <td>NaN</td>\n",
       "    </tr>\n",
       "    <tr>\n",
       "      <th>26</th>\n",
       "      <td>United Kingdom</td>\n",
       "      <td>27-02-21</td>\n",
       "      <td>7434.0</td>\n",
       "      <td>NT434</td>\n",
       "      <td>BMI - THE SAXON CLINIC</td>\n",
       "      <td>1296.0</td>\n",
       "      <td>13565.0</td>\n",
       "      <td>2093.0</td>\n",
       "      <td>498.0</td>\n",
       "      <td>NaN</td>\n",
       "    </tr>\n",
       "    <tr>\n",
       "      <th>27</th>\n",
       "      <td>United Kingdom</td>\n",
       "      <td>26-02-21</td>\n",
       "      <td>8523.0</td>\n",
       "      <td>NT446</td>\n",
       "      <td>BMI ST EDMUNDS HOSPITAL</td>\n",
       "      <td>1295.0</td>\n",
       "      <td>13224.0</td>\n",
       "      <td>2045.0</td>\n",
       "      <td>493.0</td>\n",
       "      <td>NaN</td>\n",
       "    </tr>\n",
       "    <tr>\n",
       "      <th>28</th>\n",
       "      <td>United Kingdom</td>\n",
       "      <td>25-02-21</td>\n",
       "      <td>9985.0</td>\n",
       "      <td>NT490</td>\n",
       "      <td>BMI SOUTHEND PRIVATE HOSPITAL</td>\n",
       "      <td>1227.0</td>\n",
       "      <td>12922.0</td>\n",
       "      <td>1991.0</td>\n",
       "      <td>484.0</td>\n",
       "      <td>NaN</td>\n",
       "    </tr>\n",
       "    <tr>\n",
       "      <th>29</th>\n",
       "      <td>United Kingdom</td>\n",
       "      <td>24-02-21</td>\n",
       "      <td>9938.0</td>\n",
       "      <td>NVC06</td>\n",
       "      <td>FITZWILLIAM HOSPITAL</td>\n",
       "      <td>1081.0</td>\n",
       "      <td>12623.0</td>\n",
       "      <td>1954.0</td>\n",
       "      <td>479.0</td>\n",
       "      <td>NaN</td>\n",
       "    </tr>\n",
       "    <tr>\n",
       "      <th>30</th>\n",
       "      <td>United Kingdom</td>\n",
       "      <td>23-02-21</td>\n",
       "      <td>8489.0</td>\n",
       "      <td>NVC13</td>\n",
       "      <td>OAKS HOSPITAL</td>\n",
       "      <td>980.0</td>\n",
       "      <td>12314.0</td>\n",
       "      <td>1844.0</td>\n",
       "      <td>424.0</td>\n",
       "      <td>NaN</td>\n",
       "    </tr>\n",
       "    <tr>\n",
       "      <th>31</th>\n",
       "      <td>United Kingdom</td>\n",
       "      <td>22-02-21</td>\n",
       "      <td>10641.0</td>\n",
       "      <td>NVC15</td>\n",
       "      <td>PINEHILL HOSPITAL</td>\n",
       "      <td>1044.0</td>\n",
       "      <td>12119.0</td>\n",
       "      <td>1795.0</td>\n",
       "      <td>387.0</td>\n",
       "      <td>NaN</td>\n",
       "    </tr>\n",
       "    <tr>\n",
       "      <th>32</th>\n",
       "      <td>United Kingdom</td>\n",
       "      <td>21-02-21</td>\n",
       "      <td>9834.0</td>\n",
       "      <td>NVC18</td>\n",
       "      <td>SPRINGFIELD HOSPITAL</td>\n",
       "      <td>1063.0</td>\n",
       "      <td>12020.0</td>\n",
       "      <td>1724.0</td>\n",
       "      <td>412.0</td>\n",
       "      <td>NaN</td>\n",
       "    </tr>\n",
       "    <tr>\n",
       "      <th>33</th>\n",
       "      <td>United Kingdom</td>\n",
       "      <td>20-02-21</td>\n",
       "      <td>10406.0</td>\n",
       "      <td>NVC19</td>\n",
       "      <td>RIVERS HOSPITAL</td>\n",
       "      <td>959.0</td>\n",
       "      <td>11754.0</td>\n",
       "      <td>1662.0</td>\n",
       "      <td>391.0</td>\n",
       "      <td>NaN</td>\n",
       "    </tr>\n",
       "    <tr>\n",
       "      <th>34</th>\n",
       "      <td>United Kingdom</td>\n",
       "      <td>19-02-21</td>\n",
       "      <td>12027.0</td>\n",
       "      <td>NVC31</td>\n",
       "      <td>BLAKELANDS HOSPITAL</td>\n",
       "      <td>1040.0</td>\n",
       "      <td>11227.0</td>\n",
       "      <td>1610.0</td>\n",
       "      <td>392.0</td>\n",
       "      <td>NaN</td>\n",
       "    </tr>\n",
       "    <tr>\n",
       "      <th>35</th>\n",
       "      <td>United Kingdom</td>\n",
       "      <td>18-02-21</td>\n",
       "      <td>12057.0</td>\n",
       "      <td>NYA02</td>\n",
       "      <td>ST ANDREW'S HEALTHCARE - ESSEX</td>\n",
       "      <td>998.0</td>\n",
       "      <td>10726.0</td>\n",
       "      <td>1493.0</td>\n",
       "      <td>400.0</td>\n",
       "      <td>NaN</td>\n",
       "    </tr>\n",
       "    <tr>\n",
       "      <th>36</th>\n",
       "      <td>United Kingdom</td>\n",
       "      <td>17-02-21</td>\n",
       "      <td>12718.0</td>\n",
       "      <td>NYW01</td>\n",
       "      <td>ASPEN - THE HOLLY</td>\n",
       "      <td>743.0</td>\n",
       "      <td>10249.0</td>\n",
       "      <td>1446.0</td>\n",
       "      <td>330.0</td>\n",
       "      <td>NaN</td>\n",
       "    </tr>\n",
       "    <tr>\n",
       "      <th>37</th>\n",
       "      <td>United Kingdom</td>\n",
       "      <td>16-02-21</td>\n",
       "      <td>10625.0</td>\n",
       "      <td>R1L</td>\n",
       "      <td>ESSEX PARTNERSHIP UNIVERSITY NHS FOUNDATION TRUST</td>\n",
       "      <td>798.0</td>\n",
       "      <td>10176.0</td>\n",
       "      <td>1398.0</td>\n",
       "      <td>330.0</td>\n",
       "      <td>NaN</td>\n",
       "    </tr>\n",
       "    <tr>\n",
       "      <th>38</th>\n",
       "      <td>United Kingdom</td>\n",
       "      <td>15-02-21</td>\n",
       "      <td>9765.0</td>\n",
       "      <td>RAJ</td>\n",
       "      <td>MID AND SOUTH ESSEX NHS FOUNDATION TRUST</td>\n",
       "      <td>756.0</td>\n",
       "      <td>9893.0</td>\n",
       "      <td>1362.0</td>\n",
       "      <td>300.0</td>\n",
       "      <td>NaN</td>\n",
       "    </tr>\n",
       "    <tr>\n",
       "      <th>39</th>\n",
       "      <td>United Kingdom</td>\n",
       "      <td>14-02-21</td>\n",
       "      <td>10972.0</td>\n",
       "      <td>RC9</td>\n",
       "      <td>BEDFORDSHIRE HOSPITALS NHS FOUNDATION TRUST</td>\n",
       "      <td>856.0</td>\n",
       "      <td>10109.0</td>\n",
       "      <td>1316.0</td>\n",
       "      <td>260.0</td>\n",
       "      <td>NaN</td>\n",
       "    </tr>\n",
       "  </tbody>\n",
       "</table>\n",
       "</div>"
      ],
      "text/plain": [
       "          areaName      date  newCasesByPublishDate   Code  \\\n",
       "0   United Kingdom  25-03-21                 6397.0  8D379   \n",
       "1   United Kingdom  24-03-21                 5605.0  AND01   \n",
       "2   United Kingdom  23-03-21                 5379.0  AVQ03   \n",
       "3   United Kingdom  22-03-21                 5342.0  AWR01   \n",
       "4   United Kingdom  21-03-21                 5312.0    DE8   \n",
       "5   United Kingdom  20-03-21                 5587.0  DE810   \n",
       "6   United Kingdom  19-03-21                 4802.0  DE816   \n",
       "7   United Kingdom  18-03-21                 6303.0    NAX   \n",
       "8   United Kingdom  17-03-21                 5758.0    NLN   \n",
       "9   United Kingdom  16-03-21                 5294.0  NMJ0N   \n",
       "10  United Kingdom  15-03-21                 5089.0  NMJ0U   \n",
       "11  United Kingdom  14-03-21                 4618.0  NMJ11   \n",
       "12  United Kingdom  13-03-21                 5534.0  NMJ44   \n",
       "13  United Kingdom  12-03-21                 6609.0    NQ1   \n",
       "14  United Kingdom  11-03-21                 6753.0    NQA   \n",
       "15  United Kingdom  10-03-21                 5926.0  NT204   \n",
       "16  United Kingdom  09-03-21                 5766.0  NT209   \n",
       "17  United Kingdom  08-03-21                 4712.0  NT222   \n",
       "18  United Kingdom  07-03-21                 5177.0  NT313   \n",
       "19  United Kingdom  06-03-21                 6040.0  NT315   \n",
       "20  United Kingdom  05-03-21                 5947.0  NT316   \n",
       "21  United Kingdom  04-03-21                 6573.0  NT317   \n",
       "22  United Kingdom  03-03-21                 6385.0  NT318   \n",
       "23  United Kingdom  02-03-21                 6391.0  NT319   \n",
       "24  United Kingdom  01-03-21                 5455.0  NT423   \n",
       "25  United Kingdom  28-02-21                 6035.0  NT432   \n",
       "26  United Kingdom  27-02-21                 7434.0  NT434   \n",
       "27  United Kingdom  26-02-21                 8523.0  NT446   \n",
       "28  United Kingdom  25-02-21                 9985.0  NT490   \n",
       "29  United Kingdom  24-02-21                 9938.0  NVC06   \n",
       "30  United Kingdom  23-02-21                 8489.0  NVC13   \n",
       "31  United Kingdom  22-02-21                10641.0  NVC15   \n",
       "32  United Kingdom  21-02-21                 9834.0  NVC18   \n",
       "33  United Kingdom  20-02-21                10406.0  NVC19   \n",
       "34  United Kingdom  19-02-21                12027.0  NVC31   \n",
       "35  United Kingdom  18-02-21                12057.0  NYA02   \n",
       "36  United Kingdom  17-02-21                12718.0  NYW01   \n",
       "37  United Kingdom  16-02-21                10625.0    R1L   \n",
       "38  United Kingdom  15-02-21                 9765.0    RAJ   \n",
       "39  United Kingdom  14-02-21                10972.0    RC9   \n",
       "\n",
       "                                                 Name  admissions   In-pts  \\\n",
       "0                     CARETECH COMMUNITY SERVICES LTD      2932.0  12135.0   \n",
       "1                                     BADDOW HOSPITAL      2564.0  13635.0   \n",
       "2                               ONE HATFIELD HOSPITAL      2593.0  15469.0   \n",
       "3                                      OSD HEALTHCARE      2592.0  16657.0   \n",
       "4                                  ELYSIUM HEALTHCARE      2679.0  17154.0   \n",
       "5                                      CHADWICK LODGE      2744.0  17814.0   \n",
       "6                                         POTTERS BAR      2619.0  18152.0   \n",
       "7               EAST COAST COMMUNITY HEALTHCARE C.I.C      2340.0  18423.0   \n",
       "8                   JEESAL AKMAN CARE CORPORATION LTD      2196.0  18669.0   \n",
       "9                                           YEW TREES      1955.0  18604.0   \n",
       "10                                         THORS PARK      1791.0  18974.0   \n",
       "11                          CYGNET HOSPITAL STEVENAGE      1912.0  18621.0   \n",
       "12                         CYGNET HOSPITAL COLCHESTER      1859.0  18552.0   \n",
       "13  ANGLIAN COMMUNITY ENTERPRISE COMMUNITY INTERES...      1608.0  17934.0   \n",
       "14                                            PROVIDE      1777.0  17783.0   \n",
       "15                NUFFIELD HEALTH, BRENTWOOD HOSPITAL      1674.0  16728.0   \n",
       "16                NUFFIELD HEALTH, CAMBRIDGE HOSPITAL      1411.0  16850.0   \n",
       "17                  NUFFIELD HEALTH, IPSWICH HOSPITAL      1475.0  16928.0   \n",
       "18                           SPIRE WELLESLEY HOSPITAL      1522.0  16654.0   \n",
       "19                              SPIRE BUSHEY HOSPITAL      1495.0  16517.0   \n",
       "20                           SPIRE HARPENDEN HOSPITAL      1310.0  16018.0   \n",
       "21                       SPIRE CAMBRIDGE LEA HOSPITAL      1289.0  15402.0   \n",
       "22                             SPIRE NORWICH HOSPITAL      1277.0  14642.0   \n",
       "23                           SPIRE HARTSWOOD HOSPITAL      1080.0  14202.0   \n",
       "24                           BMI - THE MANOR HOSPITAL      1208.0  14174.0   \n",
       "25                     BMI - THE SANDRINGHAM HOSPITAL      1344.0  14255.0   \n",
       "26                             BMI - THE SAXON CLINIC      1296.0  13565.0   \n",
       "27                            BMI ST EDMUNDS HOSPITAL      1295.0  13224.0   \n",
       "28                      BMI SOUTHEND PRIVATE HOSPITAL      1227.0  12922.0   \n",
       "29                               FITZWILLIAM HOSPITAL      1081.0  12623.0   \n",
       "30                                      OAKS HOSPITAL       980.0  12314.0   \n",
       "31                                  PINEHILL HOSPITAL      1044.0  12119.0   \n",
       "32                               SPRINGFIELD HOSPITAL      1063.0  12020.0   \n",
       "33                                    RIVERS HOSPITAL       959.0  11754.0   \n",
       "34                                BLAKELANDS HOSPITAL      1040.0  11227.0   \n",
       "35                     ST ANDREW'S HEALTHCARE - ESSEX       998.0  10726.0   \n",
       "36                                  ASPEN - THE HOLLY       743.0  10249.0   \n",
       "37  ESSEX PARTNERSHIP UNIVERSITY NHS FOUNDATION TRUST       798.0  10176.0   \n",
       "38           MID AND SOUTH ESSEX NHS FOUNDATION TRUST       756.0   9893.0   \n",
       "39        BEDFORDSHIRE HOSPITALS NHS FOUNDATION TRUST       856.0  10109.0   \n",
       "\n",
       "    mech-vent  deaths  Unnamed: 9  \n",
       "0      1494.0   732.0         NaN  \n",
       "1      1788.0   743.0         NaN  \n",
       "2      1950.0   838.0         NaN  \n",
       "3      2097.0   830.0         NaN  \n",
       "4      2264.0   804.0         NaN  \n",
       "5      2472.0   912.0         NaN  \n",
       "6      2561.0   975.0         NaN  \n",
       "7      2546.0   875.0         NaN  \n",
       "8      2820.0   850.0         NaN  \n",
       "9      2865.0   862.0         NaN  \n",
       "10     2881.0   858.0         NaN  \n",
       "11     2872.0   804.0         NaN  \n",
       "12     2849.0   771.0         NaN  \n",
       "13     2847.0   784.0         NaN  \n",
       "14     2838.0   752.0         NaN  \n",
       "15     2780.0   744.0         NaN  \n",
       "16     2868.0   706.0         NaN  \n",
       "17     2820.0   685.0         NaN  \n",
       "18     2780.0   685.0         NaN  \n",
       "19     2701.0   649.0         NaN  \n",
       "20     2646.0   643.0         NaN  \n",
       "21     2563.0   593.0         NaN  \n",
       "22     2414.0   603.0         NaN  \n",
       "23     2405.0   556.0         NaN  \n",
       "24     2309.0   561.0         NaN  \n",
       "25     2194.0   506.0         NaN  \n",
       "26     2093.0   498.0         NaN  \n",
       "27     2045.0   493.0         NaN  \n",
       "28     1991.0   484.0         NaN  \n",
       "29     1954.0   479.0         NaN  \n",
       "30     1844.0   424.0         NaN  \n",
       "31     1795.0   387.0         NaN  \n",
       "32     1724.0   412.0         NaN  \n",
       "33     1662.0   391.0         NaN  \n",
       "34     1610.0   392.0         NaN  \n",
       "35     1493.0   400.0         NaN  \n",
       "36     1446.0   330.0         NaN  \n",
       "37     1398.0   330.0         NaN  \n",
       "38     1362.0   300.0         NaN  \n",
       "39     1316.0   260.0         NaN  "
      ]
     },
     "execution_count": 575,
     "metadata": {},
     "output_type": "execute_result"
    }
   ],
   "source": [
    "covid_data= 'E:/Covid-19-kit byatt/nhs-data-england21.csv'\n",
    "\n",
    "raw_data = pd.read_csv(covid_data)\n",
    "\n",
    "raw_data.head(40)"
   ]
  },
  {
   "cell_type": "code",
   "execution_count": 576,
   "id": "daa4d87c",
   "metadata": {},
   "outputs": [
    {
     "data": {
      "text/html": [
       "<div>\n",
       "<style scoped>\n",
       "    .dataframe tbody tr th:only-of-type {\n",
       "        vertical-align: middle;\n",
       "    }\n",
       "\n",
       "    .dataframe tbody tr th {\n",
       "        vertical-align: top;\n",
       "    }\n",
       "\n",
       "    .dataframe thead th {\n",
       "        text-align: right;\n",
       "    }\n",
       "</style>\n",
       "<table border=\"1\" class=\"dataframe\">\n",
       "  <thead>\n",
       "    <tr style=\"text-align: right;\">\n",
       "      <th></th>\n",
       "      <th>newCasesByPublishDate</th>\n",
       "      <th>admissions</th>\n",
       "      <th>In-pts</th>\n",
       "      <th>mech-vent</th>\n",
       "      <th>deaths</th>\n",
       "      <th>Unnamed: 9</th>\n",
       "    </tr>\n",
       "  </thead>\n",
       "  <tbody>\n",
       "    <tr>\n",
       "      <th>count</th>\n",
       "      <td>333.000000</td>\n",
       "      <td>333.000000</td>\n",
       "      <td>333.000000</td>\n",
       "      <td>333.000000</td>\n",
       "      <td>333.000000</td>\n",
       "      <td>0.0</td>\n",
       "    </tr>\n",
       "    <tr>\n",
       "      <th>mean</th>\n",
       "      <td>12607.282282</td>\n",
       "      <td>1076.543544</td>\n",
       "      <td>10331.291291</td>\n",
       "      <td>1162.486486</td>\n",
       "      <td>312.930931</td>\n",
       "      <td>NaN</td>\n",
       "    </tr>\n",
       "    <tr>\n",
       "      <th>std</th>\n",
       "      <td>14449.747495</td>\n",
       "      <td>1005.148530</td>\n",
       "      <td>9263.564839</td>\n",
       "      <td>1092.494710</td>\n",
       "      <td>316.924326</td>\n",
       "      <td>NaN</td>\n",
       "    </tr>\n",
       "    <tr>\n",
       "      <th>min</th>\n",
       "      <td>343.000000</td>\n",
       "      <td>25.000000</td>\n",
       "      <td>425.000000</td>\n",
       "      <td>50.000000</td>\n",
       "      <td>2.000000</td>\n",
       "      <td>NaN</td>\n",
       "    </tr>\n",
       "    <tr>\n",
       "      <th>25%</th>\n",
       "      <td>1508.000000</td>\n",
       "      <td>204.000000</td>\n",
       "      <td>1888.000000</td>\n",
       "      <td>188.000000</td>\n",
       "      <td>34.000000</td>\n",
       "      <td>NaN</td>\n",
       "    </tr>\n",
       "  </tbody>\n",
       "</table>\n",
       "</div>"
      ],
      "text/plain": [
       "       newCasesByPublishDate   admissions        In-pts    mech-vent  \\\n",
       "count             333.000000   333.000000    333.000000   333.000000   \n",
       "mean            12607.282282  1076.543544  10331.291291  1162.486486   \n",
       "std             14449.747495  1005.148530   9263.564839  1092.494710   \n",
       "min               343.000000    25.000000    425.000000    50.000000   \n",
       "25%              1508.000000   204.000000   1888.000000   188.000000   \n",
       "\n",
       "           deaths  Unnamed: 9  \n",
       "count  333.000000         0.0  \n",
       "mean   312.930931         NaN  \n",
       "std    316.924326         NaN  \n",
       "min      2.000000         NaN  \n",
       "25%     34.000000         NaN  "
      ]
     },
     "execution_count": 576,
     "metadata": {},
     "output_type": "execute_result"
    }
   ],
   "source": [
    "schema_discription = 'E:/Covid-19-kit byatt/nhs-data-england21.csv'\n",
    "\n",
    "schema_fname = raw_data.describe()\n",
    "\n",
    "schema_fname.head()"
   ]
  },
  {
   "cell_type": "code",
   "execution_count": 577,
   "id": "8b0d255c",
   "metadata": {},
   "outputs": [
    {
     "data": {
      "text/plain": [
       "(421, 10)"
      ]
     },
     "execution_count": 577,
     "metadata": {},
     "output_type": "execute_result"
    }
   ],
   "source": [
    "raw_data.shape"
   ]
  },
  {
   "cell_type": "code",
   "execution_count": 578,
   "id": "39bb12b0",
   "metadata": {},
   "outputs": [],
   "source": [
    "#raw_data.describe()\n"
   ]
  },
  {
   "cell_type": "code",
   "execution_count": 579,
   "id": "0344124c",
   "metadata": {},
   "outputs": [
    {
     "name": "stdout",
     "output_type": "stream",
     "text": [
      "<class 'pandas.core.frame.DataFrame'>\n",
      "RangeIndex: 421 entries, 0 to 420\n",
      "Data columns (total 10 columns):\n",
      " #   Column                 Non-Null Count  Dtype  \n",
      "---  ------                 --------------  -----  \n",
      " 0   areaName               333 non-null    object \n",
      " 1   date                   333 non-null    object \n",
      " 2   newCasesByPublishDate  333 non-null    float64\n",
      " 3   Code                   333 non-null    object \n",
      " 4   Name                   333 non-null    object \n",
      " 5   admissions             333 non-null    float64\n",
      " 6   In-pts                 333 non-null    float64\n",
      " 7   mech-vent              333 non-null    float64\n",
      " 8   deaths                 333 non-null    float64\n",
      " 9   Unnamed: 9             0 non-null      float64\n",
      "dtypes: float64(6), object(4)\n",
      "memory usage: 33.0+ KB\n"
     ]
    }
   ],
   "source": [
    "raw_data.info()"
   ]
  },
  {
   "cell_type": "code",
   "execution_count": 580,
   "id": "2f779d43",
   "metadata": {},
   "outputs": [
    {
     "data": {
      "text/plain": [
       "areaName                  88\n",
       "date                      88\n",
       "newCasesByPublishDate     88\n",
       "Code                      88\n",
       "Name                      88\n",
       "admissions                88\n",
       "In-pts                    88\n",
       "mech-vent                 88\n",
       "deaths                    88\n",
       "Unnamed: 9               421\n",
       "dtype: int64"
      ]
     },
     "execution_count": 580,
     "metadata": {},
     "output_type": "execute_result"
    }
   ],
   "source": [
    "# Checking for any null values\n",
    "raw_data.isnull().sum()"
   ]
  },
  {
   "cell_type": "code",
   "execution_count": 581,
   "id": "9f2c0ab5",
   "metadata": {},
   "outputs": [
    {
     "data": {
      "text/plain": [
       "Index(['areaName', 'date', 'newCasesByPublishDate', 'Code', 'Name',\n",
       "       'admissions', 'In-pts', 'mech-vent', 'deaths', 'Unnamed: 9'],\n",
       "      dtype='object')"
      ]
     },
     "execution_count": 581,
     "metadata": {},
     "output_type": "execute_result"
    }
   ],
   "source": [
    "raw_data.columns"
   ]
  },
  {
   "cell_type": "code",
   "execution_count": 582,
   "id": "a79f791f",
   "metadata": {},
   "outputs": [
    {
     "data": {
      "image/png": "[encoded data removed]",
      "text/plain": [
       "<Figure size 1296x432 with 1 Axes>"
      ]
     },
     "metadata": {},
     "output_type": "display_data"
    }
   ],
   "source": [
    "plt.figure(figsize=(18,6))\n",
    "sns.set_style(\"ticks\")  \n",
    "sns.boxplot(data=raw_data[['admissions',\n",
    "                           'In-pts',\n",
    "                          'mech-vent',\n",
    "                     'deaths']], palette=\"deep\")\n",
    "sns.despine(offset=10, trim=True)"
   ]
  },
  {
   "cell_type": "code",
   "execution_count": 583,
   "id": "a746f07f",
   "metadata": {},
   "outputs": [
    {
     "data": {
      "application/vnd.plotly.v1+json": {
       "config": {
        "plotlyServerURL": "https://plot.ly"
       },
       "data": [
        {
         "type": "bar",
         "y": [
          "25-Jul-20",
          "30-Jul-20",
          "31-Aug-20",
          "12-Sep-20"
         ]
        }
       ],
       "layout": {
        "template": {
         "data": {
          "bar": [
           {
            "error_x": {
             "color": "#2a3f5f"
            },
            "error_y": {
             "color": "#2a3f5f"
            },
            "marker": {
             "line": {
              "color": "#E5ECF6",
              "width": 0.5
             },
             "pattern": {
              "fillmode": "overlay",
              "size": 10,
              "solidity": 0.2
             }
            },
            "type": "bar"
           }
          ],
          "barpolar": [
           {
            "marker": {
             "line": {
              "color": "#E5ECF6",
              "width": 0.5
             },
             "pattern": {
              "fillmode": "overlay",
              "size": 10,
              "solidity": 0.2
             }
            },
            "type": "barpolar"
           }
          ],
          "carpet": [
           {
            "aaxis": {
             "endlinecolor": "#2a3f5f",
             "gridcolor": "white",
             "linecolor": "white",
             "minorgridcolor": "white",
             "startlinecolor": "#2a3f5f"
            },
            "baxis": {
             "endlinecolor": "#2a3f5f",
             "gridcolor": "white",
             "linecolor": "white",
             "minorgridcolor": "white",
             "startlinecolor": "#2a3f5f"
            },
            "type": "carpet"
           }
          ],
          "choropleth": [
           {
            "colorbar": {
             "outlinewidth": 0,
             "ticks": ""
            },
            "type": "choropleth"
           }
          ],
          "contour": [
           {
            "colorbar": {
             "outlinewidth": 0,
             "ticks": ""
            },
            "colorscale": [
             [
              0,
              "#0d0887"
             ],
             [
              0.1111111111111111,
              "#46039f"
             ],
             [
              0.2222222222222222,
              "#7201a8"
             ],
             [
              0.3333333333333333,
              "#9c179e"
             ],
             [
              0.4444444444444444,
              "#bd3786"
             ],
             [
              0.5555555555555556,
              "#d8576b"
             ],
             [
              0.6666666666666666,
              "#ed7953"
             ],
             [
              0.7777777777777778,
              "#fb9f3a"
             ],
             [
              0.8888888888888888,
              "#fdca26"
             ],
             [
              1,
              "#f0f921"
             ]
            ],
            "type": "contour"
           }
          ],
          "contourcarpet": [
           {
            "colorbar": {
             "outlinewidth": 0,
             "ticks": ""
            },
            "type": "contourcarpet"
           }
          ],
          "heatmap": [
           {
            "colorbar": {
             "outlinewidth": 0,
             "ticks": ""
            },
            "colorscale": [
             [
              0,
              "#0d0887"
             ],
             [
              0.1111111111111111,
              "#46039f"
             ],
             [
              0.2222222222222222,
              "#7201a8"
             ],
             [
              0.3333333333333333,
              "#9c179e"
             ],
             [
              0.4444444444444444,
              "#bd3786"
             ],
             [
              0.5555555555555556,
              "#d8576b"
             ],
             [
              0.6666666666666666,
              "#ed7953"
             ],
             [
              0.7777777777777778,
              "#fb9f3a"
             ],
             [
              0.8888888888888888,
              "#fdca26"
             ],
             [
              1,
              "#f0f921"
             ]
            ],
            "type": "heatmap"
           }
          ],
          "heatmapgl": [
           {
            "colorbar": {
             "outlinewidth": 0,
             "ticks": ""
            },
            "colorscale": [
             [
              0,
              "#0d0887"
             ],
             [
              0.1111111111111111,
              "#46039f"
             ],
             [
              0.2222222222222222,
              "#7201a8"
             ],
             [
              0.3333333333333333,
              "#9c179e"
             ],
             [
              0.4444444444444444,
              "#bd3786"
             ],
             [
              0.5555555555555556,
              "#d8576b"
             ],
             [
              0.6666666666666666,
              "#ed7953"
             ],
             [
              0.7777777777777778,
              "#fb9f3a"
             ],
             [
              0.8888888888888888,
              "#fdca26"
             ],
             [
              1,
              "#f0f921"
             ]
            ],
            "type": "heatmapgl"
           }
          ],
          "histogram": [
           {
            "marker": {
             "pattern": {
              "fillmode": "overlay",
              "size": 10,
              "solidity": 0.2
             }
            },
            "type": "histogram"
           }
          ],
          "histogram2d": [
           {
            "colorbar": {
             "outlinewidth": 0,
             "ticks": ""
            },
            "colorscale": [
             [
              0,
              "#0d0887"
             ],
             [
              0.1111111111111111,
              "#46039f"
             ],
             [
              0.2222222222222222,
              "#7201a8"
             ],
             [
              0.3333333333333333,
              "#9c179e"
             ],
             [
              0.4444444444444444,
              "#bd3786"
             ],
             [
              0.5555555555555556,
              "#d8576b"
             ],
             [
              0.6666666666666666,
              "#ed7953"
             ],
             [
              0.7777777777777778,
              "#fb9f3a"
             ],
             [
              0.8888888888888888,
              "#fdca26"
             ],
             [
              1,
              "#f0f921"
             ]
            ],
            "type": "histogram2d"
           }
          ],
          "histogram2dcontour": [
           {
            "colorbar": {
             "outlinewidth": 0,
             "ticks": ""
            },
            "colorscale": [
             [
              0,
              "#0d0887"
             ],
             [
              0.1111111111111111,
              "#46039f"
             ],
             [
              0.2222222222222222,
              "#7201a8"
             ],
             [
              0.3333333333333333,
              "#9c179e"
             ],
             [
              0.4444444444444444,
              "#bd3786"
             ],
             [
              0.5555555555555556,
              "#d8576b"
             ],
             [
              0.6666666666666666,
              "#ed7953"
             ],
             [
              0.7777777777777778,
              "#fb9f3a"
             ],
             [
              0.8888888888888888,
              "#fdca26"
             ],
             [
              1,
              "#f0f921"
             ]
            ],
            "type": "histogram2dcontour"
           }
          ],
          "mesh3d": [
           {
            "colorbar": {
             "outlinewidth": 0,
             "ticks": ""
            },
            "type": "mesh3d"
           }
          ],
          "parcoords": [
           {
            "line": {
             "colorbar": {
              "outlinewidth": 0,
              "ticks": ""
             }
            },
            "type": "parcoords"
           }
          ],
          "pie": [
           {
            "automargin": true,
            "type": "pie"
           }
          ],
          "scatter": [
           {
            "marker": {
             "colorbar": {
              "outlinewidth": 0,
              "ticks": ""
             }
            },
            "type": "scatter"
           }
          ],
          "scatter3d": [
           {
            "line": {
             "colorbar": {
              "outlinewidth": 0,
              "ticks": ""
             }
            },
            "marker": {
             "colorbar": {
              "outlinewidth": 0,
              "ticks": ""
             }
            },
            "type": "scatter3d"
           }
          ],
          "scattercarpet": [
           {
            "marker": {
             "colorbar": {
              "outlinewidth": 0,
              "ticks": ""
             }
            },
            "type": "scattercarpet"
           }
          ],
          "scattergeo": [
           {
            "marker": {
             "colorbar": {
              "outlinewidth": 0,
              "ticks": ""
             }
            },
            "type": "scattergeo"
           }
          ],
          "scattergl": [
           {
            "marker": {
             "colorbar": {
              "outlinewidth": 0,
              "ticks": ""
             }
            },
            "type": "scattergl"
           }
          ],
          "scattermapbox": [
           {
            "marker": {
             "colorbar": {
              "outlinewidth": 0,
              "ticks": ""
             }
            },
            "type": "scattermapbox"
           }
          ],
          "scatterpolar": [
           {
            "marker": {
             "colorbar": {
              "outlinewidth": 0,
              "ticks": ""
             }
            },
            "type": "scatterpolar"
           }
          ],
          "scatterpolargl": [
           {
            "marker": {
             "colorbar": {
              "outlinewidth": 0,
              "ticks": ""
             }
            },
            "type": "scatterpolargl"
           }
          ],
          "scatterternary": [
           {
            "marker": {
             "colorbar": {
              "outlinewidth": 0,
              "ticks": ""
             }
            },
            "type": "scatterternary"
           }
          ],
          "surface": [
           {
            "colorbar": {
             "outlinewidth": 0,
             "ticks": ""
            },
            "colorscale": [
             [
              0,
              "#0d0887"
             ],
             [
              0.1111111111111111,
              "#46039f"
             ],
             [
              0.2222222222222222,
              "#7201a8"
             ],
             [
              0.3333333333333333,
              "#9c179e"
             ],
             [
              0.4444444444444444,
              "#bd3786"
             ],
             [
              0.5555555555555556,
              "#d8576b"
             ],
             [
              0.6666666666666666,
              "#ed7953"
             ],
             [
              0.7777777777777778,
              "#fb9f3a"
             ],
             [
              0.8888888888888888,
              "#fdca26"
             ],
             [
              1,
              "#f0f921"
             ]
            ],
            "type": "surface"
           }
          ],
          "table": [
           {
            "cells": {
             "fill": {
              "color": "#EBF0F8"
             },
             "line": {
              "color": "white"
             }
            },
            "header": {
             "fill": {
              "color": "#C8D4E3"
             },
             "line": {
              "color": "white"
             }
            },
            "type": "table"
           }
          ]
         },
         "layout": {
          "annotationdefaults": {
           "arrowcolor": "#2a3f5f",
           "arrowhead": 0,
           "arrowwidth": 1
          },
          "autotypenumbers": "strict",
          "coloraxis": {
           "colorbar": {
            "outlinewidth": 0,
            "ticks": ""
           }
          },
          "colorscale": {
           "diverging": [
            [
             0,
             "#8e0152"
            ],
            [
             0.1,
             "#c51b7d"
            ],
            [
             0.2,
             "#de77ae"
            ],
            [
             0.3,
             "#f1b6da"
            ],
            [
             0.4,
             "#fde0ef"
            ],
            [
             0.5,
             "#f7f7f7"
            ],
            [
             0.6,
             "#e6f5d0"
            ],
            [
             0.7,
             "#b8e186"
            ],
            [
             0.8,
             "#7fbc41"
            ],
            [
             0.9,
             "#4d9221"
            ],
            [
             1,
             "#276419"
            ]
           ],
           "sequential": [
            [
             0,
             "#0d0887"
            ],
            [
             0.1111111111111111,
             "#46039f"
            ],
            [
             0.2222222222222222,
             "#7201a8"
            ],
            [
             0.3333333333333333,
             "#9c179e"
            ],
            [
             0.4444444444444444,
             "#bd3786"
            ],
            [
             0.5555555555555556,
             "#d8576b"
            ],
            [
             0.6666666666666666,
             "#ed7953"
            ],
            [
             0.7777777777777778,
             "#fb9f3a"
            ],
            [
             0.8888888888888888,
             "#fdca26"
            ],
            [
             1,
             "#f0f921"
            ]
           ],
           "sequentialminus": [
            [
             0,
             "#0d0887"
            ],
            [
             0.1111111111111111,
             "#46039f"
            ],
            [
             0.2222222222222222,
             "#7201a8"
            ],
            [
             0.3333333333333333,
             "#9c179e"
            ],
            [
             0.4444444444444444,
             "#bd3786"
            ],
            [
             0.5555555555555556,
             "#d8576b"
            ],
            [
             0.6666666666666666,
             "#ed7953"
            ],
            [
             0.7777777777777778,
             "#fb9f3a"
            ],
            [
             0.8888888888888888,
             "#fdca26"
            ],
            [
             1,
             "#f0f921"
            ]
           ]
          },
          "colorway": [
           "#636efa",
           "#EF553B",
           "#00cc96",
           "#ab63fa",
           "#FFA15A",
           "#19d3f3",
           "#FF6692",
           "#B6E880",
           "#FF97FF",
           "#FECB52"
          ],
          "font": {
           "color": "#2a3f5f"
          },
          "geo": {
           "bgcolor": "white",
           "lakecolor": "white",
           "landcolor": "#E5ECF6",
           "showlakes": true,
           "showland": true,
           "subunitcolor": "white"
          },
          "hoverlabel": {
           "align": "left"
          },
          "hovermode": "closest",
          "mapbox": {
           "style": "light"
          },
          "paper_bgcolor": "white",
          "plot_bgcolor": "#E5ECF6",
          "polar": {
           "angularaxis": {
            "gridcolor": "white",
            "linecolor": "white",
            "ticks": ""
           },
           "bgcolor": "#E5ECF6",
           "radialaxis": {
            "gridcolor": "white",
            "linecolor": "white",
            "ticks": ""
           }
          },
          "scene": {
           "xaxis": {
            "backgroundcolor": "#E5ECF6",
            "gridcolor": "white",
            "gridwidth": 2,
            "linecolor": "white",
            "showbackground": true,
            "ticks": "",
            "zerolinecolor": "white"
           },
           "yaxis": {
            "backgroundcolor": "#E5ECF6",
            "gridcolor": "white",
            "gridwidth": 2,
            "linecolor": "white",
            "showbackground": true,
            "ticks": "",
            "zerolinecolor": "white"
           },
           "zaxis": {
            "backgroundcolor": "#E5ECF6",
            "gridcolor": "white",
            "gridwidth": 2,
            "linecolor": "white",
            "showbackground": true,
            "ticks": "",
            "zerolinecolor": "white"
           }
          },
          "shapedefaults": {
           "line": {
            "color": "#2a3f5f"
           }
          },
          "ternary": {
           "aaxis": {
            "gridcolor": "white",
            "linecolor": "white",
            "ticks": ""
           },
           "baxis": {
            "gridcolor": "white",
            "linecolor": "white",
            "ticks": ""
           },
           "bgcolor": "#E5ECF6",
           "caxis": {
            "gridcolor": "white",
            "linecolor": "white",
            "ticks": ""
           }
          },
          "title": {
           "x": 0.05
          },
          "xaxis": {
           "automargin": true,
           "gridcolor": "white",
           "linecolor": "white",
           "ticks": "",
           "title": {
            "standoff": 15
           },
           "zerolinecolor": "white",
           "zerolinewidth": 2
          },
          "yaxis": {
           "automargin": true,
           "gridcolor": "white",
           "linecolor": "white",
           "ticks": "",
           "title": {
            "standoff": 15
           },
           "zerolinecolor": "white",
           "zerolinewidth": 2
          }
         }
        },
        "title": {
         "text": "A Figure Displayed with fig.show()"
        }
       }
      },
      "text/html": [
       "<div>                            <div id=\"20c283a0-5830-48c9-823c-b224d6b259ca\" class=\"plotly-graph-div\" style=\"height:525px; width:100%;\"></div>            <script type=\"text/javascript\">                require([\"plotly\"], function(Plotly) {                    window.PLOTLYENV=window.PLOTLYENV || {};                                    if (document.getElementById(\"20c283a0-5830-48c9-823c-b224d6b259ca\")) {                    Plotly.newPlot(                        \"20c283a0-5830-48c9-823c-b224d6b259ca\",                        [{\"type\":\"bar\",\"y\":[\"25-Jul-20\",\"30-Jul-20\",\"31-Aug-20\",\"12-Sep-20\"]}],                        {\"template\":{\"data\":{\"bar\":[{\"error_x\":{\"color\":\"#2a3f5f\"},\"error_y\":{\"color\":\"#2a3f5f\"},\"marker\":{\"line\":{\"color\":\"#E5ECF6\",\"width\":0.5},\"pattern\":{\"fillmode\":\"overlay\",\"size\":10,\"solidity\":0.2}},\"type\":\"bar\"}],\"barpolar\":[{\"marker\":{\"line\":{\"color\":\"#E5ECF6\",\"width\":0.5},\"pattern\":{\"fillmode\":\"overlay\",\"size\":10,\"solidity\":0.2}},\"type\":\"barpolar\"}],\"carpet\":[{\"aaxis\":{\"endlinecolor\":\"#2a3f5f\",\"gridcolor\":\"white\",\"linecolor\":\"white\",\"minorgridcolor\":\"white\",\"startlinecolor\":\"#2a3f5f\"},\"baxis\":{\"endlinecolor\":\"#2a3f5f\",\"gridcolor\":\"white\",\"linecolor\":\"white\",\"minorgridcolor\":\"white\",\"startlinecolor\":\"#2a3f5f\"},\"type\":\"carpet\"}],\"choropleth\":[{\"colorbar\":{\"outlinewidth\":0,\"ticks\":\"\"},\"type\":\"choropleth\"}],\"contour\":[{\"colorbar\":{\"outlinewidth\":0,\"ticks\":\"\"},\"colorscale\":[[0.0,\"#0d0887\"],[0.1111111111111111,\"#46039f\"],[0.2222222222222222,\"#7201a8\"],[0.3333333333333333,\"#9c179e\"],[0.4444444444444444,\"#bd3786\"],[0.5555555555555556,\"#d8576b\"],[0.6666666666666666,\"#ed7953\"],[0.7777777777777778,\"#fb9f3a\"],[0.8888888888888888,\"#fdca26\"],[1.0,\"#f0f921\"]],\"type\":\"contour\"}],\"contourcarpet\":[{\"colorbar\":{\"outlinewidth\":0,\"ticks\":\"\"},\"type\":\"contourcarpet\"}],\"heatmap\":[{\"colorbar\":{\"outlinewidth\":0,\"ticks\":\"\"},\"colorscale\":[[0.0,\"#0d0887\"],[0.1111111111111111,\"#46039f\"],[0.2222222222222222,\"#7201a8\"],[0.3333333333333333,\"#9c179e\"],[0.4444444444444444,\"#bd3786\"],[0.5555555555555556,\"#d8576b\"],[0.6666666666666666,\"#ed7953\"],[0.7777777777777778,\"#fb9f3a\"],[0.8888888888888888,\"#fdca26\"],[1.0,\"#f0f921\"]],\"type\":\"heatmap\"}],\"heatmapgl\":[{\"colorbar\":{\"outlinewidth\":0,\"ticks\":\"\"},\"colorscale\":[[0.0,\"#0d0887\"],[0.1111111111111111,\"#46039f\"],[0.2222222222222222,\"#7201a8\"],[0.3333333333333333,\"#9c179e\"],[0.4444444444444444,\"#bd3786\"],[0.5555555555555556,\"#d8576b\"],[0.6666666666666666,\"#ed7953\"],[0.7777777777777778,\"#fb9f3a\"],[0.8888888888888888,\"#fdca26\"],[1.0,\"#f0f921\"]],\"type\":\"heatmapgl\"}],\"histogram\":[{\"marker\":{\"pattern\":{\"fillmode\":\"overlay\",\"size\":10,\"solidity\":0.2}},\"type\":\"histogram\"}],\"histogram2d\":[{\"colorbar\":{\"outlinewidth\":0,\"ticks\":\"\"},\"colorscale\":[[0.0,\"#0d0887\"],[0.1111111111111111,\"#46039f\"],[0.2222222222222222,\"#7201a8\"],[0.3333333333333333,\"#9c179e\"],[0.4444444444444444,\"#bd3786\"],[0.5555555555555556,\"#d8576b\"],[0.6666666666666666,\"#ed7953\"],[0.7777777777777778,\"#fb9f3a\"],[0.8888888888888888,\"#fdca26\"],[1.0,\"#f0f921\"]],\"type\":\"histogram2d\"}],\"histogram2dcontour\":[{\"colorbar\":{\"outlinewidth\":0,\"ticks\":\"\"},\"colorscale\":[[0.0,\"#0d0887\"],[0.1111111111111111,\"#46039f\"],[0.2222222222222222,\"#7201a8\"],[0.3333333333333333,\"#9c179e\"],[0.4444444444444444,\"#bd3786\"],[0.5555555555555556,\"#d8576b\"],[0.6666666666666666,\"#ed7953\"],[0.7777777777777778,\"#fb9f3a\"],[0.8888888888888888,\"#fdca26\"],[1.0,\"#f0f921\"]],\"type\":\"histogram2dcontour\"}],\"mesh3d\":[{\"colorbar\":{\"outlinewidth\":0,\"ticks\":\"\"},\"type\":\"mesh3d\"}],\"parcoords\":[{\"line\":{\"colorbar\":{\"outlinewidth\":0,\"ticks\":\"\"}},\"type\":\"parcoords\"}],\"pie\":[{\"automargin\":true,\"type\":\"pie\"}],\"scatter\":[{\"marker\":{\"colorbar\":{\"outlinewidth\":0,\"ticks\":\"\"}},\"type\":\"scatter\"}],\"scatter3d\":[{\"line\":{\"colorbar\":{\"outlinewidth\":0,\"ticks\":\"\"}},\"marker\":{\"colorbar\":{\"outlinewidth\":0,\"ticks\":\"\"}},\"type\":\"scatter3d\"}],\"scattercarpet\":[{\"marker\":{\"colorbar\":{\"outlinewidth\":0,\"ticks\":\"\"}},\"type\":\"scattercarpet\"}],\"scattergeo\":[{\"marker\":{\"colorbar\":{\"outlinewidth\":0,\"ticks\":\"\"}},\"type\":\"scattergeo\"}],\"scattergl\":[{\"marker\":{\"colorbar\":{\"outlinewidth\":0,\"ticks\":\"\"}},\"type\":\"scattergl\"}],\"scattermapbox\":[{\"marker\":{\"colorbar\":{\"outlinewidth\":0,\"ticks\":\"\"}},\"type\":\"scattermapbox\"}],\"scatterpolar\":[{\"marker\":{\"colorbar\":{\"outlinewidth\":0,\"ticks\":\"\"}},\"type\":\"scatterpolar\"}],\"scatterpolargl\":[{\"marker\":{\"colorbar\":{\"outlinewidth\":0,\"ticks\":\"\"}},\"type\":\"scatterpolargl\"}],\"scatterternary\":[{\"marker\":{\"colorbar\":{\"outlinewidth\":0,\"ticks\":\"\"}},\"type\":\"scatterternary\"}],\"surface\":[{\"colorbar\":{\"outlinewidth\":0,\"ticks\":\"\"},\"colorscale\":[[0.0,\"#0d0887\"],[0.1111111111111111,\"#46039f\"],[0.2222222222222222,\"#7201a8\"],[0.3333333333333333,\"#9c179e\"],[0.4444444444444444,\"#bd3786\"],[0.5555555555555556,\"#d8576b\"],[0.6666666666666666,\"#ed7953\"],[0.7777777777777778,\"#fb9f3a\"],[0.8888888888888888,\"#fdca26\"],[1.0,\"#f0f921\"]],\"type\":\"surface\"}],\"table\":[{\"cells\":{\"fill\":{\"color\":\"#EBF0F8\"},\"line\":{\"color\":\"white\"}},\"header\":{\"fill\":{\"color\":\"#C8D4E3\"},\"line\":{\"color\":\"white\"}},\"type\":\"table\"}]},\"layout\":{\"annotationdefaults\":{\"arrowcolor\":\"#2a3f5f\",\"arrowhead\":0,\"arrowwidth\":1},\"autotypenumbers\":\"strict\",\"coloraxis\":{\"colorbar\":{\"outlinewidth\":0,\"ticks\":\"\"}},\"colorscale\":{\"diverging\":[[0,\"#8e0152\"],[0.1,\"#c51b7d\"],[0.2,\"#de77ae\"],[0.3,\"#f1b6da\"],[0.4,\"#fde0ef\"],[0.5,\"#f7f7f7\"],[0.6,\"#e6f5d0\"],[0.7,\"#b8e186\"],[0.8,\"#7fbc41\"],[0.9,\"#4d9221\"],[1,\"#276419\"]],\"sequential\":[[0.0,\"#0d0887\"],[0.1111111111111111,\"#46039f\"],[0.2222222222222222,\"#7201a8\"],[0.3333333333333333,\"#9c179e\"],[0.4444444444444444,\"#bd3786\"],[0.5555555555555556,\"#d8576b\"],[0.6666666666666666,\"#ed7953\"],[0.7777777777777778,\"#fb9f3a\"],[0.8888888888888888,\"#fdca26\"],[1.0,\"#f0f921\"]],\"sequentialminus\":[[0.0,\"#0d0887\"],[0.1111111111111111,\"#46039f\"],[0.2222222222222222,\"#7201a8\"],[0.3333333333333333,\"#9c179e\"],[0.4444444444444444,\"#bd3786\"],[0.5555555555555556,\"#d8576b\"],[0.6666666666666666,\"#ed7953\"],[0.7777777777777778,\"#fb9f3a\"],[0.8888888888888888,\"#fdca26\"],[1.0,\"#f0f921\"]]},\"colorway\":[\"#636efa\",\"#EF553B\",\"#00cc96\",\"#ab63fa\",\"#FFA15A\",\"#19d3f3\",\"#FF6692\",\"#B6E880\",\"#FF97FF\",\"#FECB52\"],\"font\":{\"color\":\"#2a3f5f\"},\"geo\":{\"bgcolor\":\"white\",\"lakecolor\":\"white\",\"landcolor\":\"#E5ECF6\",\"showlakes\":true,\"showland\":true,\"subunitcolor\":\"white\"},\"hoverlabel\":{\"align\":\"left\"},\"hovermode\":\"closest\",\"mapbox\":{\"style\":\"light\"},\"paper_bgcolor\":\"white\",\"plot_bgcolor\":\"#E5ECF6\",\"polar\":{\"angularaxis\":{\"gridcolor\":\"white\",\"linecolor\":\"white\",\"ticks\":\"\"},\"bgcolor\":\"#E5ECF6\",\"radialaxis\":{\"gridcolor\":\"white\",\"linecolor\":\"white\",\"ticks\":\"\"}},\"scene\":{\"xaxis\":{\"backgroundcolor\":\"#E5ECF6\",\"gridcolor\":\"white\",\"gridwidth\":2,\"linecolor\":\"white\",\"showbackground\":true,\"ticks\":\"\",\"zerolinecolor\":\"white\"},\"yaxis\":{\"backgroundcolor\":\"#E5ECF6\",\"gridcolor\":\"white\",\"gridwidth\":2,\"linecolor\":\"white\",\"showbackground\":true,\"ticks\":\"\",\"zerolinecolor\":\"white\"},\"zaxis\":{\"backgroundcolor\":\"#E5ECF6\",\"gridcolor\":\"white\",\"gridwidth\":2,\"linecolor\":\"white\",\"showbackground\":true,\"ticks\":\"\",\"zerolinecolor\":\"white\"}},\"shapedefaults\":{\"line\":{\"color\":\"#2a3f5f\"}},\"ternary\":{\"aaxis\":{\"gridcolor\":\"white\",\"linecolor\":\"white\",\"ticks\":\"\"},\"baxis\":{\"gridcolor\":\"white\",\"linecolor\":\"white\",\"ticks\":\"\"},\"bgcolor\":\"#E5ECF6\",\"caxis\":{\"gridcolor\":\"white\",\"linecolor\":\"white\",\"ticks\":\"\"}},\"title\":{\"x\":0.05},\"xaxis\":{\"automargin\":true,\"gridcolor\":\"white\",\"linecolor\":\"white\",\"ticks\":\"\",\"title\":{\"standoff\":15},\"zerolinecolor\":\"white\",\"zerolinewidth\":2},\"yaxis\":{\"automargin\":true,\"gridcolor\":\"white\",\"linecolor\":\"white\",\"ticks\":\"\",\"title\":{\"standoff\":15},\"zerolinecolor\":\"white\",\"zerolinewidth\":2}}},\"title\":{\"text\":\"A Figure Displayed with fig.show()\"}},                        {\"responsive\": true}                    ).then(function(){\n",
       "                            \n",
       "var gd = document.getElementById('20c283a0-5830-48c9-823c-b224d6b259ca');\n",
       "var x = new MutationObserver(function (mutations, observer) {{\n",
       "        var display = window.getComputedStyle(gd).display;\n",
       "        if (!display || display === 'none') {{\n",
       "            console.log([gd, 'removed!']);\n",
       "            Plotly.purge(gd);\n",
       "            observer.disconnect();\n",
       "        }}\n",
       "}});\n",
       "\n",
       "// Listen for the removal of the full notebook cells\n",
       "var notebookContainer = gd.closest('#notebook-container');\n",
       "if (notebookContainer) {{\n",
       "    x.observe(notebookContainer, {childList: true});\n",
       "}}\n",
       "\n",
       "// Listen for the clearing of the current output cell\n",
       "var outputEl = gd.closest('.output');\n",
       "if (outputEl) {{\n",
       "    x.observe(outputEl, {childList: true});\n",
       "}}\n",
       "\n",
       "                        })                };                });            </script>        </div>"
      ]
     },
     "metadata": {},
     "output_type": "display_data"
    }
   ],
   "source": [
    "import plotly.graph_objects as go\n",
    "fig = go.Figure(\n",
    "    data=[go.Bar(y=['25-Jul-20',\n",
    "                     '30-Jul-20',\n",
    "                     '31-Aug-20',\n",
    "                     '12-Sep-20'])],\n",
    "    layout_title_text=\"A Figure Displayed with fig.show()\"\n",
    ")\n",
    "fig.show()"
   ]
  },
  {
   "cell_type": "code",
   "execution_count": 584,
   "id": "2db3f352",
   "metadata": {},
   "outputs": [],
   "source": [
    "# Data Cleaning\n",
    "raw_data['admissions']=raw_data['admissions'].fillna(0)\n",
    "raw_data['admissions']=raw_data['admissions'].astype('int')\n",
    "raw_data['In-pts']=raw_data['In-pts'].fillna(0)\n",
    "raw_data['In-pts']=raw_data['In-pts'].astype('int')\n",
    "raw_data['mech-vent']=raw_data['mech-vent'].fillna(0)\n",
    "#state_testing['Negative']=state_testing['Negative'].astype('int')"
   ]
  },
  {
   "cell_type": "code",
   "execution_count": 585,
   "id": "8f95e676",
   "metadata": {},
   "outputs": [
    {
     "ename": "TypeError",
     "evalue": "pivot_table() got multiple values for argument 'values'",
     "output_type": "error",
     "traceback": [
      "\u001b[1;31m---------------------------------------------------------------------------\u001b[0m",
      "\u001b[1;31mTypeError\u001b[0m                                 Traceback (most recent call last)",
      "\u001b[1;32m<ipython-input-585-889e0ee4b9aa>\u001b[0m in \u001b[0;36m<module>\u001b[1;34m\u001b[0m\n\u001b[1;32m----> 1\u001b[1;33m \u001b[0mraw_data\u001b[0m \u001b[1;33m=\u001b[0m \u001b[0mraw_data\u001b[0m\u001b[1;33m.\u001b[0m\u001b[0mpivot_table\u001b[0m\u001b[1;33m(\u001b[0m\u001b[0mraw_data\u001b[0m\u001b[1;33m,\u001b[0m \u001b[0mvalues\u001b[0m\u001b[1;33m=\u001b[0m\u001b[1;33m[\u001b[0m\u001b[1;34m'admissions'\u001b[0m\u001b[1;33m,\u001b[0m\u001b[1;34m'In-pts'\u001b[0m\u001b[1;33m,\u001b[0m\u001b[1;34m'mech-vent'\u001b[0m\u001b[1;33m]\u001b[0m\u001b[1;33m,\u001b[0m \u001b[0mindex\u001b[0m\u001b[1;33m=\u001b[0m\u001b[1;34m'United Kingdom'\u001b[0m\u001b[1;33m,\u001b[0m \u001b[0maggfunc\u001b[0m\u001b[1;33m=\u001b[0m\u001b[1;34m'max'\u001b[0m\u001b[1;33m)\u001b[0m\u001b[1;33m\u001b[0m\u001b[1;33m\u001b[0m\u001b[0m\n\u001b[0m\u001b[0;32m      2\u001b[0m \u001b[0mraw_data\u001b[0m\u001b[1;33m[\u001b[0m\u001b[1;34m'In-pts'\u001b[0m\u001b[1;33m]\u001b[0m \u001b[1;33m=\u001b[0m \u001b[0mraw_data\u001b[0m\u001b[1;33m[\u001b[0m\u001b[1;34m'In-pts'\u001b[0m\u001b[1;33m]\u001b[0m\u001b[1;33m*\u001b[0m\u001b[1;36m100\u001b[0m \u001b[1;33m/\u001b[0m \u001b[0mraw_data\u001b[0m\u001b[1;33m[\u001b[0m\u001b[1;34m'admissions'\u001b[0m\u001b[1;33m]\u001b[0m\u001b[1;33m\u001b[0m\u001b[1;33m\u001b[0m\u001b[0m\n\u001b[0;32m      3\u001b[0m \u001b[0mraw_data\u001b[0m\u001b[1;33m[\u001b[0m\u001b[1;34m'In-pts'\u001b[0m\u001b[1;33m]\u001b[0m\u001b[1;33m=\u001b[0m\u001b[0mround\u001b[0m\u001b[1;33m(\u001b[0m\u001b[0mraw_data\u001b[0m\u001b[1;33m[\u001b[0m\u001b[1;34m'In-pts'\u001b[0m\u001b[1;33m]\u001b[0m\u001b[1;33m.\u001b[0m\u001b[0mastype\u001b[0m\u001b[1;33m(\u001b[0m\u001b[1;34m'int'\u001b[0m\u001b[1;33m)\u001b[0m\u001b[1;33m,\u001b[0m\u001b[1;36m2\u001b[0m\u001b[1;33m)\u001b[0m\u001b[1;33m\u001b[0m\u001b[1;33m\u001b[0m\u001b[0m\n\u001b[0;32m      4\u001b[0m \u001b[0mraw_data\u001b[0m \u001b[1;33m=\u001b[0m \u001b[0mraw_data\u001b[0m\u001b[1;33m.\u001b[0m\u001b[0msort_values\u001b[0m\u001b[1;33m(\u001b[0m\u001b[0mby\u001b[0m\u001b[1;33m=\u001b[0m\u001b[1;34m'date'\u001b[0m\u001b[1;33m,\u001b[0m \u001b[0mascending\u001b[0m\u001b[1;33m=\u001b[0m \u001b[1;32mFalse\u001b[0m\u001b[1;33m)\u001b[0m\u001b[1;33m\u001b[0m\u001b[1;33m\u001b[0m\u001b[0m\n\u001b[0;32m      5\u001b[0m \u001b[0mraw_data\u001b[0m\u001b[1;33m.\u001b[0m\u001b[0mstyle\u001b[0m\u001b[1;33m.\u001b[0m\u001b[0mbackground_gradient\u001b[0m\u001b[1;33m(\u001b[0m\u001b[0mcmap\u001b[0m\u001b[1;33m=\u001b[0m\u001b[1;34m'YlOrRd'\u001b[0m\u001b[1;33m)\u001b[0m\u001b[1;33m\u001b[0m\u001b[1;33m\u001b[0m\u001b[0m\n",
      "\u001b[1;31mTypeError\u001b[0m: pivot_table() got multiple values for argument 'values'"
     ]
    }
   ],
   "source": [
    "raw_data = raw_data.pivot_table(raw_data, values=['admissions','In-pts','mech-vent'], index='United Kingdom', aggfunc='max')\n",
    "raw_data['In-pts'] = raw_data['In-pts']*100 / raw_data['admissions']\n",
    "raw_data['In-pts']=round(raw_data['In-pts'].astype('int'),2)\n",
    "raw_data = raw_data.sort_values(by='date', ascending= False)\n",
    "raw_data.style.background_gradient(cmap='YlOrRd')"
   ]
  },
  {
   "cell_type": "code",
   "execution_count": 586,
   "id": "3e1c4662",
   "metadata": {},
   "outputs": [],
   "source": [
    "# Selecting the columns for analysis\n",
    "\n",
    "selected_col = [\n",
    "    #Geography\n",
    "    'areaName','Code','Name',\n",
    "    \n",
    "    #Covid cases per month\n",
    "    'admissions','In-pts',\n",
    "    \n",
    "    #Economy\n",
    "    'newCasesByPublishDate', 'mech-vent',\n",
    "    \n",
    "    #Human factor\n",
    "    'deaths', 'date','newCasesByPublishDate', 'mech-vent',\n",
    "    \n",
    "    #Medical Facilites\n",
    "    #'cardiovasc_death_rate', 'diabetes_prevalence', 'female_smokers','male_smokers',\n",
    "    #'hospital_beds_per_thousand','life_expectancy', 'human_development_index'\n",
    "]"
   ]
  },
  {
   "cell_type": "code",
   "execution_count": 587,
   "id": "3eb1843e",
   "metadata": {},
   "outputs": [
    {
     "data": {
      "text/plain": [
       "11"
      ]
     },
     "execution_count": 587,
     "metadata": {},
     "output_type": "execute_result"
    }
   ],
   "source": [
    "len(selected_col)  # 11 out of -- columns are selected for performing the current anaylysis"
   ]
  },
  {
   "cell_type": "code",
   "execution_count": 588,
   "id": "518e06a2",
   "metadata": {},
   "outputs": [
    {
     "data": {
      "text/html": [
       "<div>\n",
       "<style scoped>\n",
       "    .dataframe tbody tr th:only-of-type {\n",
       "        vertical-align: middle;\n",
       "    }\n",
       "\n",
       "    .dataframe tbody tr th {\n",
       "        vertical-align: top;\n",
       "    }\n",
       "\n",
       "    .dataframe thead th {\n",
       "        text-align: right;\n",
       "    }\n",
       "</style>\n",
       "<table border=\"1\" class=\"dataframe\">\n",
       "  <thead>\n",
       "    <tr style=\"text-align: right;\">\n",
       "      <th></th>\n",
       "      <th>areaName</th>\n",
       "      <th>Code</th>\n",
       "      <th>Name</th>\n",
       "      <th>admissions</th>\n",
       "      <th>In-pts</th>\n",
       "      <th>newCasesByPublishDate</th>\n",
       "      <th>mech-vent</th>\n",
       "      <th>deaths</th>\n",
       "      <th>date</th>\n",
       "      <th>newCasesByPublishDate</th>\n",
       "      <th>mech-vent</th>\n",
       "    </tr>\n",
       "  </thead>\n",
       "  <tbody>\n",
       "    <tr>\n",
       "      <th>0</th>\n",
       "      <td>United Kingdom</td>\n",
       "      <td>8D379</td>\n",
       "      <td>CARETECH COMMUNITY SERVICES LTD</td>\n",
       "      <td>2932</td>\n",
       "      <td>12135</td>\n",
       "      <td>6397.0</td>\n",
       "      <td>1494.0</td>\n",
       "      <td>732.0</td>\n",
       "      <td>25-03-21</td>\n",
       "      <td>6397.0</td>\n",
       "      <td>1494.0</td>\n",
       "    </tr>\n",
       "    <tr>\n",
       "      <th>1</th>\n",
       "      <td>United Kingdom</td>\n",
       "      <td>AND01</td>\n",
       "      <td>BADDOW HOSPITAL</td>\n",
       "      <td>2564</td>\n",
       "      <td>13635</td>\n",
       "      <td>5605.0</td>\n",
       "      <td>1788.0</td>\n",
       "      <td>743.0</td>\n",
       "      <td>24-03-21</td>\n",
       "      <td>5605.0</td>\n",
       "      <td>1788.0</td>\n",
       "    </tr>\n",
       "    <tr>\n",
       "      <th>2</th>\n",
       "      <td>United Kingdom</td>\n",
       "      <td>AVQ03</td>\n",
       "      <td>ONE HATFIELD HOSPITAL</td>\n",
       "      <td>2593</td>\n",
       "      <td>15469</td>\n",
       "      <td>5379.0</td>\n",
       "      <td>1950.0</td>\n",
       "      <td>838.0</td>\n",
       "      <td>23-03-21</td>\n",
       "      <td>5379.0</td>\n",
       "      <td>1950.0</td>\n",
       "    </tr>\n",
       "    <tr>\n",
       "      <th>3</th>\n",
       "      <td>United Kingdom</td>\n",
       "      <td>AWR01</td>\n",
       "      <td>OSD HEALTHCARE</td>\n",
       "      <td>2592</td>\n",
       "      <td>16657</td>\n",
       "      <td>5342.0</td>\n",
       "      <td>2097.0</td>\n",
       "      <td>830.0</td>\n",
       "      <td>22-03-21</td>\n",
       "      <td>5342.0</td>\n",
       "      <td>2097.0</td>\n",
       "    </tr>\n",
       "    <tr>\n",
       "      <th>4</th>\n",
       "      <td>United Kingdom</td>\n",
       "      <td>DE8</td>\n",
       "      <td>ELYSIUM HEALTHCARE</td>\n",
       "      <td>2679</td>\n",
       "      <td>17154</td>\n",
       "      <td>5312.0</td>\n",
       "      <td>2264.0</td>\n",
       "      <td>804.0</td>\n",
       "      <td>21-03-21</td>\n",
       "      <td>5312.0</td>\n",
       "      <td>2264.0</td>\n",
       "    </tr>\n",
       "  </tbody>\n",
       "</table>\n",
       "</div>"
      ],
      "text/plain": [
       "         areaName   Code                             Name  admissions  In-pts  \\\n",
       "0  United Kingdom  8D379  CARETECH COMMUNITY SERVICES LTD        2932   12135   \n",
       "1  United Kingdom  AND01                  BADDOW HOSPITAL        2564   13635   \n",
       "2  United Kingdom  AVQ03            ONE HATFIELD HOSPITAL        2593   15469   \n",
       "3  United Kingdom  AWR01                   OSD HEALTHCARE        2592   16657   \n",
       "4  United Kingdom    DE8               ELYSIUM HEALTHCARE        2679   17154   \n",
       "\n",
       "   newCasesByPublishDate  mech-vent  deaths      date  newCasesByPublishDate  \\\n",
       "0                 6397.0     1494.0   732.0  25-03-21                 6397.0   \n",
       "1                 5605.0     1788.0   743.0  24-03-21                 5605.0   \n",
       "2                 5379.0     1950.0   838.0  23-03-21                 5379.0   \n",
       "3                 5342.0     2097.0   830.0  22-03-21                 5342.0   \n",
       "4                 5312.0     2264.0   804.0  21-03-21                 5312.0   \n",
       "\n",
       "   mech-vent  \n",
       "0     1494.0  \n",
       "1     1788.0  \n",
       "2     1950.0  \n",
       "3     2097.0  \n",
       "4     2264.0  "
      ]
     },
     "execution_count": 588,
     "metadata": {},
     "output_type": "execute_result"
    }
   ],
   "source": [
    "survey_raw_data = raw_data[selected_col]\n",
    "survey_raw_data.head()\n",
    "\n"
   ]
  },
  {
   "cell_type": "code",
   "execution_count": 589,
   "id": "ff53fd56",
   "metadata": {},
   "outputs": [],
   "source": [
    "survey_raw_data.Code.replace('',np.nan, inplace =True)  # Replacing blanks with NaN\n",
    "\n",
    "survey_raw_data.dropna(subset=['Code'], inplace=True)   # Droping all the records from DF where continent is NaN"
   ]
  },
  {
   "cell_type": "code",
   "execution_count": 590,
   "id": "b80535a1",
   "metadata": {},
   "outputs": [
    {
     "data": {
      "text/html": [
       "<div>\n",
       "<style scoped>\n",
       "    .dataframe tbody tr th:only-of-type {\n",
       "        vertical-align: middle;\n",
       "    }\n",
       "\n",
       "    .dataframe tbody tr th {\n",
       "        vertical-align: top;\n",
       "    }\n",
       "\n",
       "    .dataframe thead th {\n",
       "        text-align: right;\n",
       "    }\n",
       "</style>\n",
       "<table border=\"1\" class=\"dataframe\">\n",
       "  <thead>\n",
       "    <tr style=\"text-align: right;\">\n",
       "      <th></th>\n",
       "      <th>areaName</th>\n",
       "      <th>Code</th>\n",
       "      <th>Name</th>\n",
       "      <th>admissions</th>\n",
       "      <th>In-pts</th>\n",
       "      <th>newCasesByPublishDate</th>\n",
       "      <th>mech-vent</th>\n",
       "      <th>deaths</th>\n",
       "      <th>date</th>\n",
       "      <th>newCasesByPublishDate</th>\n",
       "      <th>mech-vent</th>\n",
       "    </tr>\n",
       "  </thead>\n",
       "  <tbody>\n",
       "    <tr>\n",
       "      <th>0</th>\n",
       "      <td>United Kingdom</td>\n",
       "      <td>8D379</td>\n",
       "      <td>CARETECH COMMUNITY SERVICES LTD</td>\n",
       "      <td>2932</td>\n",
       "      <td>12135</td>\n",
       "      <td>6397.0</td>\n",
       "      <td>1494.0</td>\n",
       "      <td>732.0</td>\n",
       "      <td>25-03-21</td>\n",
       "      <td>6397.0</td>\n",
       "      <td>1494.0</td>\n",
       "    </tr>\n",
       "    <tr>\n",
       "      <th>1</th>\n",
       "      <td>United Kingdom</td>\n",
       "      <td>AND01</td>\n",
       "      <td>BADDOW HOSPITAL</td>\n",
       "      <td>2564</td>\n",
       "      <td>13635</td>\n",
       "      <td>5605.0</td>\n",
       "      <td>1788.0</td>\n",
       "      <td>743.0</td>\n",
       "      <td>24-03-21</td>\n",
       "      <td>5605.0</td>\n",
       "      <td>1788.0</td>\n",
       "    </tr>\n",
       "    <tr>\n",
       "      <th>2</th>\n",
       "      <td>United Kingdom</td>\n",
       "      <td>AVQ03</td>\n",
       "      <td>ONE HATFIELD HOSPITAL</td>\n",
       "      <td>2593</td>\n",
       "      <td>15469</td>\n",
       "      <td>5379.0</td>\n",
       "      <td>1950.0</td>\n",
       "      <td>838.0</td>\n",
       "      <td>23-03-21</td>\n",
       "      <td>5379.0</td>\n",
       "      <td>1950.0</td>\n",
       "    </tr>\n",
       "    <tr>\n",
       "      <th>3</th>\n",
       "      <td>United Kingdom</td>\n",
       "      <td>AWR01</td>\n",
       "      <td>OSD HEALTHCARE</td>\n",
       "      <td>2592</td>\n",
       "      <td>16657</td>\n",
       "      <td>5342.0</td>\n",
       "      <td>2097.0</td>\n",
       "      <td>830.0</td>\n",
       "      <td>22-03-21</td>\n",
       "      <td>5342.0</td>\n",
       "      <td>2097.0</td>\n",
       "    </tr>\n",
       "    <tr>\n",
       "      <th>4</th>\n",
       "      <td>United Kingdom</td>\n",
       "      <td>DE8</td>\n",
       "      <td>ELYSIUM HEALTHCARE</td>\n",
       "      <td>2679</td>\n",
       "      <td>17154</td>\n",
       "      <td>5312.0</td>\n",
       "      <td>2264.0</td>\n",
       "      <td>804.0</td>\n",
       "      <td>21-03-21</td>\n",
       "      <td>5312.0</td>\n",
       "      <td>2264.0</td>\n",
       "    </tr>\n",
       "    <tr>\n",
       "      <th>...</th>\n",
       "      <td>...</td>\n",
       "      <td>...</td>\n",
       "      <td>...</td>\n",
       "      <td>...</td>\n",
       "      <td>...</td>\n",
       "      <td>...</td>\n",
       "      <td>...</td>\n",
       "      <td>...</td>\n",
       "      <td>...</td>\n",
       "      <td>...</td>\n",
       "      <td>...</td>\n",
       "    </tr>\n",
       "    <tr>\n",
       "      <th>328</th>\n",
       "      <td>United Kingdom</td>\n",
       "      <td>NW612</td>\n",
       "      <td>HCA - 52 ALDERLEY ROAD</td>\n",
       "      <td>874</td>\n",
       "      <td>13007</td>\n",
       "      <td>6201.0</td>\n",
       "      <td>1931.0</td>\n",
       "      <td>223.0</td>\n",
       "      <td>01-05-20</td>\n",
       "      <td>6201.0</td>\n",
       "      <td>1931.0</td>\n",
       "    </tr>\n",
       "    <tr>\n",
       "      <th>329</th>\n",
       "      <td>United Kingdom</td>\n",
       "      <td>NW616</td>\n",
       "      <td>THE CHRISTIE CLINIC</td>\n",
       "      <td>832</td>\n",
       "      <td>12449</td>\n",
       "      <td>6032.0</td>\n",
       "      <td>1866.0</td>\n",
       "      <td>211.0</td>\n",
       "      <td>30-04-20</td>\n",
       "      <td>6032.0</td>\n",
       "      <td>1866.0</td>\n",
       "    </tr>\n",
       "    <tr>\n",
       "      <th>330</th>\n",
       "      <td>United Kingdom</td>\n",
       "      <td>R0A</td>\n",
       "      <td>MANCHESTER UNIVERSITY NHS FOUNDATION TRUST</td>\n",
       "      <td>718</td>\n",
       "      <td>11781</td>\n",
       "      <td>4076.0</td>\n",
       "      <td>1808.0</td>\n",
       "      <td>178.0</td>\n",
       "      <td>29-04-20</td>\n",
       "      <td>4076.0</td>\n",
       "      <td>1808.0</td>\n",
       "    </tr>\n",
       "    <tr>\n",
       "      <th>331</th>\n",
       "      <td>United Kingdom</td>\n",
       "      <td>R0A90</td>\n",
       "      <td>NHS NIGHTINGALE HOSPITAL NORTH WEST</td>\n",
       "      <td>624</td>\n",
       "      <td>11090</td>\n",
       "      <td>3996.0</td>\n",
       "      <td>1747.0</td>\n",
       "      <td>183.0</td>\n",
       "      <td>28-04-20</td>\n",
       "      <td>3996.0</td>\n",
       "      <td>1747.0</td>\n",
       "    </tr>\n",
       "    <tr>\n",
       "      <th>332</th>\n",
       "      <td>United Kingdom</td>\n",
       "      <td>RBL</td>\n",
       "      <td>WIRRAL UNIVERSITY TEACHING HOSPITAL NHS FOUNDA...</td>\n",
       "      <td>662</td>\n",
       "      <td>10663</td>\n",
       "      <td>4310.0</td>\n",
       "      <td>1630.0</td>\n",
       "      <td>184.0</td>\n",
       "      <td>27-04-20</td>\n",
       "      <td>4310.0</td>\n",
       "      <td>1630.0</td>\n",
       "    </tr>\n",
       "  </tbody>\n",
       "</table>\n",
       "<p>333 rows × 11 columns</p>\n",
       "</div>"
      ],
      "text/plain": [
       "           areaName   Code                                               Name  \\\n",
       "0    United Kingdom  8D379                    CARETECH COMMUNITY SERVICES LTD   \n",
       "1    United Kingdom  AND01                                    BADDOW HOSPITAL   \n",
       "2    United Kingdom  AVQ03                              ONE HATFIELD HOSPITAL   \n",
       "3    United Kingdom  AWR01                                     OSD HEALTHCARE   \n",
       "4    United Kingdom    DE8                                 ELYSIUM HEALTHCARE   \n",
       "..              ...    ...                                                ...   \n",
       "328  United Kingdom  NW612                             HCA - 52 ALDERLEY ROAD   \n",
       "329  United Kingdom  NW616                                THE CHRISTIE CLINIC   \n",
       "330  United Kingdom    R0A         MANCHESTER UNIVERSITY NHS FOUNDATION TRUST   \n",
       "331  United Kingdom  R0A90                NHS NIGHTINGALE HOSPITAL NORTH WEST   \n",
       "332  United Kingdom    RBL  WIRRAL UNIVERSITY TEACHING HOSPITAL NHS FOUNDA...   \n",
       "\n",
       "     admissions  In-pts  newCasesByPublishDate  mech-vent  deaths      date  \\\n",
       "0          2932   12135                 6397.0     1494.0   732.0  25-03-21   \n",
       "1          2564   13635                 5605.0     1788.0   743.0  24-03-21   \n",
       "2          2593   15469                 5379.0     1950.0   838.0  23-03-21   \n",
       "3          2592   16657                 5342.0     2097.0   830.0  22-03-21   \n",
       "4          2679   17154                 5312.0     2264.0   804.0  21-03-21   \n",
       "..          ...     ...                    ...        ...     ...       ...   \n",
       "328         874   13007                 6201.0     1931.0   223.0  01-05-20   \n",
       "329         832   12449                 6032.0     1866.0   211.0  30-04-20   \n",
       "330         718   11781                 4076.0     1808.0   178.0  29-04-20   \n",
       "331         624   11090                 3996.0     1747.0   183.0  28-04-20   \n",
       "332         662   10663                 4310.0     1630.0   184.0  27-04-20   \n",
       "\n",
       "     newCasesByPublishDate  mech-vent  \n",
       "0                   6397.0     1494.0  \n",
       "1                   5605.0     1788.0  \n",
       "2                   5379.0     1950.0  \n",
       "3                   5342.0     2097.0  \n",
       "4                   5312.0     2264.0  \n",
       "..                     ...        ...  \n",
       "328                 6201.0     1931.0  \n",
       "329                 6032.0     1866.0  \n",
       "330                 4076.0     1808.0  \n",
       "331                 3996.0     1747.0  \n",
       "332                 4310.0     1630.0  \n",
       "\n",
       "[333 rows x 11 columns]"
      ]
     },
     "execution_count": 590,
     "metadata": {},
     "output_type": "execute_result"
    }
   ],
   "source": [
    "survey_raw_data"
   ]
  },
  {
   "cell_type": "code",
   "execution_count": 591,
   "id": "58105ae1",
   "metadata": {},
   "outputs": [
    {
     "data": {
      "text/html": [
       "<div>\n",
       "<style scoped>\n",
       "    .dataframe tbody tr th:only-of-type {\n",
       "        vertical-align: middle;\n",
       "    }\n",
       "\n",
       "    .dataframe tbody tr th {\n",
       "        vertical-align: top;\n",
       "    }\n",
       "\n",
       "    .dataframe thead th {\n",
       "        text-align: right;\n",
       "    }\n",
       "</style>\n",
       "<table border=\"1\" class=\"dataframe\">\n",
       "  <thead>\n",
       "    <tr style=\"text-align: right;\">\n",
       "      <th></th>\n",
       "      <th>admissions</th>\n",
       "      <th>In-pts</th>\n",
       "      <th>newCasesByPublishDate</th>\n",
       "      <th>mech-vent</th>\n",
       "      <th>deaths</th>\n",
       "      <th>newCasesByPublishDate</th>\n",
       "      <th>mech-vent</th>\n",
       "    </tr>\n",
       "    <tr>\n",
       "      <th>Name</th>\n",
       "      <th></th>\n",
       "      <th></th>\n",
       "      <th></th>\n",
       "      <th></th>\n",
       "      <th></th>\n",
       "      <th></th>\n",
       "      <th></th>\n",
       "    </tr>\n",
       "  </thead>\n",
       "  <tbody>\n",
       "    <tr>\n",
       "      <th>AIREDALE NHS FOUNDATION TRUST</th>\n",
       "      <td>3697</td>\n",
       "      <td>26467</td>\n",
       "      <td>1295.0</td>\n",
       "      <td>2378.0</td>\n",
       "      <td>821.0</td>\n",
       "      <td>1295.0</td>\n",
       "      <td>2378.0</td>\n",
       "    </tr>\n",
       "    <tr>\n",
       "      <th>ANGLIAN COMMUNITY ENTERPRISE COMMUNITY INTEREST COMPANY (ACE CIC)</th>\n",
       "      <td>1608</td>\n",
       "      <td>17934</td>\n",
       "      <td>6609.0</td>\n",
       "      <td>2847.0</td>\n",
       "      <td>784.0</td>\n",
       "      <td>6609.0</td>\n",
       "      <td>2847.0</td>\n",
       "    </tr>\n",
       "    <tr>\n",
       "      <th>ARBURY COURT</th>\n",
       "      <td>1907</td>\n",
       "      <td>25334</td>\n",
       "      <td>2615.0</td>\n",
       "      <td>3275.0</td>\n",
       "      <td>647.0</td>\n",
       "      <td>2615.0</td>\n",
       "      <td>3275.0</td>\n",
       "    </tr>\n",
       "    <tr>\n",
       "      <th>ASHLEY HOUSE HOSPITAL</th>\n",
       "      <td>386</td>\n",
       "      <td>2194</td>\n",
       "      <td>4926.0</td>\n",
       "      <td>307.0</td>\n",
       "      <td>55.0</td>\n",
       "      <td>4926.0</td>\n",
       "      <td>307.0</td>\n",
       "    </tr>\n",
       "    <tr>\n",
       "      <th>ASPEN - CLAREMONT HOSPITAL</th>\n",
       "      <td>2861</td>\n",
       "      <td>22713</td>\n",
       "      <td>1006.0</td>\n",
       "      <td>1854.0</td>\n",
       "      <td>624.0</td>\n",
       "      <td>1006.0</td>\n",
       "      <td>1854.0</td>\n",
       "    </tr>\n",
       "    <tr>\n",
       "      <th>...</th>\n",
       "      <td>...</td>\n",
       "      <td>...</td>\n",
       "      <td>...</td>\n",
       "      <td>...</td>\n",
       "      <td>...</td>\n",
       "      <td>...</td>\n",
       "      <td>...</td>\n",
       "    </tr>\n",
       "    <tr>\n",
       "      <th>WORCESTERSHIRE HEALTH AND CARE NHS TRUST</th>\n",
       "      <td>792</td>\n",
       "      <td>4379</td>\n",
       "      <td>2919.0</td>\n",
       "      <td>482.0</td>\n",
       "      <td>124.0</td>\n",
       "      <td>2919.0</td>\n",
       "      <td>482.0</td>\n",
       "    </tr>\n",
       "    <tr>\n",
       "      <th>WYE VALLEY NHS TRUST</th>\n",
       "      <td>1279</td>\n",
       "      <td>7454</td>\n",
       "      <td>1715.0</td>\n",
       "      <td>681.0</td>\n",
       "      <td>222.0</td>\n",
       "      <td>1715.0</td>\n",
       "      <td>681.0</td>\n",
       "    </tr>\n",
       "    <tr>\n",
       "      <th>YEW TREES</th>\n",
       "      <td>1955</td>\n",
       "      <td>18604</td>\n",
       "      <td>5294.0</td>\n",
       "      <td>2865.0</td>\n",
       "      <td>862.0</td>\n",
       "      <td>5294.0</td>\n",
       "      <td>2865.0</td>\n",
       "    </tr>\n",
       "    <tr>\n",
       "      <th>YORK TEACHING HOSPITAL NHS FOUNDATION TRUST</th>\n",
       "      <td>3351</td>\n",
       "      <td>24957</td>\n",
       "      <td>958.0</td>\n",
       "      <td>2181.0</td>\n",
       "      <td>649.0</td>\n",
       "      <td>958.0</td>\n",
       "      <td>2181.0</td>\n",
       "    </tr>\n",
       "    <tr>\n",
       "      <th>YOUR HEALTHCARE</th>\n",
       "      <td>184</td>\n",
       "      <td>3423</td>\n",
       "      <td>60916.0</td>\n",
       "      <td>297.0</td>\n",
       "      <td>54.0</td>\n",
       "      <td>60916.0</td>\n",
       "      <td>297.0</td>\n",
       "    </tr>\n",
       "  </tbody>\n",
       "</table>\n",
       "<p>332 rows × 7 columns</p>\n",
       "</div>"
      ],
      "text/plain": [
       "                                                    admissions  In-pts  \\\n",
       "Name                                                                     \n",
       "AIREDALE NHS FOUNDATION TRUST                             3697   26467   \n",
       "ANGLIAN COMMUNITY ENTERPRISE COMMUNITY INTEREST...        1608   17934   \n",
       "ARBURY COURT                                              1907   25334   \n",
       "ASHLEY HOUSE HOSPITAL                                      386    2194   \n",
       "ASPEN - CLAREMONT HOSPITAL                                2861   22713   \n",
       "...                                                        ...     ...   \n",
       "WORCESTERSHIRE HEALTH AND CARE NHS TRUST                   792    4379   \n",
       "WYE VALLEY NHS TRUST                                      1279    7454   \n",
       "YEW TREES                                                 1955   18604   \n",
       "YORK TEACHING HOSPITAL NHS FOUNDATION TRUST               3351   24957   \n",
       "YOUR HEALTHCARE                                            184    3423   \n",
       "\n",
       "                                                    newCasesByPublishDate  \\\n",
       "Name                                                                        \n",
       "AIREDALE NHS FOUNDATION TRUST                                      1295.0   \n",
       "ANGLIAN COMMUNITY ENTERPRISE COMMUNITY INTEREST...                 6609.0   \n",
       "ARBURY COURT                                                       2615.0   \n",
       "ASHLEY HOUSE HOSPITAL                                              4926.0   \n",
       "ASPEN - CLAREMONT HOSPITAL                                         1006.0   \n",
       "...                                                                   ...   \n",
       "WORCESTERSHIRE HEALTH AND CARE NHS TRUST                           2919.0   \n",
       "WYE VALLEY NHS TRUST                                               1715.0   \n",
       "YEW TREES                                                          5294.0   \n",
       "YORK TEACHING HOSPITAL NHS FOUNDATION TRUST                         958.0   \n",
       "YOUR HEALTHCARE                                                   60916.0   \n",
       "\n",
       "                                                    mech-vent  deaths  \\\n",
       "Name                                                                    \n",
       "AIREDALE NHS FOUNDATION TRUST                          2378.0   821.0   \n",
       "ANGLIAN COMMUNITY ENTERPRISE COMMUNITY INTEREST...     2847.0   784.0   \n",
       "ARBURY COURT                                           3275.0   647.0   \n",
       "ASHLEY HOUSE HOSPITAL                                   307.0    55.0   \n",
       "ASPEN - CLAREMONT HOSPITAL                             1854.0   624.0   \n",
       "...                                                       ...     ...   \n",
       "WORCESTERSHIRE HEALTH AND CARE NHS TRUST                482.0   124.0   \n",
       "WYE VALLEY NHS TRUST                                    681.0   222.0   \n",
       "YEW TREES                                              2865.0   862.0   \n",
       "YORK TEACHING HOSPITAL NHS FOUNDATION TRUST            2181.0   649.0   \n",
       "YOUR HEALTHCARE                                         297.0    54.0   \n",
       "\n",
       "                                                    newCasesByPublishDate  \\\n",
       "Name                                                                        \n",
       "AIREDALE NHS FOUNDATION TRUST                                      1295.0   \n",
       "ANGLIAN COMMUNITY ENTERPRISE COMMUNITY INTEREST...                 6609.0   \n",
       "ARBURY COURT                                                       2615.0   \n",
       "ASHLEY HOUSE HOSPITAL                                              4926.0   \n",
       "ASPEN - CLAREMONT HOSPITAL                                         1006.0   \n",
       "...                                                                   ...   \n",
       "WORCESTERSHIRE HEALTH AND CARE NHS TRUST                           2919.0   \n",
       "WYE VALLEY NHS TRUST                                               1715.0   \n",
       "YEW TREES                                                          5294.0   \n",
       "YORK TEACHING HOSPITAL NHS FOUNDATION TRUST                         958.0   \n",
       "YOUR HEALTHCARE                                                   60916.0   \n",
       "\n",
       "                                                    mech-vent  \n",
       "Name                                                           \n",
       "AIREDALE NHS FOUNDATION TRUST                          2378.0  \n",
       "ANGLIAN COMMUNITY ENTERPRISE COMMUNITY INTEREST...     2847.0  \n",
       "ARBURY COURT                                           3275.0  \n",
       "ASHLEY HOUSE HOSPITAL                                   307.0  \n",
       "ASPEN - CLAREMONT HOSPITAL                             1854.0  \n",
       "...                                                       ...  \n",
       "WORCESTERSHIRE HEALTH AND CARE NHS TRUST                482.0  \n",
       "WYE VALLEY NHS TRUST                                    681.0  \n",
       "YEW TREES                                              2865.0  \n",
       "YORK TEACHING HOSPITAL NHS FOUNDATION TRUST            2181.0  \n",
       "YOUR HEALTHCARE                                         297.0  \n",
       "\n",
       "[332 rows x 7 columns]"
      ]
     },
     "execution_count": 591,
     "metadata": {},
     "output_type": "execute_result"
    }
   ],
   "source": [
    "Dataset_LocationWise = survey_raw_data.groupby('areaName', as_index=False)\n",
    "Dataset_LocationWise = survey_raw_data.groupby('Name').max('date')\n",
    "Dataset_LocationWise"
   ]
  },
  {
   "cell_type": "code",
   "execution_count": 592,
   "id": "43e6423e",
   "metadata": {},
   "outputs": [
    {
     "data": {
      "text/plain": [
       "Name\n",
       "SOUTH TEES HOSPITALS NHS FOUNDATION TRUST                          1246.0\n",
       "HUMBER TEACHING NHS FOUNDATION TRUST                               1169.0\n",
       "NORTHUMBRIA HEALTHCARE NHS FOUNDATION TRUST                        1167.0\n",
       "NHS NIGHTINGALE HOSPITAL YORKSHIRE AND THE HUMBER                  1165.0\n",
       "THE NEWCASTLE UPON TYNE HOSPITALS NHS FOUNDATION TRUST             1164.0\n",
       "NORTH TEES AND HARTLEPOOL NHS FOUNDATION TRUST                     1133.0\n",
       "HULL UNIVERSITY TEACHING HOSPITALS NHS TRUST                       1121.0\n",
       "DONCASTER AND BASSETLAW TEACHING HOSPITALS NHS FOUNDATION TRUST    1100.0\n",
       "LEEDS TEACHING HOSPITALS NHS TRUST                                 1097.0\n",
       "NORTH CUMBRIA INTEGRATED CARE NHS FOUNDATION TRUST                 1085.0\n",
       "GATESHEAD HEALTH NHS FOUNDATION TRUST                              1084.0\n",
       "CUMBRIA, NORTHUMBERLAND, TYNE AND WEAR NHS FOUNDATION TRUST        1069.0\n",
       "CALDERDALE AND HUDDERSFIELD NHS FOUNDATION TRUST                   1053.0\n",
       "TEES, ESK AND WEAR VALLEYS NHS FOUNDATION TRUST                    1036.0\n",
       "SOUTH WEST YORKSHIRE PARTNERSHIP NHS FOUNDATION TRUST              1017.0\n",
       "Name: deaths, dtype: float64"
      ]
     },
     "execution_count": 592,
     "metadata": {},
     "output_type": "execute_result"
    }
   ],
   "source": [
    "top_area = Dataset_LocationWise.deaths.sort_values(ascending =False).head(15)\n",
    "top_area"
   ]
  },
  {
   "cell_type": "code",
   "execution_count": 593,
   "id": "2c03705c",
   "metadata": {},
   "outputs": [
    {
     "data": {
      "image/png": "[encoded data removed]",
      "text/plain": [
       "<Figure size 864x432 with 1 Axes>"
      ]
     },
     "metadata": {},
     "output_type": "display_data"
    }
   ],
   "source": [
    "plt.figure(figsize=(12,6))\n",
    "plt.xticks(rotation=75)\n",
    "plt.title('Highest deaths cases within UK')\n",
    "sns.barplot(top_area.index, top_area);"
   ]
  },
  {
   "cell_type": "code",
   "execution_count": 594,
   "id": "46ba4047",
   "metadata": {},
   "outputs": [],
   "source": [
    "bottom_area = Dataset_LocationWise.deaths.sort_values(ascending =False).tail(50).where(Dataset_LocationWise.deaths > 0)\n",
    "bottom_area = bottom_area.dropna().tail(10)"
   ]
  },
  {
   "cell_type": "code",
   "execution_count": 595,
   "id": "6d60f033",
   "metadata": {},
   "outputs": [
    {
     "data": {
      "text/plain": [
       "Name\n",
       "CYGNET VIEWS                                     6.0\n",
       "CYGNET CEDARS                                    6.0\n",
       "CYGNET HOSPITAL COVENTRY                         6.0\n",
       "WAST HILLS HOSPITAL                              5.0\n",
       "COTSWOLD SPA                                     5.0\n",
       "EAST LONDON NHS FOUNDATION TRUST                 4.0\n",
       "MOORFIELDS EYE HOSPITAL NHS FOUNDATION TRUST     3.0\n",
       "THE HARLEY STREET CLINIC (WEYMOUTH ST)           2.0\n",
       "CENTRAL LONDON COMMUNITY HEALTHCARE NHS TRUST    2.0\n",
       "CYGNET RAGLAN HOUSE                              2.0\n",
       "Name: deaths, dtype: float64"
      ]
     },
     "execution_count": 595,
     "metadata": {},
     "output_type": "execute_result"
    }
   ],
   "source": [
    "bottom_area"
   ]
  },
  {
   "cell_type": "code",
   "execution_count": 596,
   "id": "ad4f2cb1",
   "metadata": {},
   "outputs": [
    {
     "data": {
      "image/png": "[encoded data removed]",
      "text/plain": [
       "<Figure size 864x432 with 1 Axes>"
      ]
     },
     "metadata": {},
     "output_type": "display_data"
    }
   ],
   "source": [
    "plt.figure(figsize=(12,6))\n",
    "plt.xticks(rotation=75)\n",
    "plt.title('GDP Trends of bottom 10 counteries')\n",
    "sns.barplot(bottom_area.index, bottom_area);"
   ]
  },
  {
   "cell_type": "code",
   "execution_count": 597,
   "id": "90a6dcea",
   "metadata": {},
   "outputs": [
    {
     "data": {
      "text/html": [
       "<div>\n",
       "<style scoped>\n",
       "    .dataframe tbody tr th:only-of-type {\n",
       "        vertical-align: middle;\n",
       "    }\n",
       "\n",
       "    .dataframe tbody tr th {\n",
       "        vertical-align: top;\n",
       "    }\n",
       "\n",
       "    .dataframe thead th {\n",
       "        text-align: right;\n",
       "    }\n",
       "</style>\n",
       "<table border=\"1\" class=\"dataframe\">\n",
       "  <thead>\n",
       "    <tr style=\"text-align: right;\">\n",
       "      <th></th>\n",
       "      <th>Name</th>\n",
       "      <th>admissions</th>\n",
       "      <th>In-pts</th>\n",
       "      <th>newCasesByPublishDate</th>\n",
       "      <th>mech-vent</th>\n",
       "      <th>deaths</th>\n",
       "      <th>newCasesByPublishDate</th>\n",
       "      <th>mech-vent</th>\n",
       "    </tr>\n",
       "  </thead>\n",
       "  <tbody>\n",
       "    <tr>\n",
       "      <th>0</th>\n",
       "      <td>AIREDALE NHS FOUNDATION TRUST</td>\n",
       "      <td>3697</td>\n",
       "      <td>26467</td>\n",
       "      <td>1295.0</td>\n",
       "      <td>2378.0</td>\n",
       "      <td>821.0</td>\n",
       "      <td>1295.0</td>\n",
       "      <td>2378.0</td>\n",
       "    </tr>\n",
       "    <tr>\n",
       "      <th>1</th>\n",
       "      <td>ANGLIAN COMMUNITY ENTERPRISE COMMUNITY INTERES...</td>\n",
       "      <td>1608</td>\n",
       "      <td>17934</td>\n",
       "      <td>6609.0</td>\n",
       "      <td>2847.0</td>\n",
       "      <td>784.0</td>\n",
       "      <td>6609.0</td>\n",
       "      <td>2847.0</td>\n",
       "    </tr>\n",
       "    <tr>\n",
       "      <th>2</th>\n",
       "      <td>ARBURY COURT</td>\n",
       "      <td>1907</td>\n",
       "      <td>25334</td>\n",
       "      <td>2615.0</td>\n",
       "      <td>3275.0</td>\n",
       "      <td>647.0</td>\n",
       "      <td>2615.0</td>\n",
       "      <td>3275.0</td>\n",
       "    </tr>\n",
       "    <tr>\n",
       "      <th>3</th>\n",
       "      <td>ASHLEY HOUSE HOSPITAL</td>\n",
       "      <td>386</td>\n",
       "      <td>2194</td>\n",
       "      <td>4926.0</td>\n",
       "      <td>307.0</td>\n",
       "      <td>55.0</td>\n",
       "      <td>4926.0</td>\n",
       "      <td>307.0</td>\n",
       "    </tr>\n",
       "    <tr>\n",
       "      <th>4</th>\n",
       "      <td>ASPEN - CLAREMONT HOSPITAL</td>\n",
       "      <td>2861</td>\n",
       "      <td>22713</td>\n",
       "      <td>1006.0</td>\n",
       "      <td>1854.0</td>\n",
       "      <td>624.0</td>\n",
       "      <td>1006.0</td>\n",
       "      <td>1854.0</td>\n",
       "    </tr>\n",
       "    <tr>\n",
       "      <th>...</th>\n",
       "      <td>...</td>\n",
       "      <td>...</td>\n",
       "      <td>...</td>\n",
       "      <td>...</td>\n",
       "      <td>...</td>\n",
       "      <td>...</td>\n",
       "      <td>...</td>\n",
       "      <td>...</td>\n",
       "    </tr>\n",
       "    <tr>\n",
       "      <th>327</th>\n",
       "      <td>WORCESTERSHIRE HEALTH AND CARE NHS TRUST</td>\n",
       "      <td>792</td>\n",
       "      <td>4379</td>\n",
       "      <td>2919.0</td>\n",
       "      <td>482.0</td>\n",
       "      <td>124.0</td>\n",
       "      <td>2919.0</td>\n",
       "      <td>482.0</td>\n",
       "    </tr>\n",
       "    <tr>\n",
       "      <th>328</th>\n",
       "      <td>WYE VALLEY NHS TRUST</td>\n",
       "      <td>1279</td>\n",
       "      <td>7454</td>\n",
       "      <td>1715.0</td>\n",
       "      <td>681.0</td>\n",
       "      <td>222.0</td>\n",
       "      <td>1715.0</td>\n",
       "      <td>681.0</td>\n",
       "    </tr>\n",
       "    <tr>\n",
       "      <th>329</th>\n",
       "      <td>YEW TREES</td>\n",
       "      <td>1955</td>\n",
       "      <td>18604</td>\n",
       "      <td>5294.0</td>\n",
       "      <td>2865.0</td>\n",
       "      <td>862.0</td>\n",
       "      <td>5294.0</td>\n",
       "      <td>2865.0</td>\n",
       "    </tr>\n",
       "    <tr>\n",
       "      <th>330</th>\n",
       "      <td>YORK TEACHING HOSPITAL NHS FOUNDATION TRUST</td>\n",
       "      <td>3351</td>\n",
       "      <td>24957</td>\n",
       "      <td>958.0</td>\n",
       "      <td>2181.0</td>\n",
       "      <td>649.0</td>\n",
       "      <td>958.0</td>\n",
       "      <td>2181.0</td>\n",
       "    </tr>\n",
       "    <tr>\n",
       "      <th>331</th>\n",
       "      <td>YOUR HEALTHCARE</td>\n",
       "      <td>184</td>\n",
       "      <td>3423</td>\n",
       "      <td>60916.0</td>\n",
       "      <td>297.0</td>\n",
       "      <td>54.0</td>\n",
       "      <td>60916.0</td>\n",
       "      <td>297.0</td>\n",
       "    </tr>\n",
       "  </tbody>\n",
       "</table>\n",
       "<p>332 rows × 8 columns</p>\n",
       "</div>"
      ],
      "text/plain": [
       "                                                  Name  admissions  In-pts  \\\n",
       "0                        AIREDALE NHS FOUNDATION TRUST        3697   26467   \n",
       "1    ANGLIAN COMMUNITY ENTERPRISE COMMUNITY INTERES...        1608   17934   \n",
       "2                                         ARBURY COURT        1907   25334   \n",
       "3                                ASHLEY HOUSE HOSPITAL         386    2194   \n",
       "4                           ASPEN - CLAREMONT HOSPITAL        2861   22713   \n",
       "..                                                 ...         ...     ...   \n",
       "327           WORCESTERSHIRE HEALTH AND CARE NHS TRUST         792    4379   \n",
       "328                               WYE VALLEY NHS TRUST        1279    7454   \n",
       "329                                          YEW TREES        1955   18604   \n",
       "330        YORK TEACHING HOSPITAL NHS FOUNDATION TRUST        3351   24957   \n",
       "331                                    YOUR HEALTHCARE         184    3423   \n",
       "\n",
       "     newCasesByPublishDate  mech-vent  deaths  newCasesByPublishDate  \\\n",
       "0                   1295.0     2378.0   821.0                 1295.0   \n",
       "1                   6609.0     2847.0   784.0                 6609.0   \n",
       "2                   2615.0     3275.0   647.0                 2615.0   \n",
       "3                   4926.0      307.0    55.0                 4926.0   \n",
       "4                   1006.0     1854.0   624.0                 1006.0   \n",
       "..                     ...        ...     ...                    ...   \n",
       "327                 2919.0      482.0   124.0                 2919.0   \n",
       "328                 1715.0      681.0   222.0                 1715.0   \n",
       "329                 5294.0     2865.0   862.0                 5294.0   \n",
       "330                  958.0     2181.0   649.0                  958.0   \n",
       "331                60916.0      297.0    54.0                60916.0   \n",
       "\n",
       "     mech-vent  \n",
       "0       2378.0  \n",
       "1       2847.0  \n",
       "2       3275.0  \n",
       "3        307.0  \n",
       "4       1854.0  \n",
       "..         ...  \n",
       "327      482.0  \n",
       "328      681.0  \n",
       "329     2865.0  \n",
       "330     2181.0  \n",
       "331      297.0  \n",
       "\n",
       "[332 rows x 8 columns]"
      ]
     },
     "execution_count": 597,
     "metadata": {},
     "output_type": "execute_result"
    }
   ],
   "source": [
    "Dataset_LocationWise = survey_raw_data.groupby('Name', as_index=False)\n",
    "Dataset_LocationWise = Dataset_LocationWise.max('date')\n",
    "Dataset_LocationWise"
   ]
  },
  {
   "cell_type": "code",
   "execution_count": 598,
   "id": "d0b399dc",
   "metadata": {},
   "outputs": [
    {
     "data": {
      "text/html": [
       "        <script type=\"text/javascript\">\n",
       "        window.PlotlyConfig = {MathJaxConfig: 'local'};\n",
       "        if (window.MathJax) {MathJax.Hub.Config({SVG: {font: \"STIX-Web\"}});}\n",
       "        if (typeof require !== 'undefined') {\n",
       "        require.undef(\"plotly\");\n",
       "        requirejs.config({\n",
       "            paths: {\n",
       "                'plotly': ['https://cdn.plot.ly/plotly-2.1.0.min']\n",
       "            }\n",
       "        });\n",
       "        require(['plotly'], function(Plotly) {\n",
       "            window._Plotly = Plotly;\n",
       "        });\n",
       "        }\n",
       "        </script>\n",
       "        "
      ]
     },
     "metadata": {},
     "output_type": "display_data"
    },
    {
     "data": {
      "text/html": [
       "        <script type=\"text/javascript\">\n",
       "        window.PlotlyConfig = {MathJaxConfig: 'local'};\n",
       "        if (window.MathJax) {MathJax.Hub.Config({SVG: {font: \"STIX-Web\"}});}\n",
       "        if (typeof require !== 'undefined') {\n",
       "        require.undef(\"plotly\");\n",
       "        requirejs.config({\n",
       "            paths: {\n",
       "                'plotly': ['https://cdn.plot.ly/plotly-2.1.0.min']\n",
       "            }\n",
       "        });\n",
       "        require(['plotly'], function(Plotly) {\n",
       "            window._Plotly = Plotly;\n",
       "        });\n",
       "        }\n",
       "        </script>\n",
       "        "
      ]
     },
     "metadata": {},
     "output_type": "display_data"
    },
    {
     "data": {
      "application/vnd.plotly.v1+json": {
       "config": {
        "linkText": "Export to plot.ly",
        "plotlyServerURL": "https://plot.ly",
        "showLink": true
       },
       "data": [
        {
         "marker": {
          "color": "rgba(219, 64, 82, 0.6)",
          "line": {
           "color": "rgba(219, 64, 82, 0.8999999999999999)",
           "width": 1
          }
         },
         "name": "newCasesByPublishDate",
         "orientation": "v",
         "text": "",
         "type": "bar",
         "x": [
          "AIREDALE NHS FOUNDATION TRUST",
          "ANGLIAN COMMUNITY ENTERPRISE COMMUNITY INTEREST COMPANY (ACE CIC)",
          "ARBURY COURT",
          "ASHLEY HOUSE HOSPITAL",
          "ASPEN - CLAREMONT HOSPITAL",
          "ASPEN - HIGHGATE HOSPITAL",
          "ASPEN - NOVA HEALTHCARE",
          "ASPEN - PARKSIDE HOSPITAL",
          "ASPEN - THE HOLLY",
          "BADDOW HOSPITAL",
          "BARKING, HAVERING AND REDBRIDGE UNIVERSITY HOSPITALS NHS TRUST",
          "BARLBOROUGH NHS TREATMENT CENTRE",
          "BARNET, ENFIELD AND HARINGEY MENTAL HEALTH NHS TRUST",
          "BARNSLEY HOSPITAL NHS FOUNDATION TRUST",
          "BARTS HEALTH NHS TRUST",
          "BEDFORDSHIRE HOSPITALS NHS FOUNDATION TRUST",
          "BIRMINGHAM AND SOLIHULL MENTAL HEALTH NHS FOUNDATION TRUST",
          "BIRMINGHAM COMMUNITY HEALTHCARE NHS FOUNDATION TRUST",
          "BIRMINGHAM WOMEN'S AND CHILDREN'S NHS FOUNDATION TRUST",
          "BLACK COUNTRY HEALTHCARE NHS FOUNDATION TRUST",
          "BLAKELANDS HOSPITAL",
          "BMI - BISHOPS WOOD",
          "BMI - CHELSFIELD PARK HOSPITAL",
          "BMI - HENDON HOSPITAL",
          "BMI - SHIRLEY OAKS HOSPITAL",
          "BMI - THE ALEXANDRA HOSPITAL",
          "BMI - THE BEARDWOOD HOSPITAL",
          "BMI - THE BEAUMONT HOSPITAL",
          "BMI - THE BLACKHEATH HOSPITAL",
          "BMI - THE CLEMENTINE CHURCHILL HOSPITAL",
          "BMI - THE DROITWICH SPA HOSPITAL",
          "BMI - THE HIGHFIELD HOSPITAL",
          "BMI - THE KINGS OAK HOSPITAL",
          "BMI - THE LONDON INDEPENDENT HOSPITAL",
          "BMI - THE MANOR HOSPITAL",
          "BMI - THE MERIDEN HOSPITAL",
          "BMI - THE PARK HOSPITAL",
          "BMI - THE PRIORY HOSPITAL",
          "BMI - THE SANDRINGHAM HOSPITAL",
          "BMI - THE SAXON CLINIC",
          "BMI - THE SLOANE HOSPITAL",
          "BMI - THORNBURY HOSPITAL",
          "BMI - THREE SHIRES HOSPITAL",
          "BMI GISBURNE PARK HOSPITAL",
          "BMI SOUTHEND PRIVATE HOSPITAL",
          "BMI ST EDMUNDS HOSPITAL",
          "BMI THE CAVELL HOSPITAL",
          "BMI THE DUCHY HOSPITAL",
          "BMI THE EDGBASTON HOSPITAL",
          "BMI THE HUDDERSFIELD HOSPITAL",
          "BMI THE LANCASTER HOSPITAL",
          "BMI THE LINCOLN HOSPITAL",
          "BMI WOODLANDS HOSPITAL",
          "BOSTALL HOUSE",
          "BOSTON WEST HOSPITAL",
          "BRADFORD DISTRICT CARE NHS FOUNDATION TRUST",
          "BRADFORD TEACHING HOSPITALS NHS FOUNDATION TRUST",
          "BROMLEY HEALTHCARE",
          "BROMLEY ROAD",
          "BROOMHILL",
          "BUPA CROMWELL HOSPITAL",
          "CALDERDALE AND HUDDERSFIELD NHS FOUNDATION TRUST",
          "CAMBRIDGE UNIVERSITY HOSPITALS NHS FOUNDATION TRUST",
          "CAMBRIDGESHIRE AND PETERBOROUGH NHS FOUNDATION TRUST",
          "CAMBRIDGESHIRE COMMUNITY SERVICES NHS TRUST",
          "CAMDEN AND ISLINGTON NHS FOUNDATION TRUST",
          "CARE PLUS GROUP",
          "CARETECH COMMUNITY SERVICES LTD",
          "CEDAR VALE HOSPITAL",
          "CENTRAL AND NORTH WEST LONDON NHS FOUNDATION TRUST",
          "CENTRAL LONDON COMMUNITY HEALTHCARE NHS TRUST",
          "CHADWICK LODGE",
          "CHELSEA AND WESTMINSTER HOSPITAL NHS FOUNDATION TRUST",
          "CHESTERFIELD ROYAL HOSPITAL NHS FOUNDATION TRUST",
          "CHESWOLD PARK HOSPITAL",
          "CHESWOLD PARK HOSPITAL (DONCASTER)",
          "CITY HEALTH CARE PARTNERSHIP CIC",
          "CLIFTON PARK HOSPITAL",
          "COBALT HOSPITAL",
          "COTSWOLD SPA",
          "COUNTY DURHAM AND DARLINGTON NHS FOUNDATION TRUST",
          "COVENTRY AND WARWICKSHIRE PARTNERSHIP NHS TRUST",
          "CROYDON HEALTH SERVICES NHS TRUST",
          "CUMBRIA, NORTHUMBERLAND, TYNE AND WEAR NHS FOUNDATION TRUST",
          "CYGNET ACER CLINIC",
          "CYGNET APPLETREE",
          "CYGNET CEDARS",
          "CYGNET CHURCHILL",
          "CYGNET ELMS",
          "CYGNET HEATHERS",
          "CYGNET HOSPITAL BECKTON",
          "CYGNET HOSPITAL BIERLEY",
          "CYGNET HOSPITAL BURY",
          "CYGNET HOSPITAL CLIFTON",
          "CYGNET HOSPITAL COLCHESTER",
          "CYGNET HOSPITAL COVENTRY",
          "CYGNET HOSPITAL DERBY",
          "CYGNET HOSPITAL EALING",
          "CYGNET HOSPITAL HARROGATE",
          "CYGNET HOSPITAL HARROW",
          "CYGNET HOSPITAL SHEFFIELD",
          "CYGNET HOSPITAL STEVENAGE",
          "CYGNET HOSPITAL WYKE",
          "CYGNET LODGE BRIGHOUSE",
          "CYGNET LODGE KENTON",
          "CYGNET LODGE LEWISHAM",
          "CYGNET MANOR",
          "CYGNET OAKS",
          "CYGNET RAGLAN HOUSE",
          "CYGNET SHERWOOD HOUSE",
          "CYGNET ST. AUGUSTINE'S",
          "CYGNET STORTHFIELD HOUSE",
          "CYGNET VIEWS",
          "CYGNET WING BLACKHEATH",
          "DERBYSHIRE COMMUNITY HEALTH SERVICES NHS FOUNDATION TRUST",
          "DERBYSHIRE HEALTHCARE NHS FOUNDATION TRUST",
          "DONCASTER AND BASSETLAW TEACHING HOSPITALS NHS FOUNDATION TRUST",
          "EAST AND NORTH HERTFORDSHIRE NHS TRUST",
          "EAST COAST COMMUNITY HEALTHCARE C.I.C",
          "EAST LONDON NHS FOUNDATION TRUST",
          "EAST SUFFOLK AND NORTH ESSEX NHS FOUNDATION TRUST",
          "ELLERN MEDE CENTRE FOR EATING DISORDERS",
          "ELLERN MEDE RIDGEWAY",
          "ELYSIUM HEALTHCARE",
          "EPSOM AND ST HELIER UNIVERSITY HOSPITALS NHS TRUST",
          "ESSEX PARTNERSHIP UNIVERSITY NHS FOUNDATION TRUST",
          "EUXTON HALL HOSPITAL",
          "FAIRFIELD INDEPENDENT HOSPITAL",
          "FARNDON UNIT",
          "FITZWILLIAM HOSPITAL",
          "FORTIUS CLINIC",
          "FULWOOD HALL HOSPITAL",
          "GATESHEAD HEALTH NHS FOUNDATION TRUST",
          "GEORGE ELIOT HOSPITAL NHS TRUST",
          "GREAT ORMOND STREET HOSPITAL FOR CHILDREN NHS FOUNDATION TRUST",
          "GUY'S AND ST THOMAS' NHS FOUNDATION TRUST",
          "HARLEY STREET ON 15",
          "HARROGATE AND DISTRICT NHS FOUNDATION TRUST",
          "HCA - 52 ALDERLEY ROAD",
          "HERTFORDSHIRE COMMUNITY NHS TRUST",
          "HERTFORDSHIRE PARTNERSHIP UNIVERSITY NHS FOUNDATION TRUST",
          "HOMERTON UNIVERSITY HOSPITAL NHS FOUNDATION TRUST",
          "HOSPITAL OF ST JOHN AND ST ELIZABETH (GROVE END ROAD)",
          "HOUNSLOW AND RICHMOND COMMUNITY HEALTHCARE NHS TRUST",
          "HULL UNIVERSITY TEACHING HOSPITALS NHS TRUST",
          "HUMBER TEACHING NHS FOUNDATION TRUST",
          "IMPERIAL COLLEGE HEALTHCARE NHS TRUST",
          "JAMES PAGET UNIVERSITY HOSPITALS NHS FOUNDATION TRUST",
          "JEESAL AKMAN CARE CORPORATION LTD",
          "KETTERING GENERAL HOSPITAL NHS FOUNDATION TRUST",
          "KING EDWARD VII'S HOSPITAL SISTER AGNES",
          "KING'S COLLEGE HOSPITAL NHS FOUNDATION TRUST",
          "KINGSTON HOSPITAL NHS FOUNDATION TRUST",
          "KINVARA PRIVATE HOSPITAL",
          "LEADERS ON ONCOLOGY (LOC)",
          "LEEDS AND YORK PARTNERSHIP NHS FOUNDATION TRUST",
          "LEEDS COMMUNITY HEALTHCARE NHS TRUST",
          "LEEDS TEACHING HOSPITALS NHS TRUST",
          "LEICESTERSHIRE PARTNERSHIP NHS TRUST",
          "LEWISHAM AND GREENWICH NHS TRUST",
          "LINCOLNSHIRE COMMUNITY HEALTH SERVICES NHS TRUST",
          "LINCOLNSHIRE PARTNERSHIP NHS FOUNDATION TRUST",
          "LISTER HOSPITAL",
          "LOCALA COMMUNITY PARTNERSHIPS CIC",
          "LONDON BRIDGE HOSPITAL",
          "LONDON CLINIC",
          "LONDON NORTH WEST UNIVERSITY HEALTHCARE NHS TRUST",
          "MANCHESTER UNIVERSITY NHS FOUNDATION TRUST",
          "MID AND SOUTH ESSEX NHS FOUNDATION TRUST",
          "MID YORKSHIRE HOSPITALS NHS TRUST",
          "MIDLANDS PARTNERSHIP NHS FOUNDATION TRUST",
          "MILTON KEYNES UNIVERSITY HOSPITAL NHS FOUNDATION TRUST",
          "MOORFIELDS EYE HOSPITAL NHS FOUNDATION TRUST",
          "NAVIGO HEALTH AND SOCIAL CARE CIC",
          "NEWBRIDGE CARE SYSTEMS",
          "NHS NIGHTINGALE HOSPITAL BIRMINGHAM",
          "NHS NIGHTINGALE HOSPITAL NORTH WEST",
          "NHS NIGHTINGALE HOSPITAL YORKSHIRE AND THE HUMBER",
          "NIGHTINGALE HOSPITAL LONDON",
          "NORFOLK AND NORWICH UNIVERSITY HOSPITALS NHS FOUNDATION TRUST",
          "NORFOLK AND SUFFOLK NHS FOUNDATION TRUST",
          "NORFOLK COMMUNITY HEALTH AND CARE NHS TRUST",
          "NORTH CUMBRIA INTEGRATED CARE NHS FOUNDATION TRUST",
          "NORTH EAST LONDON NHS FOUNDATION TRUST",
          "NORTH EAST LONDON TREATMENT CENTRE CARE UK",
          "NORTH MIDDLESEX UNIVERSITY HOSPITAL NHS TRUST",
          "NORTH STAFFORDSHIRE COMBINED HEALTHCARE NHS TRUST",
          "NORTH TEES AND HARTLEPOOL NHS FOUNDATION TRUST",
          "NORTH WEST ANGLIA NHS FOUNDATION TRUST",
          "NORTHAMPTON GENERAL HOSPITAL NHS TRUST",
          "NORTHAMPTONSHIRE HEALTHCARE NHS FOUNDATION TRUST",
          "NORTHERN LINCOLNSHIRE AND GOOLE NHS FOUNDATION TRUST",
          "NORTHUMBRIA HEALTHCARE NHS FOUNDATION TRUST",
          "NOTTINGHAM CITYCARE PARTNERSHIP",
          "NOTTINGHAM UNIVERSITY HOSPITALS NHS TRUST",
          "NOTTINGHAMSHIRE HEALTHCARE NHS FOUNDATION TRUST",
          "NUFFIELD HEALTH, BRENTWOOD HOSPITAL",
          "NUFFIELD HEALTH, CAMBRIDGE HOSPITAL",
          "NUFFIELD HEALTH, DERBY HOSPITAL",
          "NUFFIELD HEALTH, HEREFORD HOSPITAL",
          "NUFFIELD HEALTH, IPSWICH HOSPITAL",
          "NUFFIELD HEALTH, LEEDS HOSPITAL",
          "NUFFIELD HEALTH, LEICESTER HOSPITAL",
          "NUFFIELD HEALTH, NEWCASTLE UPON TYNE HOSPITAL",
          "NUFFIELD HEALTH, NORTH STAFFORDSHIRE HOSPITAL",
          "NUFFIELD HEALTH, SHREWSBURY HOSPITAL",
          "NUFFIELD HEALTH, TEES HOSPITAL",
          "NUFFIELD HEALTH, THE GROSVENOR HOSPITAL, CHESTER",
          "NUFFIELD HEALTH, WARWICKSHIRE HOSPITAL",
          "NUFFIELD HEALTH, WOLVERHAMPTON HOSPITAL",
          "NUFFIELD HEALTH, YORK HOSPITAL",
          "OAKLANDS HOSPITAL",
          "OAKS HOSPITAL",
          "ONE HATFIELD HOSPITAL",
          "ONE WELBECK HEART HEALTH - WELBECK STREET",
          "OPTEGRA YORKSHIRE EYE HOSPITAL",
          "OSD HEALTHCARE",
          "OXLEAS NHS FOUNDATION TRUST",
          "PARK HILL HOSPITAL",
          "PINEHILL HOSPITAL",
          "POTTERS BAR",
          "PROVIDE",
          "RENACRES HOSPITAL",
          "RIVERS HOSPITAL",
          "ROTHERHAM DONCASTER AND SOUTH HUMBER NHS FOUNDATION TRUST",
          "ROWLEY HALL HOSPITAL",
          "ROYAL FREE LONDON NHS FOUNDATION TRUST",
          "ROYAL NATIONAL ORTHOPAEDIC HOSPITAL NHS TRUST",
          "ROYAL PAPWORTH HOSPITAL NHS FOUNDATION TRUST",
          "SANDWELL AND WEST BIRMINGHAM HOSPITALS NHS TRUST",
          "SCHOEN CLINIC LONDON (WIGMORE STREET)",
          "SCHOEN CLINIC YORK",
          "SHEFFIELD CHILDREN'S NHS FOUNDATION TRUST",
          "SHEFFIELD HEALTH & SOCIAL CARE NHS FOUNDATION TRUST",
          "SHEFFIELD TEACHING HOSPITALS NHS FOUNDATION TRUST",
          "SHERWOOD FOREST HOSPITALS NHS FOUNDATION TRUST",
          "SHREWSBURY AND TELFORD HOSPITAL NHS TRUST",
          "SHROPSHIRE COMMUNITY HEALTH NHS TRUST",
          "SOUTH LONDON AND MAUDSLEY NHS FOUNDATION TRUST",
          "SOUTH TEES HOSPITALS NHS FOUNDATION TRUST",
          "SOUTH TYNESIDE AND SUNDERLAND NHS FOUNDATION TRUST",
          "SOUTH WARWICKSHIRE NHS FOUNDATION TRUST",
          "SOUTH WEST LONDON AND ST GEORGE'S MENTAL HEALTH NHS TRUST",
          "SOUTH WEST YORKSHIRE PARTNERSHIP NHS FOUNDATION TRUST",
          "SPECTRUM COMMUNITY HEALTH - CIC",
          "SPIRE BUSHEY HOSPITAL",
          "SPIRE CAMBRIDGE LEA HOSPITAL",
          "SPIRE CHESHIRE HOSPITAL",
          "SPIRE ELLAND HOSPITAL",
          "SPIRE FYLDE COAST HOSPITAL",
          "SPIRE HARPENDEN HOSPITAL",
          "SPIRE HARTSWOOD HOSPITAL",
          "SPIRE HULL AND EAST RIDING HOSPITAL",
          "SPIRE LEEDS HOSPITAL",
          "SPIRE LEICESTER HOSPITAL",
          "SPIRE LITTLE ASTON HOSPITAL",
          "SPIRE LIVERPOOL HOSPITAL",
          "SPIRE LONDON EAST",
          "SPIRE MANCHESTER HOSPITAL",
          "SPIRE METHLEY PARK HOSPITAL",
          "SPIRE MURRAYFIELD HOSPITAL",
          "SPIRE NORWICH HOSPITAL",
          "SPIRE NOTTINGHAM HOSPITAL",
          "SPIRE PARKWAY HOSPITAL",
          "SPIRE REGENCY HOSPITAL",
          "SPIRE SOUTH BANK HOSPITAL",
          "SPIRE ST ANTHONY'S HOSPITAL",
          "SPIRE WASHINGTON HOSPITAL",
          "SPIRE WELLESLEY HOSPITAL",
          "SPRING WOOD LODGE",
          "SPRINGFIELD HOSPITAL",
          "ST ANDREW'S HEALTHCARE - BIRMINGHAM",
          "ST ANDREW'S HEALTHCARE - ESSEX",
          "ST ANDREW'S HEALTHCARE - NORTHAMPTON",
          "ST ANDREW'S HEALTHCARE NOTTINGHAMSHIRE",
          "ST GEORGE'S UNIVERSITY HOSPITALS NHS FOUNDATION TRUST",
          "ST HUGH'S HOSPITAL",
          "TAVISTOCK AND PORTMAN NHS FOUNDATION TRUST",
          "TEES VALLEY HOSPITAL",
          "TEES, ESK AND WEAR VALLEYS NHS FOUNDATION TRUST",
          "TFHC LTD",
          "THE CANCER CENTRE LONDON",
          "THE CHRISTIE CLINIC",
          "THE DALLINGTONS",
          "THE DUDLEY GROUP NHS FOUNDATION TRUST",
          "THE HARLEY STREET CLINIC (WEYMOUTH ST)",
          "THE HILLINGDON HOSPITALS NHS FOUNDATION TRUST",
          "THE HOSPITAL GROUP - DOLAN PARK HOSPITAL",
          "THE HUNTERCOMBE CENTRE BIRMINGHAM",
          "THE HUNTERCOMBE HOSPITAL - COTSWOLD SPA",
          "THE HUNTERCOMBE HOSPITAL - MAIDENHEAD",
          "THE HUNTERCOMBE HOSPITAL - STAFFORD",
          "THE NEW VICTORIA HOSPITAL",
          "THE NEWCASTLE UPON TYNE HOSPITALS NHS FOUNDATION TRUST",
          "THE PORTLAND HOSPITAL FOR WOMEN & CHILDREN",
          "THE PRINCESS ALEXANDRA HOSPITAL NHS TRUST",
          "THE PRINCESS GRACE HOSPITAL",
          "THE QUEEN ELIZABETH HOSPITAL, KING'S LYNN, NHS FOUNDATION TRUST",
          "THE ROBERT JONES AND AGNES HUNT ORTHOPAEDIC HOSPITAL NHS FOUNDATION TRUST",
          "THE ROTHERHAM NHS FOUNDATION TRUST",
          "THE ROYAL MARSDEN NHS FOUNDATION TRUST",
          "THE ROYAL ORTHOPAEDIC HOSPITAL NHS FOUNDATION TRUST",
          "THE ROYAL WOLVERHAMPTON NHS TRUST",
          "THE WELLINGTON HOSPITAL",
          "THE WESTBOURNE CENTRE",
          "THE YORKSHIRE CLINIC",
          "THORS PARK",
          "UNITED LINCOLNSHIRE HOSPITALS NHS TRUST",
          "UNIVERSITY COLLEGE LONDON HOSPITALS NHS FOUNDATION TRUST",
          "UNIVERSITY HOSPITALS BIRMINGHAM NHS FOUNDATION TRUST",
          "UNIVERSITY HOSPITALS COVENTRY AND WARWICKSHIRE NHS TRUST",
          "UNIVERSITY HOSPITALS OF DERBY AND BURTON NHS FOUNDATION TRUST",
          "UNIVERSITY HOSPITALS OF LEICESTER NHS TRUST",
          "UNIVERSITY HOSPITALS OF NORTH MIDLANDS NHS TRUST",
          "WALSALL HEALTHCARE NHS TRUST",
          "WAST HILLS HOSPITAL",
          "WEST HERTFORDSHIRE HOSPITALS NHS TRUST",
          "WEST LONDON NHS TRUST",
          "WEST MIDLANDS HOSPITAL",
          "WEST SUFFOLK NHS FOUNDATION TRUST",
          "WEST VALLEY HOSPITAL",
          "WEYMOUTH STREET HOSPITAL",
          "WHITTINGTON HEALTH NHS TRUST",
          "WIRRAL UNIVERSITY TEACHING HOSPITAL NHS FOUNDATION TRUST",
          "WOODLAND HOSPITAL",
          "WOODTHORPE HOSPITAL",
          "WORCESTERSHIRE ACUTE HOSPITALS NHS TRUST",
          "WORCESTERSHIRE HEALTH AND CARE NHS TRUST",
          "WYE VALLEY NHS TRUST",
          "YEW TREES",
          "YORK TEACHING HOSPITAL NHS FOUNDATION TRUST",
          "YOUR HEALTHCARE"
         ],
         "y": [
          [
           1295,
           1295
          ],
          [
           6609,
           6609
          ],
          [
           2615,
           2615
          ],
          [
           4926,
           4926
          ],
          [
           1006,
           1006
          ],
          [
           21672,
           21672
          ],
          [
           1118,
           1118
          ],
          [
           21502,
           21502
          ],
          [
           12718,
           12718
          ],
          [
           5605,
           5605
          ],
          [
           12330,
           12330
          ],
          [
           6634,
           6634
          ],
          [
           26860,
           26860
          ],
          [
           1218,
           1218
          ],
          [
           16578,
           16578
          ],
          [
           10972,
           10972
          ],
          [
           1062,
           1062
          ],
          [
           670,
           670
          ],
          [
           1288,
           1288
          ],
          [
           898,
           898
          ],
          [
           12027,
           12027
          ],
          [
           53285,
           53285
          ],
          [
           50023,
           50023
          ],
          [
           41385,
           41385
          ],
          [
           32725,
           32725
          ],
          [
           3403,
           3403
          ],
          [
           3877,
           3877
          ],
          [
           3923,
           3923
          ],
          [
           55892,
           55892
          ],
          [
           53135,
           53135
          ],
          [
           6914,
           6914
          ],
          [
           3896,
           3896
          ],
          [
           30501,
           30501
          ],
          [
           35691,
           35691
          ],
          [
           5455,
           5455
          ],
          [
           7108,
           7108
          ],
          [
           7143,
           7143
          ],
          [
           4044,
           4044
          ],
          [
           6035,
           6035
          ],
          [
           7434,
           7434
          ],
          [
           39877,
           39877
          ],
          [
           343,
           343
          ],
          [
           5693,
           5693
          ],
          [
           5614,
           5614
          ],
          [
           9985,
           9985
          ],
          [
           8523,
           8523
          ],
          [
           39237,
           39237
          ],
          [
           516,
           516
          ],
          [
           6042,
           6042
          ],
          [
           624,
           624
          ],
          [
           4649,
           4649
          ],
          [
           6874,
           6874
          ],
          [
           544,
           544
          ],
          [
           46169,
           46169
          ],
          [
           3991,
           3991
          ],
          [
           1625,
           1625
          ],
          [
           874,
           874
          ],
          [
           58784,
           58784
          ],
          [
           33355,
           33355
          ],
          [
           21915,
           21915
          ],
          [
           33364,
           33364
          ],
          [
           1613,
           1613
          ],
          [
           18262,
           18262
          ],
          [
           16840,
           16840
          ],
          [
           25308,
           25308
          ],
          [
           24141,
           24141
          ],
          [
           763,
           763
          ],
          [
           6397,
           6397
          ],
          [
           24701,
           24701
          ],
          [
           33470,
           33470
          ],
          [
           23287,
           23287
          ],
          [
           5587,
           5587
          ],
          [
           20051,
           20051
          ],
          [
           2948,
           2948
          ],
          [
           687,
           687
          ],
          [
           642,
           642
          ],
          [
           557,
           557
          ],
          [
           901,
           901
          ],
          [
           890,
           890
          ],
          [
           23254,
           23254
          ],
          [
           2013,
           2013
          ],
          [
           892,
           892
          ],
          [
           16022,
           16022
          ],
          [
           1936,
           1936
          ],
          [
           15650,
           15650
          ],
          [
           560,
           560
          ],
          [
           21242,
           21242
          ],
          [
           52618,
           52618
          ],
          [
           19790,
           19790
          ],
          [
           20530,
           20530
          ],
          [
           48682,
           48682
          ],
          [
           685,
           685
          ],
          [
           2472,
           2472
          ],
          [
           18804,
           18804
          ],
          [
           5534,
           5534
          ],
          [
           20890,
           20890
          ],
          [
           23065,
           23065
          ],
          [
           45533,
           45533
          ],
          [
           767,
           767
          ],
          [
           54940,
           54940
          ],
          [
           769,
           769
          ],
          [
           4618,
           4618
          ],
          [
           768,
           768
          ],
          [
           745,
           745
          ],
          [
           68053,
           68053
          ],
          [
           59937,
           59937
          ],
          [
           16982,
           16982
          ],
          [
           445,
           445
          ],
          [
           23012,
           23012
          ],
          [
           16171,
           16171
          ],
          [
           18980,
           18980
          ],
          [
           21331,
           21331
          ],
          [
           26688,
           26688
          ],
          [
           47525,
           47525
          ],
          [
           950,
           950
          ],
          [
           740,
           740
          ],
          [
           1541,
           1541
          ],
          [
           21088,
           21088
          ],
          [
           6303,
           6303
          ],
          [
           21350,
           21350
          ],
          [
           13494,
           13494
          ],
          [
           20089,
           20089
          ],
          [
           33552,
           33552
          ],
          [
           5312,
           5312
          ],
          [
           20412,
           20412
          ],
          [
           10625,
           10625
          ],
          [
           4406,
           4406
          ],
          [
           3287,
           3287
          ],
          [
           18950,
           18950
          ],
          [
           9938,
           9938
          ],
          [
           40261,
           40261
          ],
          [
           3985,
           3985
          ],
          [
           1266,
           1266
          ],
          [
           1108,
           1108
          ],
          [
           19875,
           19875
          ],
          [
           12155,
           12155
          ],
          [
           30004,
           30004
          ],
          [
           1221,
           1221
          ],
          [
           6201,
           6201
          ],
          [
           28680,
           28680
          ],
          [
           23275,
           23275
          ],
          [
           21363,
           21363
          ],
          [
           62322,
           62322
          ],
          [
           20572,
           20572
          ],
          [
           1871,
           1871
          ],
          [
           1650,
           1650
          ],
          [
           24957,
           24957
          ],
          [
           14104,
           14104
          ],
          [
           5758,
           5758
          ],
          [
           1048,
           1048
          ],
          [
           37892,
           37892
          ],
          [
           18213,
           18213
          ],
          [
           13430,
           13430
          ],
          [
           880,
           880
          ],
          [
           18447,
           18447
          ],
          [
           1279,
           1279
          ],
          [
           2004,
           2004
          ],
          [
           1003,
           1003
          ],
          [
           713,
           713
          ],
          [
           15871,
           15871
          ],
          [
           871,
           871
          ],
          [
           1160,
           1160
          ],
          [
           35383,
           35383
          ],
          [
           581,
           581
          ],
          [
           18450,
           18450
          ],
          [
           22195,
           22195
          ],
          [
           14718,
           14718
          ],
          [
           4076,
           4076
          ],
          [
           9765,
           9765
          ],
          [
           2095,
           2095
          ],
          [
           1033,
           1033
          ],
          [
           15144,
           15144
          ],
          [
           20252,
           20252
          ],
          [
           827,
           827
          ],
          [
           25177,
           25177
          ],
          [
           1089,
           1089
          ],
          [
           3996,
           3996
          ],
          [
           1387,
           1387
          ],
          [
           55761,
           55761
          ],
          [
           19114,
           19114
          ],
          [
           20634,
           20634
          ],
          [
           29079,
           29079
          ],
          [
           1425,
           1425
          ],
          [
           16170,
           16170
          ],
          [
           36804,
           36804
          ],
          [
           16298,
           16298
          ],
          [
           1276,
           1276
          ],
          [
           1805,
           1805
          ],
          [
           12364,
           12364
          ],
          [
           1184,
           1184
          ],
          [
           853,
           853
          ],
          [
           1514,
           1514
          ],
          [
           1326,
           1326
          ],
          [
           19724,
           19724
          ],
          [
           1009,
           1009
          ],
          [
           2988,
           2988
          ],
          [
           5926,
           5926
          ],
          [
           5766,
           5766
          ],
          [
           17234,
           17234
          ],
          [
           13972,
           13972
          ],
          [
           4712,
           4712
          ],
          [
           538,
           538
          ],
          [
           15166,
           15166
          ],
          [
           398,
           398
          ],
          [
           13864,
           13864
          ],
          [
           17540,
           17540
          ],
          [
           530,
           530
          ],
          [
           2412,
           2412
          ],
          [
           12872,
           12872
          ],
          [
           14162,
           14162
          ],
          [
           650,
           650
          ],
          [
           4339,
           4339
          ],
          [
           8489,
           8489
          ],
          [
           5379,
           5379
          ],
          [
           41346,
           41346
          ],
          [
           726,
           726
          ],
          [
           5342,
           5342
          ],
          [
           22915,
           22915
          ],
          [
           689,
           689
          ],
          [
           10641,
           10641
          ],
          [
           4802,
           4802
          ],
          [
           6753,
           6753
          ],
          [
           4806,
           4806
          ],
          [
           10406,
           10406
          ],
          [
           2445,
           2445
          ],
          [
           4422,
           4422
          ],
          [
           17272,
           17272
          ],
          [
           15539,
           15539
          ],
          [
           13013,
           13013
          ],
          [
           1148,
           1148
          ],
          [
           37535,
           37535
          ],
          [
           744,
           744
          ],
          [
           1346,
           1346
          ],
          [
           2409,
           2409
          ],
          [
           1056,
           1056
          ],
          [
           1735,
           1735
          ],
          [
           758,
           758
          ],
          [
           2659,
           2659
          ],
          [
           22950,
           22950
          ],
          [
           1557,
           1557
          ],
          [
           653,
           653
          ],
          [
           1813,
           1813
          ],
          [
           24962,
           24962
          ],
          [
           1887,
           1887
          ],
          [
           846,
           846
          ],
          [
           6040,
           6040
          ],
          [
           6573,
           6573
          ],
          [
           2684,
           2684
          ],
          [
           642,
           642
          ],
          [
           3242,
           3242
          ],
          [
           5947,
           5947
          ],
          [
           6391,
           6391
          ],
          [
           581,
           581
          ],
          [
           820,
           820
          ],
          [
           6968,
           6968
          ],
          [
           12872,
           12872
          ],
          [
           3560,
           3560
          ],
          [
           54990,
           54990
          ],
          [
           3451,
           3451
          ],
          [
           630,
           630
          ],
          [
           3562,
           3562
          ],
          [
           6385,
           6385
          ],
          [
           12594,
           12594
          ],
          [
           22961,
           22961
          ],
          [
           3446,
           3446
          ],
          [
           14542,
           14542
          ],
          [
           57725,
           57725
          ],
          [
           512,
           512
          ],
          [
           5177,
           5177
          ],
          [
           761,
           761
          ],
          [
           9834,
           9834
          ],
          [
           3497,
           3497
          ],
          [
           12057,
           12057
          ],
          [
           3330,
           3330
          ],
          [
           3539,
           3539
          ],
          [
           17555,
           17555
          ],
          [
           576,
           576
          ],
          [
           18662,
           18662
          ],
          [
           829,
           829
          ],
          [
           1570,
           1570
          ],
          [
           2959,
           2959
          ],
          [
           20964,
           20964
          ],
          [
           6032,
           6032
          ],
          [
           24405,
           24405
          ],
          [
           1522,
           1522
          ],
          [
           20263,
           20263
          ],
          [
           14879,
           14879
          ],
          [
           20018,
           20018
          ],
          [
           4368,
           4368
          ],
          [
           3899,
           3899
          ],
          [
           6111,
           6111
          ],
          [
           6178,
           6178
          ],
          [
           38905,
           38905
          ],
          [
           1205,
           1205
          ],
          [
           25161,
           25161
          ],
          [
           19202,
           19202
          ],
          [
           27052,
           27052
          ],
          [
           13308,
           13308
          ],
          [
           1295,
           1295
          ],
          [
           1115,
           1115
          ],
          [
           19609,
           19609
          ],
          [
           1182,
           1182
          ],
          [
           1406,
           1406
          ],
          [
           28507,
           28507
          ],
          [
           2621,
           2621
          ],
          [
           815,
           815
          ],
          [
           5089,
           5089
          ],
          [
           1077,
           1077
          ],
          [
           27301,
           27301
          ],
          [
           812,
           812
          ],
          [
           1508,
           1508
          ],
          [
           1040,
           1040
          ],
          [
           1441,
           1441
          ],
          [
           1940,
           1940
          ],
          [
           2460,
           2460
          ],
          [
           22885,
           22885
          ],
          [
           18607,
           18607
          ],
          [
           15450,
           15450
          ],
          [
           4322,
           4322
          ],
          [
           15845,
           15845
          ],
          [
           35928,
           35928
          ],
          [
           38598,
           38598
          ],
          [
           11299,
           11299
          ],
          [
           4310,
           4310
          ],
          [
           3395,
           3395
          ],
          [
           3105,
           3105
          ],
          [
           1129,
           1129
          ],
          [
           2919,
           2919
          ],
          [
           1715,
           1715
          ],
          [
           5294,
           5294
          ],
          [
           958,
           958
          ],
          [
           60916,
           60916
          ]
         ]
        },
        {
         "marker": {
          "color": "rgba(219, 64, 82, 0.6)",
          "line": {
           "color": "rgba(219, 64, 82, 0.8999999999999999)",
           "width": 1
          }
         },
         "name": "newCasesByPublishDate",
         "orientation": "v",
         "text": "",
         "type": "bar",
         "x": [
          "AIREDALE NHS FOUNDATION TRUST",
          "ANGLIAN COMMUNITY ENTERPRISE COMMUNITY INTEREST COMPANY (ACE CIC)",
          "ARBURY COURT",
          "ASHLEY HOUSE HOSPITAL",
          "ASPEN - CLAREMONT HOSPITAL",
          "ASPEN - HIGHGATE HOSPITAL",
          "ASPEN - NOVA HEALTHCARE",
          "ASPEN - PARKSIDE HOSPITAL",
          "ASPEN - THE HOLLY",
          "BADDOW HOSPITAL",
          "BARKING, HAVERING AND REDBRIDGE UNIVERSITY HOSPITALS NHS TRUST",
          "BARLBOROUGH NHS TREATMENT CENTRE",
          "BARNET, ENFIELD AND HARINGEY MENTAL HEALTH NHS TRUST",
          "BARNSLEY HOSPITAL NHS FOUNDATION TRUST",
          "BARTS HEALTH NHS TRUST",
          "BEDFORDSHIRE HOSPITALS NHS FOUNDATION TRUST",
          "BIRMINGHAM AND SOLIHULL MENTAL HEALTH NHS FOUNDATION TRUST",
          "BIRMINGHAM COMMUNITY HEALTHCARE NHS FOUNDATION TRUST",
          "BIRMINGHAM WOMEN'S AND CHILDREN'S NHS FOUNDATION TRUST",
          "BLACK COUNTRY HEALTHCARE NHS FOUNDATION TRUST",
          "BLAKELANDS HOSPITAL",
          "BMI - BISHOPS WOOD",
          "BMI - CHELSFIELD PARK HOSPITAL",
          "BMI - HENDON HOSPITAL",
          "BMI - SHIRLEY OAKS HOSPITAL",
          "BMI - THE ALEXANDRA HOSPITAL",
          "BMI - THE BEARDWOOD HOSPITAL",
          "BMI - THE BEAUMONT HOSPITAL",
          "BMI - THE BLACKHEATH HOSPITAL",
          "BMI - THE CLEMENTINE CHURCHILL HOSPITAL",
          "BMI - THE DROITWICH SPA HOSPITAL",
          "BMI - THE HIGHFIELD HOSPITAL",
          "BMI - THE KINGS OAK HOSPITAL",
          "BMI - THE LONDON INDEPENDENT HOSPITAL",
          "BMI - THE MANOR HOSPITAL",
          "BMI - THE MERIDEN HOSPITAL",
          "BMI - THE PARK HOSPITAL",
          "BMI - THE PRIORY HOSPITAL",
          "BMI - THE SANDRINGHAM HOSPITAL",
          "BMI - THE SAXON CLINIC",
          "BMI - THE SLOANE HOSPITAL",
          "BMI - THORNBURY HOSPITAL",
          "BMI - THREE SHIRES HOSPITAL",
          "BMI GISBURNE PARK HOSPITAL",
          "BMI SOUTHEND PRIVATE HOSPITAL",
          "BMI ST EDMUNDS HOSPITAL",
          "BMI THE CAVELL HOSPITAL",
          "BMI THE DUCHY HOSPITAL",
          "BMI THE EDGBASTON HOSPITAL",
          "BMI THE HUDDERSFIELD HOSPITAL",
          "BMI THE LANCASTER HOSPITAL",
          "BMI THE LINCOLN HOSPITAL",
          "BMI WOODLANDS HOSPITAL",
          "BOSTALL HOUSE",
          "BOSTON WEST HOSPITAL",
          "BRADFORD DISTRICT CARE NHS FOUNDATION TRUST",
          "BRADFORD TEACHING HOSPITALS NHS FOUNDATION TRUST",
          "BROMLEY HEALTHCARE",
          "BROMLEY ROAD",
          "BROOMHILL",
          "BUPA CROMWELL HOSPITAL",
          "CALDERDALE AND HUDDERSFIELD NHS FOUNDATION TRUST",
          "CAMBRIDGE UNIVERSITY HOSPITALS NHS FOUNDATION TRUST",
          "CAMBRIDGESHIRE AND PETERBOROUGH NHS FOUNDATION TRUST",
          "CAMBRIDGESHIRE COMMUNITY SERVICES NHS TRUST",
          "CAMDEN AND ISLINGTON NHS FOUNDATION TRUST",
          "CARE PLUS GROUP",
          "CARETECH COMMUNITY SERVICES LTD",
          "CEDAR VALE HOSPITAL",
          "CENTRAL AND NORTH WEST LONDON NHS FOUNDATION TRUST",
          "CENTRAL LONDON COMMUNITY HEALTHCARE NHS TRUST",
          "CHADWICK LODGE",
          "CHELSEA AND WESTMINSTER HOSPITAL NHS FOUNDATION TRUST",
          "CHESTERFIELD ROYAL HOSPITAL NHS FOUNDATION TRUST",
          "CHESWOLD PARK HOSPITAL",
          "CHESWOLD PARK HOSPITAL (DONCASTER)",
          "CITY HEALTH CARE PARTNERSHIP CIC",
          "CLIFTON PARK HOSPITAL",
          "COBALT HOSPITAL",
          "COTSWOLD SPA",
          "COUNTY DURHAM AND DARLINGTON NHS FOUNDATION TRUST",
          "COVENTRY AND WARWICKSHIRE PARTNERSHIP NHS TRUST",
          "CROYDON HEALTH SERVICES NHS TRUST",
          "CUMBRIA, NORTHUMBERLAND, TYNE AND WEAR NHS FOUNDATION TRUST",
          "CYGNET ACER CLINIC",
          "CYGNET APPLETREE",
          "CYGNET CEDARS",
          "CYGNET CHURCHILL",
          "CYGNET ELMS",
          "CYGNET HEATHERS",
          "CYGNET HOSPITAL BECKTON",
          "CYGNET HOSPITAL BIERLEY",
          "CYGNET HOSPITAL BURY",
          "CYGNET HOSPITAL CLIFTON",
          "CYGNET HOSPITAL COLCHESTER",
          "CYGNET HOSPITAL COVENTRY",
          "CYGNET HOSPITAL DERBY",
          "CYGNET HOSPITAL EALING",
          "CYGNET HOSPITAL HARROGATE",
          "CYGNET HOSPITAL HARROW",
          "CYGNET HOSPITAL SHEFFIELD",
          "CYGNET HOSPITAL STEVENAGE",
          "CYGNET HOSPITAL WYKE",
          "CYGNET LODGE BRIGHOUSE",
          "CYGNET LODGE KENTON",
          "CYGNET LODGE LEWISHAM",
          "CYGNET MANOR",
          "CYGNET OAKS",
          "CYGNET RAGLAN HOUSE",
          "CYGNET SHERWOOD HOUSE",
          "CYGNET ST. AUGUSTINE'S",
          "CYGNET STORTHFIELD HOUSE",
          "CYGNET VIEWS",
          "CYGNET WING BLACKHEATH",
          "DERBYSHIRE COMMUNITY HEALTH SERVICES NHS FOUNDATION TRUST",
          "DERBYSHIRE HEALTHCARE NHS FOUNDATION TRUST",
          "DONCASTER AND BASSETLAW TEACHING HOSPITALS NHS FOUNDATION TRUST",
          "EAST AND NORTH HERTFORDSHIRE NHS TRUST",
          "EAST COAST COMMUNITY HEALTHCARE C.I.C",
          "EAST LONDON NHS FOUNDATION TRUST",
          "EAST SUFFOLK AND NORTH ESSEX NHS FOUNDATION TRUST",
          "ELLERN MEDE CENTRE FOR EATING DISORDERS",
          "ELLERN MEDE RIDGEWAY",
          "ELYSIUM HEALTHCARE",
          "EPSOM AND ST HELIER UNIVERSITY HOSPITALS NHS TRUST",
          "ESSEX PARTNERSHIP UNIVERSITY NHS FOUNDATION TRUST",
          "EUXTON HALL HOSPITAL",
          "FAIRFIELD INDEPENDENT HOSPITAL",
          "FARNDON UNIT",
          "FITZWILLIAM HOSPITAL",
          "FORTIUS CLINIC",
          "FULWOOD HALL HOSPITAL",
          "GATESHEAD HEALTH NHS FOUNDATION TRUST",
          "GEORGE ELIOT HOSPITAL NHS TRUST",
          "GREAT ORMOND STREET HOSPITAL FOR CHILDREN NHS FOUNDATION TRUST",
          "GUY'S AND ST THOMAS' NHS FOUNDATION TRUST",
          "HARLEY STREET ON 15",
          "HARROGATE AND DISTRICT NHS FOUNDATION TRUST",
          "HCA - 52 ALDERLEY ROAD",
          "HERTFORDSHIRE COMMUNITY NHS TRUST",
          "HERTFORDSHIRE PARTNERSHIP UNIVERSITY NHS FOUNDATION TRUST",
          "HOMERTON UNIVERSITY HOSPITAL NHS FOUNDATION TRUST",
          "HOSPITAL OF ST JOHN AND ST ELIZABETH (GROVE END ROAD)",
          "HOUNSLOW AND RICHMOND COMMUNITY HEALTHCARE NHS TRUST",
          "HULL UNIVERSITY TEACHING HOSPITALS NHS TRUST",
          "HUMBER TEACHING NHS FOUNDATION TRUST",
          "IMPERIAL COLLEGE HEALTHCARE NHS TRUST",
          "JAMES PAGET UNIVERSITY HOSPITALS NHS FOUNDATION TRUST",
          "JEESAL AKMAN CARE CORPORATION LTD",
          "KETTERING GENERAL HOSPITAL NHS FOUNDATION TRUST",
          "KING EDWARD VII'S HOSPITAL SISTER AGNES",
          "KING'S COLLEGE HOSPITAL NHS FOUNDATION TRUST",
          "KINGSTON HOSPITAL NHS FOUNDATION TRUST",
          "KINVARA PRIVATE HOSPITAL",
          "LEADERS ON ONCOLOGY (LOC)",
          "LEEDS AND YORK PARTNERSHIP NHS FOUNDATION TRUST",
          "LEEDS COMMUNITY HEALTHCARE NHS TRUST",
          "LEEDS TEACHING HOSPITALS NHS TRUST",
          "LEICESTERSHIRE PARTNERSHIP NHS TRUST",
          "LEWISHAM AND GREENWICH NHS TRUST",
          "LINCOLNSHIRE COMMUNITY HEALTH SERVICES NHS TRUST",
          "LINCOLNSHIRE PARTNERSHIP NHS FOUNDATION TRUST",
          "LISTER HOSPITAL",
          "LOCALA COMMUNITY PARTNERSHIPS CIC",
          "LONDON BRIDGE HOSPITAL",
          "LONDON CLINIC",
          "LONDON NORTH WEST UNIVERSITY HEALTHCARE NHS TRUST",
          "MANCHESTER UNIVERSITY NHS FOUNDATION TRUST",
          "MID AND SOUTH ESSEX NHS FOUNDATION TRUST",
          "MID YORKSHIRE HOSPITALS NHS TRUST",
          "MIDLANDS PARTNERSHIP NHS FOUNDATION TRUST",
          "MILTON KEYNES UNIVERSITY HOSPITAL NHS FOUNDATION TRUST",
          "MOORFIELDS EYE HOSPITAL NHS FOUNDATION TRUST",
          "NAVIGO HEALTH AND SOCIAL CARE CIC",
          "NEWBRIDGE CARE SYSTEMS",
          "NHS NIGHTINGALE HOSPITAL BIRMINGHAM",
          "NHS NIGHTINGALE HOSPITAL NORTH WEST",
          "NHS NIGHTINGALE HOSPITAL YORKSHIRE AND THE HUMBER",
          "NIGHTINGALE HOSPITAL LONDON",
          "NORFOLK AND NORWICH UNIVERSITY HOSPITALS NHS FOUNDATION TRUST",
          "NORFOLK AND SUFFOLK NHS FOUNDATION TRUST",
          "NORFOLK COMMUNITY HEALTH AND CARE NHS TRUST",
          "NORTH CUMBRIA INTEGRATED CARE NHS FOUNDATION TRUST",
          "NORTH EAST LONDON NHS FOUNDATION TRUST",
          "NORTH EAST LONDON TREATMENT CENTRE CARE UK",
          "NORTH MIDDLESEX UNIVERSITY HOSPITAL NHS TRUST",
          "NORTH STAFFORDSHIRE COMBINED HEALTHCARE NHS TRUST",
          "NORTH TEES AND HARTLEPOOL NHS FOUNDATION TRUST",
          "NORTH WEST ANGLIA NHS FOUNDATION TRUST",
          "NORTHAMPTON GENERAL HOSPITAL NHS TRUST",
          "NORTHAMPTONSHIRE HEALTHCARE NHS FOUNDATION TRUST",
          "NORTHERN LINCOLNSHIRE AND GOOLE NHS FOUNDATION TRUST",
          "NORTHUMBRIA HEALTHCARE NHS FOUNDATION TRUST",
          "NOTTINGHAM CITYCARE PARTNERSHIP",
          "NOTTINGHAM UNIVERSITY HOSPITALS NHS TRUST",
          "NOTTINGHAMSHIRE HEALTHCARE NHS FOUNDATION TRUST",
          "NUFFIELD HEALTH, BRENTWOOD HOSPITAL",
          "NUFFIELD HEALTH, CAMBRIDGE HOSPITAL",
          "NUFFIELD HEALTH, DERBY HOSPITAL",
          "NUFFIELD HEALTH, HEREFORD HOSPITAL",
          "NUFFIELD HEALTH, IPSWICH HOSPITAL",
          "NUFFIELD HEALTH, LEEDS HOSPITAL",
          "NUFFIELD HEALTH, LEICESTER HOSPITAL",
          "NUFFIELD HEALTH, NEWCASTLE UPON TYNE HOSPITAL",
          "NUFFIELD HEALTH, NORTH STAFFORDSHIRE HOSPITAL",
          "NUFFIELD HEALTH, SHREWSBURY HOSPITAL",
          "NUFFIELD HEALTH, TEES HOSPITAL",
          "NUFFIELD HEALTH, THE GROSVENOR HOSPITAL, CHESTER",
          "NUFFIELD HEALTH, WARWICKSHIRE HOSPITAL",
          "NUFFIELD HEALTH, WOLVERHAMPTON HOSPITAL",
          "NUFFIELD HEALTH, YORK HOSPITAL",
          "OAKLANDS HOSPITAL",
          "OAKS HOSPITAL",
          "ONE HATFIELD HOSPITAL",
          "ONE WELBECK HEART HEALTH - WELBECK STREET",
          "OPTEGRA YORKSHIRE EYE HOSPITAL",
          "OSD HEALTHCARE",
          "OXLEAS NHS FOUNDATION TRUST",
          "PARK HILL HOSPITAL",
          "PINEHILL HOSPITAL",
          "POTTERS BAR",
          "PROVIDE",
          "RENACRES HOSPITAL",
          "RIVERS HOSPITAL",
          "ROTHERHAM DONCASTER AND SOUTH HUMBER NHS FOUNDATION TRUST",
          "ROWLEY HALL HOSPITAL",
          "ROYAL FREE LONDON NHS FOUNDATION TRUST",
          "ROYAL NATIONAL ORTHOPAEDIC HOSPITAL NHS TRUST",
          "ROYAL PAPWORTH HOSPITAL NHS FOUNDATION TRUST",
          "SANDWELL AND WEST BIRMINGHAM HOSPITALS NHS TRUST",
          "SCHOEN CLINIC LONDON (WIGMORE STREET)",
          "SCHOEN CLINIC YORK",
          "SHEFFIELD CHILDREN'S NHS FOUNDATION TRUST",
          "SHEFFIELD HEALTH & SOCIAL CARE NHS FOUNDATION TRUST",
          "SHEFFIELD TEACHING HOSPITALS NHS FOUNDATION TRUST",
          "SHERWOOD FOREST HOSPITALS NHS FOUNDATION TRUST",
          "SHREWSBURY AND TELFORD HOSPITAL NHS TRUST",
          "SHROPSHIRE COMMUNITY HEALTH NHS TRUST",
          "SOUTH LONDON AND MAUDSLEY NHS FOUNDATION TRUST",
          "SOUTH TEES HOSPITALS NHS FOUNDATION TRUST",
          "SOUTH TYNESIDE AND SUNDERLAND NHS FOUNDATION TRUST",
          "SOUTH WARWICKSHIRE NHS FOUNDATION TRUST",
          "SOUTH WEST LONDON AND ST GEORGE'S MENTAL HEALTH NHS TRUST",
          "SOUTH WEST YORKSHIRE PARTNERSHIP NHS FOUNDATION TRUST",
          "SPECTRUM COMMUNITY HEALTH - CIC",
          "SPIRE BUSHEY HOSPITAL",
          "SPIRE CAMBRIDGE LEA HOSPITAL",
          "SPIRE CHESHIRE HOSPITAL",
          "SPIRE ELLAND HOSPITAL",
          "SPIRE FYLDE COAST HOSPITAL",
          "SPIRE HARPENDEN HOSPITAL",
          "SPIRE HARTSWOOD HOSPITAL",
          "SPIRE HULL AND EAST RIDING HOSPITAL",
          "SPIRE LEEDS HOSPITAL",
          "SPIRE LEICESTER HOSPITAL",
          "SPIRE LITTLE ASTON HOSPITAL",
          "SPIRE LIVERPOOL HOSPITAL",
          "SPIRE LONDON EAST",
          "SPIRE MANCHESTER HOSPITAL",
          "SPIRE METHLEY PARK HOSPITAL",
          "SPIRE MURRAYFIELD HOSPITAL",
          "SPIRE NORWICH HOSPITAL",
          "SPIRE NOTTINGHAM HOSPITAL",
          "SPIRE PARKWAY HOSPITAL",
          "SPIRE REGENCY HOSPITAL",
          "SPIRE SOUTH BANK HOSPITAL",
          "SPIRE ST ANTHONY'S HOSPITAL",
          "SPIRE WASHINGTON HOSPITAL",
          "SPIRE WELLESLEY HOSPITAL",
          "SPRING WOOD LODGE",
          "SPRINGFIELD HOSPITAL",
          "ST ANDREW'S HEALTHCARE - BIRMINGHAM",
          "ST ANDREW'S HEALTHCARE - ESSEX",
          "ST ANDREW'S HEALTHCARE - NORTHAMPTON",
          "ST ANDREW'S HEALTHCARE NOTTINGHAMSHIRE",
          "ST GEORGE'S UNIVERSITY HOSPITALS NHS FOUNDATION TRUST",
          "ST HUGH'S HOSPITAL",
          "TAVISTOCK AND PORTMAN NHS FOUNDATION TRUST",
          "TEES VALLEY HOSPITAL",
          "TEES, ESK AND WEAR VALLEYS NHS FOUNDATION TRUST",
          "TFHC LTD",
          "THE CANCER CENTRE LONDON",
          "THE CHRISTIE CLINIC",
          "THE DALLINGTONS",
          "THE DUDLEY GROUP NHS FOUNDATION TRUST",
          "THE HARLEY STREET CLINIC (WEYMOUTH ST)",
          "THE HILLINGDON HOSPITALS NHS FOUNDATION TRUST",
          "THE HOSPITAL GROUP - DOLAN PARK HOSPITAL",
          "THE HUNTERCOMBE CENTRE BIRMINGHAM",
          "THE HUNTERCOMBE HOSPITAL - COTSWOLD SPA",
          "THE HUNTERCOMBE HOSPITAL - MAIDENHEAD",
          "THE HUNTERCOMBE HOSPITAL - STAFFORD",
          "THE NEW VICTORIA HOSPITAL",
          "THE NEWCASTLE UPON TYNE HOSPITALS NHS FOUNDATION TRUST",
          "THE PORTLAND HOSPITAL FOR WOMEN & CHILDREN",
          "THE PRINCESS ALEXANDRA HOSPITAL NHS TRUST",
          "THE PRINCESS GRACE HOSPITAL",
          "THE QUEEN ELIZABETH HOSPITAL, KING'S LYNN, NHS FOUNDATION TRUST",
          "THE ROBERT JONES AND AGNES HUNT ORTHOPAEDIC HOSPITAL NHS FOUNDATION TRUST",
          "THE ROTHERHAM NHS FOUNDATION TRUST",
          "THE ROYAL MARSDEN NHS FOUNDATION TRUST",
          "THE ROYAL ORTHOPAEDIC HOSPITAL NHS FOUNDATION TRUST",
          "THE ROYAL WOLVERHAMPTON NHS TRUST",
          "THE WELLINGTON HOSPITAL",
          "THE WESTBOURNE CENTRE",
          "THE YORKSHIRE CLINIC",
          "THORS PARK",
          "UNITED LINCOLNSHIRE HOSPITALS NHS TRUST",
          "UNIVERSITY COLLEGE LONDON HOSPITALS NHS FOUNDATION TRUST",
          "UNIVERSITY HOSPITALS BIRMINGHAM NHS FOUNDATION TRUST",
          "UNIVERSITY HOSPITALS COVENTRY AND WARWICKSHIRE NHS TRUST",
          "UNIVERSITY HOSPITALS OF DERBY AND BURTON NHS FOUNDATION TRUST",
          "UNIVERSITY HOSPITALS OF LEICESTER NHS TRUST",
          "UNIVERSITY HOSPITALS OF NORTH MIDLANDS NHS TRUST",
          "WALSALL HEALTHCARE NHS TRUST",
          "WAST HILLS HOSPITAL",
          "WEST HERTFORDSHIRE HOSPITALS NHS TRUST",
          "WEST LONDON NHS TRUST",
          "WEST MIDLANDS HOSPITAL",
          "WEST SUFFOLK NHS FOUNDATION TRUST",
          "WEST VALLEY HOSPITAL",
          "WEYMOUTH STREET HOSPITAL",
          "WHITTINGTON HEALTH NHS TRUST",
          "WIRRAL UNIVERSITY TEACHING HOSPITAL NHS FOUNDATION TRUST",
          "WOODLAND HOSPITAL",
          "WOODTHORPE HOSPITAL",
          "WORCESTERSHIRE ACUTE HOSPITALS NHS TRUST",
          "WORCESTERSHIRE HEALTH AND CARE NHS TRUST",
          "WYE VALLEY NHS TRUST",
          "YEW TREES",
          "YORK TEACHING HOSPITAL NHS FOUNDATION TRUST",
          "YOUR HEALTHCARE"
         ],
         "y": [
          [
           1295,
           1295
          ],
          [
           6609,
           6609
          ],
          [
           2615,
           2615
          ],
          [
           4926,
           4926
          ],
          [
           1006,
           1006
          ],
          [
           21672,
           21672
          ],
          [
           1118,
           1118
          ],
          [
           21502,
           21502
          ],
          [
           12718,
           12718
          ],
          [
           5605,
           5605
          ],
          [
           12330,
           12330
          ],
          [
           6634,
           6634
          ],
          [
           26860,
           26860
          ],
          [
           1218,
           1218
          ],
          [
           16578,
           16578
          ],
          [
           10972,
           10972
          ],
          [
           1062,
           1062
          ],
          [
           670,
           670
          ],
          [
           1288,
           1288
          ],
          [
           898,
           898
          ],
          [
           12027,
           12027
          ],
          [
           53285,
           53285
          ],
          [
           50023,
           50023
          ],
          [
           41385,
           41385
          ],
          [
           32725,
           32725
          ],
          [
           3403,
           3403
          ],
          [
           3877,
           3877
          ],
          [
           3923,
           3923
          ],
          [
           55892,
           55892
          ],
          [
           53135,
           53135
          ],
          [
           6914,
           6914
          ],
          [
           3896,
           3896
          ],
          [
           30501,
           30501
          ],
          [
           35691,
           35691
          ],
          [
           5455,
           5455
          ],
          [
           7108,
           7108
          ],
          [
           7143,
           7143
          ],
          [
           4044,
           4044
          ],
          [
           6035,
           6035
          ],
          [
           7434,
           7434
          ],
          [
           39877,
           39877
          ],
          [
           343,
           343
          ],
          [
           5693,
           5693
          ],
          [
           5614,
           5614
          ],
          [
           9985,
           9985
          ],
          [
           8523,
           8523
          ],
          [
           39237,
           39237
          ],
          [
           516,
           516
          ],
          [
           6042,
           6042
          ],
          [
           624,
           624
          ],
          [
           4649,
           4649
          ],
          [
           6874,
           6874
          ],
          [
           544,
           544
          ],
          [
           46169,
           46169
          ],
          [
           3991,
           3991
          ],
          [
           1625,
           1625
          ],
          [
           874,
           874
          ],
          [
           58784,
           58784
          ],
          [
           33355,
           33355
          ],
          [
           21915,
           21915
          ],
          [
           33364,
           33364
          ],
          [
           1613,
           1613
          ],
          [
           18262,
           18262
          ],
          [
           16840,
           16840
          ],
          [
           25308,
           25308
          ],
          [
           24141,
           24141
          ],
          [
           763,
           763
          ],
          [
           6397,
           6397
          ],
          [
           24701,
           24701
          ],
          [
           33470,
           33470
          ],
          [
           23287,
           23287
          ],
          [
           5587,
           5587
          ],
          [
           20051,
           20051
          ],
          [
           2948,
           2948
          ],
          [
           687,
           687
          ],
          [
           642,
           642
          ],
          [
           557,
           557
          ],
          [
           901,
           901
          ],
          [
           890,
           890
          ],
          [
           23254,
           23254
          ],
          [
           2013,
           2013
          ],
          [
           892,
           892
          ],
          [
           16022,
           16022
          ],
          [
           1936,
           1936
          ],
          [
           15650,
           15650
          ],
          [
           560,
           560
          ],
          [
           21242,
           21242
          ],
          [
           52618,
           52618
          ],
          [
           19790,
           19790
          ],
          [
           20530,
           20530
          ],
          [
           48682,
           48682
          ],
          [
           685,
           685
          ],
          [
           2472,
           2472
          ],
          [
           18804,
           18804
          ],
          [
           5534,
           5534
          ],
          [
           20890,
           20890
          ],
          [
           23065,
           23065
          ],
          [
           45533,
           45533
          ],
          [
           767,
           767
          ],
          [
           54940,
           54940
          ],
          [
           769,
           769
          ],
          [
           4618,
           4618
          ],
          [
           768,
           768
          ],
          [
           745,
           745
          ],
          [
           68053,
           68053
          ],
          [
           59937,
           59937
          ],
          [
           16982,
           16982
          ],
          [
           445,
           445
          ],
          [
           23012,
           23012
          ],
          [
           16171,
           16171
          ],
          [
           18980,
           18980
          ],
          [
           21331,
           21331
          ],
          [
           26688,
           26688
          ],
          [
           47525,
           47525
          ],
          [
           950,
           950
          ],
          [
           740,
           740
          ],
          [
           1541,
           1541
          ],
          [
           21088,
           21088
          ],
          [
           6303,
           6303
          ],
          [
           21350,
           21350
          ],
          [
           13494,
           13494
          ],
          [
           20089,
           20089
          ],
          [
           33552,
           33552
          ],
          [
           5312,
           5312
          ],
          [
           20412,
           20412
          ],
          [
           10625,
           10625
          ],
          [
           4406,
           4406
          ],
          [
           3287,
           3287
          ],
          [
           18950,
           18950
          ],
          [
           9938,
           9938
          ],
          [
           40261,
           40261
          ],
          [
           3985,
           3985
          ],
          [
           1266,
           1266
          ],
          [
           1108,
           1108
          ],
          [
           19875,
           19875
          ],
          [
           12155,
           12155
          ],
          [
           30004,
           30004
          ],
          [
           1221,
           1221
          ],
          [
           6201,
           6201
          ],
          [
           28680,
           28680
          ],
          [
           23275,
           23275
          ],
          [
           21363,
           21363
          ],
          [
           62322,
           62322
          ],
          [
           20572,
           20572
          ],
          [
           1871,
           1871
          ],
          [
           1650,
           1650
          ],
          [
           24957,
           24957
          ],
          [
           14104,
           14104
          ],
          [
           5758,
           5758
          ],
          [
           1048,
           1048
          ],
          [
           37892,
           37892
          ],
          [
           18213,
           18213
          ],
          [
           13430,
           13430
          ],
          [
           880,
           880
          ],
          [
           18447,
           18447
          ],
          [
           1279,
           1279
          ],
          [
           2004,
           2004
          ],
          [
           1003,
           1003
          ],
          [
           713,
           713
          ],
          [
           15871,
           15871
          ],
          [
           871,
           871
          ],
          [
           1160,
           1160
          ],
          [
           35383,
           35383
          ],
          [
           581,
           581
          ],
          [
           18450,
           18450
          ],
          [
           22195,
           22195
          ],
          [
           14718,
           14718
          ],
          [
           4076,
           4076
          ],
          [
           9765,
           9765
          ],
          [
           2095,
           2095
          ],
          [
           1033,
           1033
          ],
          [
           15144,
           15144
          ],
          [
           20252,
           20252
          ],
          [
           827,
           827
          ],
          [
           25177,
           25177
          ],
          [
           1089,
           1089
          ],
          [
           3996,
           3996
          ],
          [
           1387,
           1387
          ],
          [
           55761,
           55761
          ],
          [
           19114,
           19114
          ],
          [
           20634,
           20634
          ],
          [
           29079,
           29079
          ],
          [
           1425,
           1425
          ],
          [
           16170,
           16170
          ],
          [
           36804,
           36804
          ],
          [
           16298,
           16298
          ],
          [
           1276,
           1276
          ],
          [
           1805,
           1805
          ],
          [
           12364,
           12364
          ],
          [
           1184,
           1184
          ],
          [
           853,
           853
          ],
          [
           1514,
           1514
          ],
          [
           1326,
           1326
          ],
          [
           19724,
           19724
          ],
          [
           1009,
           1009
          ],
          [
           2988,
           2988
          ],
          [
           5926,
           5926
          ],
          [
           5766,
           5766
          ],
          [
           17234,
           17234
          ],
          [
           13972,
           13972
          ],
          [
           4712,
           4712
          ],
          [
           538,
           538
          ],
          [
           15166,
           15166
          ],
          [
           398,
           398
          ],
          [
           13864,
           13864
          ],
          [
           17540,
           17540
          ],
          [
           530,
           530
          ],
          [
           2412,
           2412
          ],
          [
           12872,
           12872
          ],
          [
           14162,
           14162
          ],
          [
           650,
           650
          ],
          [
           4339,
           4339
          ],
          [
           8489,
           8489
          ],
          [
           5379,
           5379
          ],
          [
           41346,
           41346
          ],
          [
           726,
           726
          ],
          [
           5342,
           5342
          ],
          [
           22915,
           22915
          ],
          [
           689,
           689
          ],
          [
           10641,
           10641
          ],
          [
           4802,
           4802
          ],
          [
           6753,
           6753
          ],
          [
           4806,
           4806
          ],
          [
           10406,
           10406
          ],
          [
           2445,
           2445
          ],
          [
           4422,
           4422
          ],
          [
           17272,
           17272
          ],
          [
           15539,
           15539
          ],
          [
           13013,
           13013
          ],
          [
           1148,
           1148
          ],
          [
           37535,
           37535
          ],
          [
           744,
           744
          ],
          [
           1346,
           1346
          ],
          [
           2409,
           2409
          ],
          [
           1056,
           1056
          ],
          [
           1735,
           1735
          ],
          [
           758,
           758
          ],
          [
           2659,
           2659
          ],
          [
           22950,
           22950
          ],
          [
           1557,
           1557
          ],
          [
           653,
           653
          ],
          [
           1813,
           1813
          ],
          [
           24962,
           24962
          ],
          [
           1887,
           1887
          ],
          [
           846,
           846
          ],
          [
           6040,
           6040
          ],
          [
           6573,
           6573
          ],
          [
           2684,
           2684
          ],
          [
           642,
           642
          ],
          [
           3242,
           3242
          ],
          [
           5947,
           5947
          ],
          [
           6391,
           6391
          ],
          [
           581,
           581
          ],
          [
           820,
           820
          ],
          [
           6968,
           6968
          ],
          [
           12872,
           12872
          ],
          [
           3560,
           3560
          ],
          [
           54990,
           54990
          ],
          [
           3451,
           3451
          ],
          [
           630,
           630
          ],
          [
           3562,
           3562
          ],
          [
           6385,
           6385
          ],
          [
           12594,
           12594
          ],
          [
           22961,
           22961
          ],
          [
           3446,
           3446
          ],
          [
           14542,
           14542
          ],
          [
           57725,
           57725
          ],
          [
           512,
           512
          ],
          [
           5177,
           5177
          ],
          [
           761,
           761
          ],
          [
           9834,
           9834
          ],
          [
           3497,
           3497
          ],
          [
           12057,
           12057
          ],
          [
           3330,
           3330
          ],
          [
           3539,
           3539
          ],
          [
           17555,
           17555
          ],
          [
           576,
           576
          ],
          [
           18662,
           18662
          ],
          [
           829,
           829
          ],
          [
           1570,
           1570
          ],
          [
           2959,
           2959
          ],
          [
           20964,
           20964
          ],
          [
           6032,
           6032
          ],
          [
           24405,
           24405
          ],
          [
           1522,
           1522
          ],
          [
           20263,
           20263
          ],
          [
           14879,
           14879
          ],
          [
           20018,
           20018
          ],
          [
           4368,
           4368
          ],
          [
           3899,
           3899
          ],
          [
           6111,
           6111
          ],
          [
           6178,
           6178
          ],
          [
           38905,
           38905
          ],
          [
           1205,
           1205
          ],
          [
           25161,
           25161
          ],
          [
           19202,
           19202
          ],
          [
           27052,
           27052
          ],
          [
           13308,
           13308
          ],
          [
           1295,
           1295
          ],
          [
           1115,
           1115
          ],
          [
           19609,
           19609
          ],
          [
           1182,
           1182
          ],
          [
           1406,
           1406
          ],
          [
           28507,
           28507
          ],
          [
           2621,
           2621
          ],
          [
           815,
           815
          ],
          [
           5089,
           5089
          ],
          [
           1077,
           1077
          ],
          [
           27301,
           27301
          ],
          [
           812,
           812
          ],
          [
           1508,
           1508
          ],
          [
           1040,
           1040
          ],
          [
           1441,
           1441
          ],
          [
           1940,
           1940
          ],
          [
           2460,
           2460
          ],
          [
           22885,
           22885
          ],
          [
           18607,
           18607
          ],
          [
           15450,
           15450
          ],
          [
           4322,
           4322
          ],
          [
           15845,
           15845
          ],
          [
           35928,
           35928
          ],
          [
           38598,
           38598
          ],
          [
           11299,
           11299
          ],
          [
           4310,
           4310
          ],
          [
           3395,
           3395
          ],
          [
           3105,
           3105
          ],
          [
           1129,
           1129
          ],
          [
           2919,
           2919
          ],
          [
           1715,
           1715
          ],
          [
           5294,
           5294
          ],
          [
           958,
           958
          ],
          [
           60916,
           60916
          ]
         ]
        }
       ],
       "layout": {
        "legend": {
         "bgcolor": "#F5F6F9",
         "font": {
          "color": "#4D5663"
         }
        },
        "paper_bgcolor": "#F5F6F9",
        "plot_bgcolor": "#F5F6F9",
        "template": {
         "data": {
          "bar": [
           {
            "error_x": {
             "color": "#2a3f5f"
            },
            "error_y": {
             "color": "#2a3f5f"
            },
            "marker": {
             "line": {
              "color": "#E5ECF6",
              "width": 0.5
             },
             "pattern": {
              "fillmode": "overlay",
              "size": 10,
              "solidity": 0.2
             }
            },
            "type": "bar"
           }
          ],
          "barpolar": [
           {
            "marker": {
             "line": {
              "color": "#E5ECF6",
              "width": 0.5
             },
             "pattern": {
              "fillmode": "overlay",
              "size": 10,
              "solidity": 0.2
             }
            },
            "type": "barpolar"
           }
          ],
          "carpet": [
           {
            "aaxis": {
             "endlinecolor": "#2a3f5f",
             "gridcolor": "white",
             "linecolor": "white",
             "minorgridcolor": "white",
             "startlinecolor": "#2a3f5f"
            },
            "baxis": {
             "endlinecolor": "#2a3f5f",
             "gridcolor": "white",
             "linecolor": "white",
             "minorgridcolor": "white",
             "startlinecolor": "#2a3f5f"
            },
            "type": "carpet"
           }
          ],
          "choropleth": [
           {
            "colorbar": {
             "outlinewidth": 0,
             "ticks": ""
            },
            "type": "choropleth"
           }
          ],
          "contour": [
           {
            "colorbar": {
             "outlinewidth": 0,
             "ticks": ""
            },
            "colorscale": [
             [
              0,
              "#0d0887"
             ],
             [
              0.1111111111111111,
              "#46039f"
             ],
             [
              0.2222222222222222,
              "#7201a8"
             ],
             [
              0.3333333333333333,
              "#9c179e"
             ],
             [
              0.4444444444444444,
              "#bd3786"
             ],
             [
              0.5555555555555556,
              "#d8576b"
             ],
             [
              0.6666666666666666,
              "#ed7953"
             ],
             [
              0.7777777777777778,
              "#fb9f3a"
             ],
             [
              0.8888888888888888,
              "#fdca26"
             ],
             [
              1,
              "#f0f921"
             ]
            ],
            "type": "contour"
           }
          ],
          "contourcarpet": [
           {
            "colorbar": {
             "outlinewidth": 0,
             "ticks": ""
            },
            "type": "contourcarpet"
           }
          ],
          "heatmap": [
           {
            "colorbar": {
             "outlinewidth": 0,
             "ticks": ""
            },
            "colorscale": [
             [
              0,
              "#0d0887"
             ],
             [
              0.1111111111111111,
              "#46039f"
             ],
             [
              0.2222222222222222,
              "#7201a8"
             ],
             [
              0.3333333333333333,
              "#9c179e"
             ],
             [
              0.4444444444444444,
              "#bd3786"
             ],
             [
              0.5555555555555556,
              "#d8576b"
             ],
             [
              0.6666666666666666,
              "#ed7953"
             ],
             [
              0.7777777777777778,
              "#fb9f3a"
             ],
             [
              0.8888888888888888,
              "#fdca26"
             ],
             [
              1,
              "#f0f921"
             ]
            ],
            "type": "heatmap"
           }
          ],
          "heatmapgl": [
           {
            "colorbar": {
             "outlinewidth": 0,
             "ticks": ""
            },
            "colorscale": [
             [
              0,
              "#0d0887"
             ],
             [
              0.1111111111111111,
              "#46039f"
             ],
             [
              0.2222222222222222,
              "#7201a8"
             ],
             [
              0.3333333333333333,
              "#9c179e"
             ],
             [
              0.4444444444444444,
              "#bd3786"
             ],
             [
              0.5555555555555556,
              "#d8576b"
             ],
             [
              0.6666666666666666,
              "#ed7953"
             ],
             [
              0.7777777777777778,
              "#fb9f3a"
             ],
             [
              0.8888888888888888,
              "#fdca26"
             ],
             [
              1,
              "#f0f921"
             ]
            ],
            "type": "heatmapgl"
           }
          ],
          "histogram": [
           {
            "marker": {
             "pattern": {
              "fillmode": "overlay",
              "size": 10,
              "solidity": 0.2
             }
            },
            "type": "histogram"
           }
          ],
          "histogram2d": [
           {
            "colorbar": {
             "outlinewidth": 0,
             "ticks": ""
            },
            "colorscale": [
             [
              0,
              "#0d0887"
             ],
             [
              0.1111111111111111,
              "#46039f"
             ],
             [
              0.2222222222222222,
              "#7201a8"
             ],
             [
              0.3333333333333333,
              "#9c179e"
             ],
             [
              0.4444444444444444,
              "#bd3786"
             ],
             [
              0.5555555555555556,
              "#d8576b"
             ],
             [
              0.6666666666666666,
              "#ed7953"
             ],
             [
              0.7777777777777778,
              "#fb9f3a"
             ],
             [
              0.8888888888888888,
              "#fdca26"
             ],
             [
              1,
              "#f0f921"
             ]
            ],
            "type": "histogram2d"
           }
          ],
          "histogram2dcontour": [
           {
            "colorbar": {
             "outlinewidth": 0,
             "ticks": ""
            },
            "colorscale": [
             [
              0,
              "#0d0887"
             ],
             [
              0.1111111111111111,
              "#46039f"
             ],
             [
              0.2222222222222222,
              "#7201a8"
             ],
             [
              0.3333333333333333,
              "#9c179e"
             ],
             [
              0.4444444444444444,
              "#bd3786"
             ],
             [
              0.5555555555555556,
              "#d8576b"
             ],
             [
              0.6666666666666666,
              "#ed7953"
             ],
             [
              0.7777777777777778,
              "#fb9f3a"
             ],
             [
              0.8888888888888888,
              "#fdca26"
             ],
             [
              1,
              "#f0f921"
             ]
            ],
            "type": "histogram2dcontour"
           }
          ],
          "mesh3d": [
           {
            "colorbar": {
             "outlinewidth": 0,
             "ticks": ""
            },
            "type": "mesh3d"
           }
          ],
          "parcoords": [
           {
            "line": {
             "colorbar": {
              "outlinewidth": 0,
              "ticks": ""
             }
            },
            "type": "parcoords"
           }
          ],
          "pie": [
           {
            "automargin": true,
            "type": "pie"
           }
          ],
          "scatter": [
           {
            "marker": {
             "colorbar": {
              "outlinewidth": 0,
              "ticks": ""
             }
            },
            "type": "scatter"
           }
          ],
          "scatter3d": [
           {
            "line": {
             "colorbar": {
              "outlinewidth": 0,
              "ticks": ""
             }
            },
            "marker": {
             "colorbar": {
              "outlinewidth": 0,
              "ticks": ""
             }
            },
            "type": "scatter3d"
           }
          ],
          "scattercarpet": [
           {
            "marker": {
             "colorbar": {
              "outlinewidth": 0,
              "ticks": ""
             }
            },
            "type": "scattercarpet"
           }
          ],
          "scattergeo": [
           {
            "marker": {
             "colorbar": {
              "outlinewidth": 0,
              "ticks": ""
             }
            },
            "type": "scattergeo"
           }
          ],
          "scattergl": [
           {
            "marker": {
             "colorbar": {
              "outlinewidth": 0,
              "ticks": ""
             }
            },
            "type": "scattergl"
           }
          ],
          "scattermapbox": [
           {
            "marker": {
             "colorbar": {
              "outlinewidth": 0,
              "ticks": ""
             }
            },
            "type": "scattermapbox"
           }
          ],
          "scatterpolar": [
           {
            "marker": {
             "colorbar": {
              "outlinewidth": 0,
              "ticks": ""
             }
            },
            "type": "scatterpolar"
           }
          ],
          "scatterpolargl": [
           {
            "marker": {
             "colorbar": {
              "outlinewidth": 0,
              "ticks": ""
             }
            },
            "type": "scatterpolargl"
           }
          ],
          "scatterternary": [
           {
            "marker": {
             "colorbar": {
              "outlinewidth": 0,
              "ticks": ""
             }
            },
            "type": "scatterternary"
           }
          ],
          "surface": [
           {
            "colorbar": {
             "outlinewidth": 0,
             "ticks": ""
            },
            "colorscale": [
             [
              0,
              "#0d0887"
             ],
             [
              0.1111111111111111,
              "#46039f"
             ],
             [
              0.2222222222222222,
              "#7201a8"
             ],
             [
              0.3333333333333333,
              "#9c179e"
             ],
             [
              0.4444444444444444,
              "#bd3786"
             ],
             [
              0.5555555555555556,
              "#d8576b"
             ],
             [
              0.6666666666666666,
              "#ed7953"
             ],
             [
              0.7777777777777778,
              "#fb9f3a"
             ],
             [
              0.8888888888888888,
              "#fdca26"
             ],
             [
              1,
              "#f0f921"
             ]
            ],
            "type": "surface"
           }
          ],
          "table": [
           {
            "cells": {
             "fill": {
              "color": "#EBF0F8"
             },
             "line": {
              "color": "white"
             }
            },
            "header": {
             "fill": {
              "color": "#C8D4E3"
             },
             "line": {
              "color": "white"
             }
            },
            "type": "table"
           }
          ]
         },
         "layout": {
          "annotationdefaults": {
           "arrowcolor": "#2a3f5f",
           "arrowhead": 0,
           "arrowwidth": 1
          },
          "autotypenumbers": "strict",
          "coloraxis": {
           "colorbar": {
            "outlinewidth": 0,
            "ticks": ""
           }
          },
          "colorscale": {
           "diverging": [
            [
             0,
             "#8e0152"
            ],
            [
             0.1,
             "#c51b7d"
            ],
            [
             0.2,
             "#de77ae"
            ],
            [
             0.3,
             "#f1b6da"
            ],
            [
             0.4,
             "#fde0ef"
            ],
            [
             0.5,
             "#f7f7f7"
            ],
            [
             0.6,
             "#e6f5d0"
            ],
            [
             0.7,
             "#b8e186"
            ],
            [
             0.8,
             "#7fbc41"
            ],
            [
             0.9,
             "#4d9221"
            ],
            [
             1,
             "#276419"
            ]
           ],
           "sequential": [
            [
             0,
             "#0d0887"
            ],
            [
             0.1111111111111111,
             "#46039f"
            ],
            [
             0.2222222222222222,
             "#7201a8"
            ],
            [
             0.3333333333333333,
             "#9c179e"
            ],
            [
             0.4444444444444444,
             "#bd3786"
            ],
            [
             0.5555555555555556,
             "#d8576b"
            ],
            [
             0.6666666666666666,
             "#ed7953"
            ],
            [
             0.7777777777777778,
             "#fb9f3a"
            ],
            [
             0.8888888888888888,
             "#fdca26"
            ],
            [
             1,
             "#f0f921"
            ]
           ],
           "sequentialminus": [
            [
             0,
             "#0d0887"
            ],
            [
             0.1111111111111111,
             "#46039f"
            ],
            [
             0.2222222222222222,
             "#7201a8"
            ],
            [
             0.3333333333333333,
             "#9c179e"
            ],
            [
             0.4444444444444444,
             "#bd3786"
            ],
            [
             0.5555555555555556,
             "#d8576b"
            ],
            [
             0.6666666666666666,
             "#ed7953"
            ],
            [
             0.7777777777777778,
             "#fb9f3a"
            ],
            [
             0.8888888888888888,
             "#fdca26"
            ],
            [
             1,
             "#f0f921"
            ]
           ]
          },
          "colorway": [
           "#636efa",
           "#EF553B",
           "#00cc96",
           "#ab63fa",
           "#FFA15A",
           "#19d3f3",
           "#FF6692",
           "#B6E880",
           "#FF97FF",
           "#FECB52"
          ],
          "font": {
           "color": "#2a3f5f"
          },
          "geo": {
           "bgcolor": "white",
           "lakecolor": "white",
           "landcolor": "#E5ECF6",
           "showlakes": true,
           "showland": true,
           "subunitcolor": "white"
          },
          "hoverlabel": {
           "align": "left"
          },
          "hovermode": "closest",
          "mapbox": {
           "style": "light"
          },
          "paper_bgcolor": "white",
          "plot_bgcolor": "#E5ECF6",
          "polar": {
           "angularaxis": {
            "gridcolor": "white",
            "linecolor": "white",
            "ticks": ""
           },
           "bgcolor": "#E5ECF6",
           "radialaxis": {
            "gridcolor": "white",
            "linecolor": "white",
            "ticks": ""
           }
          },
          "scene": {
           "xaxis": {
            "backgroundcolor": "#E5ECF6",
            "gridcolor": "white",
            "gridwidth": 2,
            "linecolor": "white",
            "showbackground": true,
            "ticks": "",
            "zerolinecolor": "white"
           },
           "yaxis": {
            "backgroundcolor": "#E5ECF6",
            "gridcolor": "white",
            "gridwidth": 2,
            "linecolor": "white",
            "showbackground": true,
            "ticks": "",
            "zerolinecolor": "white"
           },
           "zaxis": {
            "backgroundcolor": "#E5ECF6",
            "gridcolor": "white",
            "gridwidth": 2,
            "linecolor": "white",
            "showbackground": true,
            "ticks": "",
            "zerolinecolor": "white"
           }
          },
          "shapedefaults": {
           "line": {
            "color": "#2a3f5f"
           }
          },
          "ternary": {
           "aaxis": {
            "gridcolor": "white",
            "linecolor": "white",
            "ticks": ""
           },
           "baxis": {
            "gridcolor": "white",
            "linecolor": "white",
            "ticks": ""
           },
           "bgcolor": "#E5ECF6",
           "caxis": {
            "gridcolor": "white",
            "linecolor": "white",
            "ticks": ""
           }
          },
          "title": {
           "x": 0.05
          },
          "xaxis": {
           "automargin": true,
           "gridcolor": "white",
           "linecolor": "white",
           "ticks": "",
           "title": {
            "standoff": 15
           },
           "zerolinecolor": "white",
           "zerolinewidth": 2
          },
          "yaxis": {
           "automargin": true,
           "gridcolor": "white",
           "linecolor": "white",
           "ticks": "",
           "title": {
            "standoff": 15
           },
           "zerolinecolor": "white",
           "zerolinewidth": 2
          }
         }
        },
        "title": {
         "font": {
          "color": "#4D5663"
         },
         "text": "New Cases ByPublish Date"
        },
        "xaxis": {
         "gridcolor": "#E1E5ED",
         "showgrid": true,
         "tickfont": {
          "color": "#4D5663"
         },
         "title": {
          "font": {
           "color": "#4D5663"
          },
          "text": "Cities"
         },
         "zerolinecolor": "#E1E5ED"
        },
        "yaxis": {
         "gridcolor": "#E1E5ED",
         "showgrid": true,
         "tickfont": {
          "color": "#4D5663"
         },
         "title": {
          "font": {
           "color": "#4D5663"
          },
          "text": "Cases"
         },
         "zerolinecolor": "#E1E5ED"
        }
       }
      },
      "text/html": [
       "<div>                            <div id=\"4e9e04dd-7bea-44d2-89f0-ae12a7e0fd9b\" class=\"plotly-graph-div\" style=\"height:525px; width:100%;\"></div>            <script type=\"text/javascript\">                require([\"plotly\"], function(Plotly) {                    window.PLOTLYENV=window.PLOTLYENV || {};\n",
       "                    window.PLOTLYENV.BASE_URL='https://plot.ly';                                    if (document.getElementById(\"4e9e04dd-7bea-44d2-89f0-ae12a7e0fd9b\")) {                    Plotly.newPlot(                        \"4e9e04dd-7bea-44d2-89f0-ae12a7e0fd9b\",                        [{\"marker\":{\"color\":\"rgba(219, 64, 82, 0.6)\",\"line\":{\"color\":\"rgba(219, 64, 82, 0.8999999999999999)\",\"width\":1}},\"name\":\"newCasesByPublishDate\",\"orientation\":\"v\",\"text\":\"\",\"type\":\"bar\",\"x\":[\"AIREDALE NHS FOUNDATION TRUST\",\"ANGLIAN COMMUNITY ENTERPRISE COMMUNITY INTEREST COMPANY (ACE CIC)\",\"ARBURY COURT\",\"ASHLEY HOUSE HOSPITAL\",\"ASPEN - CLAREMONT HOSPITAL\",\"ASPEN - HIGHGATE HOSPITAL\",\"ASPEN - NOVA HEALTHCARE\",\"ASPEN - PARKSIDE HOSPITAL\",\"ASPEN - THE HOLLY\",\"BADDOW HOSPITAL\",\"BARKING, HAVERING AND REDBRIDGE UNIVERSITY HOSPITALS NHS TRUST\",\"BARLBOROUGH NHS TREATMENT CENTRE\",\"BARNET, ENFIELD AND HARINGEY MENTAL HEALTH NHS TRUST\",\"BARNSLEY HOSPITAL NHS FOUNDATION TRUST\",\"BARTS HEALTH NHS TRUST\",\"BEDFORDSHIRE HOSPITALS NHS FOUNDATION TRUST\",\"BIRMINGHAM AND SOLIHULL MENTAL HEALTH NHS FOUNDATION TRUST\",\"BIRMINGHAM COMMUNITY HEALTHCARE NHS FOUNDATION TRUST\",\"BIRMINGHAM WOMEN'S AND CHILDREN'S NHS FOUNDATION TRUST\",\"BLACK COUNTRY HEALTHCARE NHS FOUNDATION TRUST\",\"BLAKELANDS HOSPITAL\",\"BMI - BISHOPS WOOD\",\"BMI - CHELSFIELD PARK HOSPITAL\",\"BMI - HENDON HOSPITAL\",\"BMI - SHIRLEY OAKS HOSPITAL\",\"BMI - THE ALEXANDRA HOSPITAL\",\"BMI - THE BEARDWOOD HOSPITAL\",\"BMI - THE BEAUMONT HOSPITAL\",\"BMI - THE BLACKHEATH HOSPITAL\",\"BMI - THE CLEMENTINE CHURCHILL HOSPITAL\",\"BMI - THE DROITWICH SPA HOSPITAL\",\"BMI - THE HIGHFIELD HOSPITAL\",\"BMI - THE KINGS OAK HOSPITAL\",\"BMI - THE LONDON INDEPENDENT HOSPITAL\",\"BMI - THE MANOR HOSPITAL\",\"BMI - THE MERIDEN HOSPITAL\",\"BMI - THE PARK HOSPITAL\",\"BMI - THE PRIORY HOSPITAL\",\"BMI - THE SANDRINGHAM HOSPITAL\",\"BMI - THE SAXON CLINIC\",\"BMI - THE SLOANE HOSPITAL\",\"BMI - THORNBURY HOSPITAL\",\"BMI - THREE SHIRES HOSPITAL\",\"BMI GISBURNE PARK HOSPITAL\",\"BMI SOUTHEND PRIVATE HOSPITAL\",\"BMI ST EDMUNDS HOSPITAL\",\"BMI THE CAVELL HOSPITAL\",\"BMI THE DUCHY HOSPITAL\",\"BMI THE EDGBASTON HOSPITAL\",\"BMI THE HUDDERSFIELD HOSPITAL\",\"BMI THE LANCASTER HOSPITAL\",\"BMI THE LINCOLN HOSPITAL\",\"BMI WOODLANDS HOSPITAL\",\"BOSTALL HOUSE\",\"BOSTON WEST HOSPITAL\",\"BRADFORD DISTRICT CARE NHS FOUNDATION TRUST\",\"BRADFORD TEACHING HOSPITALS NHS FOUNDATION TRUST\",\"BROMLEY HEALTHCARE\",\"BROMLEY ROAD\",\"BROOMHILL\",\"BUPA CROMWELL HOSPITAL\",\"CALDERDALE AND HUDDERSFIELD NHS FOUNDATION TRUST\",\"CAMBRIDGE UNIVERSITY HOSPITALS NHS FOUNDATION TRUST\",\"CAMBRIDGESHIRE AND PETERBOROUGH NHS FOUNDATION TRUST\",\"CAMBRIDGESHIRE COMMUNITY SERVICES NHS TRUST\",\"CAMDEN AND ISLINGTON NHS FOUNDATION TRUST\",\"CARE PLUS GROUP\",\"CARETECH COMMUNITY SERVICES LTD\",\"CEDAR VALE HOSPITAL\",\"CENTRAL AND NORTH WEST LONDON NHS FOUNDATION TRUST\",\"CENTRAL LONDON COMMUNITY HEALTHCARE NHS TRUST\",\"CHADWICK LODGE\",\"CHELSEA AND WESTMINSTER HOSPITAL NHS FOUNDATION TRUST\",\"CHESTERFIELD ROYAL HOSPITAL NHS FOUNDATION TRUST\",\"CHESWOLD PARK HOSPITAL\",\"CHESWOLD PARK HOSPITAL (DONCASTER)\",\"CITY HEALTH CARE PARTNERSHIP CIC\",\"CLIFTON PARK HOSPITAL\",\"COBALT HOSPITAL\",\"COTSWOLD SPA\",\"COUNTY DURHAM AND DARLINGTON NHS FOUNDATION TRUST\",\"COVENTRY AND WARWICKSHIRE PARTNERSHIP NHS TRUST\",\"CROYDON HEALTH SERVICES NHS TRUST\",\"CUMBRIA, NORTHUMBERLAND, TYNE AND WEAR NHS FOUNDATION TRUST\",\"CYGNET ACER CLINIC\",\"CYGNET APPLETREE\",\"CYGNET CEDARS\",\"CYGNET CHURCHILL\",\"CYGNET ELMS\",\"CYGNET HEATHERS\",\"CYGNET HOSPITAL BECKTON\",\"CYGNET HOSPITAL BIERLEY\",\"CYGNET HOSPITAL BURY\",\"CYGNET HOSPITAL CLIFTON\",\"CYGNET HOSPITAL COLCHESTER\",\"CYGNET HOSPITAL COVENTRY\",\"CYGNET HOSPITAL DERBY\",\"CYGNET HOSPITAL EALING\",\"CYGNET HOSPITAL HARROGATE\",\"CYGNET HOSPITAL HARROW\",\"CYGNET HOSPITAL SHEFFIELD\",\"CYGNET HOSPITAL STEVENAGE\",\"CYGNET HOSPITAL WYKE\",\"CYGNET LODGE BRIGHOUSE\",\"CYGNET LODGE KENTON\",\"CYGNET LODGE LEWISHAM\",\"CYGNET MANOR\",\"CYGNET OAKS\",\"CYGNET RAGLAN HOUSE\",\"CYGNET SHERWOOD HOUSE\",\"CYGNET ST. AUGUSTINE'S\",\"CYGNET STORTHFIELD HOUSE\",\"CYGNET VIEWS\",\"CYGNET WING BLACKHEATH\",\"DERBYSHIRE COMMUNITY HEALTH SERVICES NHS FOUNDATION TRUST\",\"DERBYSHIRE HEALTHCARE NHS FOUNDATION TRUST\",\"DONCASTER AND BASSETLAW TEACHING HOSPITALS NHS FOUNDATION TRUST\",\"EAST AND NORTH HERTFORDSHIRE NHS TRUST\",\"EAST COAST COMMUNITY HEALTHCARE C.I.C\",\"EAST LONDON NHS FOUNDATION TRUST\",\"EAST SUFFOLK AND NORTH ESSEX NHS FOUNDATION TRUST\",\"ELLERN MEDE CENTRE FOR EATING DISORDERS\",\"ELLERN MEDE RIDGEWAY\",\"ELYSIUM HEALTHCARE\",\"EPSOM AND ST HELIER UNIVERSITY HOSPITALS NHS TRUST\",\"ESSEX PARTNERSHIP UNIVERSITY NHS FOUNDATION TRUST\",\"EUXTON HALL HOSPITAL\",\"FAIRFIELD INDEPENDENT HOSPITAL\",\"FARNDON UNIT\",\"FITZWILLIAM HOSPITAL\",\"FORTIUS CLINIC\",\"FULWOOD HALL HOSPITAL\",\"GATESHEAD HEALTH NHS FOUNDATION TRUST\",\"GEORGE ELIOT HOSPITAL NHS TRUST\",\"GREAT ORMOND STREET HOSPITAL FOR CHILDREN NHS FOUNDATION TRUST\",\"GUY'S AND ST THOMAS' NHS FOUNDATION TRUST\",\"HARLEY STREET ON 15\",\"HARROGATE AND DISTRICT NHS FOUNDATION TRUST\",\"HCA - 52 ALDERLEY ROAD\",\"HERTFORDSHIRE COMMUNITY NHS TRUST\",\"HERTFORDSHIRE PARTNERSHIP UNIVERSITY NHS FOUNDATION TRUST\",\"HOMERTON UNIVERSITY HOSPITAL NHS FOUNDATION TRUST\",\"HOSPITAL OF ST JOHN AND ST ELIZABETH (GROVE END ROAD)\",\"HOUNSLOW AND RICHMOND COMMUNITY HEALTHCARE NHS TRUST\",\"HULL UNIVERSITY TEACHING HOSPITALS NHS TRUST\",\"HUMBER TEACHING NHS FOUNDATION TRUST\",\"IMPERIAL COLLEGE HEALTHCARE NHS TRUST\",\"JAMES PAGET UNIVERSITY HOSPITALS NHS FOUNDATION TRUST\",\"JEESAL AKMAN CARE CORPORATION LTD\",\"KETTERING GENERAL HOSPITAL NHS FOUNDATION TRUST\",\"KING EDWARD VII'S HOSPITAL SISTER AGNES\",\"KING'S COLLEGE HOSPITAL NHS FOUNDATION TRUST\",\"KINGSTON HOSPITAL NHS FOUNDATION TRUST\",\"KINVARA PRIVATE HOSPITAL\",\"LEADERS ON ONCOLOGY (LOC)\",\"LEEDS AND YORK PARTNERSHIP NHS FOUNDATION TRUST\",\"LEEDS COMMUNITY HEALTHCARE NHS TRUST\",\"LEEDS TEACHING HOSPITALS NHS TRUST\",\"LEICESTERSHIRE PARTNERSHIP NHS TRUST\",\"LEWISHAM AND GREENWICH NHS TRUST\",\"LINCOLNSHIRE COMMUNITY HEALTH SERVICES NHS TRUST\",\"LINCOLNSHIRE PARTNERSHIP NHS FOUNDATION TRUST\",\"LISTER HOSPITAL\",\"LOCALA COMMUNITY PARTNERSHIPS CIC\",\"LONDON BRIDGE HOSPITAL\",\"LONDON CLINIC\",\"LONDON NORTH WEST UNIVERSITY HEALTHCARE NHS TRUST\",\"MANCHESTER UNIVERSITY NHS FOUNDATION TRUST\",\"MID AND SOUTH ESSEX NHS FOUNDATION TRUST\",\"MID YORKSHIRE HOSPITALS NHS TRUST\",\"MIDLANDS PARTNERSHIP NHS FOUNDATION TRUST\",\"MILTON KEYNES UNIVERSITY HOSPITAL NHS FOUNDATION TRUST\",\"MOORFIELDS EYE HOSPITAL NHS FOUNDATION TRUST\",\"NAVIGO HEALTH AND SOCIAL CARE CIC\",\"NEWBRIDGE CARE SYSTEMS\",\"NHS NIGHTINGALE HOSPITAL BIRMINGHAM\",\"NHS NIGHTINGALE HOSPITAL NORTH WEST\",\"NHS NIGHTINGALE HOSPITAL YORKSHIRE AND THE HUMBER\",\"NIGHTINGALE HOSPITAL LONDON\",\"NORFOLK AND NORWICH UNIVERSITY HOSPITALS NHS FOUNDATION TRUST\",\"NORFOLK AND SUFFOLK NHS FOUNDATION TRUST\",\"NORFOLK COMMUNITY HEALTH AND CARE NHS TRUST\",\"NORTH CUMBRIA INTEGRATED CARE NHS FOUNDATION TRUST\",\"NORTH EAST LONDON NHS FOUNDATION TRUST\",\"NORTH EAST LONDON TREATMENT CENTRE CARE UK\",\"NORTH MIDDLESEX UNIVERSITY HOSPITAL NHS TRUST\",\"NORTH STAFFORDSHIRE COMBINED HEALTHCARE NHS TRUST\",\"NORTH TEES AND HARTLEPOOL NHS FOUNDATION TRUST\",\"NORTH WEST ANGLIA NHS FOUNDATION TRUST\",\"NORTHAMPTON GENERAL HOSPITAL NHS TRUST\",\"NORTHAMPTONSHIRE HEALTHCARE NHS FOUNDATION TRUST\",\"NORTHERN LINCOLNSHIRE AND GOOLE NHS FOUNDATION TRUST\",\"NORTHUMBRIA HEALTHCARE NHS FOUNDATION TRUST\",\"NOTTINGHAM CITYCARE PARTNERSHIP\",\"NOTTINGHAM UNIVERSITY HOSPITALS NHS TRUST\",\"NOTTINGHAMSHIRE HEALTHCARE NHS FOUNDATION TRUST\",\"NUFFIELD HEALTH, BRENTWOOD HOSPITAL\",\"NUFFIELD HEALTH, CAMBRIDGE HOSPITAL\",\"NUFFIELD HEALTH, DERBY HOSPITAL\",\"NUFFIELD HEALTH, HEREFORD HOSPITAL\",\"NUFFIELD HEALTH, IPSWICH HOSPITAL\",\"NUFFIELD HEALTH, LEEDS HOSPITAL\",\"NUFFIELD HEALTH, LEICESTER HOSPITAL\",\"NUFFIELD HEALTH, NEWCASTLE UPON TYNE HOSPITAL\",\"NUFFIELD HEALTH, NORTH STAFFORDSHIRE HOSPITAL\",\"NUFFIELD HEALTH, SHREWSBURY HOSPITAL\",\"NUFFIELD HEALTH, TEES HOSPITAL\",\"NUFFIELD HEALTH, THE GROSVENOR HOSPITAL, CHESTER\",\"NUFFIELD HEALTH, WARWICKSHIRE HOSPITAL\",\"NUFFIELD HEALTH, WOLVERHAMPTON HOSPITAL\",\"NUFFIELD HEALTH, YORK HOSPITAL\",\"OAKLANDS HOSPITAL\",\"OAKS HOSPITAL\",\"ONE HATFIELD HOSPITAL\",\"ONE WELBECK HEART HEALTH - WELBECK STREET\",\"OPTEGRA YORKSHIRE EYE HOSPITAL\",\"OSD HEALTHCARE\",\"OXLEAS NHS FOUNDATION TRUST\",\"PARK HILL HOSPITAL\",\"PINEHILL HOSPITAL\",\"POTTERS BAR\",\"PROVIDE\",\"RENACRES HOSPITAL\",\"RIVERS HOSPITAL\",\"ROTHERHAM DONCASTER AND SOUTH HUMBER NHS FOUNDATION TRUST\",\"ROWLEY HALL HOSPITAL\",\"ROYAL FREE LONDON NHS FOUNDATION TRUST\",\"ROYAL NATIONAL ORTHOPAEDIC HOSPITAL NHS TRUST\",\"ROYAL PAPWORTH HOSPITAL NHS FOUNDATION TRUST\",\"SANDWELL AND WEST BIRMINGHAM HOSPITALS NHS TRUST\",\"SCHOEN CLINIC LONDON (WIGMORE STREET)\",\"SCHOEN CLINIC YORK\",\"SHEFFIELD CHILDREN'S NHS FOUNDATION TRUST\",\"SHEFFIELD HEALTH & SOCIAL CARE NHS FOUNDATION TRUST\",\"SHEFFIELD TEACHING HOSPITALS NHS FOUNDATION TRUST\",\"SHERWOOD FOREST HOSPITALS NHS FOUNDATION TRUST\",\"SHREWSBURY AND TELFORD HOSPITAL NHS TRUST\",\"SHROPSHIRE COMMUNITY HEALTH NHS TRUST\",\"SOUTH LONDON AND MAUDSLEY NHS FOUNDATION TRUST\",\"SOUTH TEES HOSPITALS NHS FOUNDATION TRUST\",\"SOUTH TYNESIDE AND SUNDERLAND NHS FOUNDATION TRUST\",\"SOUTH WARWICKSHIRE NHS FOUNDATION TRUST\",\"SOUTH WEST LONDON AND ST GEORGE'S MENTAL HEALTH NHS TRUST\",\"SOUTH WEST YORKSHIRE PARTNERSHIP NHS FOUNDATION TRUST\",\"SPECTRUM COMMUNITY HEALTH - CIC\",\"SPIRE BUSHEY HOSPITAL\",\"SPIRE CAMBRIDGE LEA HOSPITAL\",\"SPIRE CHESHIRE HOSPITAL\",\"SPIRE ELLAND HOSPITAL\",\"SPIRE FYLDE COAST HOSPITAL\",\"SPIRE HARPENDEN HOSPITAL\",\"SPIRE HARTSWOOD HOSPITAL\",\"SPIRE HULL AND EAST RIDING HOSPITAL\",\"SPIRE LEEDS HOSPITAL\",\"SPIRE LEICESTER HOSPITAL\",\"SPIRE LITTLE ASTON HOSPITAL\",\"SPIRE LIVERPOOL HOSPITAL\",\"SPIRE LONDON EAST\",\"SPIRE MANCHESTER HOSPITAL\",\"SPIRE METHLEY PARK HOSPITAL\",\"SPIRE MURRAYFIELD HOSPITAL\",\"SPIRE NORWICH HOSPITAL\",\"SPIRE NOTTINGHAM HOSPITAL\",\"SPIRE PARKWAY HOSPITAL\",\"SPIRE REGENCY HOSPITAL\",\"SPIRE SOUTH BANK HOSPITAL\",\"SPIRE ST ANTHONY'S HOSPITAL\",\"SPIRE WASHINGTON HOSPITAL\",\"SPIRE WELLESLEY HOSPITAL\",\"SPRING WOOD LODGE\",\"SPRINGFIELD HOSPITAL\",\"ST ANDREW'S HEALTHCARE - BIRMINGHAM\",\"ST ANDREW'S HEALTHCARE - ESSEX\",\"ST ANDREW'S HEALTHCARE - NORTHAMPTON\",\"ST ANDREW'S HEALTHCARE NOTTINGHAMSHIRE\",\"ST GEORGE'S UNIVERSITY HOSPITALS NHS FOUNDATION TRUST\",\"ST HUGH'S HOSPITAL\",\"TAVISTOCK AND PORTMAN NHS FOUNDATION TRUST\",\"TEES VALLEY HOSPITAL\",\"TEES, ESK AND WEAR VALLEYS NHS FOUNDATION TRUST\",\"TFHC LTD\",\"THE CANCER CENTRE LONDON\",\"THE CHRISTIE CLINIC\",\"THE DALLINGTONS\",\"THE DUDLEY GROUP NHS FOUNDATION TRUST\",\"THE HARLEY STREET CLINIC (WEYMOUTH ST)\",\"THE HILLINGDON HOSPITALS NHS FOUNDATION TRUST\",\"THE HOSPITAL GROUP - DOLAN PARK HOSPITAL\",\"THE HUNTERCOMBE CENTRE BIRMINGHAM\",\"THE HUNTERCOMBE HOSPITAL - COTSWOLD SPA\",\"THE HUNTERCOMBE HOSPITAL - MAIDENHEAD\",\"THE HUNTERCOMBE HOSPITAL - STAFFORD\",\"THE NEW VICTORIA HOSPITAL\",\"THE NEWCASTLE UPON TYNE HOSPITALS NHS FOUNDATION TRUST\",\"THE PORTLAND HOSPITAL FOR WOMEN & CHILDREN\",\"THE PRINCESS ALEXANDRA HOSPITAL NHS TRUST\",\"THE PRINCESS GRACE HOSPITAL\",\"THE QUEEN ELIZABETH HOSPITAL, KING'S LYNN, NHS FOUNDATION TRUST\",\"THE ROBERT JONES AND AGNES HUNT ORTHOPAEDIC HOSPITAL NHS FOUNDATION TRUST\",\"THE ROTHERHAM NHS FOUNDATION TRUST\",\"THE ROYAL MARSDEN NHS FOUNDATION TRUST\",\"THE ROYAL ORTHOPAEDIC HOSPITAL NHS FOUNDATION TRUST\",\"THE ROYAL WOLVERHAMPTON NHS TRUST\",\"THE WELLINGTON HOSPITAL\",\"THE WESTBOURNE CENTRE\",\"THE YORKSHIRE CLINIC\",\"THORS PARK\",\"UNITED LINCOLNSHIRE HOSPITALS NHS TRUST\",\"UNIVERSITY COLLEGE LONDON HOSPITALS NHS FOUNDATION TRUST\",\"UNIVERSITY HOSPITALS BIRMINGHAM NHS FOUNDATION TRUST\",\"UNIVERSITY HOSPITALS COVENTRY AND WARWICKSHIRE NHS TRUST\",\"UNIVERSITY HOSPITALS OF DERBY AND BURTON NHS FOUNDATION TRUST\",\"UNIVERSITY HOSPITALS OF LEICESTER NHS TRUST\",\"UNIVERSITY HOSPITALS OF NORTH MIDLANDS NHS TRUST\",\"WALSALL HEALTHCARE NHS TRUST\",\"WAST HILLS HOSPITAL\",\"WEST HERTFORDSHIRE HOSPITALS NHS TRUST\",\"WEST LONDON NHS TRUST\",\"WEST MIDLANDS HOSPITAL\",\"WEST SUFFOLK NHS FOUNDATION TRUST\",\"WEST VALLEY HOSPITAL\",\"WEYMOUTH STREET HOSPITAL\",\"WHITTINGTON HEALTH NHS TRUST\",\"WIRRAL UNIVERSITY TEACHING HOSPITAL NHS FOUNDATION TRUST\",\"WOODLAND HOSPITAL\",\"WOODTHORPE HOSPITAL\",\"WORCESTERSHIRE ACUTE HOSPITALS NHS TRUST\",\"WORCESTERSHIRE HEALTH AND CARE NHS TRUST\",\"WYE VALLEY NHS TRUST\",\"YEW TREES\",\"YORK TEACHING HOSPITAL NHS FOUNDATION TRUST\",\"YOUR HEALTHCARE\"],\"y\":[[1295.0,1295.0],[6609.0,6609.0],[2615.0,2615.0],[4926.0,4926.0],[1006.0,1006.0],[21672.0,21672.0],[1118.0,1118.0],[21502.0,21502.0],[12718.0,12718.0],[5605.0,5605.0],[12330.0,12330.0],[6634.0,6634.0],[26860.0,26860.0],[1218.0,1218.0],[16578.0,16578.0],[10972.0,10972.0],[1062.0,1062.0],[670.0,670.0],[1288.0,1288.0],[898.0,898.0],[12027.0,12027.0],[53285.0,53285.0],[50023.0,50023.0],[41385.0,41385.0],[32725.0,32725.0],[3403.0,3403.0],[3877.0,3877.0],[3923.0,3923.0],[55892.0,55892.0],[53135.0,53135.0],[6914.0,6914.0],[3896.0,3896.0],[30501.0,30501.0],[35691.0,35691.0],[5455.0,5455.0],[7108.0,7108.0],[7143.0,7143.0],[4044.0,4044.0],[6035.0,6035.0],[7434.0,7434.0],[39877.0,39877.0],[343.0,343.0],[5693.0,5693.0],[5614.0,5614.0],[9985.0,9985.0],[8523.0,8523.0],[39237.0,39237.0],[516.0,516.0],[6042.0,6042.0],[624.0,624.0],[4649.0,4649.0],[6874.0,6874.0],[544.0,544.0],[46169.0,46169.0],[3991.0,3991.0],[1625.0,1625.0],[874.0,874.0],[58784.0,58784.0],[33355.0,33355.0],[21915.0,21915.0],[33364.0,33364.0],[1613.0,1613.0],[18262.0,18262.0],[16840.0,16840.0],[25308.0,25308.0],[24141.0,24141.0],[763.0,763.0],[6397.0,6397.0],[24701.0,24701.0],[33470.0,33470.0],[23287.0,23287.0],[5587.0,5587.0],[20051.0,20051.0],[2948.0,2948.0],[687.0,687.0],[642.0,642.0],[557.0,557.0],[901.0,901.0],[890.0,890.0],[23254.0,23254.0],[2013.0,2013.0],[892.0,892.0],[16022.0,16022.0],[1936.0,1936.0],[15650.0,15650.0],[560.0,560.0],[21242.0,21242.0],[52618.0,52618.0],[19790.0,19790.0],[20530.0,20530.0],[48682.0,48682.0],[685.0,685.0],[2472.0,2472.0],[18804.0,18804.0],[5534.0,5534.0],[20890.0,20890.0],[23065.0,23065.0],[45533.0,45533.0],[767.0,767.0],[54940.0,54940.0],[769.0,769.0],[4618.0,4618.0],[768.0,768.0],[745.0,745.0],[68053.0,68053.0],[59937.0,59937.0],[16982.0,16982.0],[445.0,445.0],[23012.0,23012.0],[16171.0,16171.0],[18980.0,18980.0],[21331.0,21331.0],[26688.0,26688.0],[47525.0,47525.0],[950.0,950.0],[740.0,740.0],[1541.0,1541.0],[21088.0,21088.0],[6303.0,6303.0],[21350.0,21350.0],[13494.0,13494.0],[20089.0,20089.0],[33552.0,33552.0],[5312.0,5312.0],[20412.0,20412.0],[10625.0,10625.0],[4406.0,4406.0],[3287.0,3287.0],[18950.0,18950.0],[9938.0,9938.0],[40261.0,40261.0],[3985.0,3985.0],[1266.0,1266.0],[1108.0,1108.0],[19875.0,19875.0],[12155.0,12155.0],[30004.0,30004.0],[1221.0,1221.0],[6201.0,6201.0],[28680.0,28680.0],[23275.0,23275.0],[21363.0,21363.0],[62322.0,62322.0],[20572.0,20572.0],[1871.0,1871.0],[1650.0,1650.0],[24957.0,24957.0],[14104.0,14104.0],[5758.0,5758.0],[1048.0,1048.0],[37892.0,37892.0],[18213.0,18213.0],[13430.0,13430.0],[880.0,880.0],[18447.0,18447.0],[1279.0,1279.0],[2004.0,2004.0],[1003.0,1003.0],[713.0,713.0],[15871.0,15871.0],[871.0,871.0],[1160.0,1160.0],[35383.0,35383.0],[581.0,581.0],[18450.0,18450.0],[22195.0,22195.0],[14718.0,14718.0],[4076.0,4076.0],[9765.0,9765.0],[2095.0,2095.0],[1033.0,1033.0],[15144.0,15144.0],[20252.0,20252.0],[827.0,827.0],[25177.0,25177.0],[1089.0,1089.0],[3996.0,3996.0],[1387.0,1387.0],[55761.0,55761.0],[19114.0,19114.0],[20634.0,20634.0],[29079.0,29079.0],[1425.0,1425.0],[16170.0,16170.0],[36804.0,36804.0],[16298.0,16298.0],[1276.0,1276.0],[1805.0,1805.0],[12364.0,12364.0],[1184.0,1184.0],[853.0,853.0],[1514.0,1514.0],[1326.0,1326.0],[19724.0,19724.0],[1009.0,1009.0],[2988.0,2988.0],[5926.0,5926.0],[5766.0,5766.0],[17234.0,17234.0],[13972.0,13972.0],[4712.0,4712.0],[538.0,538.0],[15166.0,15166.0],[398.0,398.0],[13864.0,13864.0],[17540.0,17540.0],[530.0,530.0],[2412.0,2412.0],[12872.0,12872.0],[14162.0,14162.0],[650.0,650.0],[4339.0,4339.0],[8489.0,8489.0],[5379.0,5379.0],[41346.0,41346.0],[726.0,726.0],[5342.0,5342.0],[22915.0,22915.0],[689.0,689.0],[10641.0,10641.0],[4802.0,4802.0],[6753.0,6753.0],[4806.0,4806.0],[10406.0,10406.0],[2445.0,2445.0],[4422.0,4422.0],[17272.0,17272.0],[15539.0,15539.0],[13013.0,13013.0],[1148.0,1148.0],[37535.0,37535.0],[744.0,744.0],[1346.0,1346.0],[2409.0,2409.0],[1056.0,1056.0],[1735.0,1735.0],[758.0,758.0],[2659.0,2659.0],[22950.0,22950.0],[1557.0,1557.0],[653.0,653.0],[1813.0,1813.0],[24962.0,24962.0],[1887.0,1887.0],[846.0,846.0],[6040.0,6040.0],[6573.0,6573.0],[2684.0,2684.0],[642.0,642.0],[3242.0,3242.0],[5947.0,5947.0],[6391.0,6391.0],[581.0,581.0],[820.0,820.0],[6968.0,6968.0],[12872.0,12872.0],[3560.0,3560.0],[54990.0,54990.0],[3451.0,3451.0],[630.0,630.0],[3562.0,3562.0],[6385.0,6385.0],[12594.0,12594.0],[22961.0,22961.0],[3446.0,3446.0],[14542.0,14542.0],[57725.0,57725.0],[512.0,512.0],[5177.0,5177.0],[761.0,761.0],[9834.0,9834.0],[3497.0,3497.0],[12057.0,12057.0],[3330.0,3330.0],[3539.0,3539.0],[17555.0,17555.0],[576.0,576.0],[18662.0,18662.0],[829.0,829.0],[1570.0,1570.0],[2959.0,2959.0],[20964.0,20964.0],[6032.0,6032.0],[24405.0,24405.0],[1522.0,1522.0],[20263.0,20263.0],[14879.0,14879.0],[20018.0,20018.0],[4368.0,4368.0],[3899.0,3899.0],[6111.0,6111.0],[6178.0,6178.0],[38905.0,38905.0],[1205.0,1205.0],[25161.0,25161.0],[19202.0,19202.0],[27052.0,27052.0],[13308.0,13308.0],[1295.0,1295.0],[1115.0,1115.0],[19609.0,19609.0],[1182.0,1182.0],[1406.0,1406.0],[28507.0,28507.0],[2621.0,2621.0],[815.0,815.0],[5089.0,5089.0],[1077.0,1077.0],[27301.0,27301.0],[812.0,812.0],[1508.0,1508.0],[1040.0,1040.0],[1441.0,1441.0],[1940.0,1940.0],[2460.0,2460.0],[22885.0,22885.0],[18607.0,18607.0],[15450.0,15450.0],[4322.0,4322.0],[15845.0,15845.0],[35928.0,35928.0],[38598.0,38598.0],[11299.0,11299.0],[4310.0,4310.0],[3395.0,3395.0],[3105.0,3105.0],[1129.0,1129.0],[2919.0,2919.0],[1715.0,1715.0],[5294.0,5294.0],[958.0,958.0],[60916.0,60916.0]]},{\"marker\":{\"color\":\"rgba(219, 64, 82, 0.6)\",\"line\":{\"color\":\"rgba(219, 64, 82, 0.8999999999999999)\",\"width\":1}},\"name\":\"newCasesByPublishDate\",\"orientation\":\"v\",\"text\":\"\",\"type\":\"bar\",\"x\":[\"AIREDALE NHS FOUNDATION TRUST\",\"ANGLIAN COMMUNITY ENTERPRISE COMMUNITY INTEREST COMPANY (ACE CIC)\",\"ARBURY COURT\",\"ASHLEY HOUSE HOSPITAL\",\"ASPEN - CLAREMONT HOSPITAL\",\"ASPEN - HIGHGATE HOSPITAL\",\"ASPEN - NOVA HEALTHCARE\",\"ASPEN - PARKSIDE HOSPITAL\",\"ASPEN - THE HOLLY\",\"BADDOW HOSPITAL\",\"BARKING, HAVERING AND REDBRIDGE UNIVERSITY HOSPITALS NHS TRUST\",\"BARLBOROUGH NHS TREATMENT CENTRE\",\"BARNET, ENFIELD AND HARINGEY MENTAL HEALTH NHS TRUST\",\"BARNSLEY HOSPITAL NHS FOUNDATION TRUST\",\"BARTS HEALTH NHS TRUST\",\"BEDFORDSHIRE HOSPITALS NHS FOUNDATION TRUST\",\"BIRMINGHAM AND SOLIHULL MENTAL HEALTH NHS FOUNDATION TRUST\",\"BIRMINGHAM COMMUNITY HEALTHCARE NHS FOUNDATION TRUST\",\"BIRMINGHAM WOMEN'S AND CHILDREN'S NHS FOUNDATION TRUST\",\"BLACK COUNTRY HEALTHCARE NHS FOUNDATION TRUST\",\"BLAKELANDS HOSPITAL\",\"BMI - BISHOPS WOOD\",\"BMI - CHELSFIELD PARK HOSPITAL\",\"BMI - HENDON HOSPITAL\",\"BMI - SHIRLEY OAKS HOSPITAL\",\"BMI - THE ALEXANDRA HOSPITAL\",\"BMI - THE BEARDWOOD HOSPITAL\",\"BMI - THE BEAUMONT HOSPITAL\",\"BMI - THE BLACKHEATH HOSPITAL\",\"BMI - THE CLEMENTINE CHURCHILL HOSPITAL\",\"BMI - THE DROITWICH SPA HOSPITAL\",\"BMI - THE HIGHFIELD HOSPITAL\",\"BMI - THE KINGS OAK HOSPITAL\",\"BMI - THE LONDON INDEPENDENT HOSPITAL\",\"BMI - THE MANOR HOSPITAL\",\"BMI - THE MERIDEN HOSPITAL\",\"BMI - THE PARK HOSPITAL\",\"BMI - THE PRIORY HOSPITAL\",\"BMI - THE SANDRINGHAM HOSPITAL\",\"BMI - THE SAXON CLINIC\",\"BMI - THE SLOANE HOSPITAL\",\"BMI - THORNBURY HOSPITAL\",\"BMI - THREE SHIRES HOSPITAL\",\"BMI GISBURNE PARK HOSPITAL\",\"BMI SOUTHEND PRIVATE HOSPITAL\",\"BMI ST EDMUNDS HOSPITAL\",\"BMI THE CAVELL HOSPITAL\",\"BMI THE DUCHY HOSPITAL\",\"BMI THE EDGBASTON HOSPITAL\",\"BMI THE HUDDERSFIELD HOSPITAL\",\"BMI THE LANCASTER HOSPITAL\",\"BMI THE LINCOLN HOSPITAL\",\"BMI WOODLANDS HOSPITAL\",\"BOSTALL HOUSE\",\"BOSTON WEST HOSPITAL\",\"BRADFORD DISTRICT CARE NHS FOUNDATION TRUST\",\"BRADFORD TEACHING HOSPITALS NHS FOUNDATION TRUST\",\"BROMLEY HEALTHCARE\",\"BROMLEY ROAD\",\"BROOMHILL\",\"BUPA CROMWELL HOSPITAL\",\"CALDERDALE AND HUDDERSFIELD NHS FOUNDATION TRUST\",\"CAMBRIDGE UNIVERSITY HOSPITALS NHS FOUNDATION TRUST\",\"CAMBRIDGESHIRE AND PETERBOROUGH NHS FOUNDATION TRUST\",\"CAMBRIDGESHIRE COMMUNITY SERVICES NHS TRUST\",\"CAMDEN AND ISLINGTON NHS FOUNDATION TRUST\",\"CARE PLUS GROUP\",\"CARETECH COMMUNITY SERVICES LTD\",\"CEDAR VALE HOSPITAL\",\"CENTRAL AND NORTH WEST LONDON NHS FOUNDATION TRUST\",\"CENTRAL LONDON COMMUNITY HEALTHCARE NHS TRUST\",\"CHADWICK LODGE\",\"CHELSEA AND WESTMINSTER HOSPITAL NHS FOUNDATION TRUST\",\"CHESTERFIELD ROYAL HOSPITAL NHS FOUNDATION TRUST\",\"CHESWOLD PARK HOSPITAL\",\"CHESWOLD PARK HOSPITAL (DONCASTER)\",\"CITY HEALTH CARE PARTNERSHIP CIC\",\"CLIFTON PARK HOSPITAL\",\"COBALT HOSPITAL\",\"COTSWOLD SPA\",\"COUNTY DURHAM AND DARLINGTON NHS FOUNDATION TRUST\",\"COVENTRY AND WARWICKSHIRE PARTNERSHIP NHS TRUST\",\"CROYDON HEALTH SERVICES NHS TRUST\",\"CUMBRIA, NORTHUMBERLAND, TYNE AND WEAR NHS FOUNDATION TRUST\",\"CYGNET ACER CLINIC\",\"CYGNET APPLETREE\",\"CYGNET CEDARS\",\"CYGNET CHURCHILL\",\"CYGNET ELMS\",\"CYGNET HEATHERS\",\"CYGNET HOSPITAL BECKTON\",\"CYGNET HOSPITAL BIERLEY\",\"CYGNET HOSPITAL BURY\",\"CYGNET HOSPITAL CLIFTON\",\"CYGNET HOSPITAL COLCHESTER\",\"CYGNET HOSPITAL COVENTRY\",\"CYGNET HOSPITAL DERBY\",\"CYGNET HOSPITAL EALING\",\"CYGNET HOSPITAL HARROGATE\",\"CYGNET HOSPITAL HARROW\",\"CYGNET HOSPITAL SHEFFIELD\",\"CYGNET HOSPITAL STEVENAGE\",\"CYGNET HOSPITAL WYKE\",\"CYGNET LODGE BRIGHOUSE\",\"CYGNET LODGE KENTON\",\"CYGNET LODGE LEWISHAM\",\"CYGNET MANOR\",\"CYGNET OAKS\",\"CYGNET RAGLAN HOUSE\",\"CYGNET SHERWOOD HOUSE\",\"CYGNET ST. AUGUSTINE'S\",\"CYGNET STORTHFIELD HOUSE\",\"CYGNET VIEWS\",\"CYGNET WING BLACKHEATH\",\"DERBYSHIRE COMMUNITY HEALTH SERVICES NHS FOUNDATION TRUST\",\"DERBYSHIRE HEALTHCARE NHS FOUNDATION TRUST\",\"DONCASTER AND BASSETLAW TEACHING HOSPITALS NHS FOUNDATION TRUST\",\"EAST AND NORTH HERTFORDSHIRE NHS TRUST\",\"EAST COAST COMMUNITY HEALTHCARE C.I.C\",\"EAST LONDON NHS FOUNDATION TRUST\",\"EAST SUFFOLK AND NORTH ESSEX NHS FOUNDATION TRUST\",\"ELLERN MEDE CENTRE FOR EATING DISORDERS\",\"ELLERN MEDE RIDGEWAY\",\"ELYSIUM HEALTHCARE\",\"EPSOM AND ST HELIER UNIVERSITY HOSPITALS NHS TRUST\",\"ESSEX PARTNERSHIP UNIVERSITY NHS FOUNDATION TRUST\",\"EUXTON HALL HOSPITAL\",\"FAIRFIELD INDEPENDENT HOSPITAL\",\"FARNDON UNIT\",\"FITZWILLIAM HOSPITAL\",\"FORTIUS CLINIC\",\"FULWOOD HALL HOSPITAL\",\"GATESHEAD HEALTH NHS FOUNDATION TRUST\",\"GEORGE ELIOT HOSPITAL NHS TRUST\",\"GREAT ORMOND STREET HOSPITAL FOR CHILDREN NHS FOUNDATION TRUST\",\"GUY'S AND ST THOMAS' NHS FOUNDATION TRUST\",\"HARLEY STREET ON 15\",\"HARROGATE AND DISTRICT NHS FOUNDATION TRUST\",\"HCA - 52 ALDERLEY ROAD\",\"HERTFORDSHIRE COMMUNITY NHS TRUST\",\"HERTFORDSHIRE PARTNERSHIP UNIVERSITY NHS FOUNDATION TRUST\",\"HOMERTON UNIVERSITY HOSPITAL NHS FOUNDATION TRUST\",\"HOSPITAL OF ST JOHN AND ST ELIZABETH (GROVE END ROAD)\",\"HOUNSLOW AND RICHMOND COMMUNITY HEALTHCARE NHS TRUST\",\"HULL UNIVERSITY TEACHING HOSPITALS NHS TRUST\",\"HUMBER TEACHING NHS FOUNDATION TRUST\",\"IMPERIAL COLLEGE HEALTHCARE NHS TRUST\",\"JAMES PAGET UNIVERSITY HOSPITALS NHS FOUNDATION TRUST\",\"JEESAL AKMAN CARE CORPORATION LTD\",\"KETTERING GENERAL HOSPITAL NHS FOUNDATION TRUST\",\"KING EDWARD VII'S HOSPITAL SISTER AGNES\",\"KING'S COLLEGE HOSPITAL NHS FOUNDATION TRUST\",\"KINGSTON HOSPITAL NHS FOUNDATION TRUST\",\"KINVARA PRIVATE HOSPITAL\",\"LEADERS ON ONCOLOGY (LOC)\",\"LEEDS AND YORK PARTNERSHIP NHS FOUNDATION TRUST\",\"LEEDS COMMUNITY HEALTHCARE NHS TRUST\",\"LEEDS TEACHING HOSPITALS NHS TRUST\",\"LEICESTERSHIRE PARTNERSHIP NHS TRUST\",\"LEWISHAM AND GREENWICH NHS TRUST\",\"LINCOLNSHIRE COMMUNITY HEALTH SERVICES NHS TRUST\",\"LINCOLNSHIRE PARTNERSHIP NHS FOUNDATION TRUST\",\"LISTER HOSPITAL\",\"LOCALA COMMUNITY PARTNERSHIPS CIC\",\"LONDON BRIDGE HOSPITAL\",\"LONDON CLINIC\",\"LONDON NORTH WEST UNIVERSITY HEALTHCARE NHS TRUST\",\"MANCHESTER UNIVERSITY NHS FOUNDATION TRUST\",\"MID AND SOUTH ESSEX NHS FOUNDATION TRUST\",\"MID YORKSHIRE HOSPITALS NHS TRUST\",\"MIDLANDS PARTNERSHIP NHS FOUNDATION TRUST\",\"MILTON KEYNES UNIVERSITY HOSPITAL NHS FOUNDATION TRUST\",\"MOORFIELDS EYE HOSPITAL NHS FOUNDATION TRUST\",\"NAVIGO HEALTH AND SOCIAL CARE CIC\",\"NEWBRIDGE CARE SYSTEMS\",\"NHS NIGHTINGALE HOSPITAL BIRMINGHAM\",\"NHS NIGHTINGALE HOSPITAL NORTH WEST\",\"NHS NIGHTINGALE HOSPITAL YORKSHIRE AND THE HUMBER\",\"NIGHTINGALE HOSPITAL LONDON\",\"NORFOLK AND NORWICH UNIVERSITY HOSPITALS NHS FOUNDATION TRUST\",\"NORFOLK AND SUFFOLK NHS FOUNDATION TRUST\",\"NORFOLK COMMUNITY HEALTH AND CARE NHS TRUST\",\"NORTH CUMBRIA INTEGRATED CARE NHS FOUNDATION TRUST\",\"NORTH EAST LONDON NHS FOUNDATION TRUST\",\"NORTH EAST LONDON TREATMENT CENTRE CARE UK\",\"NORTH MIDDLESEX UNIVERSITY HOSPITAL NHS TRUST\",\"NORTH STAFFORDSHIRE COMBINED HEALTHCARE NHS TRUST\",\"NORTH TEES AND HARTLEPOOL NHS FOUNDATION TRUST\",\"NORTH WEST ANGLIA NHS FOUNDATION TRUST\",\"NORTHAMPTON GENERAL HOSPITAL NHS TRUST\",\"NORTHAMPTONSHIRE HEALTHCARE NHS FOUNDATION TRUST\",\"NORTHERN LINCOLNSHIRE AND GOOLE NHS FOUNDATION TRUST\",\"NORTHUMBRIA HEALTHCARE NHS FOUNDATION TRUST\",\"NOTTINGHAM CITYCARE PARTNERSHIP\",\"NOTTINGHAM UNIVERSITY HOSPITALS NHS TRUST\",\"NOTTINGHAMSHIRE HEALTHCARE NHS FOUNDATION TRUST\",\"NUFFIELD HEALTH, BRENTWOOD HOSPITAL\",\"NUFFIELD HEALTH, CAMBRIDGE HOSPITAL\",\"NUFFIELD HEALTH, DERBY HOSPITAL\",\"NUFFIELD HEALTH, HEREFORD HOSPITAL\",\"NUFFIELD HEALTH, IPSWICH HOSPITAL\",\"NUFFIELD HEALTH, LEEDS HOSPITAL\",\"NUFFIELD HEALTH, LEICESTER HOSPITAL\",\"NUFFIELD HEALTH, NEWCASTLE UPON TYNE HOSPITAL\",\"NUFFIELD HEALTH, NORTH STAFFORDSHIRE HOSPITAL\",\"NUFFIELD HEALTH, SHREWSBURY HOSPITAL\",\"NUFFIELD HEALTH, TEES HOSPITAL\",\"NUFFIELD HEALTH, THE GROSVENOR HOSPITAL, CHESTER\",\"NUFFIELD HEALTH, WARWICKSHIRE HOSPITAL\",\"NUFFIELD HEALTH, WOLVERHAMPTON HOSPITAL\",\"NUFFIELD HEALTH, YORK HOSPITAL\",\"OAKLANDS HOSPITAL\",\"OAKS HOSPITAL\",\"ONE HATFIELD HOSPITAL\",\"ONE WELBECK HEART HEALTH - WELBECK STREET\",\"OPTEGRA YORKSHIRE EYE HOSPITAL\",\"OSD HEALTHCARE\",\"OXLEAS NHS FOUNDATION TRUST\",\"PARK HILL HOSPITAL\",\"PINEHILL HOSPITAL\",\"POTTERS BAR\",\"PROVIDE\",\"RENACRES HOSPITAL\",\"RIVERS HOSPITAL\",\"ROTHERHAM DONCASTER AND SOUTH HUMBER NHS FOUNDATION TRUST\",\"ROWLEY HALL HOSPITAL\",\"ROYAL FREE LONDON NHS FOUNDATION TRUST\",\"ROYAL NATIONAL ORTHOPAEDIC HOSPITAL NHS TRUST\",\"ROYAL PAPWORTH HOSPITAL NHS FOUNDATION TRUST\",\"SANDWELL AND WEST BIRMINGHAM HOSPITALS NHS TRUST\",\"SCHOEN CLINIC LONDON (WIGMORE STREET)\",\"SCHOEN CLINIC YORK\",\"SHEFFIELD CHILDREN'S NHS FOUNDATION TRUST\",\"SHEFFIELD HEALTH & SOCIAL CARE NHS FOUNDATION TRUST\",\"SHEFFIELD TEACHING HOSPITALS NHS FOUNDATION TRUST\",\"SHERWOOD FOREST HOSPITALS NHS FOUNDATION TRUST\",\"SHREWSBURY AND TELFORD HOSPITAL NHS TRUST\",\"SHROPSHIRE COMMUNITY HEALTH NHS TRUST\",\"SOUTH LONDON AND MAUDSLEY NHS FOUNDATION TRUST\",\"SOUTH TEES HOSPITALS NHS FOUNDATION TRUST\",\"SOUTH TYNESIDE AND SUNDERLAND NHS FOUNDATION TRUST\",\"SOUTH WARWICKSHIRE NHS FOUNDATION TRUST\",\"SOUTH WEST LONDON AND ST GEORGE'S MENTAL HEALTH NHS TRUST\",\"SOUTH WEST YORKSHIRE PARTNERSHIP NHS FOUNDATION TRUST\",\"SPECTRUM COMMUNITY HEALTH - CIC\",\"SPIRE BUSHEY HOSPITAL\",\"SPIRE CAMBRIDGE LEA HOSPITAL\",\"SPIRE CHESHIRE HOSPITAL\",\"SPIRE ELLAND HOSPITAL\",\"SPIRE FYLDE COAST HOSPITAL\",\"SPIRE HARPENDEN HOSPITAL\",\"SPIRE HARTSWOOD HOSPITAL\",\"SPIRE HULL AND EAST RIDING HOSPITAL\",\"SPIRE LEEDS HOSPITAL\",\"SPIRE LEICESTER HOSPITAL\",\"SPIRE LITTLE ASTON HOSPITAL\",\"SPIRE LIVERPOOL HOSPITAL\",\"SPIRE LONDON EAST\",\"SPIRE MANCHESTER HOSPITAL\",\"SPIRE METHLEY PARK HOSPITAL\",\"SPIRE MURRAYFIELD HOSPITAL\",\"SPIRE NORWICH HOSPITAL\",\"SPIRE NOTTINGHAM HOSPITAL\",\"SPIRE PARKWAY HOSPITAL\",\"SPIRE REGENCY HOSPITAL\",\"SPIRE SOUTH BANK HOSPITAL\",\"SPIRE ST ANTHONY'S HOSPITAL\",\"SPIRE WASHINGTON HOSPITAL\",\"SPIRE WELLESLEY HOSPITAL\",\"SPRING WOOD LODGE\",\"SPRINGFIELD HOSPITAL\",\"ST ANDREW'S HEALTHCARE - BIRMINGHAM\",\"ST ANDREW'S HEALTHCARE - ESSEX\",\"ST ANDREW'S HEALTHCARE - NORTHAMPTON\",\"ST ANDREW'S HEALTHCARE NOTTINGHAMSHIRE\",\"ST GEORGE'S UNIVERSITY HOSPITALS NHS FOUNDATION TRUST\",\"ST HUGH'S HOSPITAL\",\"TAVISTOCK AND PORTMAN NHS FOUNDATION TRUST\",\"TEES VALLEY HOSPITAL\",\"TEES, ESK AND WEAR VALLEYS NHS FOUNDATION TRUST\",\"TFHC LTD\",\"THE CANCER CENTRE LONDON\",\"THE CHRISTIE CLINIC\",\"THE DALLINGTONS\",\"THE DUDLEY GROUP NHS FOUNDATION TRUST\",\"THE HARLEY STREET CLINIC (WEYMOUTH ST)\",\"THE HILLINGDON HOSPITALS NHS FOUNDATION TRUST\",\"THE HOSPITAL GROUP - DOLAN PARK HOSPITAL\",\"THE HUNTERCOMBE CENTRE BIRMINGHAM\",\"THE HUNTERCOMBE HOSPITAL - COTSWOLD SPA\",\"THE HUNTERCOMBE HOSPITAL - MAIDENHEAD\",\"THE HUNTERCOMBE HOSPITAL - STAFFORD\",\"THE NEW VICTORIA HOSPITAL\",\"THE NEWCASTLE UPON TYNE HOSPITALS NHS FOUNDATION TRUST\",\"THE PORTLAND HOSPITAL FOR WOMEN & CHILDREN\",\"THE PRINCESS ALEXANDRA HOSPITAL NHS TRUST\",\"THE PRINCESS GRACE HOSPITAL\",\"THE QUEEN ELIZABETH HOSPITAL, KING'S LYNN, NHS FOUNDATION TRUST\",\"THE ROBERT JONES AND AGNES HUNT ORTHOPAEDIC HOSPITAL NHS FOUNDATION TRUST\",\"THE ROTHERHAM NHS FOUNDATION TRUST\",\"THE ROYAL MARSDEN NHS FOUNDATION TRUST\",\"THE ROYAL ORTHOPAEDIC HOSPITAL NHS FOUNDATION TRUST\",\"THE ROYAL WOLVERHAMPTON NHS TRUST\",\"THE WELLINGTON HOSPITAL\",\"THE WESTBOURNE CENTRE\",\"THE YORKSHIRE CLINIC\",\"THORS PARK\",\"UNITED LINCOLNSHIRE HOSPITALS NHS TRUST\",\"UNIVERSITY COLLEGE LONDON HOSPITALS NHS FOUNDATION TRUST\",\"UNIVERSITY HOSPITALS BIRMINGHAM NHS FOUNDATION TRUST\",\"UNIVERSITY HOSPITALS COVENTRY AND WARWICKSHIRE NHS TRUST\",\"UNIVERSITY HOSPITALS OF DERBY AND BURTON NHS FOUNDATION TRUST\",\"UNIVERSITY HOSPITALS OF LEICESTER NHS TRUST\",\"UNIVERSITY HOSPITALS OF NORTH MIDLANDS NHS TRUST\",\"WALSALL HEALTHCARE NHS TRUST\",\"WAST HILLS HOSPITAL\",\"WEST HERTFORDSHIRE HOSPITALS NHS TRUST\",\"WEST LONDON NHS TRUST\",\"WEST MIDLANDS HOSPITAL\",\"WEST SUFFOLK NHS FOUNDATION TRUST\",\"WEST VALLEY HOSPITAL\",\"WEYMOUTH STREET HOSPITAL\",\"WHITTINGTON HEALTH NHS TRUST\",\"WIRRAL UNIVERSITY TEACHING HOSPITAL NHS FOUNDATION TRUST\",\"WOODLAND HOSPITAL\",\"WOODTHORPE HOSPITAL\",\"WORCESTERSHIRE ACUTE HOSPITALS NHS TRUST\",\"WORCESTERSHIRE HEALTH AND CARE NHS TRUST\",\"WYE VALLEY NHS TRUST\",\"YEW TREES\",\"YORK TEACHING HOSPITAL NHS FOUNDATION TRUST\",\"YOUR HEALTHCARE\"],\"y\":[[1295.0,1295.0],[6609.0,6609.0],[2615.0,2615.0],[4926.0,4926.0],[1006.0,1006.0],[21672.0,21672.0],[1118.0,1118.0],[21502.0,21502.0],[12718.0,12718.0],[5605.0,5605.0],[12330.0,12330.0],[6634.0,6634.0],[26860.0,26860.0],[1218.0,1218.0],[16578.0,16578.0],[10972.0,10972.0],[1062.0,1062.0],[670.0,670.0],[1288.0,1288.0],[898.0,898.0],[12027.0,12027.0],[53285.0,53285.0],[50023.0,50023.0],[41385.0,41385.0],[32725.0,32725.0],[3403.0,3403.0],[3877.0,3877.0],[3923.0,3923.0],[55892.0,55892.0],[53135.0,53135.0],[6914.0,6914.0],[3896.0,3896.0],[30501.0,30501.0],[35691.0,35691.0],[5455.0,5455.0],[7108.0,7108.0],[7143.0,7143.0],[4044.0,4044.0],[6035.0,6035.0],[7434.0,7434.0],[39877.0,39877.0],[343.0,343.0],[5693.0,5693.0],[5614.0,5614.0],[9985.0,9985.0],[8523.0,8523.0],[39237.0,39237.0],[516.0,516.0],[6042.0,6042.0],[624.0,624.0],[4649.0,4649.0],[6874.0,6874.0],[544.0,544.0],[46169.0,46169.0],[3991.0,3991.0],[1625.0,1625.0],[874.0,874.0],[58784.0,58784.0],[33355.0,33355.0],[21915.0,21915.0],[33364.0,33364.0],[1613.0,1613.0],[18262.0,18262.0],[16840.0,16840.0],[25308.0,25308.0],[24141.0,24141.0],[763.0,763.0],[6397.0,6397.0],[24701.0,24701.0],[33470.0,33470.0],[23287.0,23287.0],[5587.0,5587.0],[20051.0,20051.0],[2948.0,2948.0],[687.0,687.0],[642.0,642.0],[557.0,557.0],[901.0,901.0],[890.0,890.0],[23254.0,23254.0],[2013.0,2013.0],[892.0,892.0],[16022.0,16022.0],[1936.0,1936.0],[15650.0,15650.0],[560.0,560.0],[21242.0,21242.0],[52618.0,52618.0],[19790.0,19790.0],[20530.0,20530.0],[48682.0,48682.0],[685.0,685.0],[2472.0,2472.0],[18804.0,18804.0],[5534.0,5534.0],[20890.0,20890.0],[23065.0,23065.0],[45533.0,45533.0],[767.0,767.0],[54940.0,54940.0],[769.0,769.0],[4618.0,4618.0],[768.0,768.0],[745.0,745.0],[68053.0,68053.0],[59937.0,59937.0],[16982.0,16982.0],[445.0,445.0],[23012.0,23012.0],[16171.0,16171.0],[18980.0,18980.0],[21331.0,21331.0],[26688.0,26688.0],[47525.0,47525.0],[950.0,950.0],[740.0,740.0],[1541.0,1541.0],[21088.0,21088.0],[6303.0,6303.0],[21350.0,21350.0],[13494.0,13494.0],[20089.0,20089.0],[33552.0,33552.0],[5312.0,5312.0],[20412.0,20412.0],[10625.0,10625.0],[4406.0,4406.0],[3287.0,3287.0],[18950.0,18950.0],[9938.0,9938.0],[40261.0,40261.0],[3985.0,3985.0],[1266.0,1266.0],[1108.0,1108.0],[19875.0,19875.0],[12155.0,12155.0],[30004.0,30004.0],[1221.0,1221.0],[6201.0,6201.0],[28680.0,28680.0],[23275.0,23275.0],[21363.0,21363.0],[62322.0,62322.0],[20572.0,20572.0],[1871.0,1871.0],[1650.0,1650.0],[24957.0,24957.0],[14104.0,14104.0],[5758.0,5758.0],[1048.0,1048.0],[37892.0,37892.0],[18213.0,18213.0],[13430.0,13430.0],[880.0,880.0],[18447.0,18447.0],[1279.0,1279.0],[2004.0,2004.0],[1003.0,1003.0],[713.0,713.0],[15871.0,15871.0],[871.0,871.0],[1160.0,1160.0],[35383.0,35383.0],[581.0,581.0],[18450.0,18450.0],[22195.0,22195.0],[14718.0,14718.0],[4076.0,4076.0],[9765.0,9765.0],[2095.0,2095.0],[1033.0,1033.0],[15144.0,15144.0],[20252.0,20252.0],[827.0,827.0],[25177.0,25177.0],[1089.0,1089.0],[3996.0,3996.0],[1387.0,1387.0],[55761.0,55761.0],[19114.0,19114.0],[20634.0,20634.0],[29079.0,29079.0],[1425.0,1425.0],[16170.0,16170.0],[36804.0,36804.0],[16298.0,16298.0],[1276.0,1276.0],[1805.0,1805.0],[12364.0,12364.0],[1184.0,1184.0],[853.0,853.0],[1514.0,1514.0],[1326.0,1326.0],[19724.0,19724.0],[1009.0,1009.0],[2988.0,2988.0],[5926.0,5926.0],[5766.0,5766.0],[17234.0,17234.0],[13972.0,13972.0],[4712.0,4712.0],[538.0,538.0],[15166.0,15166.0],[398.0,398.0],[13864.0,13864.0],[17540.0,17540.0],[530.0,530.0],[2412.0,2412.0],[12872.0,12872.0],[14162.0,14162.0],[650.0,650.0],[4339.0,4339.0],[8489.0,8489.0],[5379.0,5379.0],[41346.0,41346.0],[726.0,726.0],[5342.0,5342.0],[22915.0,22915.0],[689.0,689.0],[10641.0,10641.0],[4802.0,4802.0],[6753.0,6753.0],[4806.0,4806.0],[10406.0,10406.0],[2445.0,2445.0],[4422.0,4422.0],[17272.0,17272.0],[15539.0,15539.0],[13013.0,13013.0],[1148.0,1148.0],[37535.0,37535.0],[744.0,744.0],[1346.0,1346.0],[2409.0,2409.0],[1056.0,1056.0],[1735.0,1735.0],[758.0,758.0],[2659.0,2659.0],[22950.0,22950.0],[1557.0,1557.0],[653.0,653.0],[1813.0,1813.0],[24962.0,24962.0],[1887.0,1887.0],[846.0,846.0],[6040.0,6040.0],[6573.0,6573.0],[2684.0,2684.0],[642.0,642.0],[3242.0,3242.0],[5947.0,5947.0],[6391.0,6391.0],[581.0,581.0],[820.0,820.0],[6968.0,6968.0],[12872.0,12872.0],[3560.0,3560.0],[54990.0,54990.0],[3451.0,3451.0],[630.0,630.0],[3562.0,3562.0],[6385.0,6385.0],[12594.0,12594.0],[22961.0,22961.0],[3446.0,3446.0],[14542.0,14542.0],[57725.0,57725.0],[512.0,512.0],[5177.0,5177.0],[761.0,761.0],[9834.0,9834.0],[3497.0,3497.0],[12057.0,12057.0],[3330.0,3330.0],[3539.0,3539.0],[17555.0,17555.0],[576.0,576.0],[18662.0,18662.0],[829.0,829.0],[1570.0,1570.0],[2959.0,2959.0],[20964.0,20964.0],[6032.0,6032.0],[24405.0,24405.0],[1522.0,1522.0],[20263.0,20263.0],[14879.0,14879.0],[20018.0,20018.0],[4368.0,4368.0],[3899.0,3899.0],[6111.0,6111.0],[6178.0,6178.0],[38905.0,38905.0],[1205.0,1205.0],[25161.0,25161.0],[19202.0,19202.0],[27052.0,27052.0],[13308.0,13308.0],[1295.0,1295.0],[1115.0,1115.0],[19609.0,19609.0],[1182.0,1182.0],[1406.0,1406.0],[28507.0,28507.0],[2621.0,2621.0],[815.0,815.0],[5089.0,5089.0],[1077.0,1077.0],[27301.0,27301.0],[812.0,812.0],[1508.0,1508.0],[1040.0,1040.0],[1441.0,1441.0],[1940.0,1940.0],[2460.0,2460.0],[22885.0,22885.0],[18607.0,18607.0],[15450.0,15450.0],[4322.0,4322.0],[15845.0,15845.0],[35928.0,35928.0],[38598.0,38598.0],[11299.0,11299.0],[4310.0,4310.0],[3395.0,3395.0],[3105.0,3105.0],[1129.0,1129.0],[2919.0,2919.0],[1715.0,1715.0],[5294.0,5294.0],[958.0,958.0],[60916.0,60916.0]]}],                        {\"legend\":{\"bgcolor\":\"#F5F6F9\",\"font\":{\"color\":\"#4D5663\"}},\"paper_bgcolor\":\"#F5F6F9\",\"plot_bgcolor\":\"#F5F6F9\",\"template\":{\"data\":{\"bar\":[{\"error_x\":{\"color\":\"#2a3f5f\"},\"error_y\":{\"color\":\"#2a3f5f\"},\"marker\":{\"line\":{\"color\":\"#E5ECF6\",\"width\":0.5},\"pattern\":{\"fillmode\":\"overlay\",\"size\":10,\"solidity\":0.2}},\"type\":\"bar\"}],\"barpolar\":[{\"marker\":{\"line\":{\"color\":\"#E5ECF6\",\"width\":0.5},\"pattern\":{\"fillmode\":\"overlay\",\"size\":10,\"solidity\":0.2}},\"type\":\"barpolar\"}],\"carpet\":[{\"aaxis\":{\"endlinecolor\":\"#2a3f5f\",\"gridcolor\":\"white\",\"linecolor\":\"white\",\"minorgridcolor\":\"white\",\"startlinecolor\":\"#2a3f5f\"},\"baxis\":{\"endlinecolor\":\"#2a3f5f\",\"gridcolor\":\"white\",\"linecolor\":\"white\",\"minorgridcolor\":\"white\",\"startlinecolor\":\"#2a3f5f\"},\"type\":\"carpet\"}],\"choropleth\":[{\"colorbar\":{\"outlinewidth\":0,\"ticks\":\"\"},\"type\":\"choropleth\"}],\"contour\":[{\"colorbar\":{\"outlinewidth\":0,\"ticks\":\"\"},\"colorscale\":[[0.0,\"#0d0887\"],[0.1111111111111111,\"#46039f\"],[0.2222222222222222,\"#7201a8\"],[0.3333333333333333,\"#9c179e\"],[0.4444444444444444,\"#bd3786\"],[0.5555555555555556,\"#d8576b\"],[0.6666666666666666,\"#ed7953\"],[0.7777777777777778,\"#fb9f3a\"],[0.8888888888888888,\"#fdca26\"],[1.0,\"#f0f921\"]],\"type\":\"contour\"}],\"contourcarpet\":[{\"colorbar\":{\"outlinewidth\":0,\"ticks\":\"\"},\"type\":\"contourcarpet\"}],\"heatmap\":[{\"colorbar\":{\"outlinewidth\":0,\"ticks\":\"\"},\"colorscale\":[[0.0,\"#0d0887\"],[0.1111111111111111,\"#46039f\"],[0.2222222222222222,\"#7201a8\"],[0.3333333333333333,\"#9c179e\"],[0.4444444444444444,\"#bd3786\"],[0.5555555555555556,\"#d8576b\"],[0.6666666666666666,\"#ed7953\"],[0.7777777777777778,\"#fb9f3a\"],[0.8888888888888888,\"#fdca26\"],[1.0,\"#f0f921\"]],\"type\":\"heatmap\"}],\"heatmapgl\":[{\"colorbar\":{\"outlinewidth\":0,\"ticks\":\"\"},\"colorscale\":[[0.0,\"#0d0887\"],[0.1111111111111111,\"#46039f\"],[0.2222222222222222,\"#7201a8\"],[0.3333333333333333,\"#9c179e\"],[0.4444444444444444,\"#bd3786\"],[0.5555555555555556,\"#d8576b\"],[0.6666666666666666,\"#ed7953\"],[0.7777777777777778,\"#fb9f3a\"],[0.8888888888888888,\"#fdca26\"],[1.0,\"#f0f921\"]],\"type\":\"heatmapgl\"}],\"histogram\":[{\"marker\":{\"pattern\":{\"fillmode\":\"overlay\",\"size\":10,\"solidity\":0.2}},\"type\":\"histogram\"}],\"histogram2d\":[{\"colorbar\":{\"outlinewidth\":0,\"ticks\":\"\"},\"colorscale\":[[0.0,\"#0d0887\"],[0.1111111111111111,\"#46039f\"],[0.2222222222222222,\"#7201a8\"],[0.3333333333333333,\"#9c179e\"],[0.4444444444444444,\"#bd3786\"],[0.5555555555555556,\"#d8576b\"],[0.6666666666666666,\"#ed7953\"],[0.7777777777777778,\"#fb9f3a\"],[0.8888888888888888,\"#fdca26\"],[1.0,\"#f0f921\"]],\"type\":\"histogram2d\"}],\"histogram2dcontour\":[{\"colorbar\":{\"outlinewidth\":0,\"ticks\":\"\"},\"colorscale\":[[0.0,\"#0d0887\"],[0.1111111111111111,\"#46039f\"],[0.2222222222222222,\"#7201a8\"],[0.3333333333333333,\"#9c179e\"],[0.4444444444444444,\"#bd3786\"],[0.5555555555555556,\"#d8576b\"],[0.6666666666666666,\"#ed7953\"],[0.7777777777777778,\"#fb9f3a\"],[0.8888888888888888,\"#fdca26\"],[1.0,\"#f0f921\"]],\"type\":\"histogram2dcontour\"}],\"mesh3d\":[{\"colorbar\":{\"outlinewidth\":0,\"ticks\":\"\"},\"type\":\"mesh3d\"}],\"parcoords\":[{\"line\":{\"colorbar\":{\"outlinewidth\":0,\"ticks\":\"\"}},\"type\":\"parcoords\"}],\"pie\":[{\"automargin\":true,\"type\":\"pie\"}],\"scatter\":[{\"marker\":{\"colorbar\":{\"outlinewidth\":0,\"ticks\":\"\"}},\"type\":\"scatter\"}],\"scatter3d\":[{\"line\":{\"colorbar\":{\"outlinewidth\":0,\"ticks\":\"\"}},\"marker\":{\"colorbar\":{\"outlinewidth\":0,\"ticks\":\"\"}},\"type\":\"scatter3d\"}],\"scattercarpet\":[{\"marker\":{\"colorbar\":{\"outlinewidth\":0,\"ticks\":\"\"}},\"type\":\"scattercarpet\"}],\"scattergeo\":[{\"marker\":{\"colorbar\":{\"outlinewidth\":0,\"ticks\":\"\"}},\"type\":\"scattergeo\"}],\"scattergl\":[{\"marker\":{\"colorbar\":{\"outlinewidth\":0,\"ticks\":\"\"}},\"type\":\"scattergl\"}],\"scattermapbox\":[{\"marker\":{\"colorbar\":{\"outlinewidth\":0,\"ticks\":\"\"}},\"type\":\"scattermapbox\"}],\"scatterpolar\":[{\"marker\":{\"colorbar\":{\"outlinewidth\":0,\"ticks\":\"\"}},\"type\":\"scatterpolar\"}],\"scatterpolargl\":[{\"marker\":{\"colorbar\":{\"outlinewidth\":0,\"ticks\":\"\"}},\"type\":\"scatterpolargl\"}],\"scatterternary\":[{\"marker\":{\"colorbar\":{\"outlinewidth\":0,\"ticks\":\"\"}},\"type\":\"scatterternary\"}],\"surface\":[{\"colorbar\":{\"outlinewidth\":0,\"ticks\":\"\"},\"colorscale\":[[0.0,\"#0d0887\"],[0.1111111111111111,\"#46039f\"],[0.2222222222222222,\"#7201a8\"],[0.3333333333333333,\"#9c179e\"],[0.4444444444444444,\"#bd3786\"],[0.5555555555555556,\"#d8576b\"],[0.6666666666666666,\"#ed7953\"],[0.7777777777777778,\"#fb9f3a\"],[0.8888888888888888,\"#fdca26\"],[1.0,\"#f0f921\"]],\"type\":\"surface\"}],\"table\":[{\"cells\":{\"fill\":{\"color\":\"#EBF0F8\"},\"line\":{\"color\":\"white\"}},\"header\":{\"fill\":{\"color\":\"#C8D4E3\"},\"line\":{\"color\":\"white\"}},\"type\":\"table\"}]},\"layout\":{\"annotationdefaults\":{\"arrowcolor\":\"#2a3f5f\",\"arrowhead\":0,\"arrowwidth\":1},\"autotypenumbers\":\"strict\",\"coloraxis\":{\"colorbar\":{\"outlinewidth\":0,\"ticks\":\"\"}},\"colorscale\":{\"diverging\":[[0,\"#8e0152\"],[0.1,\"#c51b7d\"],[0.2,\"#de77ae\"],[0.3,\"#f1b6da\"],[0.4,\"#fde0ef\"],[0.5,\"#f7f7f7\"],[0.6,\"#e6f5d0\"],[0.7,\"#b8e186\"],[0.8,\"#7fbc41\"],[0.9,\"#4d9221\"],[1,\"#276419\"]],\"sequential\":[[0.0,\"#0d0887\"],[0.1111111111111111,\"#46039f\"],[0.2222222222222222,\"#7201a8\"],[0.3333333333333333,\"#9c179e\"],[0.4444444444444444,\"#bd3786\"],[0.5555555555555556,\"#d8576b\"],[0.6666666666666666,\"#ed7953\"],[0.7777777777777778,\"#fb9f3a\"],[0.8888888888888888,\"#fdca26\"],[1.0,\"#f0f921\"]],\"sequentialminus\":[[0.0,\"#0d0887\"],[0.1111111111111111,\"#46039f\"],[0.2222222222222222,\"#7201a8\"],[0.3333333333333333,\"#9c179e\"],[0.4444444444444444,\"#bd3786\"],[0.5555555555555556,\"#d8576b\"],[0.6666666666666666,\"#ed7953\"],[0.7777777777777778,\"#fb9f3a\"],[0.8888888888888888,\"#fdca26\"],[1.0,\"#f0f921\"]]},\"colorway\":[\"#636efa\",\"#EF553B\",\"#00cc96\",\"#ab63fa\",\"#FFA15A\",\"#19d3f3\",\"#FF6692\",\"#B6E880\",\"#FF97FF\",\"#FECB52\"],\"font\":{\"color\":\"#2a3f5f\"},\"geo\":{\"bgcolor\":\"white\",\"lakecolor\":\"white\",\"landcolor\":\"#E5ECF6\",\"showlakes\":true,\"showland\":true,\"subunitcolor\":\"white\"},\"hoverlabel\":{\"align\":\"left\"},\"hovermode\":\"closest\",\"mapbox\":{\"style\":\"light\"},\"paper_bgcolor\":\"white\",\"plot_bgcolor\":\"#E5ECF6\",\"polar\":{\"angularaxis\":{\"gridcolor\":\"white\",\"linecolor\":\"white\",\"ticks\":\"\"},\"bgcolor\":\"#E5ECF6\",\"radialaxis\":{\"gridcolor\":\"white\",\"linecolor\":\"white\",\"ticks\":\"\"}},\"scene\":{\"xaxis\":{\"backgroundcolor\":\"#E5ECF6\",\"gridcolor\":\"white\",\"gridwidth\":2,\"linecolor\":\"white\",\"showbackground\":true,\"ticks\":\"\",\"zerolinecolor\":\"white\"},\"yaxis\":{\"backgroundcolor\":\"#E5ECF6\",\"gridcolor\":\"white\",\"gridwidth\":2,\"linecolor\":\"white\",\"showbackground\":true,\"ticks\":\"\",\"zerolinecolor\":\"white\"},\"zaxis\":{\"backgroundcolor\":\"#E5ECF6\",\"gridcolor\":\"white\",\"gridwidth\":2,\"linecolor\":\"white\",\"showbackground\":true,\"ticks\":\"\",\"zerolinecolor\":\"white\"}},\"shapedefaults\":{\"line\":{\"color\":\"#2a3f5f\"}},\"ternary\":{\"aaxis\":{\"gridcolor\":\"white\",\"linecolor\":\"white\",\"ticks\":\"\"},\"baxis\":{\"gridcolor\":\"white\",\"linecolor\":\"white\",\"ticks\":\"\"},\"bgcolor\":\"#E5ECF6\",\"caxis\":{\"gridcolor\":\"white\",\"linecolor\":\"white\",\"ticks\":\"\"}},\"title\":{\"x\":0.05},\"xaxis\":{\"automargin\":true,\"gridcolor\":\"white\",\"linecolor\":\"white\",\"ticks\":\"\",\"title\":{\"standoff\":15},\"zerolinecolor\":\"white\",\"zerolinewidth\":2},\"yaxis\":{\"automargin\":true,\"gridcolor\":\"white\",\"linecolor\":\"white\",\"ticks\":\"\",\"title\":{\"standoff\":15},\"zerolinecolor\":\"white\",\"zerolinewidth\":2}}},\"title\":{\"font\":{\"color\":\"#4D5663\"},\"text\":\"New Cases ByPublish Date\"},\"xaxis\":{\"gridcolor\":\"#E1E5ED\",\"showgrid\":true,\"tickfont\":{\"color\":\"#4D5663\"},\"title\":{\"font\":{\"color\":\"#4D5663\"},\"text\":\"Cities\"},\"zerolinecolor\":\"#E1E5ED\"},\"yaxis\":{\"gridcolor\":\"#E1E5ED\",\"showgrid\":true,\"tickfont\":{\"color\":\"#4D5663\"},\"title\":{\"font\":{\"color\":\"#4D5663\"},\"text\":\"Cases\"},\"zerolinecolor\":\"#E1E5ED\"}},                        {\"showLink\": true, \"linkText\": \"Export to plot.ly\", \"plotlyServerURL\": \"https://plot.ly\", \"responsive\": true}                    ).then(function(){\n",
       "                            \n",
       "var gd = document.getElementById('4e9e04dd-7bea-44d2-89f0-ae12a7e0fd9b');\n",
       "var x = new MutationObserver(function (mutations, observer) {{\n",
       "        var display = window.getComputedStyle(gd).display;\n",
       "        if (!display || display === 'none') {{\n",
       "            console.log([gd, 'removed!']);\n",
       "            Plotly.purge(gd);\n",
       "            observer.disconnect();\n",
       "        }}\n",
       "}});\n",
       "\n",
       "// Listen for the removal of the full notebook cells\n",
       "var notebookContainer = gd.closest('#notebook-container');\n",
       "if (notebookContainer) {{\n",
       "    x.observe(notebookContainer, {childList: true});\n",
       "}}\n",
       "\n",
       "// Listen for the clearing of the current output cell\n",
       "var outputEl = gd.closest('.output');\n",
       "if (outputEl) {{\n",
       "    x.observe(outputEl, {childList: true});\n",
       "}}\n",
       "\n",
       "                        })                };                });            </script>        </div>"
      ]
     },
     "metadata": {},
     "output_type": "display_data"
    }
   ],
   "source": [
    "\n",
    "pyo.init_notebook_mode(connected=True)\n",
    "\n",
    "cf.go_offline()\n",
    "\n",
    "Dataset_LocationWise.iplot(kind='bar', x='Name',y='newCasesByPublishDate',mode ='markers+lines',title = 'New Cases ByPublish Date',\n",
    "         xTitle='Cities',yTitle='Cases',colors='red',size=10)"
   ]
  },
  {
   "cell_type": "code",
   "execution_count": 599,
   "id": "7ebaffbc",
   "metadata": {},
   "outputs": [
    {
     "data": {
      "text/html": [
       "<div>\n",
       "<style scoped>\n",
       "    .dataframe tbody tr th:only-of-type {\n",
       "        vertical-align: middle;\n",
       "    }\n",
       "\n",
       "    .dataframe tbody tr th {\n",
       "        vertical-align: top;\n",
       "    }\n",
       "\n",
       "    .dataframe thead th {\n",
       "        text-align: right;\n",
       "    }\n",
       "</style>\n",
       "<table border=\"1\" class=\"dataframe\">\n",
       "  <thead>\n",
       "    <tr style=\"text-align: right;\">\n",
       "      <th></th>\n",
       "      <th>areaName</th>\n",
       "      <th>admissions</th>\n",
       "      <th>In-pts</th>\n",
       "      <th>newCasesByPublishDate</th>\n",
       "      <th>mech-vent</th>\n",
       "      <th>deaths</th>\n",
       "      <th>newCasesByPublishDate</th>\n",
       "      <th>mech-vent</th>\n",
       "    </tr>\n",
       "  </thead>\n",
       "  <tbody>\n",
       "    <tr>\n",
       "      <th>0</th>\n",
       "      <td>United Kingdom</td>\n",
       "      <td>4134</td>\n",
       "      <td>34336</td>\n",
       "      <td>68053.0</td>\n",
       "      <td>3736.0</td>\n",
       "      <td>1246.0</td>\n",
       "      <td>68053.0</td>\n",
       "      <td>3736.0</td>\n",
       "    </tr>\n",
       "  </tbody>\n",
       "</table>\n",
       "</div>"
      ],
      "text/plain": [
       "         areaName  admissions  In-pts  newCasesByPublishDate  mech-vent  \\\n",
       "0  United Kingdom        4134   34336                68053.0     3736.0   \n",
       "\n",
       "   deaths  newCasesByPublishDate  mech-vent  \n",
       "0  1246.0                68053.0     3736.0  "
      ]
     },
     "execution_count": 599,
     "metadata": {},
     "output_type": "execute_result"
    }
   ],
   "source": [
    "Dataset_LocationWise = survey_raw_data.groupby('areaName', as_index=False)\n",
    "Dataset_LocationWise = Dataset_LocationWise.max('Name')\n",
    "Dataset_LocationWise"
   ]
  },
  {
   "cell_type": "code",
   "execution_count": 600,
   "id": "dab419a2",
   "metadata": {},
   "outputs": [
    {
     "data": {
      "text/html": [
       "<div>\n",
       "<style scoped>\n",
       "    .dataframe tbody tr th:only-of-type {\n",
       "        vertical-align: middle;\n",
       "    }\n",
       "\n",
       "    .dataframe tbody tr th {\n",
       "        vertical-align: top;\n",
       "    }\n",
       "\n",
       "    .dataframe thead th {\n",
       "        text-align: right;\n",
       "    }\n",
       "</style>\n",
       "<table border=\"1\" class=\"dataframe\">\n",
       "  <thead>\n",
       "    <tr style=\"text-align: right;\">\n",
       "      <th></th>\n",
       "      <th>Name</th>\n",
       "      <th>admissions</th>\n",
       "      <th>In-pts</th>\n",
       "      <th>newCasesByPublishDate</th>\n",
       "      <th>mech-vent</th>\n",
       "      <th>deaths</th>\n",
       "      <th>newCasesByPublishDate</th>\n",
       "      <th>mech-vent</th>\n",
       "    </tr>\n",
       "  </thead>\n",
       "  <tbody>\n",
       "    <tr>\n",
       "      <th>331</th>\n",
       "      <td>YOUR HEALTHCARE</td>\n",
       "      <td>184</td>\n",
       "      <td>3423</td>\n",
       "      <td>60916.0</td>\n",
       "      <td>297.0</td>\n",
       "      <td>54.0</td>\n",
       "      <td>60916.0</td>\n",
       "      <td>297.0</td>\n",
       "    </tr>\n",
       "    <tr>\n",
       "      <th>330</th>\n",
       "      <td>YORK TEACHING HOSPITAL NHS FOUNDATION TRUST</td>\n",
       "      <td>3351</td>\n",
       "      <td>24957</td>\n",
       "      <td>958.0</td>\n",
       "      <td>2181.0</td>\n",
       "      <td>649.0</td>\n",
       "      <td>958.0</td>\n",
       "      <td>2181.0</td>\n",
       "    </tr>\n",
       "    <tr>\n",
       "      <th>329</th>\n",
       "      <td>YEW TREES</td>\n",
       "      <td>1955</td>\n",
       "      <td>18604</td>\n",
       "      <td>5294.0</td>\n",
       "      <td>2865.0</td>\n",
       "      <td>862.0</td>\n",
       "      <td>5294.0</td>\n",
       "      <td>2865.0</td>\n",
       "    </tr>\n",
       "    <tr>\n",
       "      <th>328</th>\n",
       "      <td>WYE VALLEY NHS TRUST</td>\n",
       "      <td>1279</td>\n",
       "      <td>7454</td>\n",
       "      <td>1715.0</td>\n",
       "      <td>681.0</td>\n",
       "      <td>222.0</td>\n",
       "      <td>1715.0</td>\n",
       "      <td>681.0</td>\n",
       "    </tr>\n",
       "    <tr>\n",
       "      <th>327</th>\n",
       "      <td>WORCESTERSHIRE HEALTH AND CARE NHS TRUST</td>\n",
       "      <td>792</td>\n",
       "      <td>4379</td>\n",
       "      <td>2919.0</td>\n",
       "      <td>482.0</td>\n",
       "      <td>124.0</td>\n",
       "      <td>2919.0</td>\n",
       "      <td>482.0</td>\n",
       "    </tr>\n",
       "    <tr>\n",
       "      <th>326</th>\n",
       "      <td>WORCESTERSHIRE ACUTE HOSPITALS NHS TRUST</td>\n",
       "      <td>1666</td>\n",
       "      <td>12199</td>\n",
       "      <td>1129.0</td>\n",
       "      <td>1088.0</td>\n",
       "      <td>350.0</td>\n",
       "      <td>1129.0</td>\n",
       "      <td>1088.0</td>\n",
       "    </tr>\n",
       "    <tr>\n",
       "      <th>325</th>\n",
       "      <td>WOODTHORPE HOSPITAL</td>\n",
       "      <td>515</td>\n",
       "      <td>3225</td>\n",
       "      <td>3105.0</td>\n",
       "      <td>396.0</td>\n",
       "      <td>90.0</td>\n",
       "      <td>3105.0</td>\n",
       "      <td>396.0</td>\n",
       "    </tr>\n",
       "    <tr>\n",
       "      <th>324</th>\n",
       "      <td>WOODLAND HOSPITAL</td>\n",
       "      <td>513</td>\n",
       "      <td>3044</td>\n",
       "      <td>3395.0</td>\n",
       "      <td>368.0</td>\n",
       "      <td>75.0</td>\n",
       "      <td>3395.0</td>\n",
       "      <td>368.0</td>\n",
       "    </tr>\n",
       "    <tr>\n",
       "      <th>323</th>\n",
       "      <td>WIRRAL UNIVERSITY TEACHING HOSPITAL NHS FOUNDA...</td>\n",
       "      <td>662</td>\n",
       "      <td>10663</td>\n",
       "      <td>4310.0</td>\n",
       "      <td>1630.0</td>\n",
       "      <td>184.0</td>\n",
       "      <td>4310.0</td>\n",
       "      <td>1630.0</td>\n",
       "    </tr>\n",
       "    <tr>\n",
       "      <th>322</th>\n",
       "      <td>WHITTINGTON HEALTH NHS TRUST</td>\n",
       "      <td>50</td>\n",
       "      <td>809</td>\n",
       "      <td>11299.0</td>\n",
       "      <td>74.0</td>\n",
       "      <td>9.0</td>\n",
       "      <td>11299.0</td>\n",
       "      <td>74.0</td>\n",
       "    </tr>\n",
       "  </tbody>\n",
       "</table>\n",
       "</div>"
      ],
      "text/plain": [
       "                                                  Name  admissions  In-pts  \\\n",
       "331                                    YOUR HEALTHCARE         184    3423   \n",
       "330        YORK TEACHING HOSPITAL NHS FOUNDATION TRUST        3351   24957   \n",
       "329                                          YEW TREES        1955   18604   \n",
       "328                               WYE VALLEY NHS TRUST        1279    7454   \n",
       "327           WORCESTERSHIRE HEALTH AND CARE NHS TRUST         792    4379   \n",
       "326           WORCESTERSHIRE ACUTE HOSPITALS NHS TRUST        1666   12199   \n",
       "325                                WOODTHORPE HOSPITAL         515    3225   \n",
       "324                                  WOODLAND HOSPITAL         513    3044   \n",
       "323  WIRRAL UNIVERSITY TEACHING HOSPITAL NHS FOUNDA...         662   10663   \n",
       "322                       WHITTINGTON HEALTH NHS TRUST          50     809   \n",
       "\n",
       "     newCasesByPublishDate  mech-vent  deaths  newCasesByPublishDate  \\\n",
       "331                60916.0      297.0    54.0                60916.0   \n",
       "330                  958.0     2181.0   649.0                  958.0   \n",
       "329                 5294.0     2865.0   862.0                 5294.0   \n",
       "328                 1715.0      681.0   222.0                 1715.0   \n",
       "327                 2919.0      482.0   124.0                 2919.0   \n",
       "326                 1129.0     1088.0   350.0                 1129.0   \n",
       "325                 3105.0      396.0    90.0                 3105.0   \n",
       "324                 3395.0      368.0    75.0                 3395.0   \n",
       "323                 4310.0     1630.0   184.0                 4310.0   \n",
       "322                11299.0       74.0     9.0                11299.0   \n",
       "\n",
       "     mech-vent  \n",
       "331      297.0  \n",
       "330     2181.0  \n",
       "329     2865.0  \n",
       "328      681.0  \n",
       "327      482.0  \n",
       "326     1088.0  \n",
       "325      396.0  \n",
       "324      368.0  \n",
       "323     1630.0  \n",
       "322       74.0  "
      ]
     },
     "execution_count": 600,
     "metadata": {},
     "output_type": "execute_result"
    }
   ],
   "source": [
    "Top_10_area_highest_total_cases = survey_raw_data.groupby('Name', as_index=False).max('date').sort_values('Name', ascending = False).head(10)\n",
    "\n",
    "Top_10_area_highest_total_cases"
   ]
  },
  {
   "cell_type": "code",
   "execution_count": 601,
   "id": "70acee95",
   "metadata": {},
   "outputs": [
    {
     "data": {
      "application/vnd.plotly.v1+json": {
       "config": {
        "linkText": "Export to plot.ly",
        "plotlyServerURL": "https://plot.ly",
        "showLink": true
       },
       "data": [
        {
         "line": {
          "color": "rgba(219, 64, 82, 1.0)",
          "dash": "solid",
          "shape": "linear",
          "width": 1.3
         },
         "marker": {
          "size": 10,
          "symbol": "circle"
         },
         "mode": "markers+lines",
         "name": "admissions",
         "text": "",
         "type": "scatter",
         "x": [
          "YOUR HEALTHCARE",
          "YORK TEACHING HOSPITAL NHS FOUNDATION TRUST",
          "YEW TREES",
          "WYE VALLEY NHS TRUST",
          "WORCESTERSHIRE HEALTH AND CARE NHS TRUST",
          "WORCESTERSHIRE ACUTE HOSPITALS NHS TRUST",
          "WOODTHORPE HOSPITAL",
          "WOODLAND HOSPITAL",
          "WIRRAL UNIVERSITY TEACHING HOSPITAL NHS FOUNDATION TRUST",
          "WHITTINGTON HEALTH NHS TRUST"
         ],
         "y": [
          184,
          3351,
          1955,
          1279,
          792,
          1666,
          515,
          513,
          662,
          50
         ]
        }
       ],
       "layout": {
        "legend": {
         "bgcolor": "#F5F6F9",
         "font": {
          "color": "#4D5663"
         }
        },
        "paper_bgcolor": "#F5F6F9",
        "plot_bgcolor": "#F5F6F9",
        "template": {
         "data": {
          "bar": [
           {
            "error_x": {
             "color": "#2a3f5f"
            },
            "error_y": {
             "color": "#2a3f5f"
            },
            "marker": {
             "line": {
              "color": "#E5ECF6",
              "width": 0.5
             },
             "pattern": {
              "fillmode": "overlay",
              "size": 10,
              "solidity": 0.2
             }
            },
            "type": "bar"
           }
          ],
          "barpolar": [
           {
            "marker": {
             "line": {
              "color": "#E5ECF6",
              "width": 0.5
             },
             "pattern": {
              "fillmode": "overlay",
              "size": 10,
              "solidity": 0.2
             }
            },
            "type": "barpolar"
           }
          ],
          "carpet": [
           {
            "aaxis": {
             "endlinecolor": "#2a3f5f",
             "gridcolor": "white",
             "linecolor": "white",
             "minorgridcolor": "white",
             "startlinecolor": "#2a3f5f"
            },
            "baxis": {
             "endlinecolor": "#2a3f5f",
             "gridcolor": "white",
             "linecolor": "white",
             "minorgridcolor": "white",
             "startlinecolor": "#2a3f5f"
            },
            "type": "carpet"
           }
          ],
          "choropleth": [
           {
            "colorbar": {
             "outlinewidth": 0,
             "ticks": ""
            },
            "type": "choropleth"
           }
          ],
          "contour": [
           {
            "colorbar": {
             "outlinewidth": 0,
             "ticks": ""
            },
            "colorscale": [
             [
              0,
              "#0d0887"
             ],
             [
              0.1111111111111111,
              "#46039f"
             ],
             [
              0.2222222222222222,
              "#7201a8"
             ],
             [
              0.3333333333333333,
              "#9c179e"
             ],
             [
              0.4444444444444444,
              "#bd3786"
             ],
             [
              0.5555555555555556,
              "#d8576b"
             ],
             [
              0.6666666666666666,
              "#ed7953"
             ],
             [
              0.7777777777777778,
              "#fb9f3a"
             ],
             [
              0.8888888888888888,
              "#fdca26"
             ],
             [
              1,
              "#f0f921"
             ]
            ],
            "type": "contour"
           }
          ],
          "contourcarpet": [
           {
            "colorbar": {
             "outlinewidth": 0,
             "ticks": ""
            },
            "type": "contourcarpet"
           }
          ],
          "heatmap": [
           {
            "colorbar": {
             "outlinewidth": 0,
             "ticks": ""
            },
            "colorscale": [
             [
              0,
              "#0d0887"
             ],
             [
              0.1111111111111111,
              "#46039f"
             ],
             [
              0.2222222222222222,
              "#7201a8"
             ],
             [
              0.3333333333333333,
              "#9c179e"
             ],
             [
              0.4444444444444444,
              "#bd3786"
             ],
             [
              0.5555555555555556,
              "#d8576b"
             ],
             [
              0.6666666666666666,
              "#ed7953"
             ],
             [
              0.7777777777777778,
              "#fb9f3a"
             ],
             [
              0.8888888888888888,
              "#fdca26"
             ],
             [
              1,
              "#f0f921"
             ]
            ],
            "type": "heatmap"
           }
          ],
          "heatmapgl": [
           {
            "colorbar": {
             "outlinewidth": 0,
             "ticks": ""
            },
            "colorscale": [
             [
              0,
              "#0d0887"
             ],
             [
              0.1111111111111111,
              "#46039f"
             ],
             [
              0.2222222222222222,
              "#7201a8"
             ],
             [
              0.3333333333333333,
              "#9c179e"
             ],
             [
              0.4444444444444444,
              "#bd3786"
             ],
             [
              0.5555555555555556,
              "#d8576b"
             ],
             [
              0.6666666666666666,
              "#ed7953"
             ],
             [
              0.7777777777777778,
              "#fb9f3a"
             ],
             [
              0.8888888888888888,
              "#fdca26"
             ],
             [
              1,
              "#f0f921"
             ]
            ],
            "type": "heatmapgl"
           }
          ],
          "histogram": [
           {
            "marker": {
             "pattern": {
              "fillmode": "overlay",
              "size": 10,
              "solidity": 0.2
             }
            },
            "type": "histogram"
           }
          ],
          "histogram2d": [
           {
            "colorbar": {
             "outlinewidth": 0,
             "ticks": ""
            },
            "colorscale": [
             [
              0,
              "#0d0887"
             ],
             [
              0.1111111111111111,
              "#46039f"
             ],
             [
              0.2222222222222222,
              "#7201a8"
             ],
             [
              0.3333333333333333,
              "#9c179e"
             ],
             [
              0.4444444444444444,
              "#bd3786"
             ],
             [
              0.5555555555555556,
              "#d8576b"
             ],
             [
              0.6666666666666666,
              "#ed7953"
             ],
             [
              0.7777777777777778,
              "#fb9f3a"
             ],
             [
              0.8888888888888888,
              "#fdca26"
             ],
             [
              1,
              "#f0f921"
             ]
            ],
            "type": "histogram2d"
           }
          ],
          "histogram2dcontour": [
           {
            "colorbar": {
             "outlinewidth": 0,
             "ticks": ""
            },
            "colorscale": [
             [
              0,
              "#0d0887"
             ],
             [
              0.1111111111111111,
              "#46039f"
             ],
             [
              0.2222222222222222,
              "#7201a8"
             ],
             [
              0.3333333333333333,
              "#9c179e"
             ],
             [
              0.4444444444444444,
              "#bd3786"
             ],
             [
              0.5555555555555556,
              "#d8576b"
             ],
             [
              0.6666666666666666,
              "#ed7953"
             ],
             [
              0.7777777777777778,
              "#fb9f3a"
             ],
             [
              0.8888888888888888,
              "#fdca26"
             ],
             [
              1,
              "#f0f921"
             ]
            ],
            "type": "histogram2dcontour"
           }
          ],
          "mesh3d": [
           {
            "colorbar": {
             "outlinewidth": 0,
             "ticks": ""
            },
            "type": "mesh3d"
           }
          ],
          "parcoords": [
           {
            "line": {
             "colorbar": {
              "outlinewidth": 0,
              "ticks": ""
             }
            },
            "type": "parcoords"
           }
          ],
          "pie": [
           {
            "automargin": true,
            "type": "pie"
           }
          ],
          "scatter": [
           {
            "marker": {
             "colorbar": {
              "outlinewidth": 0,
              "ticks": ""
             }
            },
            "type": "scatter"
           }
          ],
          "scatter3d": [
           {
            "line": {
             "colorbar": {
              "outlinewidth": 0,
              "ticks": ""
             }
            },
            "marker": {
             "colorbar": {
              "outlinewidth": 0,
              "ticks": ""
             }
            },
            "type": "scatter3d"
           }
          ],
          "scattercarpet": [
           {
            "marker": {
             "colorbar": {
              "outlinewidth": 0,
              "ticks": ""
             }
            },
            "type": "scattercarpet"
           }
          ],
          "scattergeo": [
           {
            "marker": {
             "colorbar": {
              "outlinewidth": 0,
              "ticks": ""
             }
            },
            "type": "scattergeo"
           }
          ],
          "scattergl": [
           {
            "marker": {
             "colorbar": {
              "outlinewidth": 0,
              "ticks": ""
             }
            },
            "type": "scattergl"
           }
          ],
          "scattermapbox": [
           {
            "marker": {
             "colorbar": {
              "outlinewidth": 0,
              "ticks": ""
             }
            },
            "type": "scattermapbox"
           }
          ],
          "scatterpolar": [
           {
            "marker": {
             "colorbar": {
              "outlinewidth": 0,
              "ticks": ""
             }
            },
            "type": "scatterpolar"
           }
          ],
          "scatterpolargl": [
           {
            "marker": {
             "colorbar": {
              "outlinewidth": 0,
              "ticks": ""
             }
            },
            "type": "scatterpolargl"
           }
          ],
          "scatterternary": [
           {
            "marker": {
             "colorbar": {
              "outlinewidth": 0,
              "ticks": ""
             }
            },
            "type": "scatterternary"
           }
          ],
          "surface": [
           {
            "colorbar": {
             "outlinewidth": 0,
             "ticks": ""
            },
            "colorscale": [
             [
              0,
              "#0d0887"
             ],
             [
              0.1111111111111111,
              "#46039f"
             ],
             [
              0.2222222222222222,
              "#7201a8"
             ],
             [
              0.3333333333333333,
              "#9c179e"
             ],
             [
              0.4444444444444444,
              "#bd3786"
             ],
             [
              0.5555555555555556,
              "#d8576b"
             ],
             [
              0.6666666666666666,
              "#ed7953"
             ],
             [
              0.7777777777777778,
              "#fb9f3a"
             ],
             [
              0.8888888888888888,
              "#fdca26"
             ],
             [
              1,
              "#f0f921"
             ]
            ],
            "type": "surface"
           }
          ],
          "table": [
           {
            "cells": {
             "fill": {
              "color": "#EBF0F8"
             },
             "line": {
              "color": "white"
             }
            },
            "header": {
             "fill": {
              "color": "#C8D4E3"
             },
             "line": {
              "color": "white"
             }
            },
            "type": "table"
           }
          ]
         },
         "layout": {
          "annotationdefaults": {
           "arrowcolor": "#2a3f5f",
           "arrowhead": 0,
           "arrowwidth": 1
          },
          "autotypenumbers": "strict",
          "coloraxis": {
           "colorbar": {
            "outlinewidth": 0,
            "ticks": ""
           }
          },
          "colorscale": {
           "diverging": [
            [
             0,
             "#8e0152"
            ],
            [
             0.1,
             "#c51b7d"
            ],
            [
             0.2,
             "#de77ae"
            ],
            [
             0.3,
             "#f1b6da"
            ],
            [
             0.4,
             "#fde0ef"
            ],
            [
             0.5,
             "#f7f7f7"
            ],
            [
             0.6,
             "#e6f5d0"
            ],
            [
             0.7,
             "#b8e186"
            ],
            [
             0.8,
             "#7fbc41"
            ],
            [
             0.9,
             "#4d9221"
            ],
            [
             1,
             "#276419"
            ]
           ],
           "sequential": [
            [
             0,
             "#0d0887"
            ],
            [
             0.1111111111111111,
             "#46039f"
            ],
            [
             0.2222222222222222,
             "#7201a8"
            ],
            [
             0.3333333333333333,
             "#9c179e"
            ],
            [
             0.4444444444444444,
             "#bd3786"
            ],
            [
             0.5555555555555556,
             "#d8576b"
            ],
            [
             0.6666666666666666,
             "#ed7953"
            ],
            [
             0.7777777777777778,
             "#fb9f3a"
            ],
            [
             0.8888888888888888,
             "#fdca26"
            ],
            [
             1,
             "#f0f921"
            ]
           ],
           "sequentialminus": [
            [
             0,
             "#0d0887"
            ],
            [
             0.1111111111111111,
             "#46039f"
            ],
            [
             0.2222222222222222,
             "#7201a8"
            ],
            [
             0.3333333333333333,
             "#9c179e"
            ],
            [
             0.4444444444444444,
             "#bd3786"
            ],
            [
             0.5555555555555556,
             "#d8576b"
            ],
            [
             0.6666666666666666,
             "#ed7953"
            ],
            [
             0.7777777777777778,
             "#fb9f3a"
            ],
            [
             0.8888888888888888,
             "#fdca26"
            ],
            [
             1,
             "#f0f921"
            ]
           ]
          },
          "colorway": [
           "#636efa",
           "#EF553B",
           "#00cc96",
           "#ab63fa",
           "#FFA15A",
           "#19d3f3",
           "#FF6692",
           "#B6E880",
           "#FF97FF",
           "#FECB52"
          ],
          "font": {
           "color": "#2a3f5f"
          },
          "geo": {
           "bgcolor": "white",
           "lakecolor": "white",
           "landcolor": "#E5ECF6",
           "showlakes": true,
           "showland": true,
           "subunitcolor": "white"
          },
          "hoverlabel": {
           "align": "left"
          },
          "hovermode": "closest",
          "mapbox": {
           "style": "light"
          },
          "paper_bgcolor": "white",
          "plot_bgcolor": "#E5ECF6",
          "polar": {
           "angularaxis": {
            "gridcolor": "white",
            "linecolor": "white",
            "ticks": ""
           },
           "bgcolor": "#E5ECF6",
           "radialaxis": {
            "gridcolor": "white",
            "linecolor": "white",
            "ticks": ""
           }
          },
          "scene": {
           "xaxis": {
            "backgroundcolor": "#E5ECF6",
            "gridcolor": "white",
            "gridwidth": 2,
            "linecolor": "white",
            "showbackground": true,
            "ticks": "",
            "zerolinecolor": "white"
           },
           "yaxis": {
            "backgroundcolor": "#E5ECF6",
            "gridcolor": "white",
            "gridwidth": 2,
            "linecolor": "white",
            "showbackground": true,
            "ticks": "",
            "zerolinecolor": "white"
           },
           "zaxis": {
            "backgroundcolor": "#E5ECF6",
            "gridcolor": "white",
            "gridwidth": 2,
            "linecolor": "white",
            "showbackground": true,
            "ticks": "",
            "zerolinecolor": "white"
           }
          },
          "shapedefaults": {
           "line": {
            "color": "#2a3f5f"
           }
          },
          "ternary": {
           "aaxis": {
            "gridcolor": "white",
            "linecolor": "white",
            "ticks": ""
           },
           "baxis": {
            "gridcolor": "white",
            "linecolor": "white",
            "ticks": ""
           },
           "bgcolor": "#E5ECF6",
           "caxis": {
            "gridcolor": "white",
            "linecolor": "white",
            "ticks": ""
           }
          },
          "title": {
           "x": 0.05
          },
          "xaxis": {
           "automargin": true,
           "gridcolor": "white",
           "linecolor": "white",
           "ticks": "",
           "title": {
            "standoff": 15
           },
           "zerolinecolor": "white",
           "zerolinewidth": 2
          },
          "yaxis": {
           "automargin": true,
           "gridcolor": "white",
           "linecolor": "white",
           "ticks": "",
           "title": {
            "standoff": 15
           },
           "zerolinecolor": "white",
           "zerolinewidth": 2
          }
         }
        },
        "title": {
         "font": {
          "color": "#4D5663"
         },
         "text": "Highest No Of Covid Cases in UK"
        },
        "xaxis": {
         "gridcolor": "#E1E5ED",
         "showgrid": true,
         "tickfont": {
          "color": "#4D5663"
         },
         "title": {
          "font": {
           "color": "#4D5663"
          },
          "text": "UK Cities"
         },
         "zerolinecolor": "#E1E5ED"
        },
        "yaxis": {
         "gridcolor": "#E1E5ED",
         "showgrid": true,
         "tickfont": {
          "color": "#4D5663"
         },
         "title": {
          "font": {
           "color": "#4D5663"
          },
          "text": "Total Cases"
         },
         "zerolinecolor": "#E1E5ED"
        }
       }
      },
      "text/html": [
       "<div>                            <div id=\"dd267621-0ce7-4b54-8a91-a0f2a2e295a5\" class=\"plotly-graph-div\" style=\"height:525px; width:100%;\"></div>            <script type=\"text/javascript\">                require([\"plotly\"], function(Plotly) {                    window.PLOTLYENV=window.PLOTLYENV || {};\n",
       "                    window.PLOTLYENV.BASE_URL='https://plot.ly';                                    if (document.getElementById(\"dd267621-0ce7-4b54-8a91-a0f2a2e295a5\")) {                    Plotly.newPlot(                        \"dd267621-0ce7-4b54-8a91-a0f2a2e295a5\",                        [{\"line\":{\"color\":\"rgba(219, 64, 82, 1.0)\",\"dash\":\"solid\",\"shape\":\"linear\",\"width\":1.3},\"marker\":{\"size\":10,\"symbol\":\"circle\"},\"mode\":\"markers+lines\",\"name\":\"admissions\",\"text\":\"\",\"type\":\"scatter\",\"x\":[\"YOUR HEALTHCARE\",\"YORK TEACHING HOSPITAL NHS FOUNDATION TRUST\",\"YEW TREES\",\"WYE VALLEY NHS TRUST\",\"WORCESTERSHIRE HEALTH AND CARE NHS TRUST\",\"WORCESTERSHIRE ACUTE HOSPITALS NHS TRUST\",\"WOODTHORPE HOSPITAL\",\"WOODLAND HOSPITAL\",\"WIRRAL UNIVERSITY TEACHING HOSPITAL NHS FOUNDATION TRUST\",\"WHITTINGTON HEALTH NHS TRUST\"],\"y\":[184,3351,1955,1279,792,1666,515,513,662,50]}],                        {\"legend\":{\"bgcolor\":\"#F5F6F9\",\"font\":{\"color\":\"#4D5663\"}},\"paper_bgcolor\":\"#F5F6F9\",\"plot_bgcolor\":\"#F5F6F9\",\"template\":{\"data\":{\"bar\":[{\"error_x\":{\"color\":\"#2a3f5f\"},\"error_y\":{\"color\":\"#2a3f5f\"},\"marker\":{\"line\":{\"color\":\"#E5ECF6\",\"width\":0.5},\"pattern\":{\"fillmode\":\"overlay\",\"size\":10,\"solidity\":0.2}},\"type\":\"bar\"}],\"barpolar\":[{\"marker\":{\"line\":{\"color\":\"#E5ECF6\",\"width\":0.5},\"pattern\":{\"fillmode\":\"overlay\",\"size\":10,\"solidity\":0.2}},\"type\":\"barpolar\"}],\"carpet\":[{\"aaxis\":{\"endlinecolor\":\"#2a3f5f\",\"gridcolor\":\"white\",\"linecolor\":\"white\",\"minorgridcolor\":\"white\",\"startlinecolor\":\"#2a3f5f\"},\"baxis\":{\"endlinecolor\":\"#2a3f5f\",\"gridcolor\":\"white\",\"linecolor\":\"white\",\"minorgridcolor\":\"white\",\"startlinecolor\":\"#2a3f5f\"},\"type\":\"carpet\"}],\"choropleth\":[{\"colorbar\":{\"outlinewidth\":0,\"ticks\":\"\"},\"type\":\"choropleth\"}],\"contour\":[{\"colorbar\":{\"outlinewidth\":0,\"ticks\":\"\"},\"colorscale\":[[0.0,\"#0d0887\"],[0.1111111111111111,\"#46039f\"],[0.2222222222222222,\"#7201a8\"],[0.3333333333333333,\"#9c179e\"],[0.4444444444444444,\"#bd3786\"],[0.5555555555555556,\"#d8576b\"],[0.6666666666666666,\"#ed7953\"],[0.7777777777777778,\"#fb9f3a\"],[0.8888888888888888,\"#fdca26\"],[1.0,\"#f0f921\"]],\"type\":\"contour\"}],\"contourcarpet\":[{\"colorbar\":{\"outlinewidth\":0,\"ticks\":\"\"},\"type\":\"contourcarpet\"}],\"heatmap\":[{\"colorbar\":{\"outlinewidth\":0,\"ticks\":\"\"},\"colorscale\":[[0.0,\"#0d0887\"],[0.1111111111111111,\"#46039f\"],[0.2222222222222222,\"#7201a8\"],[0.3333333333333333,\"#9c179e\"],[0.4444444444444444,\"#bd3786\"],[0.5555555555555556,\"#d8576b\"],[0.6666666666666666,\"#ed7953\"],[0.7777777777777778,\"#fb9f3a\"],[0.8888888888888888,\"#fdca26\"],[1.0,\"#f0f921\"]],\"type\":\"heatmap\"}],\"heatmapgl\":[{\"colorbar\":{\"outlinewidth\":0,\"ticks\":\"\"},\"colorscale\":[[0.0,\"#0d0887\"],[0.1111111111111111,\"#46039f\"],[0.2222222222222222,\"#7201a8\"],[0.3333333333333333,\"#9c179e\"],[0.4444444444444444,\"#bd3786\"],[0.5555555555555556,\"#d8576b\"],[0.6666666666666666,\"#ed7953\"],[0.7777777777777778,\"#fb9f3a\"],[0.8888888888888888,\"#fdca26\"],[1.0,\"#f0f921\"]],\"type\":\"heatmapgl\"}],\"histogram\":[{\"marker\":{\"pattern\":{\"fillmode\":\"overlay\",\"size\":10,\"solidity\":0.2}},\"type\":\"histogram\"}],\"histogram2d\":[{\"colorbar\":{\"outlinewidth\":0,\"ticks\":\"\"},\"colorscale\":[[0.0,\"#0d0887\"],[0.1111111111111111,\"#46039f\"],[0.2222222222222222,\"#7201a8\"],[0.3333333333333333,\"#9c179e\"],[0.4444444444444444,\"#bd3786\"],[0.5555555555555556,\"#d8576b\"],[0.6666666666666666,\"#ed7953\"],[0.7777777777777778,\"#fb9f3a\"],[0.8888888888888888,\"#fdca26\"],[1.0,\"#f0f921\"]],\"type\":\"histogram2d\"}],\"histogram2dcontour\":[{\"colorbar\":{\"outlinewidth\":0,\"ticks\":\"\"},\"colorscale\":[[0.0,\"#0d0887\"],[0.1111111111111111,\"#46039f\"],[0.2222222222222222,\"#7201a8\"],[0.3333333333333333,\"#9c179e\"],[0.4444444444444444,\"#bd3786\"],[0.5555555555555556,\"#d8576b\"],[0.6666666666666666,\"#ed7953\"],[0.7777777777777778,\"#fb9f3a\"],[0.8888888888888888,\"#fdca26\"],[1.0,\"#f0f921\"]],\"type\":\"histogram2dcontour\"}],\"mesh3d\":[{\"colorbar\":{\"outlinewidth\":0,\"ticks\":\"\"},\"type\":\"mesh3d\"}],\"parcoords\":[{\"line\":{\"colorbar\":{\"outlinewidth\":0,\"ticks\":\"\"}},\"type\":\"parcoords\"}],\"pie\":[{\"automargin\":true,\"type\":\"pie\"}],\"scatter\":[{\"marker\":{\"colorbar\":{\"outlinewidth\":0,\"ticks\":\"\"}},\"type\":\"scatter\"}],\"scatter3d\":[{\"line\":{\"colorbar\":{\"outlinewidth\":0,\"ticks\":\"\"}},\"marker\":{\"colorbar\":{\"outlinewidth\":0,\"ticks\":\"\"}},\"type\":\"scatter3d\"}],\"scattercarpet\":[{\"marker\":{\"colorbar\":{\"outlinewidth\":0,\"ticks\":\"\"}},\"type\":\"scattercarpet\"}],\"scattergeo\":[{\"marker\":{\"colorbar\":{\"outlinewidth\":0,\"ticks\":\"\"}},\"type\":\"scattergeo\"}],\"scattergl\":[{\"marker\":{\"colorbar\":{\"outlinewidth\":0,\"ticks\":\"\"}},\"type\":\"scattergl\"}],\"scattermapbox\":[{\"marker\":{\"colorbar\":{\"outlinewidth\":0,\"ticks\":\"\"}},\"type\":\"scattermapbox\"}],\"scatterpolar\":[{\"marker\":{\"colorbar\":{\"outlinewidth\":0,\"ticks\":\"\"}},\"type\":\"scatterpolar\"}],\"scatterpolargl\":[{\"marker\":{\"colorbar\":{\"outlinewidth\":0,\"ticks\":\"\"}},\"type\":\"scatterpolargl\"}],\"scatterternary\":[{\"marker\":{\"colorbar\":{\"outlinewidth\":0,\"ticks\":\"\"}},\"type\":\"scatterternary\"}],\"surface\":[{\"colorbar\":{\"outlinewidth\":0,\"ticks\":\"\"},\"colorscale\":[[0.0,\"#0d0887\"],[0.1111111111111111,\"#46039f\"],[0.2222222222222222,\"#7201a8\"],[0.3333333333333333,\"#9c179e\"],[0.4444444444444444,\"#bd3786\"],[0.5555555555555556,\"#d8576b\"],[0.6666666666666666,\"#ed7953\"],[0.7777777777777778,\"#fb9f3a\"],[0.8888888888888888,\"#fdca26\"],[1.0,\"#f0f921\"]],\"type\":\"surface\"}],\"table\":[{\"cells\":{\"fill\":{\"color\":\"#EBF0F8\"},\"line\":{\"color\":\"white\"}},\"header\":{\"fill\":{\"color\":\"#C8D4E3\"},\"line\":{\"color\":\"white\"}},\"type\":\"table\"}]},\"layout\":{\"annotationdefaults\":{\"arrowcolor\":\"#2a3f5f\",\"arrowhead\":0,\"arrowwidth\":1},\"autotypenumbers\":\"strict\",\"coloraxis\":{\"colorbar\":{\"outlinewidth\":0,\"ticks\":\"\"}},\"colorscale\":{\"diverging\":[[0,\"#8e0152\"],[0.1,\"#c51b7d\"],[0.2,\"#de77ae\"],[0.3,\"#f1b6da\"],[0.4,\"#fde0ef\"],[0.5,\"#f7f7f7\"],[0.6,\"#e6f5d0\"],[0.7,\"#b8e186\"],[0.8,\"#7fbc41\"],[0.9,\"#4d9221\"],[1,\"#276419\"]],\"sequential\":[[0.0,\"#0d0887\"],[0.1111111111111111,\"#46039f\"],[0.2222222222222222,\"#7201a8\"],[0.3333333333333333,\"#9c179e\"],[0.4444444444444444,\"#bd3786\"],[0.5555555555555556,\"#d8576b\"],[0.6666666666666666,\"#ed7953\"],[0.7777777777777778,\"#fb9f3a\"],[0.8888888888888888,\"#fdca26\"],[1.0,\"#f0f921\"]],\"sequentialminus\":[[0.0,\"#0d0887\"],[0.1111111111111111,\"#46039f\"],[0.2222222222222222,\"#7201a8\"],[0.3333333333333333,\"#9c179e\"],[0.4444444444444444,\"#bd3786\"],[0.5555555555555556,\"#d8576b\"],[0.6666666666666666,\"#ed7953\"],[0.7777777777777778,\"#fb9f3a\"],[0.8888888888888888,\"#fdca26\"],[1.0,\"#f0f921\"]]},\"colorway\":[\"#636efa\",\"#EF553B\",\"#00cc96\",\"#ab63fa\",\"#FFA15A\",\"#19d3f3\",\"#FF6692\",\"#B6E880\",\"#FF97FF\",\"#FECB52\"],\"font\":{\"color\":\"#2a3f5f\"},\"geo\":{\"bgcolor\":\"white\",\"lakecolor\":\"white\",\"landcolor\":\"#E5ECF6\",\"showlakes\":true,\"showland\":true,\"subunitcolor\":\"white\"},\"hoverlabel\":{\"align\":\"left\"},\"hovermode\":\"closest\",\"mapbox\":{\"style\":\"light\"},\"paper_bgcolor\":\"white\",\"plot_bgcolor\":\"#E5ECF6\",\"polar\":{\"angularaxis\":{\"gridcolor\":\"white\",\"linecolor\":\"white\",\"ticks\":\"\"},\"bgcolor\":\"#E5ECF6\",\"radialaxis\":{\"gridcolor\":\"white\",\"linecolor\":\"white\",\"ticks\":\"\"}},\"scene\":{\"xaxis\":{\"backgroundcolor\":\"#E5ECF6\",\"gridcolor\":\"white\",\"gridwidth\":2,\"linecolor\":\"white\",\"showbackground\":true,\"ticks\":\"\",\"zerolinecolor\":\"white\"},\"yaxis\":{\"backgroundcolor\":\"#E5ECF6\",\"gridcolor\":\"white\",\"gridwidth\":2,\"linecolor\":\"white\",\"showbackground\":true,\"ticks\":\"\",\"zerolinecolor\":\"white\"},\"zaxis\":{\"backgroundcolor\":\"#E5ECF6\",\"gridcolor\":\"white\",\"gridwidth\":2,\"linecolor\":\"white\",\"showbackground\":true,\"ticks\":\"\",\"zerolinecolor\":\"white\"}},\"shapedefaults\":{\"line\":{\"color\":\"#2a3f5f\"}},\"ternary\":{\"aaxis\":{\"gridcolor\":\"white\",\"linecolor\":\"white\",\"ticks\":\"\"},\"baxis\":{\"gridcolor\":\"white\",\"linecolor\":\"white\",\"ticks\":\"\"},\"bgcolor\":\"#E5ECF6\",\"caxis\":{\"gridcolor\":\"white\",\"linecolor\":\"white\",\"ticks\":\"\"}},\"title\":{\"x\":0.05},\"xaxis\":{\"automargin\":true,\"gridcolor\":\"white\",\"linecolor\":\"white\",\"ticks\":\"\",\"title\":{\"standoff\":15},\"zerolinecolor\":\"white\",\"zerolinewidth\":2},\"yaxis\":{\"automargin\":true,\"gridcolor\":\"white\",\"linecolor\":\"white\",\"ticks\":\"\",\"title\":{\"standoff\":15},\"zerolinecolor\":\"white\",\"zerolinewidth\":2}}},\"title\":{\"font\":{\"color\":\"#4D5663\"},\"text\":\"Highest No Of Covid Cases in UK\"},\"xaxis\":{\"gridcolor\":\"#E1E5ED\",\"showgrid\":true,\"tickfont\":{\"color\":\"#4D5663\"},\"title\":{\"font\":{\"color\":\"#4D5663\"},\"text\":\"UK Cities\"},\"zerolinecolor\":\"#E1E5ED\"},\"yaxis\":{\"gridcolor\":\"#E1E5ED\",\"showgrid\":true,\"tickfont\":{\"color\":\"#4D5663\"},\"title\":{\"font\":{\"color\":\"#4D5663\"},\"text\":\"Total Cases\"},\"zerolinecolor\":\"#E1E5ED\"}},                        {\"showLink\": true, \"linkText\": \"Export to plot.ly\", \"plotlyServerURL\": \"https://plot.ly\", \"responsive\": true}                    ).then(function(){\n",
       "                            \n",
       "var gd = document.getElementById('dd267621-0ce7-4b54-8a91-a0f2a2e295a5');\n",
       "var x = new MutationObserver(function (mutations, observer) {{\n",
       "        var display = window.getComputedStyle(gd).display;\n",
       "        if (!display || display === 'none') {{\n",
       "            console.log([gd, 'removed!']);\n",
       "            Plotly.purge(gd);\n",
       "            observer.disconnect();\n",
       "        }}\n",
       "}});\n",
       "\n",
       "// Listen for the removal of the full notebook cells\n",
       "var notebookContainer = gd.closest('#notebook-container');\n",
       "if (notebookContainer) {{\n",
       "    x.observe(notebookContainer, {childList: true});\n",
       "}}\n",
       "\n",
       "// Listen for the clearing of the current output cell\n",
       "var outputEl = gd.closest('.output');\n",
       "if (outputEl) {{\n",
       "    x.observe(outputEl, {childList: true});\n",
       "}}\n",
       "\n",
       "                        })                };                });            </script>        </div>"
      ]
     },
     "metadata": {},
     "output_type": "display_data"
    }
   ],
   "source": [
    "Top_10_area_highest_total_cases.iplot(kind='scatter', x='Name',y='admissions',mode ='markers+lines',title = 'Highest No Of Covid Cases in UK',\n",
    "         xTitle='UK Cities',yTitle='Total Cases',colors='red',size=10)"
   ]
  },
  {
   "cell_type": "code",
   "execution_count": 602,
   "id": "289ab665",
   "metadata": {},
   "outputs": [
    {
     "data": {
      "text/html": [
       "<div>\n",
       "<style scoped>\n",
       "    .dataframe tbody tr th:only-of-type {\n",
       "        vertical-align: middle;\n",
       "    }\n",
       "\n",
       "    .dataframe tbody tr th {\n",
       "        vertical-align: top;\n",
       "    }\n",
       "\n",
       "    .dataframe thead th {\n",
       "        text-align: right;\n",
       "    }\n",
       "</style>\n",
       "<table border=\"1\" class=\"dataframe\">\n",
       "  <thead>\n",
       "    <tr style=\"text-align: right;\">\n",
       "      <th></th>\n",
       "      <th>Name</th>\n",
       "      <th>admissions</th>\n",
       "      <th>In-pts</th>\n",
       "      <th>newCasesByPublishDate</th>\n",
       "      <th>mech-vent</th>\n",
       "      <th>deaths</th>\n",
       "      <th>newCasesByPublishDate</th>\n",
       "      <th>mech-vent</th>\n",
       "    </tr>\n",
       "  </thead>\n",
       "  <tbody>\n",
       "    <tr>\n",
       "      <th>331</th>\n",
       "      <td>YOUR HEALTHCARE</td>\n",
       "      <td>184</td>\n",
       "      <td>3423</td>\n",
       "      <td>60916.0</td>\n",
       "      <td>297.0</td>\n",
       "      <td>54.0</td>\n",
       "      <td>60916.0</td>\n",
       "      <td>297.0</td>\n",
       "    </tr>\n",
       "    <tr>\n",
       "      <th>330</th>\n",
       "      <td>YORK TEACHING HOSPITAL NHS FOUNDATION TRUST</td>\n",
       "      <td>3351</td>\n",
       "      <td>24957</td>\n",
       "      <td>958.0</td>\n",
       "      <td>2181.0</td>\n",
       "      <td>649.0</td>\n",
       "      <td>958.0</td>\n",
       "      <td>2181.0</td>\n",
       "    </tr>\n",
       "    <tr>\n",
       "      <th>329</th>\n",
       "      <td>YEW TREES</td>\n",
       "      <td>1955</td>\n",
       "      <td>18604</td>\n",
       "      <td>5294.0</td>\n",
       "      <td>2865.0</td>\n",
       "      <td>862.0</td>\n",
       "      <td>5294.0</td>\n",
       "      <td>2865.0</td>\n",
       "    </tr>\n",
       "    <tr>\n",
       "      <th>328</th>\n",
       "      <td>WYE VALLEY NHS TRUST</td>\n",
       "      <td>1279</td>\n",
       "      <td>7454</td>\n",
       "      <td>1715.0</td>\n",
       "      <td>681.0</td>\n",
       "      <td>222.0</td>\n",
       "      <td>1715.0</td>\n",
       "      <td>681.0</td>\n",
       "    </tr>\n",
       "    <tr>\n",
       "      <th>327</th>\n",
       "      <td>WORCESTERSHIRE HEALTH AND CARE NHS TRUST</td>\n",
       "      <td>792</td>\n",
       "      <td>4379</td>\n",
       "      <td>2919.0</td>\n",
       "      <td>482.0</td>\n",
       "      <td>124.0</td>\n",
       "      <td>2919.0</td>\n",
       "      <td>482.0</td>\n",
       "    </tr>\n",
       "    <tr>\n",
       "      <th>326</th>\n",
       "      <td>WORCESTERSHIRE ACUTE HOSPITALS NHS TRUST</td>\n",
       "      <td>1666</td>\n",
       "      <td>12199</td>\n",
       "      <td>1129.0</td>\n",
       "      <td>1088.0</td>\n",
       "      <td>350.0</td>\n",
       "      <td>1129.0</td>\n",
       "      <td>1088.0</td>\n",
       "    </tr>\n",
       "    <tr>\n",
       "      <th>325</th>\n",
       "      <td>WOODTHORPE HOSPITAL</td>\n",
       "      <td>515</td>\n",
       "      <td>3225</td>\n",
       "      <td>3105.0</td>\n",
       "      <td>396.0</td>\n",
       "      <td>90.0</td>\n",
       "      <td>3105.0</td>\n",
       "      <td>396.0</td>\n",
       "    </tr>\n",
       "    <tr>\n",
       "      <th>324</th>\n",
       "      <td>WOODLAND HOSPITAL</td>\n",
       "      <td>513</td>\n",
       "      <td>3044</td>\n",
       "      <td>3395.0</td>\n",
       "      <td>368.0</td>\n",
       "      <td>75.0</td>\n",
       "      <td>3395.0</td>\n",
       "      <td>368.0</td>\n",
       "    </tr>\n",
       "    <tr>\n",
       "      <th>323</th>\n",
       "      <td>WIRRAL UNIVERSITY TEACHING HOSPITAL NHS FOUNDA...</td>\n",
       "      <td>662</td>\n",
       "      <td>10663</td>\n",
       "      <td>4310.0</td>\n",
       "      <td>1630.0</td>\n",
       "      <td>184.0</td>\n",
       "      <td>4310.0</td>\n",
       "      <td>1630.0</td>\n",
       "    </tr>\n",
       "    <tr>\n",
       "      <th>322</th>\n",
       "      <td>WHITTINGTON HEALTH NHS TRUST</td>\n",
       "      <td>50</td>\n",
       "      <td>809</td>\n",
       "      <td>11299.0</td>\n",
       "      <td>74.0</td>\n",
       "      <td>9.0</td>\n",
       "      <td>11299.0</td>\n",
       "      <td>74.0</td>\n",
       "    </tr>\n",
       "  </tbody>\n",
       "</table>\n",
       "</div>"
      ],
      "text/plain": [
       "                                                  Name  admissions  In-pts  \\\n",
       "331                                    YOUR HEALTHCARE         184    3423   \n",
       "330        YORK TEACHING HOSPITAL NHS FOUNDATION TRUST        3351   24957   \n",
       "329                                          YEW TREES        1955   18604   \n",
       "328                               WYE VALLEY NHS TRUST        1279    7454   \n",
       "327           WORCESTERSHIRE HEALTH AND CARE NHS TRUST         792    4379   \n",
       "326           WORCESTERSHIRE ACUTE HOSPITALS NHS TRUST        1666   12199   \n",
       "325                                WOODTHORPE HOSPITAL         515    3225   \n",
       "324                                  WOODLAND HOSPITAL         513    3044   \n",
       "323  WIRRAL UNIVERSITY TEACHING HOSPITAL NHS FOUNDA...         662   10663   \n",
       "322                       WHITTINGTON HEALTH NHS TRUST          50     809   \n",
       "\n",
       "     newCasesByPublishDate  mech-vent  deaths  newCasesByPublishDate  \\\n",
       "331                60916.0      297.0    54.0                60916.0   \n",
       "330                  958.0     2181.0   649.0                  958.0   \n",
       "329                 5294.0     2865.0   862.0                 5294.0   \n",
       "328                 1715.0      681.0   222.0                 1715.0   \n",
       "327                 2919.0      482.0   124.0                 2919.0   \n",
       "326                 1129.0     1088.0   350.0                 1129.0   \n",
       "325                 3105.0      396.0    90.0                 3105.0   \n",
       "324                 3395.0      368.0    75.0                 3395.0   \n",
       "323                 4310.0     1630.0   184.0                 4310.0   \n",
       "322                11299.0       74.0     9.0                11299.0   \n",
       "\n",
       "     mech-vent  \n",
       "331      297.0  \n",
       "330     2181.0  \n",
       "329     2865.0  \n",
       "328      681.0  \n",
       "327      482.0  \n",
       "326     1088.0  \n",
       "325      396.0  \n",
       "324      368.0  \n",
       "323     1630.0  \n",
       "322       74.0  "
      ]
     },
     "execution_count": 602,
     "metadata": {},
     "output_type": "execute_result"
    }
   ],
   "source": [
    "Top_10_area_highest_total_cases = survey_raw_data.groupby('Name', as_index=False).max('date').sort_values('Name', ascending = False).head(10)\n",
    "\n",
    "Top_10_area_highest_total_cases"
   ]
  },
  {
   "cell_type": "code",
   "execution_count": 603,
   "id": "796eec31",
   "metadata": {},
   "outputs": [
    {
     "data": {
      "text/html": [
       "        <script type=\"text/javascript\">\n",
       "        window.PlotlyConfig = {MathJaxConfig: 'local'};\n",
       "        if (window.MathJax) {MathJax.Hub.Config({SVG: {font: \"STIX-Web\"}});}\n",
       "        if (typeof require !== 'undefined') {\n",
       "        require.undef(\"plotly\");\n",
       "        requirejs.config({\n",
       "            paths: {\n",
       "                'plotly': ['https://cdn.plot.ly/plotly-2.1.0.min']\n",
       "            }\n",
       "        });\n",
       "        require(['plotly'], function(Plotly) {\n",
       "            window._Plotly = Plotly;\n",
       "        });\n",
       "        }\n",
       "        </script>\n",
       "        "
      ]
     },
     "metadata": {},
     "output_type": "display_data"
    },
    {
     "data": {
      "text/html": [
       "        <script type=\"text/javascript\">\n",
       "        window.PlotlyConfig = {MathJaxConfig: 'local'};\n",
       "        if (window.MathJax) {MathJax.Hub.Config({SVG: {font: \"STIX-Web\"}});}\n",
       "        if (typeof require !== 'undefined') {\n",
       "        require.undef(\"plotly\");\n",
       "        requirejs.config({\n",
       "            paths: {\n",
       "                'plotly': ['https://cdn.plot.ly/plotly-2.1.0.min']\n",
       "            }\n",
       "        });\n",
       "        require(['plotly'], function(Plotly) {\n",
       "            window._Plotly = Plotly;\n",
       "        });\n",
       "        }\n",
       "        </script>\n",
       "        "
      ]
     },
     "metadata": {},
     "output_type": "display_data"
    }
   ],
   "source": [
    "pyo.init_notebook_mode(connected=True)\n",
    "\n",
    "cf.go_offline()"
   ]
  },
  {
   "cell_type": "code",
   "execution_count": 606,
   "id": "02a77c5e",
   "metadata": {},
   "outputs": [
    {
     "data": {
      "application/vnd.plotly.v1+json": {
       "config": {
        "linkText": "Export to plot.ly",
        "plotlyServerURL": "https://plot.ly",
        "showLink": true
       },
       "data": [
        {
         "line": {
          "color": "rgba(55, 128, 191, 1.0)",
          "dash": "solid",
          "shape": "linear",
          "width": 1.3
         },
         "marker": {
          "size": 10,
          "symbol": "circle"
         },
         "mode": "markers+lines",
         "name": "deaths",
         "text": "",
         "type": "scatter",
         "x": [
          "YOUR HEALTHCARE",
          "YORK TEACHING HOSPITAL NHS FOUNDATION TRUST",
          "YEW TREES",
          "WYE VALLEY NHS TRUST",
          "WORCESTERSHIRE HEALTH AND CARE NHS TRUST",
          "WORCESTERSHIRE ACUTE HOSPITALS NHS TRUST",
          "WOODTHORPE HOSPITAL",
          "WOODLAND HOSPITAL",
          "WIRRAL UNIVERSITY TEACHING HOSPITAL NHS FOUNDATION TRUST",
          "WHITTINGTON HEALTH NHS TRUST"
         ],
         "y": [
          54,
          649,
          862,
          222,
          124,
          350,
          90,
          75,
          184,
          9
         ]
        }
       ],
       "layout": {
        "legend": {
         "bgcolor": "#F5F6F9",
         "font": {
          "color": "#4D5663"
         }
        },
        "paper_bgcolor": "#F5F6F9",
        "plot_bgcolor": "#F5F6F9",
        "template": {
         "data": {
          "bar": [
           {
            "error_x": {
             "color": "#2a3f5f"
            },
            "error_y": {
             "color": "#2a3f5f"
            },
            "marker": {
             "line": {
              "color": "#E5ECF6",
              "width": 0.5
             },
             "pattern": {
              "fillmode": "overlay",
              "size": 10,
              "solidity": 0.2
             }
            },
            "type": "bar"
           }
          ],
          "barpolar": [
           {
            "marker": {
             "line": {
              "color": "#E5ECF6",
              "width": 0.5
             },
             "pattern": {
              "fillmode": "overlay",
              "size": 10,
              "solidity": 0.2
             }
            },
            "type": "barpolar"
           }
          ],
          "carpet": [
           {
            "aaxis": {
             "endlinecolor": "#2a3f5f",
             "gridcolor": "white",
             "linecolor": "white",
             "minorgridcolor": "white",
             "startlinecolor": "#2a3f5f"
            },
            "baxis": {
             "endlinecolor": "#2a3f5f",
             "gridcolor": "white",
             "linecolor": "white",
             "minorgridcolor": "white",
             "startlinecolor": "#2a3f5f"
            },
            "type": "carpet"
           }
          ],
          "choropleth": [
           {
            "colorbar": {
             "outlinewidth": 0,
             "ticks": ""
            },
            "type": "choropleth"
           }
          ],
          "contour": [
           {
            "colorbar": {
             "outlinewidth": 0,
             "ticks": ""
            },
            "colorscale": [
             [
              0,
              "#0d0887"
             ],
             [
              0.1111111111111111,
              "#46039f"
             ],
             [
              0.2222222222222222,
              "#7201a8"
             ],
             [
              0.3333333333333333,
              "#9c179e"
             ],
             [
              0.4444444444444444,
              "#bd3786"
             ],
             [
              0.5555555555555556,
              "#d8576b"
             ],
             [
              0.6666666666666666,
              "#ed7953"
             ],
             [
              0.7777777777777778,
              "#fb9f3a"
             ],
             [
              0.8888888888888888,
              "#fdca26"
             ],
             [
              1,
              "#f0f921"
             ]
            ],
            "type": "contour"
           }
          ],
          "contourcarpet": [
           {
            "colorbar": {
             "outlinewidth": 0,
             "ticks": ""
            },
            "type": "contourcarpet"
           }
          ],
          "heatmap": [
           {
            "colorbar": {
             "outlinewidth": 0,
             "ticks": ""
            },
            "colorscale": [
             [
              0,
              "#0d0887"
             ],
             [
              0.1111111111111111,
              "#46039f"
             ],
             [
              0.2222222222222222,
              "#7201a8"
             ],
             [
              0.3333333333333333,
              "#9c179e"
             ],
             [
              0.4444444444444444,
              "#bd3786"
             ],
             [
              0.5555555555555556,
              "#d8576b"
             ],
             [
              0.6666666666666666,
              "#ed7953"
             ],
             [
              0.7777777777777778,
              "#fb9f3a"
             ],
             [
              0.8888888888888888,
              "#fdca26"
             ],
             [
              1,
              "#f0f921"
             ]
            ],
            "type": "heatmap"
           }
          ],
          "heatmapgl": [
           {
            "colorbar": {
             "outlinewidth": 0,
             "ticks": ""
            },
            "colorscale": [
             [
              0,
              "#0d0887"
             ],
             [
              0.1111111111111111,
              "#46039f"
             ],
             [
              0.2222222222222222,
              "#7201a8"
             ],
             [
              0.3333333333333333,
              "#9c179e"
             ],
             [
              0.4444444444444444,
              "#bd3786"
             ],
             [
              0.5555555555555556,
              "#d8576b"
             ],
             [
              0.6666666666666666,
              "#ed7953"
             ],
             [
              0.7777777777777778,
              "#fb9f3a"
             ],
             [
              0.8888888888888888,
              "#fdca26"
             ],
             [
              1,
              "#f0f921"
             ]
            ],
            "type": "heatmapgl"
           }
          ],
          "histogram": [
           {
            "marker": {
             "pattern": {
              "fillmode": "overlay",
              "size": 10,
              "solidity": 0.2
             }
            },
            "type": "histogram"
           }
          ],
          "histogram2d": [
           {
            "colorbar": {
             "outlinewidth": 0,
             "ticks": ""
            },
            "colorscale": [
             [
              0,
              "#0d0887"
             ],
             [
              0.1111111111111111,
              "#46039f"
             ],
             [
              0.2222222222222222,
              "#7201a8"
             ],
             [
              0.3333333333333333,
              "#9c179e"
             ],
             [
              0.4444444444444444,
              "#bd3786"
             ],
             [
              0.5555555555555556,
              "#d8576b"
             ],
             [
              0.6666666666666666,
              "#ed7953"
             ],
             [
              0.7777777777777778,
              "#fb9f3a"
             ],
             [
              0.8888888888888888,
              "#fdca26"
             ],
             [
              1,
              "#f0f921"
             ]
            ],
            "type": "histogram2d"
           }
          ],
          "histogram2dcontour": [
           {
            "colorbar": {
             "outlinewidth": 0,
             "ticks": ""
            },
            "colorscale": [
             [
              0,
              "#0d0887"
             ],
             [
              0.1111111111111111,
              "#46039f"
             ],
             [
              0.2222222222222222,
              "#7201a8"
             ],
             [
              0.3333333333333333,
              "#9c179e"
             ],
             [
              0.4444444444444444,
              "#bd3786"
             ],
             [
              0.5555555555555556,
              "#d8576b"
             ],
             [
              0.6666666666666666,
              "#ed7953"
             ],
             [
              0.7777777777777778,
              "#fb9f3a"
             ],
             [
              0.8888888888888888,
              "#fdca26"
             ],
             [
              1,
              "#f0f921"
             ]
            ],
            "type": "histogram2dcontour"
           }
          ],
          "mesh3d": [
           {
            "colorbar": {
             "outlinewidth": 0,
             "ticks": ""
            },
            "type": "mesh3d"
           }
          ],
          "parcoords": [
           {
            "line": {
             "colorbar": {
              "outlinewidth": 0,
              "ticks": ""
             }
            },
            "type": "parcoords"
           }
          ],
          "pie": [
           {
            "automargin": true,
            "type": "pie"
           }
          ],
          "scatter": [
           {
            "marker": {
             "colorbar": {
              "outlinewidth": 0,
              "ticks": ""
             }
            },
            "type": "scatter"
           }
          ],
          "scatter3d": [
           {
            "line": {
             "colorbar": {
              "outlinewidth": 0,
              "ticks": ""
             }
            },
            "marker": {
             "colorbar": {
              "outlinewidth": 0,
              "ticks": ""
             }
            },
            "type": "scatter3d"
           }
          ],
          "scattercarpet": [
           {
            "marker": {
             "colorbar": {
              "outlinewidth": 0,
              "ticks": ""
             }
            },
            "type": "scattercarpet"
           }
          ],
          "scattergeo": [
           {
            "marker": {
             "colorbar": {
              "outlinewidth": 0,
              "ticks": ""
             }
            },
            "type": "scattergeo"
           }
          ],
          "scattergl": [
           {
            "marker": {
             "colorbar": {
              "outlinewidth": 0,
              "ticks": ""
             }
            },
            "type": "scattergl"
           }
          ],
          "scattermapbox": [
           {
            "marker": {
             "colorbar": {
              "outlinewidth": 0,
              "ticks": ""
             }
            },
            "type": "scattermapbox"
           }
          ],
          "scatterpolar": [
           {
            "marker": {
             "colorbar": {
              "outlinewidth": 0,
              "ticks": ""
             }
            },
            "type": "scatterpolar"
           }
          ],
          "scatterpolargl": [
           {
            "marker": {
             "colorbar": {
              "outlinewidth": 0,
              "ticks": ""
             }
            },
            "type": "scatterpolargl"
           }
          ],
          "scatterternary": [
           {
            "marker": {
             "colorbar": {
              "outlinewidth": 0,
              "ticks": ""
             }
            },
            "type": "scatterternary"
           }
          ],
          "surface": [
           {
            "colorbar": {
             "outlinewidth": 0,
             "ticks": ""
            },
            "colorscale": [
             [
              0,
              "#0d0887"
             ],
             [
              0.1111111111111111,
              "#46039f"
             ],
             [
              0.2222222222222222,
              "#7201a8"
             ],
             [
              0.3333333333333333,
              "#9c179e"
             ],
             [
              0.4444444444444444,
              "#bd3786"
             ],
             [
              0.5555555555555556,
              "#d8576b"
             ],
             [
              0.6666666666666666,
              "#ed7953"
             ],
             [
              0.7777777777777778,
              "#fb9f3a"
             ],
             [
              0.8888888888888888,
              "#fdca26"
             ],
             [
              1,
              "#f0f921"
             ]
            ],
            "type": "surface"
           }
          ],
          "table": [
           {
            "cells": {
             "fill": {
              "color": "#EBF0F8"
             },
             "line": {
              "color": "white"
             }
            },
            "header": {
             "fill": {
              "color": "#C8D4E3"
             },
             "line": {
              "color": "white"
             }
            },
            "type": "table"
           }
          ]
         },
         "layout": {
          "annotationdefaults": {
           "arrowcolor": "#2a3f5f",
           "arrowhead": 0,
           "arrowwidth": 1
          },
          "autotypenumbers": "strict",
          "coloraxis": {
           "colorbar": {
            "outlinewidth": 0,
            "ticks": ""
           }
          },
          "colorscale": {
           "diverging": [
            [
             0,
             "#8e0152"
            ],
            [
             0.1,
             "#c51b7d"
            ],
            [
             0.2,
             "#de77ae"
            ],
            [
             0.3,
             "#f1b6da"
            ],
            [
             0.4,
             "#fde0ef"
            ],
            [
             0.5,
             "#f7f7f7"
            ],
            [
             0.6,
             "#e6f5d0"
            ],
            [
             0.7,
             "#b8e186"
            ],
            [
             0.8,
             "#7fbc41"
            ],
            [
             0.9,
             "#4d9221"
            ],
            [
             1,
             "#276419"
            ]
           ],
           "sequential": [
            [
             0,
             "#0d0887"
            ],
            [
             0.1111111111111111,
             "#46039f"
            ],
            [
             0.2222222222222222,
             "#7201a8"
            ],
            [
             0.3333333333333333,
             "#9c179e"
            ],
            [
             0.4444444444444444,
             "#bd3786"
            ],
            [
             0.5555555555555556,
             "#d8576b"
            ],
            [
             0.6666666666666666,
             "#ed7953"
            ],
            [
             0.7777777777777778,
             "#fb9f3a"
            ],
            [
             0.8888888888888888,
             "#fdca26"
            ],
            [
             1,
             "#f0f921"
            ]
           ],
           "sequentialminus": [
            [
             0,
             "#0d0887"
            ],
            [
             0.1111111111111111,
             "#46039f"
            ],
            [
             0.2222222222222222,
             "#7201a8"
            ],
            [
             0.3333333333333333,
             "#9c179e"
            ],
            [
             0.4444444444444444,
             "#bd3786"
            ],
            [
             0.5555555555555556,
             "#d8576b"
            ],
            [
             0.6666666666666666,
             "#ed7953"
            ],
            [
             0.7777777777777778,
             "#fb9f3a"
            ],
            [
             0.8888888888888888,
             "#fdca26"
            ],
            [
             1,
             "#f0f921"
            ]
           ]
          },
          "colorway": [
           "#636efa",
           "#EF553B",
           "#00cc96",
           "#ab63fa",
           "#FFA15A",
           "#19d3f3",
           "#FF6692",
           "#B6E880",
           "#FF97FF",
           "#FECB52"
          ],
          "font": {
           "color": "#2a3f5f"
          },
          "geo": {
           "bgcolor": "white",
           "lakecolor": "white",
           "landcolor": "#E5ECF6",
           "showlakes": true,
           "showland": true,
           "subunitcolor": "white"
          },
          "hoverlabel": {
           "align": "left"
          },
          "hovermode": "closest",
          "mapbox": {
           "style": "light"
          },
          "paper_bgcolor": "white",
          "plot_bgcolor": "#E5ECF6",
          "polar": {
           "angularaxis": {
            "gridcolor": "white",
            "linecolor": "white",
            "ticks": ""
           },
           "bgcolor": "#E5ECF6",
           "radialaxis": {
            "gridcolor": "white",
            "linecolor": "white",
            "ticks": ""
           }
          },
          "scene": {
           "xaxis": {
            "backgroundcolor": "#E5ECF6",
            "gridcolor": "white",
            "gridwidth": 2,
            "linecolor": "white",
            "showbackground": true,
            "ticks": "",
            "zerolinecolor": "white"
           },
           "yaxis": {
            "backgroundcolor": "#E5ECF6",
            "gridcolor": "white",
            "gridwidth": 2,
            "linecolor": "white",
            "showbackground": true,
            "ticks": "",
            "zerolinecolor": "white"
           },
           "zaxis": {
            "backgroundcolor": "#E5ECF6",
            "gridcolor": "white",
            "gridwidth": 2,
            "linecolor": "white",
            "showbackground": true,
            "ticks": "",
            "zerolinecolor": "white"
           }
          },
          "shapedefaults": {
           "line": {
            "color": "#2a3f5f"
           }
          },
          "ternary": {
           "aaxis": {
            "gridcolor": "white",
            "linecolor": "white",
            "ticks": ""
           },
           "baxis": {
            "gridcolor": "white",
            "linecolor": "white",
            "ticks": ""
           },
           "bgcolor": "#E5ECF6",
           "caxis": {
            "gridcolor": "white",
            "linecolor": "white",
            "ticks": ""
           }
          },
          "title": {
           "x": 0.05
          },
          "xaxis": {
           "automargin": true,
           "gridcolor": "white",
           "linecolor": "white",
           "ticks": "",
           "title": {
            "standoff": 15
           },
           "zerolinecolor": "white",
           "zerolinewidth": 2
          },
          "yaxis": {
           "automargin": true,
           "gridcolor": "white",
           "linecolor": "white",
           "ticks": "",
           "title": {
            "standoff": 15
           },
           "zerolinecolor": "white",
           "zerolinewidth": 2
          }
         }
        },
        "title": {
         "font": {
          "color": "#4D5663"
         },
         "text": "Deaths per City"
        },
        "xaxis": {
         "gridcolor": "#E1E5ED",
         "showgrid": true,
         "tickfont": {
          "color": "#4D5663"
         },
         "title": {
          "font": {
           "color": "#4D5663"
          },
          "text": "Cities"
         },
         "zerolinecolor": "#E1E5ED"
        },
        "yaxis": {
         "gridcolor": "#E1E5ED",
         "showgrid": true,
         "tickfont": {
          "color": "#4D5663"
         },
         "title": {
          "font": {
           "color": "#4D5663"
          },
          "text": "Total Cases in cities"
         },
         "zerolinecolor": "#E1E5ED"
        }
       }
      },
      "text/html": [
       "<div>                            <div id=\"8a0a43cc-6fff-4885-a9e1-c8cdb0790b97\" class=\"plotly-graph-div\" style=\"height:525px; width:100%;\"></div>            <script type=\"text/javascript\">                require([\"plotly\"], function(Plotly) {                    window.PLOTLYENV=window.PLOTLYENV || {};\n",
       "                    window.PLOTLYENV.BASE_URL='https://plot.ly';                                    if (document.getElementById(\"8a0a43cc-6fff-4885-a9e1-c8cdb0790b97\")) {                    Plotly.newPlot(                        \"8a0a43cc-6fff-4885-a9e1-c8cdb0790b97\",                        [{\"line\":{\"color\":\"rgba(55, 128, 191, 1.0)\",\"dash\":\"solid\",\"shape\":\"linear\",\"width\":1.3},\"marker\":{\"size\":10,\"symbol\":\"circle\"},\"mode\":\"markers+lines\",\"name\":\"deaths\",\"text\":\"\",\"type\":\"scatter\",\"x\":[\"YOUR HEALTHCARE\",\"YORK TEACHING HOSPITAL NHS FOUNDATION TRUST\",\"YEW TREES\",\"WYE VALLEY NHS TRUST\",\"WORCESTERSHIRE HEALTH AND CARE NHS TRUST\",\"WORCESTERSHIRE ACUTE HOSPITALS NHS TRUST\",\"WOODTHORPE HOSPITAL\",\"WOODLAND HOSPITAL\",\"WIRRAL UNIVERSITY TEACHING HOSPITAL NHS FOUNDATION TRUST\",\"WHITTINGTON HEALTH NHS TRUST\"],\"y\":[54.0,649.0,862.0,222.0,124.0,350.0,90.0,75.0,184.0,9.0]}],                        {\"legend\":{\"bgcolor\":\"#F5F6F9\",\"font\":{\"color\":\"#4D5663\"}},\"paper_bgcolor\":\"#F5F6F9\",\"plot_bgcolor\":\"#F5F6F9\",\"template\":{\"data\":{\"bar\":[{\"error_x\":{\"color\":\"#2a3f5f\"},\"error_y\":{\"color\":\"#2a3f5f\"},\"marker\":{\"line\":{\"color\":\"#E5ECF6\",\"width\":0.5},\"pattern\":{\"fillmode\":\"overlay\",\"size\":10,\"solidity\":0.2}},\"type\":\"bar\"}],\"barpolar\":[{\"marker\":{\"line\":{\"color\":\"#E5ECF6\",\"width\":0.5},\"pattern\":{\"fillmode\":\"overlay\",\"size\":10,\"solidity\":0.2}},\"type\":\"barpolar\"}],\"carpet\":[{\"aaxis\":{\"endlinecolor\":\"#2a3f5f\",\"gridcolor\":\"white\",\"linecolor\":\"white\",\"minorgridcolor\":\"white\",\"startlinecolor\":\"#2a3f5f\"},\"baxis\":{\"endlinecolor\":\"#2a3f5f\",\"gridcolor\":\"white\",\"linecolor\":\"white\",\"minorgridcolor\":\"white\",\"startlinecolor\":\"#2a3f5f\"},\"type\":\"carpet\"}],\"choropleth\":[{\"colorbar\":{\"outlinewidth\":0,\"ticks\":\"\"},\"type\":\"choropleth\"}],\"contour\":[{\"colorbar\":{\"outlinewidth\":0,\"ticks\":\"\"},\"colorscale\":[[0.0,\"#0d0887\"],[0.1111111111111111,\"#46039f\"],[0.2222222222222222,\"#7201a8\"],[0.3333333333333333,\"#9c179e\"],[0.4444444444444444,\"#bd3786\"],[0.5555555555555556,\"#d8576b\"],[0.6666666666666666,\"#ed7953\"],[0.7777777777777778,\"#fb9f3a\"],[0.8888888888888888,\"#fdca26\"],[1.0,\"#f0f921\"]],\"type\":\"contour\"}],\"contourcarpet\":[{\"colorbar\":{\"outlinewidth\":0,\"ticks\":\"\"},\"type\":\"contourcarpet\"}],\"heatmap\":[{\"colorbar\":{\"outlinewidth\":0,\"ticks\":\"\"},\"colorscale\":[[0.0,\"#0d0887\"],[0.1111111111111111,\"#46039f\"],[0.2222222222222222,\"#7201a8\"],[0.3333333333333333,\"#9c179e\"],[0.4444444444444444,\"#bd3786\"],[0.5555555555555556,\"#d8576b\"],[0.6666666666666666,\"#ed7953\"],[0.7777777777777778,\"#fb9f3a\"],[0.8888888888888888,\"#fdca26\"],[1.0,\"#f0f921\"]],\"type\":\"heatmap\"}],\"heatmapgl\":[{\"colorbar\":{\"outlinewidth\":0,\"ticks\":\"\"},\"colorscale\":[[0.0,\"#0d0887\"],[0.1111111111111111,\"#46039f\"],[0.2222222222222222,\"#7201a8\"],[0.3333333333333333,\"#9c179e\"],[0.4444444444444444,\"#bd3786\"],[0.5555555555555556,\"#d8576b\"],[0.6666666666666666,\"#ed7953\"],[0.7777777777777778,\"#fb9f3a\"],[0.8888888888888888,\"#fdca26\"],[1.0,\"#f0f921\"]],\"type\":\"heatmapgl\"}],\"histogram\":[{\"marker\":{\"pattern\":{\"fillmode\":\"overlay\",\"size\":10,\"solidity\":0.2}},\"type\":\"histogram\"}],\"histogram2d\":[{\"colorbar\":{\"outlinewidth\":0,\"ticks\":\"\"},\"colorscale\":[[0.0,\"#0d0887\"],[0.1111111111111111,\"#46039f\"],[0.2222222222222222,\"#7201a8\"],[0.3333333333333333,\"#9c179e\"],[0.4444444444444444,\"#bd3786\"],[0.5555555555555556,\"#d8576b\"],[0.6666666666666666,\"#ed7953\"],[0.7777777777777778,\"#fb9f3a\"],[0.8888888888888888,\"#fdca26\"],[1.0,\"#f0f921\"]],\"type\":\"histogram2d\"}],\"histogram2dcontour\":[{\"colorbar\":{\"outlinewidth\":0,\"ticks\":\"\"},\"colorscale\":[[0.0,\"#0d0887\"],[0.1111111111111111,\"#46039f\"],[0.2222222222222222,\"#7201a8\"],[0.3333333333333333,\"#9c179e\"],[0.4444444444444444,\"#bd3786\"],[0.5555555555555556,\"#d8576b\"],[0.6666666666666666,\"#ed7953\"],[0.7777777777777778,\"#fb9f3a\"],[0.8888888888888888,\"#fdca26\"],[1.0,\"#f0f921\"]],\"type\":\"histogram2dcontour\"}],\"mesh3d\":[{\"colorbar\":{\"outlinewidth\":0,\"ticks\":\"\"},\"type\":\"mesh3d\"}],\"parcoords\":[{\"line\":{\"colorbar\":{\"outlinewidth\":0,\"ticks\":\"\"}},\"type\":\"parcoords\"}],\"pie\":[{\"automargin\":true,\"type\":\"pie\"}],\"scatter\":[{\"marker\":{\"colorbar\":{\"outlinewidth\":0,\"ticks\":\"\"}},\"type\":\"scatter\"}],\"scatter3d\":[{\"line\":{\"colorbar\":{\"outlinewidth\":0,\"ticks\":\"\"}},\"marker\":{\"colorbar\":{\"outlinewidth\":0,\"ticks\":\"\"}},\"type\":\"scatter3d\"}],\"scattercarpet\":[{\"marker\":{\"colorbar\":{\"outlinewidth\":0,\"ticks\":\"\"}},\"type\":\"scattercarpet\"}],\"scattergeo\":[{\"marker\":{\"colorbar\":{\"outlinewidth\":0,\"ticks\":\"\"}},\"type\":\"scattergeo\"}],\"scattergl\":[{\"marker\":{\"colorbar\":{\"outlinewidth\":0,\"ticks\":\"\"}},\"type\":\"scattergl\"}],\"scattermapbox\":[{\"marker\":{\"colorbar\":{\"outlinewidth\":0,\"ticks\":\"\"}},\"type\":\"scattermapbox\"}],\"scatterpolar\":[{\"marker\":{\"colorbar\":{\"outlinewidth\":0,\"ticks\":\"\"}},\"type\":\"scatterpolar\"}],\"scatterpolargl\":[{\"marker\":{\"colorbar\":{\"outlinewidth\":0,\"ticks\":\"\"}},\"type\":\"scatterpolargl\"}],\"scatterternary\":[{\"marker\":{\"colorbar\":{\"outlinewidth\":0,\"ticks\":\"\"}},\"type\":\"scatterternary\"}],\"surface\":[{\"colorbar\":{\"outlinewidth\":0,\"ticks\":\"\"},\"colorscale\":[[0.0,\"#0d0887\"],[0.1111111111111111,\"#46039f\"],[0.2222222222222222,\"#7201a8\"],[0.3333333333333333,\"#9c179e\"],[0.4444444444444444,\"#bd3786\"],[0.5555555555555556,\"#d8576b\"],[0.6666666666666666,\"#ed7953\"],[0.7777777777777778,\"#fb9f3a\"],[0.8888888888888888,\"#fdca26\"],[1.0,\"#f0f921\"]],\"type\":\"surface\"}],\"table\":[{\"cells\":{\"fill\":{\"color\":\"#EBF0F8\"},\"line\":{\"color\":\"white\"}},\"header\":{\"fill\":{\"color\":\"#C8D4E3\"},\"line\":{\"color\":\"white\"}},\"type\":\"table\"}]},\"layout\":{\"annotationdefaults\":{\"arrowcolor\":\"#2a3f5f\",\"arrowhead\":0,\"arrowwidth\":1},\"autotypenumbers\":\"strict\",\"coloraxis\":{\"colorbar\":{\"outlinewidth\":0,\"ticks\":\"\"}},\"colorscale\":{\"diverging\":[[0,\"#8e0152\"],[0.1,\"#c51b7d\"],[0.2,\"#de77ae\"],[0.3,\"#f1b6da\"],[0.4,\"#fde0ef\"],[0.5,\"#f7f7f7\"],[0.6,\"#e6f5d0\"],[0.7,\"#b8e186\"],[0.8,\"#7fbc41\"],[0.9,\"#4d9221\"],[1,\"#276419\"]],\"sequential\":[[0.0,\"#0d0887\"],[0.1111111111111111,\"#46039f\"],[0.2222222222222222,\"#7201a8\"],[0.3333333333333333,\"#9c179e\"],[0.4444444444444444,\"#bd3786\"],[0.5555555555555556,\"#d8576b\"],[0.6666666666666666,\"#ed7953\"],[0.7777777777777778,\"#fb9f3a\"],[0.8888888888888888,\"#fdca26\"],[1.0,\"#f0f921\"]],\"sequentialminus\":[[0.0,\"#0d0887\"],[0.1111111111111111,\"#46039f\"],[0.2222222222222222,\"#7201a8\"],[0.3333333333333333,\"#9c179e\"],[0.4444444444444444,\"#bd3786\"],[0.5555555555555556,\"#d8576b\"],[0.6666666666666666,\"#ed7953\"],[0.7777777777777778,\"#fb9f3a\"],[0.8888888888888888,\"#fdca26\"],[1.0,\"#f0f921\"]]},\"colorway\":[\"#636efa\",\"#EF553B\",\"#00cc96\",\"#ab63fa\",\"#FFA15A\",\"#19d3f3\",\"#FF6692\",\"#B6E880\",\"#FF97FF\",\"#FECB52\"],\"font\":{\"color\":\"#2a3f5f\"},\"geo\":{\"bgcolor\":\"white\",\"lakecolor\":\"white\",\"landcolor\":\"#E5ECF6\",\"showlakes\":true,\"showland\":true,\"subunitcolor\":\"white\"},\"hoverlabel\":{\"align\":\"left\"},\"hovermode\":\"closest\",\"mapbox\":{\"style\":\"light\"},\"paper_bgcolor\":\"white\",\"plot_bgcolor\":\"#E5ECF6\",\"polar\":{\"angularaxis\":{\"gridcolor\":\"white\",\"linecolor\":\"white\",\"ticks\":\"\"},\"bgcolor\":\"#E5ECF6\",\"radialaxis\":{\"gridcolor\":\"white\",\"linecolor\":\"white\",\"ticks\":\"\"}},\"scene\":{\"xaxis\":{\"backgroundcolor\":\"#E5ECF6\",\"gridcolor\":\"white\",\"gridwidth\":2,\"linecolor\":\"white\",\"showbackground\":true,\"ticks\":\"\",\"zerolinecolor\":\"white\"},\"yaxis\":{\"backgroundcolor\":\"#E5ECF6\",\"gridcolor\":\"white\",\"gridwidth\":2,\"linecolor\":\"white\",\"showbackground\":true,\"ticks\":\"\",\"zerolinecolor\":\"white\"},\"zaxis\":{\"backgroundcolor\":\"#E5ECF6\",\"gridcolor\":\"white\",\"gridwidth\":2,\"linecolor\":\"white\",\"showbackground\":true,\"ticks\":\"\",\"zerolinecolor\":\"white\"}},\"shapedefaults\":{\"line\":{\"color\":\"#2a3f5f\"}},\"ternary\":{\"aaxis\":{\"gridcolor\":\"white\",\"linecolor\":\"white\",\"ticks\":\"\"},\"baxis\":{\"gridcolor\":\"white\",\"linecolor\":\"white\",\"ticks\":\"\"},\"bgcolor\":\"#E5ECF6\",\"caxis\":{\"gridcolor\":\"white\",\"linecolor\":\"white\",\"ticks\":\"\"}},\"title\":{\"x\":0.05},\"xaxis\":{\"automargin\":true,\"gridcolor\":\"white\",\"linecolor\":\"white\",\"ticks\":\"\",\"title\":{\"standoff\":15},\"zerolinecolor\":\"white\",\"zerolinewidth\":2},\"yaxis\":{\"automargin\":true,\"gridcolor\":\"white\",\"linecolor\":\"white\",\"ticks\":\"\",\"title\":{\"standoff\":15},\"zerolinecolor\":\"white\",\"zerolinewidth\":2}}},\"title\":{\"font\":{\"color\":\"#4D5663\"},\"text\":\"Deaths per City\"},\"xaxis\":{\"gridcolor\":\"#E1E5ED\",\"showgrid\":true,\"tickfont\":{\"color\":\"#4D5663\"},\"title\":{\"font\":{\"color\":\"#4D5663\"},\"text\":\"Cities\"},\"zerolinecolor\":\"#E1E5ED\"},\"yaxis\":{\"gridcolor\":\"#E1E5ED\",\"showgrid\":true,\"tickfont\":{\"color\":\"#4D5663\"},\"title\":{\"font\":{\"color\":\"#4D5663\"},\"text\":\"Total Cases in cities\"},\"zerolinecolor\":\"#E1E5ED\"}},                        {\"showLink\": true, \"linkText\": \"Export to plot.ly\", \"plotlyServerURL\": \"https://plot.ly\", \"responsive\": true}                    ).then(function(){\n",
       "                            \n",
       "var gd = document.getElementById('8a0a43cc-6fff-4885-a9e1-c8cdb0790b97');\n",
       "var x = new MutationObserver(function (mutations, observer) {{\n",
       "        var display = window.getComputedStyle(gd).display;\n",
       "        if (!display || display === 'none') {{\n",
       "            console.log([gd, 'removed!']);\n",
       "            Plotly.purge(gd);\n",
       "            observer.disconnect();\n",
       "        }}\n",
       "}});\n",
       "\n",
       "// Listen for the removal of the full notebook cells\n",
       "var notebookContainer = gd.closest('#notebook-container');\n",
       "if (notebookContainer) {{\n",
       "    x.observe(notebookContainer, {childList: true});\n",
       "}}\n",
       "\n",
       "// Listen for the clearing of the current output cell\n",
       "var outputEl = gd.closest('.output');\n",
       "if (outputEl) {{\n",
       "    x.observe(outputEl, {childList: true});\n",
       "}}\n",
       "\n",
       "                        })                };                });            </script>        </div>"
      ]
     },
     "metadata": {},
     "output_type": "display_data"
    }
   ],
   "source": [
    "Top_10_area_highest_total_cases.iplot(kind='scatter', x='Name',y='deaths',mode ='markers+lines',title = 'Deaths per City',\n",
    "         xTitle='Cities',yTitle='Total Cases in cities',colors='blue',size=10)"
   ]
  },
  {
   "cell_type": "code",
   "execution_count": 607,
   "id": "43d206ad",
   "metadata": {},
   "outputs": [
    {
     "data": {
      "text/html": [
       "<div>\n",
       "<style scoped>\n",
       "    .dataframe tbody tr th:only-of-type {\n",
       "        vertical-align: middle;\n",
       "    }\n",
       "\n",
       "    .dataframe tbody tr th {\n",
       "        vertical-align: top;\n",
       "    }\n",
       "\n",
       "    .dataframe thead th {\n",
       "        text-align: right;\n",
       "    }\n",
       "</style>\n",
       "<table border=\"1\" class=\"dataframe\">\n",
       "  <thead>\n",
       "    <tr style=\"text-align: right;\">\n",
       "      <th></th>\n",
       "      <th>Name</th>\n",
       "      <th>admissions</th>\n",
       "      <th>In-pts</th>\n",
       "      <th>newCasesByPublishDate</th>\n",
       "      <th>mech-vent</th>\n",
       "      <th>deaths</th>\n",
       "      <th>newCasesByPublishDate</th>\n",
       "      <th>mech-vent</th>\n",
       "    </tr>\n",
       "  </thead>\n",
       "  <tbody>\n",
       "    <tr>\n",
       "      <th>108</th>\n",
       "      <td>CYGNET RAGLAN HOUSE</td>\n",
       "      <td>58</td>\n",
       "      <td>472</td>\n",
       "      <td>23012.0</td>\n",
       "      <td>59.0</td>\n",
       "      <td>2.0</td>\n",
       "      <td>23012.0</td>\n",
       "      <td>59.0</td>\n",
       "    </tr>\n",
       "    <tr>\n",
       "      <th>285</th>\n",
       "      <td>THE HARLEY STREET CLINIC (WEYMOUTH ST)</td>\n",
       "      <td>72</td>\n",
       "      <td>1611</td>\n",
       "      <td>20263.0</td>\n",
       "      <td>139.0</td>\n",
       "      <td>2.0</td>\n",
       "      <td>20263.0</td>\n",
       "      <td>139.0</td>\n",
       "    </tr>\n",
       "    <tr>\n",
       "      <th>70</th>\n",
       "      <td>CENTRAL LONDON COMMUNITY HEALTHCARE NHS TRUST</td>\n",
       "      <td>58</td>\n",
       "      <td>523</td>\n",
       "      <td>23287.0</td>\n",
       "      <td>63.0</td>\n",
       "      <td>2.0</td>\n",
       "      <td>23287.0</td>\n",
       "      <td>63.0</td>\n",
       "    </tr>\n",
       "    <tr>\n",
       "      <th>172</th>\n",
       "      <td>MOORFIELDS EYE HOSPITAL NHS FOUNDATION TRUST</td>\n",
       "      <td>60</td>\n",
       "      <td>727</td>\n",
       "      <td>20252.0</td>\n",
       "      <td>63.0</td>\n",
       "      <td>3.0</td>\n",
       "      <td>20252.0</td>\n",
       "      <td>63.0</td>\n",
       "    </tr>\n",
       "    <tr>\n",
       "      <th>119</th>\n",
       "      <td>EAST LONDON NHS FOUNDATION TRUST</td>\n",
       "      <td>39</td>\n",
       "      <td>580</td>\n",
       "      <td>21350.0</td>\n",
       "      <td>69.0</td>\n",
       "      <td>4.0</td>\n",
       "      <td>21350.0</td>\n",
       "      <td>69.0</td>\n",
       "    </tr>\n",
       "    <tr>\n",
       "      <th>315</th>\n",
       "      <td>WAST HILLS HOSPITAL</td>\n",
       "      <td>52</td>\n",
       "      <td>451</td>\n",
       "      <td>22885.0</td>\n",
       "      <td>56.0</td>\n",
       "      <td>5.0</td>\n",
       "      <td>22885.0</td>\n",
       "      <td>56.0</td>\n",
       "    </tr>\n",
       "    <tr>\n",
       "      <th>79</th>\n",
       "      <td>COTSWOLD SPA</td>\n",
       "      <td>41</td>\n",
       "      <td>474</td>\n",
       "      <td>23254.0</td>\n",
       "      <td>62.0</td>\n",
       "      <td>5.0</td>\n",
       "      <td>23254.0</td>\n",
       "      <td>62.0</td>\n",
       "    </tr>\n",
       "    <tr>\n",
       "      <th>95</th>\n",
       "      <td>CYGNET HOSPITAL COVENTRY</td>\n",
       "      <td>38</td>\n",
       "      <td>456</td>\n",
       "      <td>20890.0</td>\n",
       "      <td>52.0</td>\n",
       "      <td>6.0</td>\n",
       "      <td>20890.0</td>\n",
       "      <td>52.0</td>\n",
       "    </tr>\n",
       "    <tr>\n",
       "      <th>308</th>\n",
       "      <td>UNIVERSITY COLLEGE LONDON HOSPITALS NHS FOUNDA...</td>\n",
       "      <td>51</td>\n",
       "      <td>583</td>\n",
       "      <td>27301.0</td>\n",
       "      <td>68.0</td>\n",
       "      <td>6.0</td>\n",
       "      <td>27301.0</td>\n",
       "      <td>68.0</td>\n",
       "    </tr>\n",
       "    <tr>\n",
       "      <th>183</th>\n",
       "      <td>NORTH EAST LONDON NHS FOUNDATION TRUST</td>\n",
       "      <td>93</td>\n",
       "      <td>1018</td>\n",
       "      <td>16170.0</td>\n",
       "      <td>92.0</td>\n",
       "      <td>6.0</td>\n",
       "      <td>16170.0</td>\n",
       "      <td>92.0</td>\n",
       "    </tr>\n",
       "  </tbody>\n",
       "</table>\n",
       "</div>"
      ],
      "text/plain": [
       "                                                  Name  admissions  In-pts  \\\n",
       "108                                CYGNET RAGLAN HOUSE          58     472   \n",
       "285             THE HARLEY STREET CLINIC (WEYMOUTH ST)          72    1611   \n",
       "70       CENTRAL LONDON COMMUNITY HEALTHCARE NHS TRUST          58     523   \n",
       "172       MOORFIELDS EYE HOSPITAL NHS FOUNDATION TRUST          60     727   \n",
       "119                   EAST LONDON NHS FOUNDATION TRUST          39     580   \n",
       "315                                WAST HILLS HOSPITAL          52     451   \n",
       "79                                        COTSWOLD SPA          41     474   \n",
       "95                            CYGNET HOSPITAL COVENTRY          38     456   \n",
       "308  UNIVERSITY COLLEGE LONDON HOSPITALS NHS FOUNDA...          51     583   \n",
       "183             NORTH EAST LONDON NHS FOUNDATION TRUST          93    1018   \n",
       "\n",
       "     newCasesByPublishDate  mech-vent  deaths  newCasesByPublishDate  \\\n",
       "108                23012.0       59.0     2.0                23012.0   \n",
       "285                20263.0      139.0     2.0                20263.0   \n",
       "70                 23287.0       63.0     2.0                23287.0   \n",
       "172                20252.0       63.0     3.0                20252.0   \n",
       "119                21350.0       69.0     4.0                21350.0   \n",
       "315                22885.0       56.0     5.0                22885.0   \n",
       "79                 23254.0       62.0     5.0                23254.0   \n",
       "95                 20890.0       52.0     6.0                20890.0   \n",
       "308                27301.0       68.0     6.0                27301.0   \n",
       "183                16170.0       92.0     6.0                16170.0   \n",
       "\n",
       "     mech-vent  \n",
       "108       59.0  \n",
       "285      139.0  \n",
       "70        63.0  \n",
       "172       63.0  \n",
       "119       69.0  \n",
       "315       56.0  \n",
       "79        62.0  \n",
       "95        52.0  \n",
       "308       68.0  \n",
       "183       92.0  "
      ]
     },
     "execution_count": 607,
     "metadata": {},
     "output_type": "execute_result"
    }
   ],
   "source": [
    "Top_10_area_lowest_total_cases = survey_raw_data.groupby('Name', as_index=False).max('date').sort_values('deaths', ascending=True).head(10)\n",
    "\n",
    "Top_10_area_lowest_total_cases"
   ]
  },
  {
   "cell_type": "code",
   "execution_count": 608,
   "id": "f9917f0a",
   "metadata": {},
   "outputs": [
    {
     "data": {
      "image/png": "[encoded data removed]",
      "text/plain": [
       "<Figure size 432x288 with 1 Axes>"
      ]
     },
     "metadata": {},
     "output_type": "display_data"
    }
   ],
   "source": [
    "plt.plot(Top_10_area_lowest_total_cases.Name, Top_10_area_lowest_total_cases.deaths, 's-b')\n",
    "plt.bar(Top_10_area_lowest_total_cases.Name, Top_10_area_lowest_total_cases.deaths)\n",
    "\n",
    "plt.xlabel('Cities')\n",
    "plt.ylabel('Total Cases')\n",
    "\n",
    "plt.title('Lowest No Of Covid Cases');"
   ]
  },
  {
   "cell_type": "code",
   "execution_count": 609,
   "id": "cc274cc5",
   "metadata": {},
   "outputs": [
    {
     "data": {
      "application/vnd.plotly.v1+json": {
       "config": {
        "linkText": "Export to plot.ly",
        "plotlyServerURL": "https://plot.ly",
        "showLink": true
       },
       "data": [
        {
         "line": {
          "color": "rgba(219, 64, 82, 1.0)",
          "dash": "solid",
          "shape": "linear",
          "width": 1.3
         },
         "marker": {
          "size": 10,
          "symbol": "circle"
         },
         "mode": "markers+lines",
         "name": "deaths",
         "text": "",
         "type": "scatter",
         "x": [
          "CYGNET RAGLAN HOUSE",
          "THE HARLEY STREET CLINIC (WEYMOUTH ST)",
          "CENTRAL LONDON COMMUNITY HEALTHCARE NHS TRUST",
          "MOORFIELDS EYE HOSPITAL NHS FOUNDATION TRUST",
          "EAST LONDON NHS FOUNDATION TRUST",
          "WAST HILLS HOSPITAL",
          "COTSWOLD SPA",
          "CYGNET HOSPITAL COVENTRY",
          "UNIVERSITY COLLEGE LONDON HOSPITALS NHS FOUNDATION TRUST",
          "NORTH EAST LONDON NHS FOUNDATION TRUST"
         ],
         "y": [
          2,
          2,
          2,
          3,
          4,
          5,
          5,
          6,
          6,
          6
         ]
        }
       ],
       "layout": {
        "legend": {
         "bgcolor": "#F5F6F9",
         "font": {
          "color": "#4D5663"
         }
        },
        "paper_bgcolor": "#F5F6F9",
        "plot_bgcolor": "#F5F6F9",
        "template": {
         "data": {
          "bar": [
           {
            "error_x": {
             "color": "#2a3f5f"
            },
            "error_y": {
             "color": "#2a3f5f"
            },
            "marker": {
             "line": {
              "color": "#E5ECF6",
              "width": 0.5
             },
             "pattern": {
              "fillmode": "overlay",
              "size": 10,
              "solidity": 0.2
             }
            },
            "type": "bar"
           }
          ],
          "barpolar": [
           {
            "marker": {
             "line": {
              "color": "#E5ECF6",
              "width": 0.5
             },
             "pattern": {
              "fillmode": "overlay",
              "size": 10,
              "solidity": 0.2
             }
            },
            "type": "barpolar"
           }
          ],
          "carpet": [
           {
            "aaxis": {
             "endlinecolor": "#2a3f5f",
             "gridcolor": "white",
             "linecolor": "white",
             "minorgridcolor": "white",
             "startlinecolor": "#2a3f5f"
            },
            "baxis": {
             "endlinecolor": "#2a3f5f",
             "gridcolor": "white",
             "linecolor": "white",
             "minorgridcolor": "white",
             "startlinecolor": "#2a3f5f"
            },
            "type": "carpet"
           }
          ],
          "choropleth": [
           {
            "colorbar": {
             "outlinewidth": 0,
             "ticks": ""
            },
            "type": "choropleth"
           }
          ],
          "contour": [
           {
            "colorbar": {
             "outlinewidth": 0,
             "ticks": ""
            },
            "colorscale": [
             [
              0,
              "#0d0887"
             ],
             [
              0.1111111111111111,
              "#46039f"
             ],
             [
              0.2222222222222222,
              "#7201a8"
             ],
             [
              0.3333333333333333,
              "#9c179e"
             ],
             [
              0.4444444444444444,
              "#bd3786"
             ],
             [
              0.5555555555555556,
              "#d8576b"
             ],
             [
              0.6666666666666666,
              "#ed7953"
             ],
             [
              0.7777777777777778,
              "#fb9f3a"
             ],
             [
              0.8888888888888888,
              "#fdca26"
             ],
             [
              1,
              "#f0f921"
             ]
            ],
            "type": "contour"
           }
          ],
          "contourcarpet": [
           {
            "colorbar": {
             "outlinewidth": 0,
             "ticks": ""
            },
            "type": "contourcarpet"
           }
          ],
          "heatmap": [
           {
            "colorbar": {
             "outlinewidth": 0,
             "ticks": ""
            },
            "colorscale": [
             [
              0,
              "#0d0887"
             ],
             [
              0.1111111111111111,
              "#46039f"
             ],
             [
              0.2222222222222222,
              "#7201a8"
             ],
             [
              0.3333333333333333,
              "#9c179e"
             ],
             [
              0.4444444444444444,
              "#bd3786"
             ],
             [
              0.5555555555555556,
              "#d8576b"
             ],
             [
              0.6666666666666666,
              "#ed7953"
             ],
             [
              0.7777777777777778,
              "#fb9f3a"
             ],
             [
              0.8888888888888888,
              "#fdca26"
             ],
             [
              1,
              "#f0f921"
             ]
            ],
            "type": "heatmap"
           }
          ],
          "heatmapgl": [
           {
            "colorbar": {
             "outlinewidth": 0,
             "ticks": ""
            },
            "colorscale": [
             [
              0,
              "#0d0887"
             ],
             [
              0.1111111111111111,
              "#46039f"
             ],
             [
              0.2222222222222222,
              "#7201a8"
             ],
             [
              0.3333333333333333,
              "#9c179e"
             ],
             [
              0.4444444444444444,
              "#bd3786"
             ],
             [
              0.5555555555555556,
              "#d8576b"
             ],
             [
              0.6666666666666666,
              "#ed7953"
             ],
             [
              0.7777777777777778,
              "#fb9f3a"
             ],
             [
              0.8888888888888888,
              "#fdca26"
             ],
             [
              1,
              "#f0f921"
             ]
            ],
            "type": "heatmapgl"
           }
          ],
          "histogram": [
           {
            "marker": {
             "pattern": {
              "fillmode": "overlay",
              "size": 10,
              "solidity": 0.2
             }
            },
            "type": "histogram"
           }
          ],
          "histogram2d": [
           {
            "colorbar": {
             "outlinewidth": 0,
             "ticks": ""
            },
            "colorscale": [
             [
              0,
              "#0d0887"
             ],
             [
              0.1111111111111111,
              "#46039f"
             ],
             [
              0.2222222222222222,
              "#7201a8"
             ],
             [
              0.3333333333333333,
              "#9c179e"
             ],
             [
              0.4444444444444444,
              "#bd3786"
             ],
             [
              0.5555555555555556,
              "#d8576b"
             ],
             [
              0.6666666666666666,
              "#ed7953"
             ],
             [
              0.7777777777777778,
              "#fb9f3a"
             ],
             [
              0.8888888888888888,
              "#fdca26"
             ],
             [
              1,
              "#f0f921"
             ]
            ],
            "type": "histogram2d"
           }
          ],
          "histogram2dcontour": [
           {
            "colorbar": {
             "outlinewidth": 0,
             "ticks": ""
            },
            "colorscale": [
             [
              0,
              "#0d0887"
             ],
             [
              0.1111111111111111,
              "#46039f"
             ],
             [
              0.2222222222222222,
              "#7201a8"
             ],
             [
              0.3333333333333333,
              "#9c179e"
             ],
             [
              0.4444444444444444,
              "#bd3786"
             ],
             [
              0.5555555555555556,
              "#d8576b"
             ],
             [
              0.6666666666666666,
              "#ed7953"
             ],
             [
              0.7777777777777778,
              "#fb9f3a"
             ],
             [
              0.8888888888888888,
              "#fdca26"
             ],
             [
              1,
              "#f0f921"
             ]
            ],
            "type": "histogram2dcontour"
           }
          ],
          "mesh3d": [
           {
            "colorbar": {
             "outlinewidth": 0,
             "ticks": ""
            },
            "type": "mesh3d"
           }
          ],
          "parcoords": [
           {
            "line": {
             "colorbar": {
              "outlinewidth": 0,
              "ticks": ""
             }
            },
            "type": "parcoords"
           }
          ],
          "pie": [
           {
            "automargin": true,
            "type": "pie"
           }
          ],
          "scatter": [
           {
            "marker": {
             "colorbar": {
              "outlinewidth": 0,
              "ticks": ""
             }
            },
            "type": "scatter"
           }
          ],
          "scatter3d": [
           {
            "line": {
             "colorbar": {
              "outlinewidth": 0,
              "ticks": ""
             }
            },
            "marker": {
             "colorbar": {
              "outlinewidth": 0,
              "ticks": ""
             }
            },
            "type": "scatter3d"
           }
          ],
          "scattercarpet": [
           {
            "marker": {
             "colorbar": {
              "outlinewidth": 0,
              "ticks": ""
             }
            },
            "type": "scattercarpet"
           }
          ],
          "scattergeo": [
           {
            "marker": {
             "colorbar": {
              "outlinewidth": 0,
              "ticks": ""
             }
            },
            "type": "scattergeo"
           }
          ],
          "scattergl": [
           {
            "marker": {
             "colorbar": {
              "outlinewidth": 0,
              "ticks": ""
             }
            },
            "type": "scattergl"
           }
          ],
          "scattermapbox": [
           {
            "marker": {
             "colorbar": {
              "outlinewidth": 0,
              "ticks": ""
             }
            },
            "type": "scattermapbox"
           }
          ],
          "scatterpolar": [
           {
            "marker": {
             "colorbar": {
              "outlinewidth": 0,
              "ticks": ""
             }
            },
            "type": "scatterpolar"
           }
          ],
          "scatterpolargl": [
           {
            "marker": {
             "colorbar": {
              "outlinewidth": 0,
              "ticks": ""
             }
            },
            "type": "scatterpolargl"
           }
          ],
          "scatterternary": [
           {
            "marker": {
             "colorbar": {
              "outlinewidth": 0,
              "ticks": ""
             }
            },
            "type": "scatterternary"
           }
          ],
          "surface": [
           {
            "colorbar": {
             "outlinewidth": 0,
             "ticks": ""
            },
            "colorscale": [
             [
              0,
              "#0d0887"
             ],
             [
              0.1111111111111111,
              "#46039f"
             ],
             [
              0.2222222222222222,
              "#7201a8"
             ],
             [
              0.3333333333333333,
              "#9c179e"
             ],
             [
              0.4444444444444444,
              "#bd3786"
             ],
             [
              0.5555555555555556,
              "#d8576b"
             ],
             [
              0.6666666666666666,
              "#ed7953"
             ],
             [
              0.7777777777777778,
              "#fb9f3a"
             ],
             [
              0.8888888888888888,
              "#fdca26"
             ],
             [
              1,
              "#f0f921"
             ]
            ],
            "type": "surface"
           }
          ],
          "table": [
           {
            "cells": {
             "fill": {
              "color": "#EBF0F8"
             },
             "line": {
              "color": "white"
             }
            },
            "header": {
             "fill": {
              "color": "#C8D4E3"
             },
             "line": {
              "color": "white"
             }
            },
            "type": "table"
           }
          ]
         },
         "layout": {
          "annotationdefaults": {
           "arrowcolor": "#2a3f5f",
           "arrowhead": 0,
           "arrowwidth": 1
          },
          "autotypenumbers": "strict",
          "coloraxis": {
           "colorbar": {
            "outlinewidth": 0,
            "ticks": ""
           }
          },
          "colorscale": {
           "diverging": [
            [
             0,
             "#8e0152"
            ],
            [
             0.1,
             "#c51b7d"
            ],
            [
             0.2,
             "#de77ae"
            ],
            [
             0.3,
             "#f1b6da"
            ],
            [
             0.4,
             "#fde0ef"
            ],
            [
             0.5,
             "#f7f7f7"
            ],
            [
             0.6,
             "#e6f5d0"
            ],
            [
             0.7,
             "#b8e186"
            ],
            [
             0.8,
             "#7fbc41"
            ],
            [
             0.9,
             "#4d9221"
            ],
            [
             1,
             "#276419"
            ]
           ],
           "sequential": [
            [
             0,
             "#0d0887"
            ],
            [
             0.1111111111111111,
             "#46039f"
            ],
            [
             0.2222222222222222,
             "#7201a8"
            ],
            [
             0.3333333333333333,
             "#9c179e"
            ],
            [
             0.4444444444444444,
             "#bd3786"
            ],
            [
             0.5555555555555556,
             "#d8576b"
            ],
            [
             0.6666666666666666,
             "#ed7953"
            ],
            [
             0.7777777777777778,
             "#fb9f3a"
            ],
            [
             0.8888888888888888,
             "#fdca26"
            ],
            [
             1,
             "#f0f921"
            ]
           ],
           "sequentialminus": [
            [
             0,
             "#0d0887"
            ],
            [
             0.1111111111111111,
             "#46039f"
            ],
            [
             0.2222222222222222,
             "#7201a8"
            ],
            [
             0.3333333333333333,
             "#9c179e"
            ],
            [
             0.4444444444444444,
             "#bd3786"
            ],
            [
             0.5555555555555556,
             "#d8576b"
            ],
            [
             0.6666666666666666,
             "#ed7953"
            ],
            [
             0.7777777777777778,
             "#fb9f3a"
            ],
            [
             0.8888888888888888,
             "#fdca26"
            ],
            [
             1,
             "#f0f921"
            ]
           ]
          },
          "colorway": [
           "#636efa",
           "#EF553B",
           "#00cc96",
           "#ab63fa",
           "#FFA15A",
           "#19d3f3",
           "#FF6692",
           "#B6E880",
           "#FF97FF",
           "#FECB52"
          ],
          "font": {
           "color": "#2a3f5f"
          },
          "geo": {
           "bgcolor": "white",
           "lakecolor": "white",
           "landcolor": "#E5ECF6",
           "showlakes": true,
           "showland": true,
           "subunitcolor": "white"
          },
          "hoverlabel": {
           "align": "left"
          },
          "hovermode": "closest",
          "mapbox": {
           "style": "light"
          },
          "paper_bgcolor": "white",
          "plot_bgcolor": "#E5ECF6",
          "polar": {
           "angularaxis": {
            "gridcolor": "white",
            "linecolor": "white",
            "ticks": ""
           },
           "bgcolor": "#E5ECF6",
           "radialaxis": {
            "gridcolor": "white",
            "linecolor": "white",
            "ticks": ""
           }
          },
          "scene": {
           "xaxis": {
            "backgroundcolor": "#E5ECF6",
            "gridcolor": "white",
            "gridwidth": 2,
            "linecolor": "white",
            "showbackground": true,
            "ticks": "",
            "zerolinecolor": "white"
           },
           "yaxis": {
            "backgroundcolor": "#E5ECF6",
            "gridcolor": "white",
            "gridwidth": 2,
            "linecolor": "white",
            "showbackground": true,
            "ticks": "",
            "zerolinecolor": "white"
           },
           "zaxis": {
            "backgroundcolor": "#E5ECF6",
            "gridcolor": "white",
            "gridwidth": 2,
            "linecolor": "white",
            "showbackground": true,
            "ticks": "",
            "zerolinecolor": "white"
           }
          },
          "shapedefaults": {
           "line": {
            "color": "#2a3f5f"
           }
          },
          "ternary": {
           "aaxis": {
            "gridcolor": "white",
            "linecolor": "white",
            "ticks": ""
           },
           "baxis": {
            "gridcolor": "white",
            "linecolor": "white",
            "ticks": ""
           },
           "bgcolor": "#E5ECF6",
           "caxis": {
            "gridcolor": "white",
            "linecolor": "white",
            "ticks": ""
           }
          },
          "title": {
           "x": 0.05
          },
          "xaxis": {
           "automargin": true,
           "gridcolor": "white",
           "linecolor": "white",
           "ticks": "",
           "title": {
            "standoff": 15
           },
           "zerolinecolor": "white",
           "zerolinewidth": 2
          },
          "yaxis": {
           "automargin": true,
           "gridcolor": "white",
           "linecolor": "white",
           "ticks": "",
           "title": {
            "standoff": 15
           },
           "zerolinecolor": "white",
           "zerolinewidth": 2
          }
         }
        },
        "title": {
         "font": {
          "color": "#4D5663"
         },
         "text": "Lowest Covid Cases per city"
        },
        "xaxis": {
         "gridcolor": "#E1E5ED",
         "showgrid": true,
         "tickfont": {
          "color": "#4D5663"
         },
         "title": {
          "font": {
           "color": "#4D5663"
          },
          "text": "Cities"
         },
         "zerolinecolor": "#E1E5ED"
        },
        "yaxis": {
         "gridcolor": "#E1E5ED",
         "showgrid": true,
         "tickfont": {
          "color": "#4D5663"
         },
         "title": {
          "font": {
           "color": "#4D5663"
          },
          "text": "Total Cases(in thousand)"
         },
         "zerolinecolor": "#E1E5ED"
        }
       }
      },
      "text/html": [
       "<div>                            <div id=\"4863f1be-d0c6-470f-8c44-6538bf6f8bc4\" class=\"plotly-graph-div\" style=\"height:525px; width:100%;\"></div>            <script type=\"text/javascript\">                require([\"plotly\"], function(Plotly) {                    window.PLOTLYENV=window.PLOTLYENV || {};\n",
       "                    window.PLOTLYENV.BASE_URL='https://plot.ly';                                    if (document.getElementById(\"4863f1be-d0c6-470f-8c44-6538bf6f8bc4\")) {                    Plotly.newPlot(                        \"4863f1be-d0c6-470f-8c44-6538bf6f8bc4\",                        [{\"line\":{\"color\":\"rgba(219, 64, 82, 1.0)\",\"dash\":\"solid\",\"shape\":\"linear\",\"width\":1.3},\"marker\":{\"size\":10,\"symbol\":\"circle\"},\"mode\":\"markers+lines\",\"name\":\"deaths\",\"text\":\"\",\"type\":\"scatter\",\"x\":[\"CYGNET RAGLAN HOUSE\",\"THE HARLEY STREET CLINIC (WEYMOUTH ST)\",\"CENTRAL LONDON COMMUNITY HEALTHCARE NHS TRUST\",\"MOORFIELDS EYE HOSPITAL NHS FOUNDATION TRUST\",\"EAST LONDON NHS FOUNDATION TRUST\",\"WAST HILLS HOSPITAL\",\"COTSWOLD SPA\",\"CYGNET HOSPITAL COVENTRY\",\"UNIVERSITY COLLEGE LONDON HOSPITALS NHS FOUNDATION TRUST\",\"NORTH EAST LONDON NHS FOUNDATION TRUST\"],\"y\":[2.0,2.0,2.0,3.0,4.0,5.0,5.0,6.0,6.0,6.0]}],                        {\"legend\":{\"bgcolor\":\"#F5F6F9\",\"font\":{\"color\":\"#4D5663\"}},\"paper_bgcolor\":\"#F5F6F9\",\"plot_bgcolor\":\"#F5F6F9\",\"template\":{\"data\":{\"bar\":[{\"error_x\":{\"color\":\"#2a3f5f\"},\"error_y\":{\"color\":\"#2a3f5f\"},\"marker\":{\"line\":{\"color\":\"#E5ECF6\",\"width\":0.5},\"pattern\":{\"fillmode\":\"overlay\",\"size\":10,\"solidity\":0.2}},\"type\":\"bar\"}],\"barpolar\":[{\"marker\":{\"line\":{\"color\":\"#E5ECF6\",\"width\":0.5},\"pattern\":{\"fillmode\":\"overlay\",\"size\":10,\"solidity\":0.2}},\"type\":\"barpolar\"}],\"carpet\":[{\"aaxis\":{\"endlinecolor\":\"#2a3f5f\",\"gridcolor\":\"white\",\"linecolor\":\"white\",\"minorgridcolor\":\"white\",\"startlinecolor\":\"#2a3f5f\"},\"baxis\":{\"endlinecolor\":\"#2a3f5f\",\"gridcolor\":\"white\",\"linecolor\":\"white\",\"minorgridcolor\":\"white\",\"startlinecolor\":\"#2a3f5f\"},\"type\":\"carpet\"}],\"choropleth\":[{\"colorbar\":{\"outlinewidth\":0,\"ticks\":\"\"},\"type\":\"choropleth\"}],\"contour\":[{\"colorbar\":{\"outlinewidth\":0,\"ticks\":\"\"},\"colorscale\":[[0.0,\"#0d0887\"],[0.1111111111111111,\"#46039f\"],[0.2222222222222222,\"#7201a8\"],[0.3333333333333333,\"#9c179e\"],[0.4444444444444444,\"#bd3786\"],[0.5555555555555556,\"#d8576b\"],[0.6666666666666666,\"#ed7953\"],[0.7777777777777778,\"#fb9f3a\"],[0.8888888888888888,\"#fdca26\"],[1.0,\"#f0f921\"]],\"type\":\"contour\"}],\"contourcarpet\":[{\"colorbar\":{\"outlinewidth\":0,\"ticks\":\"\"},\"type\":\"contourcarpet\"}],\"heatmap\":[{\"colorbar\":{\"outlinewidth\":0,\"ticks\":\"\"},\"colorscale\":[[0.0,\"#0d0887\"],[0.1111111111111111,\"#46039f\"],[0.2222222222222222,\"#7201a8\"],[0.3333333333333333,\"#9c179e\"],[0.4444444444444444,\"#bd3786\"],[0.5555555555555556,\"#d8576b\"],[0.6666666666666666,\"#ed7953\"],[0.7777777777777778,\"#fb9f3a\"],[0.8888888888888888,\"#fdca26\"],[1.0,\"#f0f921\"]],\"type\":\"heatmap\"}],\"heatmapgl\":[{\"colorbar\":{\"outlinewidth\":0,\"ticks\":\"\"},\"colorscale\":[[0.0,\"#0d0887\"],[0.1111111111111111,\"#46039f\"],[0.2222222222222222,\"#7201a8\"],[0.3333333333333333,\"#9c179e\"],[0.4444444444444444,\"#bd3786\"],[0.5555555555555556,\"#d8576b\"],[0.6666666666666666,\"#ed7953\"],[0.7777777777777778,\"#fb9f3a\"],[0.8888888888888888,\"#fdca26\"],[1.0,\"#f0f921\"]],\"type\":\"heatmapgl\"}],\"histogram\":[{\"marker\":{\"pattern\":{\"fillmode\":\"overlay\",\"size\":10,\"solidity\":0.2}},\"type\":\"histogram\"}],\"histogram2d\":[{\"colorbar\":{\"outlinewidth\":0,\"ticks\":\"\"},\"colorscale\":[[0.0,\"#0d0887\"],[0.1111111111111111,\"#46039f\"],[0.2222222222222222,\"#7201a8\"],[0.3333333333333333,\"#9c179e\"],[0.4444444444444444,\"#bd3786\"],[0.5555555555555556,\"#d8576b\"],[0.6666666666666666,\"#ed7953\"],[0.7777777777777778,\"#fb9f3a\"],[0.8888888888888888,\"#fdca26\"],[1.0,\"#f0f921\"]],\"type\":\"histogram2d\"}],\"histogram2dcontour\":[{\"colorbar\":{\"outlinewidth\":0,\"ticks\":\"\"},\"colorscale\":[[0.0,\"#0d0887\"],[0.1111111111111111,\"#46039f\"],[0.2222222222222222,\"#7201a8\"],[0.3333333333333333,\"#9c179e\"],[0.4444444444444444,\"#bd3786\"],[0.5555555555555556,\"#d8576b\"],[0.6666666666666666,\"#ed7953\"],[0.7777777777777778,\"#fb9f3a\"],[0.8888888888888888,\"#fdca26\"],[1.0,\"#f0f921\"]],\"type\":\"histogram2dcontour\"}],\"mesh3d\":[{\"colorbar\":{\"outlinewidth\":0,\"ticks\":\"\"},\"type\":\"mesh3d\"}],\"parcoords\":[{\"line\":{\"colorbar\":{\"outlinewidth\":0,\"ticks\":\"\"}},\"type\":\"parcoords\"}],\"pie\":[{\"automargin\":true,\"type\":\"pie\"}],\"scatter\":[{\"marker\":{\"colorbar\":{\"outlinewidth\":0,\"ticks\":\"\"}},\"type\":\"scatter\"}],\"scatter3d\":[{\"line\":{\"colorbar\":{\"outlinewidth\":0,\"ticks\":\"\"}},\"marker\":{\"colorbar\":{\"outlinewidth\":0,\"ticks\":\"\"}},\"type\":\"scatter3d\"}],\"scattercarpet\":[{\"marker\":{\"colorbar\":{\"outlinewidth\":0,\"ticks\":\"\"}},\"type\":\"scattercarpet\"}],\"scattergeo\":[{\"marker\":{\"colorbar\":{\"outlinewidth\":0,\"ticks\":\"\"}},\"type\":\"scattergeo\"}],\"scattergl\":[{\"marker\":{\"colorbar\":{\"outlinewidth\":0,\"ticks\":\"\"}},\"type\":\"scattergl\"}],\"scattermapbox\":[{\"marker\":{\"colorbar\":{\"outlinewidth\":0,\"ticks\":\"\"}},\"type\":\"scattermapbox\"}],\"scatterpolar\":[{\"marker\":{\"colorbar\":{\"outlinewidth\":0,\"ticks\":\"\"}},\"type\":\"scatterpolar\"}],\"scatterpolargl\":[{\"marker\":{\"colorbar\":{\"outlinewidth\":0,\"ticks\":\"\"}},\"type\":\"scatterpolargl\"}],\"scatterternary\":[{\"marker\":{\"colorbar\":{\"outlinewidth\":0,\"ticks\":\"\"}},\"type\":\"scatterternary\"}],\"surface\":[{\"colorbar\":{\"outlinewidth\":0,\"ticks\":\"\"},\"colorscale\":[[0.0,\"#0d0887\"],[0.1111111111111111,\"#46039f\"],[0.2222222222222222,\"#7201a8\"],[0.3333333333333333,\"#9c179e\"],[0.4444444444444444,\"#bd3786\"],[0.5555555555555556,\"#d8576b\"],[0.6666666666666666,\"#ed7953\"],[0.7777777777777778,\"#fb9f3a\"],[0.8888888888888888,\"#fdca26\"],[1.0,\"#f0f921\"]],\"type\":\"surface\"}],\"table\":[{\"cells\":{\"fill\":{\"color\":\"#EBF0F8\"},\"line\":{\"color\":\"white\"}},\"header\":{\"fill\":{\"color\":\"#C8D4E3\"},\"line\":{\"color\":\"white\"}},\"type\":\"table\"}]},\"layout\":{\"annotationdefaults\":{\"arrowcolor\":\"#2a3f5f\",\"arrowhead\":0,\"arrowwidth\":1},\"autotypenumbers\":\"strict\",\"coloraxis\":{\"colorbar\":{\"outlinewidth\":0,\"ticks\":\"\"}},\"colorscale\":{\"diverging\":[[0,\"#8e0152\"],[0.1,\"#c51b7d\"],[0.2,\"#de77ae\"],[0.3,\"#f1b6da\"],[0.4,\"#fde0ef\"],[0.5,\"#f7f7f7\"],[0.6,\"#e6f5d0\"],[0.7,\"#b8e186\"],[0.8,\"#7fbc41\"],[0.9,\"#4d9221\"],[1,\"#276419\"]],\"sequential\":[[0.0,\"#0d0887\"],[0.1111111111111111,\"#46039f\"],[0.2222222222222222,\"#7201a8\"],[0.3333333333333333,\"#9c179e\"],[0.4444444444444444,\"#bd3786\"],[0.5555555555555556,\"#d8576b\"],[0.6666666666666666,\"#ed7953\"],[0.7777777777777778,\"#fb9f3a\"],[0.8888888888888888,\"#fdca26\"],[1.0,\"#f0f921\"]],\"sequentialminus\":[[0.0,\"#0d0887\"],[0.1111111111111111,\"#46039f\"],[0.2222222222222222,\"#7201a8\"],[0.3333333333333333,\"#9c179e\"],[0.4444444444444444,\"#bd3786\"],[0.5555555555555556,\"#d8576b\"],[0.6666666666666666,\"#ed7953\"],[0.7777777777777778,\"#fb9f3a\"],[0.8888888888888888,\"#fdca26\"],[1.0,\"#f0f921\"]]},\"colorway\":[\"#636efa\",\"#EF553B\",\"#00cc96\",\"#ab63fa\",\"#FFA15A\",\"#19d3f3\",\"#FF6692\",\"#B6E880\",\"#FF97FF\",\"#FECB52\"],\"font\":{\"color\":\"#2a3f5f\"},\"geo\":{\"bgcolor\":\"white\",\"lakecolor\":\"white\",\"landcolor\":\"#E5ECF6\",\"showlakes\":true,\"showland\":true,\"subunitcolor\":\"white\"},\"hoverlabel\":{\"align\":\"left\"},\"hovermode\":\"closest\",\"mapbox\":{\"style\":\"light\"},\"paper_bgcolor\":\"white\",\"plot_bgcolor\":\"#E5ECF6\",\"polar\":{\"angularaxis\":{\"gridcolor\":\"white\",\"linecolor\":\"white\",\"ticks\":\"\"},\"bgcolor\":\"#E5ECF6\",\"radialaxis\":{\"gridcolor\":\"white\",\"linecolor\":\"white\",\"ticks\":\"\"}},\"scene\":{\"xaxis\":{\"backgroundcolor\":\"#E5ECF6\",\"gridcolor\":\"white\",\"gridwidth\":2,\"linecolor\":\"white\",\"showbackground\":true,\"ticks\":\"\",\"zerolinecolor\":\"white\"},\"yaxis\":{\"backgroundcolor\":\"#E5ECF6\",\"gridcolor\":\"white\",\"gridwidth\":2,\"linecolor\":\"white\",\"showbackground\":true,\"ticks\":\"\",\"zerolinecolor\":\"white\"},\"zaxis\":{\"backgroundcolor\":\"#E5ECF6\",\"gridcolor\":\"white\",\"gridwidth\":2,\"linecolor\":\"white\",\"showbackground\":true,\"ticks\":\"\",\"zerolinecolor\":\"white\"}},\"shapedefaults\":{\"line\":{\"color\":\"#2a3f5f\"}},\"ternary\":{\"aaxis\":{\"gridcolor\":\"white\",\"linecolor\":\"white\",\"ticks\":\"\"},\"baxis\":{\"gridcolor\":\"white\",\"linecolor\":\"white\",\"ticks\":\"\"},\"bgcolor\":\"#E5ECF6\",\"caxis\":{\"gridcolor\":\"white\",\"linecolor\":\"white\",\"ticks\":\"\"}},\"title\":{\"x\":0.05},\"xaxis\":{\"automargin\":true,\"gridcolor\":\"white\",\"linecolor\":\"white\",\"ticks\":\"\",\"title\":{\"standoff\":15},\"zerolinecolor\":\"white\",\"zerolinewidth\":2},\"yaxis\":{\"automargin\":true,\"gridcolor\":\"white\",\"linecolor\":\"white\",\"ticks\":\"\",\"title\":{\"standoff\":15},\"zerolinecolor\":\"white\",\"zerolinewidth\":2}}},\"title\":{\"font\":{\"color\":\"#4D5663\"},\"text\":\"Lowest Covid Cases per city\"},\"xaxis\":{\"gridcolor\":\"#E1E5ED\",\"showgrid\":true,\"tickfont\":{\"color\":\"#4D5663\"},\"title\":{\"font\":{\"color\":\"#4D5663\"},\"text\":\"Cities\"},\"zerolinecolor\":\"#E1E5ED\"},\"yaxis\":{\"gridcolor\":\"#E1E5ED\",\"showgrid\":true,\"tickfont\":{\"color\":\"#4D5663\"},\"title\":{\"font\":{\"color\":\"#4D5663\"},\"text\":\"Total Cases(in thousand)\"},\"zerolinecolor\":\"#E1E5ED\"}},                        {\"showLink\": true, \"linkText\": \"Export to plot.ly\", \"plotlyServerURL\": \"https://plot.ly\", \"responsive\": true}                    ).then(function(){\n",
       "                            \n",
       "var gd = document.getElementById('4863f1be-d0c6-470f-8c44-6538bf6f8bc4');\n",
       "var x = new MutationObserver(function (mutations, observer) {{\n",
       "        var display = window.getComputedStyle(gd).display;\n",
       "        if (!display || display === 'none') {{\n",
       "            console.log([gd, 'removed!']);\n",
       "            Plotly.purge(gd);\n",
       "            observer.disconnect();\n",
       "        }}\n",
       "}});\n",
       "\n",
       "// Listen for the removal of the full notebook cells\n",
       "var notebookContainer = gd.closest('#notebook-container');\n",
       "if (notebookContainer) {{\n",
       "    x.observe(notebookContainer, {childList: true});\n",
       "}}\n",
       "\n",
       "// Listen for the clearing of the current output cell\n",
       "var outputEl = gd.closest('.output');\n",
       "if (outputEl) {{\n",
       "    x.observe(outputEl, {childList: true});\n",
       "}}\n",
       "\n",
       "                        })                };                });            </script>        </div>"
      ]
     },
     "metadata": {},
     "output_type": "display_data"
    }
   ],
   "source": [
    "Top_10_area_lowest_total_cases.iplot(kind='scatter', x='Name',y='deaths',mode ='markers+lines',title = 'Lowest Covid Cases per city',\n",
    "         xTitle='Cities',yTitle='Total Cases(in thousand)',colors='red',size=10)"
   ]
  },
  {
   "cell_type": "code",
   "execution_count": 610,
   "id": "30c28f7e",
   "metadata": {},
   "outputs": [
    {
     "data": {
      "text/html": [
       "<div>\n",
       "<style scoped>\n",
       "    .dataframe tbody tr th:only-of-type {\n",
       "        vertical-align: middle;\n",
       "    }\n",
       "\n",
       "    .dataframe tbody tr th {\n",
       "        vertical-align: top;\n",
       "    }\n",
       "\n",
       "    .dataframe thead th {\n",
       "        text-align: right;\n",
       "    }\n",
       "</style>\n",
       "<table border=\"1\" class=\"dataframe\">\n",
       "  <thead>\n",
       "    <tr style=\"text-align: right;\">\n",
       "      <th></th>\n",
       "      <th>Name</th>\n",
       "      <th>deaths</th>\n",
       "      <th>admissions</th>\n",
       "      <th>In-pts</th>\n",
       "      <th>newCasesByPublishDate</th>\n",
       "      <th>mech-vent</th>\n",
       "      <th>newCasesByPublishDate</th>\n",
       "      <th>mech-vent</th>\n",
       "    </tr>\n",
       "  </thead>\n",
       "  <tbody>\n",
       "    <tr>\n",
       "      <th>0</th>\n",
       "      <td>AIREDALE NHS FOUNDATION TRUST</td>\n",
       "      <td>821.0</td>\n",
       "      <td>3697</td>\n",
       "      <td>26467</td>\n",
       "      <td>1295.0</td>\n",
       "      <td>2378.0</td>\n",
       "      <td>1295.0</td>\n",
       "      <td>2378.0</td>\n",
       "    </tr>\n",
       "    <tr>\n",
       "      <th>1</th>\n",
       "      <td>ANGLIAN COMMUNITY ENTERPRISE COMMUNITY INTERES...</td>\n",
       "      <td>784.0</td>\n",
       "      <td>1608</td>\n",
       "      <td>17934</td>\n",
       "      <td>6609.0</td>\n",
       "      <td>2847.0</td>\n",
       "      <td>6609.0</td>\n",
       "      <td>2847.0</td>\n",
       "    </tr>\n",
       "    <tr>\n",
       "      <th>2</th>\n",
       "      <td>ARBURY COURT</td>\n",
       "      <td>647.0</td>\n",
       "      <td>1907</td>\n",
       "      <td>25334</td>\n",
       "      <td>2615.0</td>\n",
       "      <td>3275.0</td>\n",
       "      <td>2615.0</td>\n",
       "      <td>3275.0</td>\n",
       "    </tr>\n",
       "    <tr>\n",
       "      <th>3</th>\n",
       "      <td>ASHLEY HOUSE HOSPITAL</td>\n",
       "      <td>55.0</td>\n",
       "      <td>386</td>\n",
       "      <td>2194</td>\n",
       "      <td>4926.0</td>\n",
       "      <td>307.0</td>\n",
       "      <td>4926.0</td>\n",
       "      <td>307.0</td>\n",
       "    </tr>\n",
       "    <tr>\n",
       "      <th>4</th>\n",
       "      <td>ASPEN - CLAREMONT HOSPITAL</td>\n",
       "      <td>624.0</td>\n",
       "      <td>2861</td>\n",
       "      <td>22713</td>\n",
       "      <td>1006.0</td>\n",
       "      <td>1854.0</td>\n",
       "      <td>1006.0</td>\n",
       "      <td>1854.0</td>\n",
       "    </tr>\n",
       "    <tr>\n",
       "      <th>...</th>\n",
       "      <td>...</td>\n",
       "      <td>...</td>\n",
       "      <td>...</td>\n",
       "      <td>...</td>\n",
       "      <td>...</td>\n",
       "      <td>...</td>\n",
       "      <td>...</td>\n",
       "      <td>...</td>\n",
       "    </tr>\n",
       "    <tr>\n",
       "      <th>328</th>\n",
       "      <td>WORCESTERSHIRE HEALTH AND CARE NHS TRUST</td>\n",
       "      <td>124.0</td>\n",
       "      <td>792</td>\n",
       "      <td>4379</td>\n",
       "      <td>2919.0</td>\n",
       "      <td>482.0</td>\n",
       "      <td>2919.0</td>\n",
       "      <td>482.0</td>\n",
       "    </tr>\n",
       "    <tr>\n",
       "      <th>329</th>\n",
       "      <td>WYE VALLEY NHS TRUST</td>\n",
       "      <td>222.0</td>\n",
       "      <td>1279</td>\n",
       "      <td>7454</td>\n",
       "      <td>1715.0</td>\n",
       "      <td>681.0</td>\n",
       "      <td>1715.0</td>\n",
       "      <td>681.0</td>\n",
       "    </tr>\n",
       "    <tr>\n",
       "      <th>330</th>\n",
       "      <td>YEW TREES</td>\n",
       "      <td>862.0</td>\n",
       "      <td>1955</td>\n",
       "      <td>18604</td>\n",
       "      <td>5294.0</td>\n",
       "      <td>2865.0</td>\n",
       "      <td>5294.0</td>\n",
       "      <td>2865.0</td>\n",
       "    </tr>\n",
       "    <tr>\n",
       "      <th>331</th>\n",
       "      <td>YORK TEACHING HOSPITAL NHS FOUNDATION TRUST</td>\n",
       "      <td>649.0</td>\n",
       "      <td>3351</td>\n",
       "      <td>24957</td>\n",
       "      <td>958.0</td>\n",
       "      <td>2181.0</td>\n",
       "      <td>958.0</td>\n",
       "      <td>2181.0</td>\n",
       "    </tr>\n",
       "    <tr>\n",
       "      <th>332</th>\n",
       "      <td>YOUR HEALTHCARE</td>\n",
       "      <td>54.0</td>\n",
       "      <td>184</td>\n",
       "      <td>3423</td>\n",
       "      <td>60916.0</td>\n",
       "      <td>297.0</td>\n",
       "      <td>60916.0</td>\n",
       "      <td>297.0</td>\n",
       "    </tr>\n",
       "  </tbody>\n",
       "</table>\n",
       "<p>333 rows × 8 columns</p>\n",
       "</div>"
      ],
      "text/plain": [
       "                                                  Name  deaths  admissions  \\\n",
       "0                        AIREDALE NHS FOUNDATION TRUST   821.0        3697   \n",
       "1    ANGLIAN COMMUNITY ENTERPRISE COMMUNITY INTERES...   784.0        1608   \n",
       "2                                         ARBURY COURT   647.0        1907   \n",
       "3                                ASHLEY HOUSE HOSPITAL    55.0         386   \n",
       "4                           ASPEN - CLAREMONT HOSPITAL   624.0        2861   \n",
       "..                                                 ...     ...         ...   \n",
       "328           WORCESTERSHIRE HEALTH AND CARE NHS TRUST   124.0         792   \n",
       "329                               WYE VALLEY NHS TRUST   222.0        1279   \n",
       "330                                          YEW TREES   862.0        1955   \n",
       "331        YORK TEACHING HOSPITAL NHS FOUNDATION TRUST   649.0        3351   \n",
       "332                                    YOUR HEALTHCARE    54.0         184   \n",
       "\n",
       "     In-pts  newCasesByPublishDate  mech-vent  newCasesByPublishDate  \\\n",
       "0     26467                 1295.0     2378.0                 1295.0   \n",
       "1     17934                 6609.0     2847.0                 6609.0   \n",
       "2     25334                 2615.0     3275.0                 2615.0   \n",
       "3      2194                 4926.0      307.0                 4926.0   \n",
       "4     22713                 1006.0     1854.0                 1006.0   \n",
       "..      ...                    ...        ...                    ...   \n",
       "328    4379                 2919.0      482.0                 2919.0   \n",
       "329    7454                 1715.0      681.0                 1715.0   \n",
       "330   18604                 5294.0     2865.0                 5294.0   \n",
       "331   24957                  958.0     2181.0                  958.0   \n",
       "332    3423                60916.0      297.0                60916.0   \n",
       "\n",
       "     mech-vent  \n",
       "0       2378.0  \n",
       "1       2847.0  \n",
       "2       3275.0  \n",
       "3        307.0  \n",
       "4       1854.0  \n",
       "..         ...  \n",
       "328      482.0  \n",
       "329      681.0  \n",
       "330     2865.0  \n",
       "331     2181.0  \n",
       "332      297.0  \n",
       "\n",
       "[333 rows x 8 columns]"
      ]
     },
     "execution_count": 610,
     "metadata": {},
     "output_type": "execute_result"
    }
   ],
   "source": [
    "Dataset_LocationWise = survey_raw_data.groupby(['Name','deaths'], as_index=False).max('date')\n",
    "Dataset_LocationWise"
   ]
  },
  {
   "cell_type": "code",
   "execution_count": 611,
   "id": "39e031ec",
   "metadata": {},
   "outputs": [
    {
     "ename": "ValueError",
     "evalue": "The truth value of a Series is ambiguous. Use a.empty, a.bool(), a.item(), a.any() or a.all().",
     "output_type": "error",
     "traceback": [
      "\u001b[1;31m---------------------------------------------------------------------------\u001b[0m",
      "\u001b[1;31mValueError\u001b[0m                                Traceback (most recent call last)",
      "\u001b[1;32m<ipython-input-611-9969a0b958e8>\u001b[0m in \u001b[0;36m<module>\u001b[1;34m\u001b[0m\n\u001b[0;32m      1\u001b[0m \u001b[0msns\u001b[0m\u001b[1;33m.\u001b[0m\u001b[0mcountplot\u001b[0m\u001b[1;33m(\u001b[0m\u001b[0my\u001b[0m\u001b[1;33m=\u001b[0m\u001b[0mDataset_LocationWise\u001b[0m\u001b[1;33m.\u001b[0m\u001b[0madmissions\u001b[0m\u001b[1;33m)\u001b[0m\u001b[1;33m\u001b[0m\u001b[1;33m\u001b[0m\u001b[0m\n\u001b[0;32m      2\u001b[0m \u001b[0mplt\u001b[0m\u001b[1;33m.\u001b[0m\u001b[0mxticks\u001b[0m\u001b[1;33m(\u001b[0m\u001b[0mrotation\u001b[0m\u001b[1;33m=\u001b[0m\u001b[1;36m75\u001b[0m\u001b[1;33m)\u001b[0m\u001b[1;33m;\u001b[0m\u001b[1;33m\u001b[0m\u001b[1;33m\u001b[0m\u001b[0m\n\u001b[1;32m----> 3\u001b[1;33m \u001b[0mplt\u001b[0m\u001b[1;33m.\u001b[0m\u001b[0mtitle\u001b[0m\u001b[1;33m(\u001b[0m\u001b[0mschema_fname\u001b[0m\u001b[1;33m.\u001b[0m\u001b[0mdeaths\u001b[0m\u001b[1;33m)\u001b[0m\u001b[1;33m\u001b[0m\u001b[1;33m\u001b[0m\u001b[0m\n\u001b[0m\u001b[0;32m      4\u001b[0m \u001b[0mplt\u001b[0m\u001b[1;33m.\u001b[0m\u001b[0mylabel\u001b[0m\u001b[1;33m(\u001b[0m\u001b[1;32mNone\u001b[0m\u001b[1;33m)\u001b[0m\u001b[1;33m;\u001b[0m\u001b[1;33m\u001b[0m\u001b[1;33m\u001b[0m\u001b[0m\n",
      "\u001b[1;32m~\\AppData\\Roaming\\Python\\Python39\\site-packages\\matplotlib\\pyplot.py\u001b[0m in \u001b[0;36mtitle\u001b[1;34m(label, fontdict, loc, pad, y, **kwargs)\u001b[0m\n\u001b[0;32m   3285\u001b[0m \u001b[1;33m@\u001b[0m\u001b[0m_copy_docstring_and_deprecators\u001b[0m\u001b[1;33m(\u001b[0m\u001b[0mAxes\u001b[0m\u001b[1;33m.\u001b[0m\u001b[0mset_title\u001b[0m\u001b[1;33m)\u001b[0m\u001b[1;33m\u001b[0m\u001b[1;33m\u001b[0m\u001b[0m\n\u001b[0;32m   3286\u001b[0m \u001b[1;32mdef\u001b[0m \u001b[0mtitle\u001b[0m\u001b[1;33m(\u001b[0m\u001b[0mlabel\u001b[0m\u001b[1;33m,\u001b[0m \u001b[0mfontdict\u001b[0m\u001b[1;33m=\u001b[0m\u001b[1;32mNone\u001b[0m\u001b[1;33m,\u001b[0m \u001b[0mloc\u001b[0m\u001b[1;33m=\u001b[0m\u001b[1;32mNone\u001b[0m\u001b[1;33m,\u001b[0m \u001b[0mpad\u001b[0m\u001b[1;33m=\u001b[0m\u001b[1;32mNone\u001b[0m\u001b[1;33m,\u001b[0m \u001b[1;33m*\u001b[0m\u001b[1;33m,\u001b[0m \u001b[0my\u001b[0m\u001b[1;33m=\u001b[0m\u001b[1;32mNone\u001b[0m\u001b[1;33m,\u001b[0m \u001b[1;33m**\u001b[0m\u001b[0mkwargs\u001b[0m\u001b[1;33m)\u001b[0m\u001b[1;33m:\u001b[0m\u001b[1;33m\u001b[0m\u001b[1;33m\u001b[0m\u001b[0m\n\u001b[1;32m-> 3287\u001b[1;33m     return gca().set_title(\n\u001b[0m\u001b[0;32m   3288\u001b[0m         label, fontdict=fontdict, loc=loc, pad=pad, y=y, **kwargs)\n\u001b[0;32m   3289\u001b[0m \u001b[1;33m\u001b[0m\u001b[0m\n",
      "\u001b[1;32m~\\AppData\\Roaming\\Python\\Python39\\site-packages\\matplotlib\\axes\\_axes.py\u001b[0m in \u001b[0;36mset_title\u001b[1;34m(self, label, fontdict, loc, pad, y, **kwargs)\u001b[0m\n\u001b[0;32m    162\u001b[0m             \u001b[0mpad\u001b[0m \u001b[1;33m=\u001b[0m \u001b[0mrcParams\u001b[0m\u001b[1;33m[\u001b[0m\u001b[1;34m'axes.titlepad'\u001b[0m\u001b[1;33m]\u001b[0m\u001b[1;33m\u001b[0m\u001b[1;33m\u001b[0m\u001b[0m\n\u001b[0;32m    163\u001b[0m         \u001b[0mself\u001b[0m\u001b[1;33m.\u001b[0m\u001b[0m_set_title_offset_trans\u001b[0m\u001b[1;33m(\u001b[0m\u001b[0mfloat\u001b[0m\u001b[1;33m(\u001b[0m\u001b[0mpad\u001b[0m\u001b[1;33m)\u001b[0m\u001b[1;33m)\u001b[0m\u001b[1;33m\u001b[0m\u001b[1;33m\u001b[0m\u001b[0m\n\u001b[1;32m--> 164\u001b[1;33m         \u001b[0mtitle\u001b[0m\u001b[1;33m.\u001b[0m\u001b[0mset_text\u001b[0m\u001b[1;33m(\u001b[0m\u001b[0mlabel\u001b[0m\u001b[1;33m)\u001b[0m\u001b[1;33m\u001b[0m\u001b[1;33m\u001b[0m\u001b[0m\n\u001b[0m\u001b[0;32m    165\u001b[0m         \u001b[0mtitle\u001b[0m\u001b[1;33m.\u001b[0m\u001b[0mupdate\u001b[0m\u001b[1;33m(\u001b[0m\u001b[0mdefault\u001b[0m\u001b[1;33m)\u001b[0m\u001b[1;33m\u001b[0m\u001b[1;33m\u001b[0m\u001b[0m\n\u001b[0;32m    166\u001b[0m         \u001b[1;32mif\u001b[0m \u001b[0mfontdict\u001b[0m \u001b[1;32mis\u001b[0m \u001b[1;32mnot\u001b[0m \u001b[1;32mNone\u001b[0m\u001b[1;33m:\u001b[0m\u001b[1;33m\u001b[0m\u001b[1;33m\u001b[0m\u001b[0m\n",
      "\u001b[1;32m~\\AppData\\Roaming\\Python\\Python39\\site-packages\\matplotlib\\text.py\u001b[0m in \u001b[0;36mset_text\u001b[1;34m(self, s)\u001b[0m\n\u001b[0;32m   1213\u001b[0m         \u001b[1;32mif\u001b[0m \u001b[0ms\u001b[0m \u001b[1;32mis\u001b[0m \u001b[1;32mNone\u001b[0m\u001b[1;33m:\u001b[0m\u001b[1;33m\u001b[0m\u001b[1;33m\u001b[0m\u001b[0m\n\u001b[0;32m   1214\u001b[0m             \u001b[0ms\u001b[0m \u001b[1;33m=\u001b[0m \u001b[1;34m''\u001b[0m\u001b[1;33m\u001b[0m\u001b[1;33m\u001b[0m\u001b[0m\n\u001b[1;32m-> 1215\u001b[1;33m         \u001b[1;32mif\u001b[0m \u001b[0ms\u001b[0m \u001b[1;33m!=\u001b[0m \u001b[0mself\u001b[0m\u001b[1;33m.\u001b[0m\u001b[0m_text\u001b[0m\u001b[1;33m:\u001b[0m\u001b[1;33m\u001b[0m\u001b[1;33m\u001b[0m\u001b[0m\n\u001b[0m\u001b[0;32m   1216\u001b[0m             \u001b[0mself\u001b[0m\u001b[1;33m.\u001b[0m\u001b[0m_text\u001b[0m \u001b[1;33m=\u001b[0m \u001b[0mstr\u001b[0m\u001b[1;33m(\u001b[0m\u001b[0ms\u001b[0m\u001b[1;33m)\u001b[0m\u001b[1;33m\u001b[0m\u001b[1;33m\u001b[0m\u001b[0m\n\u001b[0;32m   1217\u001b[0m             \u001b[0mself\u001b[0m\u001b[1;33m.\u001b[0m\u001b[0mstale\u001b[0m \u001b[1;33m=\u001b[0m \u001b[1;32mTrue\u001b[0m\u001b[1;33m\u001b[0m\u001b[1;33m\u001b[0m\u001b[0m\n",
      "\u001b[1;32m~\\AppData\\Roaming\\Python\\Python39\\site-packages\\pandas\\core\\generic.py\u001b[0m in \u001b[0;36m__nonzero__\u001b[1;34m(self)\u001b[0m\n\u001b[0;32m   1440\u001b[0m     \u001b[1;33m@\u001b[0m\u001b[0mfinal\u001b[0m\u001b[1;33m\u001b[0m\u001b[1;33m\u001b[0m\u001b[0m\n\u001b[0;32m   1441\u001b[0m     \u001b[1;32mdef\u001b[0m \u001b[0m__nonzero__\u001b[0m\u001b[1;33m(\u001b[0m\u001b[0mself\u001b[0m\u001b[1;33m)\u001b[0m\u001b[1;33m:\u001b[0m\u001b[1;33m\u001b[0m\u001b[1;33m\u001b[0m\u001b[0m\n\u001b[1;32m-> 1442\u001b[1;33m         raise ValueError(\n\u001b[0m\u001b[0;32m   1443\u001b[0m             \u001b[1;34mf\"The truth value of a {type(self).__name__} is ambiguous. \"\u001b[0m\u001b[1;33m\u001b[0m\u001b[1;33m\u001b[0m\u001b[0m\n\u001b[0;32m   1444\u001b[0m             \u001b[1;34m\"Use a.empty, a.bool(), a.item(), a.any() or a.all().\"\u001b[0m\u001b[1;33m\u001b[0m\u001b[1;33m\u001b[0m\u001b[0m\n",
      "\u001b[1;31mValueError\u001b[0m: The truth value of a Series is ambiguous. Use a.empty, a.bool(), a.item(), a.any() or a.all()."
     ]
    },
    {
     "data": {
      "image/png": "[encoded data removed]",
      "text/plain": [
       "<Figure size 432x288 with 1 Axes>"
      ]
     },
     "metadata": {},
     "output_type": "display_data"
    }
   ],
   "source": [
    "sns.countplot(y=Dataset_LocationWise.admissions)\n",
    "plt.xticks(rotation=75);\n",
    "plt.title(schema_fname.deaths)\n",
    "plt.ylabel(None);"
   ]
  },
  {
   "cell_type": "code",
   "execution_count": null,
   "id": "08c56488",
   "metadata": {},
   "outputs": [],
   "source": [
    "Dataset_LocationWise = survey_raw_data.groupby(['admissions','deaths'], as_index=False).max('date')\n",
    "Dataset_LocationWise"
   ]
  },
  {
   "cell_type": "code",
   "execution_count": null,
   "id": "702255e6",
   "metadata": {},
   "outputs": [],
   "source": [
    "Dataset_LocationWise.describe()"
   ]
  },
  {
   "cell_type": "code",
   "execution_count": null,
   "id": "d0b1c1a9",
   "metadata": {},
   "outputs": [],
   "source": [
    "f, ax = plt.subplots(figsize=(12, 8))\n",
    "data = Dataset_LocationWise[['admissions','deaths','In-pts']]\n",
    "data.sort_values('In-pts',ascending=False,inplace=True)\n",
    "sns.set_color_codes(\"pastel\")\n",
    "sns.barplot(x=\"In-pts\", y=\"admissions\", data=Dataset_LocationWise,label=\"Total Cases\", color=\"green\")\n",
    "\n",
    "sns.set_color_codes(\"muted\")\n",
    "sns.barplot(x='In-pts', y=\"admissions\", data=Dataset_LocationWise, label=\"Total Deaths\", color=\"red\")\n",
    "ax.legend(ncol=2, loc=\"upper right\", frameon=True)\n",
    "ax.set_title('New Cases By Publish Date - admissions');\n",
    " #ax.set(xlim=(0, 35), ylabel=\"\",xlabel=\"Cases\")\n",
    "sns.despine(left=True, bottom=True)"
   ]
  },
  {
   "cell_type": "code",
   "execution_count": null,
   "id": "6c30e9ed",
   "metadata": {},
   "outputs": [],
   "source": []
  },
  {
   "cell_type": "code",
   "execution_count": null,
   "id": "5867fda1",
   "metadata": {},
   "outputs": [],
   "source": []
  },
  {
   "cell_type": "code",
   "execution_count": null,
   "id": "05d4aaa6",
   "metadata": {},
   "outputs": [],
   "source": []
  },
  {
   "cell_type": "code",
   "execution_count": 612,
   "id": "51ea4bd7",
   "metadata": {
    "scrolled": true
   },
   "outputs": [
    {
     "ename": "KeyError",
     "evalue": "'date'",
     "output_type": "error",
     "traceback": [
      "\u001b[1;31m---------------------------------------------------------------------------\u001b[0m",
      "\u001b[1;31mKeyError\u001b[0m                                  Traceback (most recent call last)",
      "\u001b[1;32m~\\AppData\\Roaming\\Python\\Python39\\site-packages\\pandas\\core\\indexes\\base.py\u001b[0m in \u001b[0;36mget_loc\u001b[1;34m(self, key, method, tolerance)\u001b[0m\n\u001b[0;32m   3079\u001b[0m             \u001b[1;32mtry\u001b[0m\u001b[1;33m:\u001b[0m\u001b[1;33m\u001b[0m\u001b[1;33m\u001b[0m\u001b[0m\n\u001b[1;32m-> 3080\u001b[1;33m                 \u001b[1;32mreturn\u001b[0m \u001b[0mself\u001b[0m\u001b[1;33m.\u001b[0m\u001b[0m_engine\u001b[0m\u001b[1;33m.\u001b[0m\u001b[0mget_loc\u001b[0m\u001b[1;33m(\u001b[0m\u001b[0mcasted_key\u001b[0m\u001b[1;33m)\u001b[0m\u001b[1;33m\u001b[0m\u001b[1;33m\u001b[0m\u001b[0m\n\u001b[0m\u001b[0;32m   3081\u001b[0m             \u001b[1;32mexcept\u001b[0m \u001b[0mKeyError\u001b[0m \u001b[1;32mas\u001b[0m \u001b[0merr\u001b[0m\u001b[1;33m:\u001b[0m\u001b[1;33m\u001b[0m\u001b[1;33m\u001b[0m\u001b[0m\n",
      "\u001b[1;32mpandas\\_libs\\index.pyx\u001b[0m in \u001b[0;36mpandas._libs.index.IndexEngine.get_loc\u001b[1;34m()\u001b[0m\n",
      "\u001b[1;32mpandas\\_libs\\index.pyx\u001b[0m in \u001b[0;36mpandas._libs.index.IndexEngine.get_loc\u001b[1;34m()\u001b[0m\n",
      "\u001b[1;32mpandas\\_libs\\hashtable_class_helper.pxi\u001b[0m in \u001b[0;36mpandas._libs.hashtable.PyObjectHashTable.get_item\u001b[1;34m()\u001b[0m\n",
      "\u001b[1;32mpandas\\_libs\\hashtable_class_helper.pxi\u001b[0m in \u001b[0;36mpandas._libs.hashtable.PyObjectHashTable.get_item\u001b[1;34m()\u001b[0m\n",
      "\u001b[1;31mKeyError\u001b[0m: 'date'",
      "\nThe above exception was the direct cause of the following exception:\n",
      "\u001b[1;31mKeyError\u001b[0m                                  Traceback (most recent call last)",
      "\u001b[1;32m<ipython-input-612-df883ccd1159>\u001b[0m in \u001b[0;36m<module>\u001b[1;34m\u001b[0m\n\u001b[0;32m      1\u001b[0m \u001b[0mfig\u001b[0m \u001b[1;33m=\u001b[0m \u001b[0mgo\u001b[0m\u001b[1;33m.\u001b[0m\u001b[0mFigure\u001b[0m\u001b[1;33m(\u001b[0m\u001b[1;33m)\u001b[0m\u001b[1;33m\u001b[0m\u001b[1;33m\u001b[0m\u001b[0m\n\u001b[1;32m----> 2\u001b[1;33m \u001b[0mfig\u001b[0m\u001b[1;33m.\u001b[0m\u001b[0madd_trace\u001b[0m\u001b[1;33m(\u001b[0m\u001b[0mgo\u001b[0m\u001b[1;33m.\u001b[0m\u001b[0mScatter\u001b[0m\u001b[1;33m(\u001b[0m\u001b[0mx\u001b[0m\u001b[1;33m=\u001b[0m\u001b[0mtotal_cases\u001b[0m\u001b[1;33m[\u001b[0m\u001b[1;34m'date'\u001b[0m\u001b[1;33m]\u001b[0m\u001b[1;33m,\u001b[0m \u001b[0my\u001b[0m\u001b[1;33m=\u001b[0m\u001b[0mtotal_cases\u001b[0m\u001b[1;33m[\u001b[0m\u001b[1;34m'admissions'\u001b[0m\u001b[1;33m]\u001b[0m\u001b[1;33m,\u001b[0m \u001b[0mmode\u001b[0m\u001b[1;33m=\u001b[0m\u001b[1;34m'lines+markers'\u001b[0m\u001b[1;33m,\u001b[0m \u001b[0mname\u001b[0m\u001b[1;33m=\u001b[0m\u001b[1;34m'Confirmed'\u001b[0m\u001b[1;33m,\u001b[0m\u001b[0mline\u001b[0m\u001b[1;33m=\u001b[0m\u001b[0mdict\u001b[0m\u001b[1;33m(\u001b[0m\u001b[0mcolor\u001b[0m\u001b[1;33m=\u001b[0m\u001b[1;34m'blue'\u001b[0m\u001b[1;33m,\u001b[0m \u001b[0mwidth\u001b[0m\u001b[1;33m=\u001b[0m\u001b[1;36m2\u001b[0m\u001b[1;33m)\u001b[0m\u001b[1;33m)\u001b[0m\u001b[1;33m)\u001b[0m\u001b[1;33m\u001b[0m\u001b[1;33m\u001b[0m\u001b[0m\n\u001b[0m\u001b[0;32m      3\u001b[0m \u001b[0mfig\u001b[0m\u001b[1;33m.\u001b[0m\u001b[0madd_trace\u001b[0m\u001b[1;33m(\u001b[0m\u001b[0mgo\u001b[0m\u001b[1;33m.\u001b[0m\u001b[0mScatter\u001b[0m\u001b[1;33m(\u001b[0m\u001b[0mx\u001b[0m\u001b[1;33m=\u001b[0m\u001b[0mtotal_deaths\u001b[0m\u001b[1;33m[\u001b[0m\u001b[1;34m'date'\u001b[0m\u001b[1;33m]\u001b[0m\u001b[1;33m,\u001b[0m \u001b[0my\u001b[0m\u001b[1;33m=\u001b[0m\u001b[0mtotal_deaths\u001b[0m\u001b[1;33m[\u001b[0m\u001b[1;34m'admissions'\u001b[0m\u001b[1;33m]\u001b[0m\u001b[1;33m,\u001b[0m \u001b[0mmode\u001b[0m\u001b[1;33m=\u001b[0m\u001b[1;34m'lines+markers'\u001b[0m\u001b[1;33m,\u001b[0m \u001b[0mname\u001b[0m\u001b[1;33m=\u001b[0m\u001b[1;34m'Deaths'\u001b[0m\u001b[1;33m,\u001b[0m \u001b[0mline\u001b[0m\u001b[1;33m=\u001b[0m\u001b[0mdict\u001b[0m\u001b[1;33m(\u001b[0m\u001b[0mcolor\u001b[0m\u001b[1;33m=\u001b[0m\u001b[1;34m'Red'\u001b[0m\u001b[1;33m,\u001b[0m \u001b[0mwidth\u001b[0m\u001b[1;33m=\u001b[0m\u001b[1;36m2\u001b[0m\u001b[1;33m)\u001b[0m\u001b[1;33m)\u001b[0m\u001b[1;33m)\u001b[0m\u001b[1;33m\u001b[0m\u001b[1;33m\u001b[0m\u001b[0m\n\u001b[0;32m      4\u001b[0m \u001b[1;33m\u001b[0m\u001b[0m\n\u001b[0;32m      5\u001b[0m \u001b[0mfig\u001b[0m\u001b[1;33m.\u001b[0m\u001b[0mupdate_layout\u001b[0m\u001b[1;33m(\u001b[0m\u001b[0mtitle\u001b[0m\u001b[1;33m=\u001b[0m\u001b[1;34m'England Covid-19 cases'\u001b[0m\u001b[1;33m,\u001b[0m \u001b[0mxaxis_tickfont_size\u001b[0m\u001b[1;33m=\u001b[0m\u001b[1;36m14\u001b[0m\u001b[1;33m,\u001b[0m\u001b[0myaxis\u001b[0m\u001b[1;33m=\u001b[0m\u001b[0mdict\u001b[0m\u001b[1;33m(\u001b[0m\u001b[0mtitle\u001b[0m\u001b[1;33m=\u001b[0m\u001b[1;34m'deaths'\u001b[0m\u001b[1;33m)\u001b[0m\u001b[1;33m)\u001b[0m\u001b[1;33m\u001b[0m\u001b[1;33m\u001b[0m\u001b[0m\n",
      "\u001b[1;32m~\\AppData\\Roaming\\Python\\Python39\\site-packages\\pandas\\core\\frame.py\u001b[0m in \u001b[0;36m__getitem__\u001b[1;34m(self, key)\u001b[0m\n\u001b[0;32m   3022\u001b[0m             \u001b[1;32mif\u001b[0m \u001b[0mself\u001b[0m\u001b[1;33m.\u001b[0m\u001b[0mcolumns\u001b[0m\u001b[1;33m.\u001b[0m\u001b[0mnlevels\u001b[0m \u001b[1;33m>\u001b[0m \u001b[1;36m1\u001b[0m\u001b[1;33m:\u001b[0m\u001b[1;33m\u001b[0m\u001b[1;33m\u001b[0m\u001b[0m\n\u001b[0;32m   3023\u001b[0m                 \u001b[1;32mreturn\u001b[0m \u001b[0mself\u001b[0m\u001b[1;33m.\u001b[0m\u001b[0m_getitem_multilevel\u001b[0m\u001b[1;33m(\u001b[0m\u001b[0mkey\u001b[0m\u001b[1;33m)\u001b[0m\u001b[1;33m\u001b[0m\u001b[1;33m\u001b[0m\u001b[0m\n\u001b[1;32m-> 3024\u001b[1;33m             \u001b[0mindexer\u001b[0m \u001b[1;33m=\u001b[0m \u001b[0mself\u001b[0m\u001b[1;33m.\u001b[0m\u001b[0mcolumns\u001b[0m\u001b[1;33m.\u001b[0m\u001b[0mget_loc\u001b[0m\u001b[1;33m(\u001b[0m\u001b[0mkey\u001b[0m\u001b[1;33m)\u001b[0m\u001b[1;33m\u001b[0m\u001b[1;33m\u001b[0m\u001b[0m\n\u001b[0m\u001b[0;32m   3025\u001b[0m             \u001b[1;32mif\u001b[0m \u001b[0mis_integer\u001b[0m\u001b[1;33m(\u001b[0m\u001b[0mindexer\u001b[0m\u001b[1;33m)\u001b[0m\u001b[1;33m:\u001b[0m\u001b[1;33m\u001b[0m\u001b[1;33m\u001b[0m\u001b[0m\n\u001b[0;32m   3026\u001b[0m                 \u001b[0mindexer\u001b[0m \u001b[1;33m=\u001b[0m \u001b[1;33m[\u001b[0m\u001b[0mindexer\u001b[0m\u001b[1;33m]\u001b[0m\u001b[1;33m\u001b[0m\u001b[1;33m\u001b[0m\u001b[0m\n",
      "\u001b[1;32m~\\AppData\\Roaming\\Python\\Python39\\site-packages\\pandas\\core\\indexes\\base.py\u001b[0m in \u001b[0;36mget_loc\u001b[1;34m(self, key, method, tolerance)\u001b[0m\n\u001b[0;32m   3080\u001b[0m                 \u001b[1;32mreturn\u001b[0m \u001b[0mself\u001b[0m\u001b[1;33m.\u001b[0m\u001b[0m_engine\u001b[0m\u001b[1;33m.\u001b[0m\u001b[0mget_loc\u001b[0m\u001b[1;33m(\u001b[0m\u001b[0mcasted_key\u001b[0m\u001b[1;33m)\u001b[0m\u001b[1;33m\u001b[0m\u001b[1;33m\u001b[0m\u001b[0m\n\u001b[0;32m   3081\u001b[0m             \u001b[1;32mexcept\u001b[0m \u001b[0mKeyError\u001b[0m \u001b[1;32mas\u001b[0m \u001b[0merr\u001b[0m\u001b[1;33m:\u001b[0m\u001b[1;33m\u001b[0m\u001b[1;33m\u001b[0m\u001b[0m\n\u001b[1;32m-> 3082\u001b[1;33m                 \u001b[1;32mraise\u001b[0m \u001b[0mKeyError\u001b[0m\u001b[1;33m(\u001b[0m\u001b[0mkey\u001b[0m\u001b[1;33m)\u001b[0m \u001b[1;32mfrom\u001b[0m \u001b[0merr\u001b[0m\u001b[1;33m\u001b[0m\u001b[1;33m\u001b[0m\u001b[0m\n\u001b[0m\u001b[0;32m   3083\u001b[0m \u001b[1;33m\u001b[0m\u001b[0m\n\u001b[0;32m   3084\u001b[0m         \u001b[1;32mif\u001b[0m \u001b[0mtolerance\u001b[0m \u001b[1;32mis\u001b[0m \u001b[1;32mnot\u001b[0m \u001b[1;32mNone\u001b[0m\u001b[1;33m:\u001b[0m\u001b[1;33m\u001b[0m\u001b[1;33m\u001b[0m\u001b[0m\n",
      "\u001b[1;31mKeyError\u001b[0m: 'date'"
     ]
    }
   ],
   "source": [
    "fig = go.Figure()\n",
    "fig.add_trace(go.Scatter(x=total_cases['date'], y=total_cases['admissions'], mode='lines+markers', name='Confirmed',line=dict(color='blue', width=2)))\n",
    "fig.add_trace(go.Scatter(x=total_deaths['date'], y=total_deaths['admissions'], mode='lines+markers', name='Deaths', line=dict(color='Red', width=2)))\n",
    "\n",
    "fig.update_layout(title='England Covid-19 cases', xaxis_tickfont_size=14,yaxis=dict(title='deaths'))\n",
    "fig.show()"
   ]
  },
  {
   "cell_type": "code",
   "execution_count": 613,
   "id": "65a0c2bc",
   "metadata": {},
   "outputs": [
    {
     "data": {
      "text/html": [
       "<div>\n",
       "<style scoped>\n",
       "    .dataframe tbody tr th:only-of-type {\n",
       "        vertical-align: middle;\n",
       "    }\n",
       "\n",
       "    .dataframe tbody tr th {\n",
       "        vertical-align: top;\n",
       "    }\n",
       "\n",
       "    .dataframe thead th {\n",
       "        text-align: right;\n",
       "    }\n",
       "</style>\n",
       "<table border=\"1\" class=\"dataframe\">\n",
       "  <thead>\n",
       "    <tr style=\"text-align: right;\">\n",
       "      <th></th>\n",
       "      <th>deaths</th>\n",
       "      <th>admissions</th>\n",
       "    </tr>\n",
       "  </thead>\n",
       "  <tbody>\n",
       "    <tr>\n",
       "      <th>0</th>\n",
       "      <td>2.0</td>\n",
       "      <td>188</td>\n",
       "    </tr>\n",
       "    <tr>\n",
       "      <th>1</th>\n",
       "      <td>3.0</td>\n",
       "      <td>60</td>\n",
       "    </tr>\n",
       "    <tr>\n",
       "      <th>2</th>\n",
       "      <td>4.0</td>\n",
       "      <td>39</td>\n",
       "    </tr>\n",
       "    <tr>\n",
       "      <th>3</th>\n",
       "      <td>5.0</td>\n",
       "      <td>93</td>\n",
       "    </tr>\n",
       "    <tr>\n",
       "      <th>4</th>\n",
       "      <td>6.0</td>\n",
       "      <td>398</td>\n",
       "    </tr>\n",
       "    <tr>\n",
       "      <th>5</th>\n",
       "      <td>7.0</td>\n",
       "      <td>217</td>\n",
       "    </tr>\n",
       "    <tr>\n",
       "      <th>6</th>\n",
       "      <td>8.0</td>\n",
       "      <td>669</td>\n",
       "    </tr>\n",
       "    <tr>\n",
       "      <th>7</th>\n",
       "      <td>9.0</td>\n",
       "      <td>337</td>\n",
       "    </tr>\n",
       "    <tr>\n",
       "      <th>8</th>\n",
       "      <td>10.0</td>\n",
       "      <td>462</td>\n",
       "    </tr>\n",
       "    <tr>\n",
       "      <th>9</th>\n",
       "      <td>11.0</td>\n",
       "      <td>278</td>\n",
       "    </tr>\n",
       "    <tr>\n",
       "      <th>10</th>\n",
       "      <td>12.0</td>\n",
       "      <td>483</td>\n",
       "    </tr>\n",
       "    <tr>\n",
       "      <th>11</th>\n",
       "      <td>13.0</td>\n",
       "      <td>128</td>\n",
       "    </tr>\n",
       "    <tr>\n",
       "      <th>12</th>\n",
       "      <td>14.0</td>\n",
       "      <td>476</td>\n",
       "    </tr>\n",
       "    <tr>\n",
       "      <th>13</th>\n",
       "      <td>15.0</td>\n",
       "      <td>194</td>\n",
       "    </tr>\n",
       "    <tr>\n",
       "      <th>14</th>\n",
       "      <td>16.0</td>\n",
       "      <td>191</td>\n",
       "    </tr>\n",
       "    <tr>\n",
       "      <th>15</th>\n",
       "      <td>17.0</td>\n",
       "      <td>172</td>\n",
       "    </tr>\n",
       "    <tr>\n",
       "      <th>16</th>\n",
       "      <td>18.0</td>\n",
       "      <td>430</td>\n",
       "    </tr>\n",
       "    <tr>\n",
       "      <th>17</th>\n",
       "      <td>19.0</td>\n",
       "      <td>79</td>\n",
       "    </tr>\n",
       "    <tr>\n",
       "      <th>18</th>\n",
       "      <td>20.0</td>\n",
       "      <td>335</td>\n",
       "    </tr>\n",
       "    <tr>\n",
       "      <th>19</th>\n",
       "      <td>21.0</td>\n",
       "      <td>309</td>\n",
       "    </tr>\n",
       "    <tr>\n",
       "      <th>20</th>\n",
       "      <td>22.0</td>\n",
       "      <td>521</td>\n",
       "    </tr>\n",
       "    <tr>\n",
       "      <th>21</th>\n",
       "      <td>23.0</td>\n",
       "      <td>141</td>\n",
       "    </tr>\n",
       "    <tr>\n",
       "      <th>22</th>\n",
       "      <td>24.0</td>\n",
       "      <td>605</td>\n",
       "    </tr>\n",
       "    <tr>\n",
       "      <th>23</th>\n",
       "      <td>26.0</td>\n",
       "      <td>294</td>\n",
       "    </tr>\n",
       "    <tr>\n",
       "      <th>24</th>\n",
       "      <td>27.0</td>\n",
       "      <td>237</td>\n",
       "    </tr>\n",
       "    <tr>\n",
       "      <th>25</th>\n",
       "      <td>29.0</td>\n",
       "      <td>274</td>\n",
       "    </tr>\n",
       "    <tr>\n",
       "      <th>26</th>\n",
       "      <td>31.0</td>\n",
       "      <td>120</td>\n",
       "    </tr>\n",
       "    <tr>\n",
       "      <th>27</th>\n",
       "      <td>33.0</td>\n",
       "      <td>288</td>\n",
       "    </tr>\n",
       "    <tr>\n",
       "      <th>28</th>\n",
       "      <td>34.0</td>\n",
       "      <td>590</td>\n",
       "    </tr>\n",
       "    <tr>\n",
       "      <th>29</th>\n",
       "      <td>35.0</td>\n",
       "      <td>381</td>\n",
       "    </tr>\n",
       "  </tbody>\n",
       "</table>\n",
       "</div>"
      ],
      "text/plain": [
       "    deaths  admissions\n",
       "0      2.0         188\n",
       "1      3.0          60\n",
       "2      4.0          39\n",
       "3      5.0          93\n",
       "4      6.0         398\n",
       "5      7.0         217\n",
       "6      8.0         669\n",
       "7      9.0         337\n",
       "8     10.0         462\n",
       "9     11.0         278\n",
       "10    12.0         483\n",
       "11    13.0         128\n",
       "12    14.0         476\n",
       "13    15.0         194\n",
       "14    16.0         191\n",
       "15    17.0         172\n",
       "16    18.0         430\n",
       "17    19.0          79\n",
       "18    20.0         335\n",
       "19    21.0         309\n",
       "20    22.0         521\n",
       "21    23.0         141\n",
       "22    24.0         605\n",
       "23    26.0         294\n",
       "24    27.0         237\n",
       "25    29.0         274\n",
       "26    31.0         120\n",
       "27    33.0         288\n",
       "28    34.0         590\n",
       "29    35.0         381"
      ]
     },
     "execution_count": 613,
     "metadata": {},
     "output_type": "execute_result"
    }
   ],
   "source": [
    "total_cases.head(30)\n",
    "# total_deaths.head()"
   ]
  },
  {
   "cell_type": "code",
   "execution_count": 614,
   "id": "50a3459b",
   "metadata": {},
   "outputs": [
    {
     "ename": "KeyError",
     "evalue": "'date'",
     "output_type": "error",
     "traceback": [
      "\u001b[1;31m---------------------------------------------------------------------------\u001b[0m",
      "\u001b[1;31mKeyError\u001b[0m                                  Traceback (most recent call last)",
      "\u001b[1;32m~\\AppData\\Roaming\\Python\\Python39\\site-packages\\pandas\\core\\indexes\\base.py\u001b[0m in \u001b[0;36mget_loc\u001b[1;34m(self, key, method, tolerance)\u001b[0m\n\u001b[0;32m   3079\u001b[0m             \u001b[1;32mtry\u001b[0m\u001b[1;33m:\u001b[0m\u001b[1;33m\u001b[0m\u001b[1;33m\u001b[0m\u001b[0m\n\u001b[1;32m-> 3080\u001b[1;33m                 \u001b[1;32mreturn\u001b[0m \u001b[0mself\u001b[0m\u001b[1;33m.\u001b[0m\u001b[0m_engine\u001b[0m\u001b[1;33m.\u001b[0m\u001b[0mget_loc\u001b[0m\u001b[1;33m(\u001b[0m\u001b[0mcasted_key\u001b[0m\u001b[1;33m)\u001b[0m\u001b[1;33m\u001b[0m\u001b[1;33m\u001b[0m\u001b[0m\n\u001b[0m\u001b[0;32m   3081\u001b[0m             \u001b[1;32mexcept\u001b[0m \u001b[0mKeyError\u001b[0m \u001b[1;32mas\u001b[0m \u001b[0merr\u001b[0m\u001b[1;33m:\u001b[0m\u001b[1;33m\u001b[0m\u001b[1;33m\u001b[0m\u001b[0m\n",
      "\u001b[1;32mpandas\\_libs\\index.pyx\u001b[0m in \u001b[0;36mpandas._libs.index.IndexEngine.get_loc\u001b[1;34m()\u001b[0m\n",
      "\u001b[1;32mpandas\\_libs\\index.pyx\u001b[0m in \u001b[0;36mpandas._libs.index.IndexEngine.get_loc\u001b[1;34m()\u001b[0m\n",
      "\u001b[1;32mpandas\\_libs\\hashtable_class_helper.pxi\u001b[0m in \u001b[0;36mpandas._libs.hashtable.PyObjectHashTable.get_item\u001b[1;34m()\u001b[0m\n",
      "\u001b[1;32mpandas\\_libs\\hashtable_class_helper.pxi\u001b[0m in \u001b[0;36mpandas._libs.hashtable.PyObjectHashTable.get_item\u001b[1;34m()\u001b[0m\n",
      "\u001b[1;31mKeyError\u001b[0m: 'date'",
      "\nThe above exception was the direct cause of the following exception:\n",
      "\u001b[1;31mKeyError\u001b[0m                                  Traceback (most recent call last)",
      "\u001b[1;32m<ipython-input-614-148e28f98197>\u001b[0m in \u001b[0;36m<module>\u001b[1;34m\u001b[0m\n\u001b[0;32m      1\u001b[0m \u001b[0mfig\u001b[0m \u001b[1;33m=\u001b[0m \u001b[0mgo\u001b[0m\u001b[1;33m.\u001b[0m\u001b[0mFigure\u001b[0m\u001b[1;33m(\u001b[0m\u001b[1;33m)\u001b[0m\u001b[1;33m\u001b[0m\u001b[1;33m\u001b[0m\u001b[0m\n\u001b[1;32m----> 2\u001b[1;33m \u001b[0mfig\u001b[0m\u001b[1;33m.\u001b[0m\u001b[0madd_trace\u001b[0m\u001b[1;33m(\u001b[0m\u001b[0mgo\u001b[0m\u001b[1;33m.\u001b[0m\u001b[0mScatter\u001b[0m\u001b[1;33m(\u001b[0m\u001b[0mx\u001b[0m\u001b[1;33m=\u001b[0m\u001b[0mtotal_cases\u001b[0m\u001b[1;33m[\u001b[0m\u001b[1;34m'date'\u001b[0m\u001b[1;33m]\u001b[0m\u001b[1;33m,\u001b[0m \u001b[0my\u001b[0m\u001b[1;33m=\u001b[0m\u001b[0mtotal_cases\u001b[0m\u001b[1;33m[\u001b[0m\u001b[1;34m'admissions'\u001b[0m\u001b[1;33m]\u001b[0m\u001b[1;33m,\u001b[0m \u001b[0mmode\u001b[0m\u001b[1;33m=\u001b[0m\u001b[1;34m'lines+markers'\u001b[0m\u001b[1;33m,\u001b[0m \u001b[0mname\u001b[0m\u001b[1;33m=\u001b[0m\u001b[1;34m'a'\u001b[0m\u001b[1;33m,\u001b[0m\u001b[0mline\u001b[0m\u001b[1;33m=\u001b[0m\u001b[0mdict\u001b[0m\u001b[1;33m(\u001b[0m\u001b[0mcolor\u001b[0m\u001b[1;33m=\u001b[0m\u001b[1;34m'blue'\u001b[0m\u001b[1;33m,\u001b[0m \u001b[0mwidth\u001b[0m\u001b[1;33m=\u001b[0m\u001b[1;36m2\u001b[0m\u001b[1;33m)\u001b[0m\u001b[1;33m)\u001b[0m\u001b[1;33m)\u001b[0m\u001b[1;33m\u001b[0m\u001b[1;33m\u001b[0m\u001b[0m\n\u001b[0m\u001b[0;32m      3\u001b[0m \u001b[0mfig\u001b[0m\u001b[1;33m.\u001b[0m\u001b[0madd_trace\u001b[0m\u001b[1;33m(\u001b[0m\u001b[0mgo\u001b[0m\u001b[1;33m.\u001b[0m\u001b[0mScatter\u001b[0m\u001b[1;33m(\u001b[0m\u001b[0mx\u001b[0m\u001b[1;33m=\u001b[0m\u001b[0mtotal_deaths\u001b[0m\u001b[1;33m[\u001b[0m\u001b[1;34m'date'\u001b[0m\u001b[1;33m]\u001b[0m\u001b[1;33m,\u001b[0m \u001b[0my\u001b[0m\u001b[1;33m=\u001b[0m\u001b[0mtotal_deaths\u001b[0m\u001b[1;33m[\u001b[0m\u001b[1;34m'admissions'\u001b[0m\u001b[1;33m]\u001b[0m\u001b[1;33m,\u001b[0m \u001b[0mmode\u001b[0m\u001b[1;33m=\u001b[0m\u001b[1;34m'lines+markers'\u001b[0m\u001b[1;33m,\u001b[0m \u001b[0mname\u001b[0m\u001b[1;33m=\u001b[0m\u001b[1;34m'b'\u001b[0m\u001b[1;33m,\u001b[0m \u001b[0mline\u001b[0m\u001b[1;33m=\u001b[0m\u001b[0mdict\u001b[0m\u001b[1;33m(\u001b[0m\u001b[0mcolor\u001b[0m\u001b[1;33m=\u001b[0m\u001b[1;34m'Red'\u001b[0m\u001b[1;33m,\u001b[0m \u001b[0mwidth\u001b[0m\u001b[1;33m=\u001b[0m\u001b[1;36m2\u001b[0m\u001b[1;33m)\u001b[0m\u001b[1;33m)\u001b[0m\u001b[1;33m)\u001b[0m\u001b[1;33m\u001b[0m\u001b[1;33m\u001b[0m\u001b[0m\n\u001b[0;32m      4\u001b[0m \u001b[1;33m\u001b[0m\u001b[0m\n\u001b[0;32m      5\u001b[0m \u001b[0mfig\u001b[0m\u001b[1;33m.\u001b[0m\u001b[0mupdate_layout\u001b[0m\u001b[1;33m(\u001b[0m\u001b[0mtitle\u001b[0m\u001b[1;33m=\u001b[0m\u001b[1;34m'England COVID-19 Cases'\u001b[0m\u001b[1;33m,\u001b[0m \u001b[0mxaxis_tickfont_size\u001b[0m\u001b[1;33m=\u001b[0m\u001b[1;36m14\u001b[0m\u001b[1;33m,\u001b[0m\u001b[0myaxis\u001b[0m\u001b[1;33m=\u001b[0m\u001b[0mdict\u001b[0m\u001b[1;33m(\u001b[0m\u001b[0mtitle\u001b[0m\u001b[1;33m=\u001b[0m\u001b[1;34m'Number of Cases'\u001b[0m\u001b[1;33m)\u001b[0m\u001b[1;33m)\u001b[0m\u001b[1;33m\u001b[0m\u001b[1;33m\u001b[0m\u001b[0m\n",
      "\u001b[1;32m~\\AppData\\Roaming\\Python\\Python39\\site-packages\\pandas\\core\\frame.py\u001b[0m in \u001b[0;36m__getitem__\u001b[1;34m(self, key)\u001b[0m\n\u001b[0;32m   3022\u001b[0m             \u001b[1;32mif\u001b[0m \u001b[0mself\u001b[0m\u001b[1;33m.\u001b[0m\u001b[0mcolumns\u001b[0m\u001b[1;33m.\u001b[0m\u001b[0mnlevels\u001b[0m \u001b[1;33m>\u001b[0m \u001b[1;36m1\u001b[0m\u001b[1;33m:\u001b[0m\u001b[1;33m\u001b[0m\u001b[1;33m\u001b[0m\u001b[0m\n\u001b[0;32m   3023\u001b[0m                 \u001b[1;32mreturn\u001b[0m \u001b[0mself\u001b[0m\u001b[1;33m.\u001b[0m\u001b[0m_getitem_multilevel\u001b[0m\u001b[1;33m(\u001b[0m\u001b[0mkey\u001b[0m\u001b[1;33m)\u001b[0m\u001b[1;33m\u001b[0m\u001b[1;33m\u001b[0m\u001b[0m\n\u001b[1;32m-> 3024\u001b[1;33m             \u001b[0mindexer\u001b[0m \u001b[1;33m=\u001b[0m \u001b[0mself\u001b[0m\u001b[1;33m.\u001b[0m\u001b[0mcolumns\u001b[0m\u001b[1;33m.\u001b[0m\u001b[0mget_loc\u001b[0m\u001b[1;33m(\u001b[0m\u001b[0mkey\u001b[0m\u001b[1;33m)\u001b[0m\u001b[1;33m\u001b[0m\u001b[1;33m\u001b[0m\u001b[0m\n\u001b[0m\u001b[0;32m   3025\u001b[0m             \u001b[1;32mif\u001b[0m \u001b[0mis_integer\u001b[0m\u001b[1;33m(\u001b[0m\u001b[0mindexer\u001b[0m\u001b[1;33m)\u001b[0m\u001b[1;33m:\u001b[0m\u001b[1;33m\u001b[0m\u001b[1;33m\u001b[0m\u001b[0m\n\u001b[0;32m   3026\u001b[0m                 \u001b[0mindexer\u001b[0m \u001b[1;33m=\u001b[0m \u001b[1;33m[\u001b[0m\u001b[0mindexer\u001b[0m\u001b[1;33m]\u001b[0m\u001b[1;33m\u001b[0m\u001b[1;33m\u001b[0m\u001b[0m\n",
      "\u001b[1;32m~\\AppData\\Roaming\\Python\\Python39\\site-packages\\pandas\\core\\indexes\\base.py\u001b[0m in \u001b[0;36mget_loc\u001b[1;34m(self, key, method, tolerance)\u001b[0m\n\u001b[0;32m   3080\u001b[0m                 \u001b[1;32mreturn\u001b[0m \u001b[0mself\u001b[0m\u001b[1;33m.\u001b[0m\u001b[0m_engine\u001b[0m\u001b[1;33m.\u001b[0m\u001b[0mget_loc\u001b[0m\u001b[1;33m(\u001b[0m\u001b[0mcasted_key\u001b[0m\u001b[1;33m)\u001b[0m\u001b[1;33m\u001b[0m\u001b[1;33m\u001b[0m\u001b[0m\n\u001b[0;32m   3081\u001b[0m             \u001b[1;32mexcept\u001b[0m \u001b[0mKeyError\u001b[0m \u001b[1;32mas\u001b[0m \u001b[0merr\u001b[0m\u001b[1;33m:\u001b[0m\u001b[1;33m\u001b[0m\u001b[1;33m\u001b[0m\u001b[0m\n\u001b[1;32m-> 3082\u001b[1;33m                 \u001b[1;32mraise\u001b[0m \u001b[0mKeyError\u001b[0m\u001b[1;33m(\u001b[0m\u001b[0mkey\u001b[0m\u001b[1;33m)\u001b[0m \u001b[1;32mfrom\u001b[0m \u001b[0merr\u001b[0m\u001b[1;33m\u001b[0m\u001b[1;33m\u001b[0m\u001b[0m\n\u001b[0m\u001b[0;32m   3083\u001b[0m \u001b[1;33m\u001b[0m\u001b[0m\n\u001b[0;32m   3084\u001b[0m         \u001b[1;32mif\u001b[0m \u001b[0mtolerance\u001b[0m \u001b[1;32mis\u001b[0m \u001b[1;32mnot\u001b[0m \u001b[1;32mNone\u001b[0m\u001b[1;33m:\u001b[0m\u001b[1;33m\u001b[0m\u001b[1;33m\u001b[0m\u001b[0m\n",
      "\u001b[1;31mKeyError\u001b[0m: 'date'"
     ]
    }
   ],
   "source": [
    "\n",
    "fig = go.Figure()\n",
    "fig.add_trace(go.Scatter(x=total_cases['date'], y=total_cases['admissions'], mode='lines+markers', name='a',line=dict(color='blue', width=2)))\n",
    "fig.add_trace(go.Scatter(x=total_deaths['date'], y=total_deaths['admissions'], mode='lines+markers', name='b', line=dict(color='Red', width=2)))\n",
    "\n",
    "fig.update_layout(title='England COVID-19 Cases', xaxis_tickfont_size=14,yaxis=dict(title='Number of Cases'))\n",
    "fig.show()"
   ]
  },
  {
   "cell_type": "code",
   "execution_count": 615,
   "id": "278ef16a",
   "metadata": {},
   "outputs": [
    {
     "ename": "AttributeError",
     "evalue": "Can only use .dt accessor with datetimelike values",
     "output_type": "error",
     "traceback": [
      "\u001b[1;31m---------------------------------------------------------------------------\u001b[0m",
      "\u001b[1;31mAttributeError\u001b[0m                            Traceback (most recent call last)",
      "\u001b[1;32m<ipython-input-615-a3fa570545c1>\u001b[0m in \u001b[0;36m<module>\u001b[1;34m\u001b[0m\n\u001b[0;32m      1\u001b[0m \u001b[0mDataset_august\u001b[0m \u001b[1;33m=\u001b[0m \u001b[0msurvey_raw_data\u001b[0m\u001b[1;33m[\u001b[0m\u001b[1;33m[\u001b[0m\u001b[1;34m'areaName'\u001b[0m\u001b[1;33m,\u001b[0m\u001b[1;34m'Name'\u001b[0m\u001b[1;33m,\u001b[0m\u001b[1;34m'date'\u001b[0m\u001b[1;33m,\u001b[0m\u001b[1;34m'deaths'\u001b[0m\u001b[1;33m,\u001b[0m\u001b[1;34m'admissions'\u001b[0m\u001b[1;33m]\u001b[0m\u001b[1;33m]\u001b[0m\u001b[1;33m\u001b[0m\u001b[1;33m\u001b[0m\u001b[0m\n\u001b[0;32m      2\u001b[0m \u001b[1;33m\u001b[0m\u001b[0m\n\u001b[1;32m----> 3\u001b[1;33m \u001b[0mDataset_august\u001b[0m \u001b[1;33m=\u001b[0m \u001b[0mDataset_august\u001b[0m\u001b[1;33m[\u001b[0m\u001b[0mDataset_august\u001b[0m\u001b[1;33m.\u001b[0m\u001b[0mdate\u001b[0m\u001b[1;33m.\u001b[0m\u001b[0mdt\u001b[0m\u001b[1;33m.\u001b[0m\u001b[0mmonth\u001b[0m\u001b[1;33m.\u001b[0m\u001b[0mbetween\u001b[0m\u001b[1;33m(\u001b[0m\u001b[1;36m3\u001b[0m\u001b[1;33m,\u001b[0m\u001b[1;36m6\u001b[0m\u001b[1;33m)\u001b[0m\u001b[1;33m]\u001b[0m\u001b[1;33m\u001b[0m\u001b[1;33m\u001b[0m\u001b[0m\n\u001b[0m\u001b[0;32m      4\u001b[0m \u001b[1;33m\u001b[0m\u001b[0m\n\u001b[0;32m      5\u001b[0m \u001b[0mDataset_august\u001b[0m \u001b[1;33m=\u001b[0m \u001b[0mDataset_august\u001b[0m\u001b[1;33m.\u001b[0m\u001b[0mmerge\u001b[0m\u001b[1;33m(\u001b[0m\u001b[0mlat_long\u001b[0m\u001b[1;33m,\u001b[0m \u001b[0mhow\u001b[0m\u001b[1;33m=\u001b[0m\u001b[1;34m'inner'\u001b[0m\u001b[1;33m,\u001b[0m \u001b[0mleft_on\u001b[0m\u001b[1;33m=\u001b[0m\u001b[1;34m'Name'\u001b[0m\u001b[1;33m,\u001b[0m \u001b[0mright_on\u001b[0m\u001b[1;33m=\u001b[0m\u001b[1;34m'deaths'\u001b[0m\u001b[1;33m)\u001b[0m\u001b[1;33m\u001b[0m\u001b[1;33m\u001b[0m\u001b[0m\n",
      "\u001b[1;32m~\\AppData\\Roaming\\Python\\Python39\\site-packages\\pandas\\core\\generic.py\u001b[0m in \u001b[0;36m__getattr__\u001b[1;34m(self, name)\u001b[0m\n\u001b[0;32m   5459\u001b[0m             \u001b[1;32mor\u001b[0m \u001b[0mname\u001b[0m \u001b[1;32min\u001b[0m \u001b[0mself\u001b[0m\u001b[1;33m.\u001b[0m\u001b[0m_accessors\u001b[0m\u001b[1;33m\u001b[0m\u001b[1;33m\u001b[0m\u001b[0m\n\u001b[0;32m   5460\u001b[0m         ):\n\u001b[1;32m-> 5461\u001b[1;33m             \u001b[1;32mreturn\u001b[0m \u001b[0mobject\u001b[0m\u001b[1;33m.\u001b[0m\u001b[0m__getattribute__\u001b[0m\u001b[1;33m(\u001b[0m\u001b[0mself\u001b[0m\u001b[1;33m,\u001b[0m \u001b[0mname\u001b[0m\u001b[1;33m)\u001b[0m\u001b[1;33m\u001b[0m\u001b[1;33m\u001b[0m\u001b[0m\n\u001b[0m\u001b[0;32m   5462\u001b[0m         \u001b[1;32melse\u001b[0m\u001b[1;33m:\u001b[0m\u001b[1;33m\u001b[0m\u001b[1;33m\u001b[0m\u001b[0m\n\u001b[0;32m   5463\u001b[0m             \u001b[1;32mif\u001b[0m \u001b[0mself\u001b[0m\u001b[1;33m.\u001b[0m\u001b[0m_info_axis\u001b[0m\u001b[1;33m.\u001b[0m\u001b[0m_can_hold_identifiers_and_holds_name\u001b[0m\u001b[1;33m(\u001b[0m\u001b[0mname\u001b[0m\u001b[1;33m)\u001b[0m\u001b[1;33m:\u001b[0m\u001b[1;33m\u001b[0m\u001b[1;33m\u001b[0m\u001b[0m\n",
      "\u001b[1;32m~\\AppData\\Roaming\\Python\\Python39\\site-packages\\pandas\\core\\accessor.py\u001b[0m in \u001b[0;36m__get__\u001b[1;34m(self, obj, cls)\u001b[0m\n\u001b[0;32m    178\u001b[0m             \u001b[1;31m# we're accessing the attribute of the class, i.e., Dataset.geo\u001b[0m\u001b[1;33m\u001b[0m\u001b[1;33m\u001b[0m\u001b[1;33m\u001b[0m\u001b[0m\n\u001b[0;32m    179\u001b[0m             \u001b[1;32mreturn\u001b[0m \u001b[0mself\u001b[0m\u001b[1;33m.\u001b[0m\u001b[0m_accessor\u001b[0m\u001b[1;33m\u001b[0m\u001b[1;33m\u001b[0m\u001b[0m\n\u001b[1;32m--> 180\u001b[1;33m         \u001b[0maccessor_obj\u001b[0m \u001b[1;33m=\u001b[0m \u001b[0mself\u001b[0m\u001b[1;33m.\u001b[0m\u001b[0m_accessor\u001b[0m\u001b[1;33m(\u001b[0m\u001b[0mobj\u001b[0m\u001b[1;33m)\u001b[0m\u001b[1;33m\u001b[0m\u001b[1;33m\u001b[0m\u001b[0m\n\u001b[0m\u001b[0;32m    181\u001b[0m         \u001b[1;31m# Replace the property with the accessor object. Inspired by:\u001b[0m\u001b[1;33m\u001b[0m\u001b[1;33m\u001b[0m\u001b[1;33m\u001b[0m\u001b[0m\n\u001b[0;32m    182\u001b[0m         \u001b[1;31m# https://www.pydanny.com/cached-property.html\u001b[0m\u001b[1;33m\u001b[0m\u001b[1;33m\u001b[0m\u001b[1;33m\u001b[0m\u001b[0m\n",
      "\u001b[1;32m~\\AppData\\Roaming\\Python\\Python39\\site-packages\\pandas\\core\\indexes\\accessors.py\u001b[0m in \u001b[0;36m__new__\u001b[1;34m(cls, data)\u001b[0m\n\u001b[0;32m    492\u001b[0m             \u001b[1;32mreturn\u001b[0m \u001b[0mPeriodProperties\u001b[0m\u001b[1;33m(\u001b[0m\u001b[0mdata\u001b[0m\u001b[1;33m,\u001b[0m \u001b[0morig\u001b[0m\u001b[1;33m)\u001b[0m\u001b[1;33m\u001b[0m\u001b[1;33m\u001b[0m\u001b[0m\n\u001b[0;32m    493\u001b[0m \u001b[1;33m\u001b[0m\u001b[0m\n\u001b[1;32m--> 494\u001b[1;33m         \u001b[1;32mraise\u001b[0m \u001b[0mAttributeError\u001b[0m\u001b[1;33m(\u001b[0m\u001b[1;34m\"Can only use .dt accessor with datetimelike values\"\u001b[0m\u001b[1;33m)\u001b[0m\u001b[1;33m\u001b[0m\u001b[1;33m\u001b[0m\u001b[0m\n\u001b[0m",
      "\u001b[1;31mAttributeError\u001b[0m: Can only use .dt accessor with datetimelike values"
     ]
    }
   ],
   "source": [
    "Dataset_august = survey_raw_data[['areaName','Name','date','deaths','admissions']]\n",
    "\n",
    "Dataset_august = Dataset_august[Dataset_august.date.dt.month.between(3,6)]\n",
    "\n",
    "Dataset_august = Dataset_august.merge(lat_long, how='inner', left_on='Name', right_on='deaths')\n",
    "\n",
    "Dataset_august = Dataset_august[['areaName','Name','latitude','longitude','date','deaths','admissions']]\n",
    "\n",
    "# Dataset_august = Dataset_august.pivot(index = ['continent', 'location','latitude','longitude'], columns='date', values=[ 'total_cases_per_million'])\n",
    "Dataset_august['date'] = Dataset_august['date'].astype(str)\n",
    "Dataset_august"
   ]
  },
  {
   "cell_type": "code",
   "execution_count": null,
   "id": "725aefec",
   "metadata": {},
   "outputs": [],
   "source": []
  },
  {
   "cell_type": "code",
   "execution_count": null,
   "id": "44f14c13",
   "metadata": {},
   "outputs": [],
   "source": []
  }
 ],
 "metadata": {
  "kernelspec": {
   "display_name": "Python 3",
   "language": "python",
   "name": "python3"
  },
  "language_info": {
   "codemirror_mode": {
    "name": "ipython",
    "version": 3
   },
   "file_extension": ".py",
   "mimetype": "text/x-python",
   "name": "python",
   "nbconvert_exporter": "python",
   "pygments_lexer": "ipython3",
   "version": "3.9.5"
  }
 },
 "nbformat": 4,
 "nbformat_minor": 5
}
